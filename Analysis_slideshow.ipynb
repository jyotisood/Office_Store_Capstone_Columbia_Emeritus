{
 "cells": [
  {
   "cell_type": "markdown",
   "metadata": {
    "slideshow": {
     "slide_type": "slide"
    }
   },
   "source": [
    "### Decile wise Customer Analysis"
   ]
  },
  {
   "cell_type": "code",
   "execution_count": 241,
   "metadata": {
    "slideshow": {
     "slide_type": "fragment"
    }
   },
   "outputs": [],
   "source": [
    "# Importing prerequisite Packages\n",
    "import pandas as pd\n",
    "import numpy as np\n",
    "import bokeh\n",
    "from bokeh.models import ColumnDataSource\n",
    "from bokeh.models.tools import HoverTool\n",
    "import scikitplot as skplt\n",
    "import matplotlib.pyplot as plt\n",
    "%matplotlib inline\n",
    "import seaborn as sns\n",
    "from bokeh.core.properties import value\n",
    "from bokeh.io import show, output_file\n",
    "from bokeh.plotting import figure\n",
    "from bokeh.transform import dodge"
   ]
  },
  {
   "cell_type": "code",
   "execution_count": 242,
   "metadata": {
    "slideshow": {
     "slide_type": "fragment"
    }
   },
   "outputs": [],
   "source": [
    "from bokeh.plotting import figure, output_notebook, show"
   ]
  },
  {
   "cell_type": "code",
   "execution_count": 243,
   "metadata": {
    "slideshow": {
     "slide_type": "fragment"
    }
   },
   "outputs": [
    {
     "data": {
      "text/html": [
       "\n",
       "    <div class=\"bk-root\">\n",
       "        <a href=\"https://bokeh.pydata.org\" target=\"_blank\" class=\"bk-logo bk-logo-small bk-logo-notebook\"></a>\n",
       "        <span id=\"20174\">Loading BokehJS ...</span>\n",
       "    </div>"
      ]
     },
     "metadata": {},
     "output_type": "display_data"
    },
    {
     "data": {
      "application/javascript": [
       "\n",
       "(function(root) {\n",
       "  function now() {\n",
       "    return new Date();\n",
       "  }\n",
       "\n",
       "  var force = true;\n",
       "\n",
       "  if (typeof root._bokeh_onload_callbacks === \"undefined\" || force === true) {\n",
       "    root._bokeh_onload_callbacks = [];\n",
       "    root._bokeh_is_loading = undefined;\n",
       "  }\n",
       "\n",
       "  var JS_MIME_TYPE = 'application/javascript';\n",
       "  var HTML_MIME_TYPE = 'text/html';\n",
       "  var EXEC_MIME_TYPE = 'application/vnd.bokehjs_exec.v0+json';\n",
       "  var CLASS_NAME = 'output_bokeh rendered_html';\n",
       "\n",
       "  /**\n",
       "   * Render data to the DOM node\n",
       "   */\n",
       "  function render(props, node) {\n",
       "    var script = document.createElement(\"script\");\n",
       "    node.appendChild(script);\n",
       "  }\n",
       "\n",
       "  /**\n",
       "   * Handle when an output is cleared or removed\n",
       "   */\n",
       "  function handleClearOutput(event, handle) {\n",
       "    var cell = handle.cell;\n",
       "\n",
       "    var id = cell.output_area._bokeh_element_id;\n",
       "    var server_id = cell.output_area._bokeh_server_id;\n",
       "    // Clean up Bokeh references\n",
       "    if (id != null && id in Bokeh.index) {\n",
       "      Bokeh.index[id].model.document.clear();\n",
       "      delete Bokeh.index[id];\n",
       "    }\n",
       "\n",
       "    if (server_id !== undefined) {\n",
       "      // Clean up Bokeh references\n",
       "      var cmd = \"from bokeh.io.state import curstate; print(curstate().uuid_to_server['\" + server_id + \"'].get_sessions()[0].document.roots[0]._id)\";\n",
       "      cell.notebook.kernel.execute(cmd, {\n",
       "        iopub: {\n",
       "          output: function(msg) {\n",
       "            var id = msg.content.text.trim();\n",
       "            if (id in Bokeh.index) {\n",
       "              Bokeh.index[id].model.document.clear();\n",
       "              delete Bokeh.index[id];\n",
       "            }\n",
       "          }\n",
       "        }\n",
       "      });\n",
       "      // Destroy server and session\n",
       "      var cmd = \"import bokeh.io.notebook as ion; ion.destroy_server('\" + server_id + \"')\";\n",
       "      cell.notebook.kernel.execute(cmd);\n",
       "    }\n",
       "  }\n",
       "\n",
       "  /**\n",
       "   * Handle when a new output is added\n",
       "   */\n",
       "  function handleAddOutput(event, handle) {\n",
       "    var output_area = handle.output_area;\n",
       "    var output = handle.output;\n",
       "\n",
       "    // limit handleAddOutput to display_data with EXEC_MIME_TYPE content only\n",
       "    if ((output.output_type != \"display_data\") || (!output.data.hasOwnProperty(EXEC_MIME_TYPE))) {\n",
       "      return\n",
       "    }\n",
       "\n",
       "    var toinsert = output_area.element.find(\".\" + CLASS_NAME.split(' ')[0]);\n",
       "\n",
       "    if (output.metadata[EXEC_MIME_TYPE][\"id\"] !== undefined) {\n",
       "      toinsert[toinsert.length - 1].firstChild.textContent = output.data[JS_MIME_TYPE];\n",
       "      // store reference to embed id on output_area\n",
       "      output_area._bokeh_element_id = output.metadata[EXEC_MIME_TYPE][\"id\"];\n",
       "    }\n",
       "    if (output.metadata[EXEC_MIME_TYPE][\"server_id\"] !== undefined) {\n",
       "      var bk_div = document.createElement(\"div\");\n",
       "      bk_div.innerHTML = output.data[HTML_MIME_TYPE];\n",
       "      var script_attrs = bk_div.children[0].attributes;\n",
       "      for (var i = 0; i < script_attrs.length; i++) {\n",
       "        toinsert[toinsert.length - 1].firstChild.setAttribute(script_attrs[i].name, script_attrs[i].value);\n",
       "      }\n",
       "      // store reference to server id on output_area\n",
       "      output_area._bokeh_server_id = output.metadata[EXEC_MIME_TYPE][\"server_id\"];\n",
       "    }\n",
       "  }\n",
       "\n",
       "  function register_renderer(events, OutputArea) {\n",
       "\n",
       "    function append_mime(data, metadata, element) {\n",
       "      // create a DOM node to render to\n",
       "      var toinsert = this.create_output_subarea(\n",
       "        metadata,\n",
       "        CLASS_NAME,\n",
       "        EXEC_MIME_TYPE\n",
       "      );\n",
       "      this.keyboard_manager.register_events(toinsert);\n",
       "      // Render to node\n",
       "      var props = {data: data, metadata: metadata[EXEC_MIME_TYPE]};\n",
       "      render(props, toinsert[toinsert.length - 1]);\n",
       "      element.append(toinsert);\n",
       "      return toinsert\n",
       "    }\n",
       "\n",
       "    /* Handle when an output is cleared or removed */\n",
       "    events.on('clear_output.CodeCell', handleClearOutput);\n",
       "    events.on('delete.Cell', handleClearOutput);\n",
       "\n",
       "    /* Handle when a new output is added */\n",
       "    events.on('output_added.OutputArea', handleAddOutput);\n",
       "\n",
       "    /**\n",
       "     * Register the mime type and append_mime function with output_area\n",
       "     */\n",
       "    OutputArea.prototype.register_mime_type(EXEC_MIME_TYPE, append_mime, {\n",
       "      /* Is output safe? */\n",
       "      safe: true,\n",
       "      /* Index of renderer in `output_area.display_order` */\n",
       "      index: 0\n",
       "    });\n",
       "  }\n",
       "\n",
       "  // register the mime type if in Jupyter Notebook environment and previously unregistered\n",
       "  if (root.Jupyter !== undefined) {\n",
       "    var events = require('base/js/events');\n",
       "    var OutputArea = require('notebook/js/outputarea').OutputArea;\n",
       "\n",
       "    if (OutputArea.prototype.mime_types().indexOf(EXEC_MIME_TYPE) == -1) {\n",
       "      register_renderer(events, OutputArea);\n",
       "    }\n",
       "  }\n",
       "\n",
       "  \n",
       "  if (typeof (root._bokeh_timeout) === \"undefined\" || force === true) {\n",
       "    root._bokeh_timeout = Date.now() + 5000;\n",
       "    root._bokeh_failed_load = false;\n",
       "  }\n",
       "\n",
       "  var NB_LOAD_WARNING = {'data': {'text/html':\n",
       "     \"<div style='background-color: #fdd'>\\n\"+\n",
       "     \"<p>\\n\"+\n",
       "     \"BokehJS does not appear to have successfully loaded. If loading BokehJS from CDN, this \\n\"+\n",
       "     \"may be due to a slow or bad network connection. Possible fixes:\\n\"+\n",
       "     \"</p>\\n\"+\n",
       "     \"<ul>\\n\"+\n",
       "     \"<li>re-rerun `output_notebook()` to attempt to load from CDN again, or</li>\\n\"+\n",
       "     \"<li>use INLINE resources instead, as so:</li>\\n\"+\n",
       "     \"</ul>\\n\"+\n",
       "     \"<code>\\n\"+\n",
       "     \"from bokeh.resources import INLINE\\n\"+\n",
       "     \"output_notebook(resources=INLINE)\\n\"+\n",
       "     \"</code>\\n\"+\n",
       "     \"</div>\"}};\n",
       "\n",
       "  function display_loaded() {\n",
       "    var el = document.getElementById(\"20174\");\n",
       "    if (el != null) {\n",
       "      el.textContent = \"BokehJS is loading...\";\n",
       "    }\n",
       "    if (root.Bokeh !== undefined) {\n",
       "      if (el != null) {\n",
       "        el.textContent = \"BokehJS \" + root.Bokeh.version + \" successfully loaded.\";\n",
       "      }\n",
       "    } else if (Date.now() < root._bokeh_timeout) {\n",
       "      setTimeout(display_loaded, 100)\n",
       "    }\n",
       "  }\n",
       "\n",
       "\n",
       "  function run_callbacks() {\n",
       "    try {\n",
       "      root._bokeh_onload_callbacks.forEach(function(callback) {\n",
       "        if (callback != null)\n",
       "          callback();\n",
       "      });\n",
       "    } finally {\n",
       "      delete root._bokeh_onload_callbacks\n",
       "    }\n",
       "    console.debug(\"Bokeh: all callbacks have finished\");\n",
       "  }\n",
       "\n",
       "  function load_libs(css_urls, js_urls, callback) {\n",
       "    if (css_urls == null) css_urls = [];\n",
       "    if (js_urls == null) js_urls = [];\n",
       "\n",
       "    root._bokeh_onload_callbacks.push(callback);\n",
       "    if (root._bokeh_is_loading > 0) {\n",
       "      console.debug(\"Bokeh: BokehJS is being loaded, scheduling callback at\", now());\n",
       "      return null;\n",
       "    }\n",
       "    if (js_urls == null || js_urls.length === 0) {\n",
       "      run_callbacks();\n",
       "      return null;\n",
       "    }\n",
       "    console.debug(\"Bokeh: BokehJS not loaded, scheduling load and callback at\", now());\n",
       "    root._bokeh_is_loading = css_urls.length + js_urls.length;\n",
       "\n",
       "    function on_load() {\n",
       "      root._bokeh_is_loading--;\n",
       "      if (root._bokeh_is_loading === 0) {\n",
       "        console.debug(\"Bokeh: all BokehJS libraries/stylesheets loaded\");\n",
       "        run_callbacks()\n",
       "      }\n",
       "    }\n",
       "\n",
       "    function on_error() {\n",
       "      console.error(\"failed to load \" + url);\n",
       "    }\n",
       "\n",
       "    for (var i = 0; i < css_urls.length; i++) {\n",
       "      var url = css_urls[i];\n",
       "      const element = document.createElement(\"link\");\n",
       "      element.onload = on_load;\n",
       "      element.onerror = on_error;\n",
       "      element.rel = \"stylesheet\";\n",
       "      element.type = \"text/css\";\n",
       "      element.href = url;\n",
       "      console.debug(\"Bokeh: injecting link tag for BokehJS stylesheet: \", url);\n",
       "      document.body.appendChild(element);\n",
       "    }\n",
       "\n",
       "    for (var i = 0; i < js_urls.length; i++) {\n",
       "      var url = js_urls[i];\n",
       "      var element = document.createElement('script');\n",
       "      element.onload = on_load;\n",
       "      element.onerror = on_error;\n",
       "      element.async = false;\n",
       "      element.src = url;\n",
       "      console.debug(\"Bokeh: injecting script tag for BokehJS library: \", url);\n",
       "      document.head.appendChild(element);\n",
       "    }\n",
       "  };var element = document.getElementById(\"20174\");\n",
       "  if (element == null) {\n",
       "    console.error(\"Bokeh: ERROR: autoload.js configured with elementid '20174' but no matching script tag was found. \")\n",
       "    return false;\n",
       "  }\n",
       "\n",
       "  function inject_raw_css(css) {\n",
       "    const element = document.createElement(\"style\");\n",
       "    element.appendChild(document.createTextNode(css));\n",
       "    document.body.appendChild(element);\n",
       "  }\n",
       "\n",
       "  var js_urls = [\"https://cdn.pydata.org/bokeh/release/bokeh-1.3.4.min.js\", \"https://cdn.pydata.org/bokeh/release/bokeh-widgets-1.3.4.min.js\", \"https://cdn.pydata.org/bokeh/release/bokeh-tables-1.3.4.min.js\", \"https://cdn.pydata.org/bokeh/release/bokeh-gl-1.3.4.min.js\"];\n",
       "  var css_urls = [];\n",
       "\n",
       "  var inline_js = [\n",
       "    function(Bokeh) {\n",
       "      Bokeh.set_log_level(\"info\");\n",
       "    },\n",
       "    \n",
       "    function(Bokeh) {\n",
       "      \n",
       "    },\n",
       "    function(Bokeh) {} // ensure no trailing comma for IE\n",
       "  ];\n",
       "\n",
       "  function run_inline_js() {\n",
       "    \n",
       "    if ((root.Bokeh !== undefined) || (force === true)) {\n",
       "      for (var i = 0; i < inline_js.length; i++) {\n",
       "        inline_js[i].call(root, root.Bokeh);\n",
       "      }if (force === true) {\n",
       "        display_loaded();\n",
       "      }} else if (Date.now() < root._bokeh_timeout) {\n",
       "      setTimeout(run_inline_js, 100);\n",
       "    } else if (!root._bokeh_failed_load) {\n",
       "      console.log(\"Bokeh: BokehJS failed to load within specified timeout.\");\n",
       "      root._bokeh_failed_load = true;\n",
       "    } else if (force !== true) {\n",
       "      var cell = $(document.getElementById(\"20174\")).parents('.cell').data().cell;\n",
       "      cell.output_area.append_execute_result(NB_LOAD_WARNING)\n",
       "    }\n",
       "\n",
       "  }\n",
       "\n",
       "  if (root._bokeh_is_loading === 0) {\n",
       "    console.debug(\"Bokeh: BokehJS loaded, going straight to plotting\");\n",
       "    run_inline_js();\n",
       "  } else {\n",
       "    load_libs(css_urls, js_urls, function() {\n",
       "      console.debug(\"Bokeh: BokehJS plotting callback run at\", now());\n",
       "      run_inline_js();\n",
       "    });\n",
       "  }\n",
       "}(window));"
      ],
      "application/vnd.bokehjs_load.v0+json": "\n(function(root) {\n  function now() {\n    return new Date();\n  }\n\n  var force = true;\n\n  if (typeof root._bokeh_onload_callbacks === \"undefined\" || force === true) {\n    root._bokeh_onload_callbacks = [];\n    root._bokeh_is_loading = undefined;\n  }\n\n  \n\n  \n  if (typeof (root._bokeh_timeout) === \"undefined\" || force === true) {\n    root._bokeh_timeout = Date.now() + 5000;\n    root._bokeh_failed_load = false;\n  }\n\n  var NB_LOAD_WARNING = {'data': {'text/html':\n     \"<div style='background-color: #fdd'>\\n\"+\n     \"<p>\\n\"+\n     \"BokehJS does not appear to have successfully loaded. If loading BokehJS from CDN, this \\n\"+\n     \"may be due to a slow or bad network connection. Possible fixes:\\n\"+\n     \"</p>\\n\"+\n     \"<ul>\\n\"+\n     \"<li>re-rerun `output_notebook()` to attempt to load from CDN again, or</li>\\n\"+\n     \"<li>use INLINE resources instead, as so:</li>\\n\"+\n     \"</ul>\\n\"+\n     \"<code>\\n\"+\n     \"from bokeh.resources import INLINE\\n\"+\n     \"output_notebook(resources=INLINE)\\n\"+\n     \"</code>\\n\"+\n     \"</div>\"}};\n\n  function display_loaded() {\n    var el = document.getElementById(\"20174\");\n    if (el != null) {\n      el.textContent = \"BokehJS is loading...\";\n    }\n    if (root.Bokeh !== undefined) {\n      if (el != null) {\n        el.textContent = \"BokehJS \" + root.Bokeh.version + \" successfully loaded.\";\n      }\n    } else if (Date.now() < root._bokeh_timeout) {\n      setTimeout(display_loaded, 100)\n    }\n  }\n\n\n  function run_callbacks() {\n    try {\n      root._bokeh_onload_callbacks.forEach(function(callback) {\n        if (callback != null)\n          callback();\n      });\n    } finally {\n      delete root._bokeh_onload_callbacks\n    }\n    console.debug(\"Bokeh: all callbacks have finished\");\n  }\n\n  function load_libs(css_urls, js_urls, callback) {\n    if (css_urls == null) css_urls = [];\n    if (js_urls == null) js_urls = [];\n\n    root._bokeh_onload_callbacks.push(callback);\n    if (root._bokeh_is_loading > 0) {\n      console.debug(\"Bokeh: BokehJS is being loaded, scheduling callback at\", now());\n      return null;\n    }\n    if (js_urls == null || js_urls.length === 0) {\n      run_callbacks();\n      return null;\n    }\n    console.debug(\"Bokeh: BokehJS not loaded, scheduling load and callback at\", now());\n    root._bokeh_is_loading = css_urls.length + js_urls.length;\n\n    function on_load() {\n      root._bokeh_is_loading--;\n      if (root._bokeh_is_loading === 0) {\n        console.debug(\"Bokeh: all BokehJS libraries/stylesheets loaded\");\n        run_callbacks()\n      }\n    }\n\n    function on_error() {\n      console.error(\"failed to load \" + url);\n    }\n\n    for (var i = 0; i < css_urls.length; i++) {\n      var url = css_urls[i];\n      const element = document.createElement(\"link\");\n      element.onload = on_load;\n      element.onerror = on_error;\n      element.rel = \"stylesheet\";\n      element.type = \"text/css\";\n      element.href = url;\n      console.debug(\"Bokeh: injecting link tag for BokehJS stylesheet: \", url);\n      document.body.appendChild(element);\n    }\n\n    for (var i = 0; i < js_urls.length; i++) {\n      var url = js_urls[i];\n      var element = document.createElement('script');\n      element.onload = on_load;\n      element.onerror = on_error;\n      element.async = false;\n      element.src = url;\n      console.debug(\"Bokeh: injecting script tag for BokehJS library: \", url);\n      document.head.appendChild(element);\n    }\n  };var element = document.getElementById(\"20174\");\n  if (element == null) {\n    console.error(\"Bokeh: ERROR: autoload.js configured with elementid '20174' but no matching script tag was found. \")\n    return false;\n  }\n\n  function inject_raw_css(css) {\n    const element = document.createElement(\"style\");\n    element.appendChild(document.createTextNode(css));\n    document.body.appendChild(element);\n  }\n\n  var js_urls = [\"https://cdn.pydata.org/bokeh/release/bokeh-1.3.4.min.js\", \"https://cdn.pydata.org/bokeh/release/bokeh-widgets-1.3.4.min.js\", \"https://cdn.pydata.org/bokeh/release/bokeh-tables-1.3.4.min.js\", \"https://cdn.pydata.org/bokeh/release/bokeh-gl-1.3.4.min.js\"];\n  var css_urls = [];\n\n  var inline_js = [\n    function(Bokeh) {\n      Bokeh.set_log_level(\"info\");\n    },\n    \n    function(Bokeh) {\n      \n    },\n    function(Bokeh) {} // ensure no trailing comma for IE\n  ];\n\n  function run_inline_js() {\n    \n    if ((root.Bokeh !== undefined) || (force === true)) {\n      for (var i = 0; i < inline_js.length; i++) {\n        inline_js[i].call(root, root.Bokeh);\n      }if (force === true) {\n        display_loaded();\n      }} else if (Date.now() < root._bokeh_timeout) {\n      setTimeout(run_inline_js, 100);\n    } else if (!root._bokeh_failed_load) {\n      console.log(\"Bokeh: BokehJS failed to load within specified timeout.\");\n      root._bokeh_failed_load = true;\n    } else if (force !== true) {\n      var cell = $(document.getElementById(\"20174\")).parents('.cell').data().cell;\n      cell.output_area.append_execute_result(NB_LOAD_WARNING)\n    }\n\n  }\n\n  if (root._bokeh_is_loading === 0) {\n    console.debug(\"Bokeh: BokehJS loaded, going straight to plotting\");\n    run_inline_js();\n  } else {\n    load_libs(css_urls, js_urls, function() {\n      console.debug(\"Bokeh: BokehJS plotting callback run at\", now());\n      run_inline_js();\n    });\n  }\n}(window));"
     },
     "metadata": {},
     "output_type": "display_data"
    }
   ],
   "source": [
    "output_notebook()"
   ]
  },
  {
   "cell_type": "code",
   "execution_count": 244,
   "metadata": {
    "slideshow": {
     "slide_type": "fragment"
    }
   },
   "outputs": [],
   "source": [
    "df = pd.read_csv(r'Bokeh.csv')"
   ]
  },
  {
   "cell_type": "code",
   "execution_count": 245,
   "metadata": {
    "slideshow": {
     "slide_type": "skip"
    }
   },
   "outputs": [
    {
     "data": {
      "text/html": [
       "<div>\n",
       "<style scoped>\n",
       "    .dataframe tbody tr th:only-of-type {\n",
       "        vertical-align: middle;\n",
       "    }\n",
       "\n",
       "    .dataframe tbody tr th {\n",
       "        vertical-align: top;\n",
       "    }\n",
       "\n",
       "    .dataframe thead th {\n",
       "        text-align: right;\n",
       "    }\n",
       "</style>\n",
       "<table border=\"1\" class=\"dataframe\">\n",
       "  <thead>\n",
       "    <tr style=\"text-align: right;\">\n",
       "      <th></th>\n",
       "      <th>Customer Number</th>\n",
       "      <th>Campaign Period Sales</th>\n",
       "      <th>Historical Sales Volume</th>\n",
       "      <th>Number of Prior Year Transactions</th>\n",
       "      <th>Do Not Direct Mail Solicit</th>\n",
       "      <th>Do Not Email</th>\n",
       "      <th>Do Not Telemarket</th>\n",
       "      <th>Repurchase Method_AUTO RENEW</th>\n",
       "      <th>Repurchase Method_NOTICE</th>\n",
       "      <th>Repurchase Method_PAYMENT PLAN</th>\n",
       "      <th>...</th>\n",
       "      <th>Number of Employees_unknown</th>\n",
       "      <th>Language_English</th>\n",
       "      <th>Language_Non English</th>\n",
       "      <th>Language_Unknown</th>\n",
       "      <th>Years_since_customer</th>\n",
       "      <th>Purchase</th>\n",
       "      <th>Profit</th>\n",
       "      <th>Sales_transaction_Size</th>\n",
       "      <th>predicted_prob_sale</th>\n",
       "      <th>Decile</th>\n",
       "    </tr>\n",
       "  </thead>\n",
       "  <tbody>\n",
       "    <tr>\n",
       "      <td>0</td>\n",
       "      <td>16945903.0</td>\n",
       "      <td>0.000000</td>\n",
       "      <td>287573.333333</td>\n",
       "      <td>16.0</td>\n",
       "      <td>0.0</td>\n",
       "      <td>0.0</td>\n",
       "      <td>0.0</td>\n",
       "      <td>0</td>\n",
       "      <td>1</td>\n",
       "      <td>0</td>\n",
       "      <td>...</td>\n",
       "      <td>0</td>\n",
       "      <td>1</td>\n",
       "      <td>0</td>\n",
       "      <td>0</td>\n",
       "      <td>33</td>\n",
       "      <td>0</td>\n",
       "      <td>-46.175830</td>\n",
       "      <td>0.923803</td>\n",
       "      <td>0.064151</td>\n",
       "      <td>10</td>\n",
       "    </tr>\n",
       "    <tr>\n",
       "      <td>1</td>\n",
       "      <td>8651359.0</td>\n",
       "      <td>0.000000</td>\n",
       "      <td>502494.720000</td>\n",
       "      <td>14.0</td>\n",
       "      <td>0.0</td>\n",
       "      <td>0.0</td>\n",
       "      <td>0.0</td>\n",
       "      <td>0</td>\n",
       "      <td>1</td>\n",
       "      <td>0</td>\n",
       "      <td>...</td>\n",
       "      <td>0</td>\n",
       "      <td>1</td>\n",
       "      <td>0</td>\n",
       "      <td>0</td>\n",
       "      <td>33</td>\n",
       "      <td>0</td>\n",
       "      <td>-45.926280</td>\n",
       "      <td>13.129910</td>\n",
       "      <td>0.050129</td>\n",
       "      <td>9</td>\n",
       "    </tr>\n",
       "    <tr>\n",
       "      <td>2</td>\n",
       "      <td>33353885.0</td>\n",
       "      <td>0.000000</td>\n",
       "      <td>193789.866667</td>\n",
       "      <td>10.0</td>\n",
       "      <td>0.0</td>\n",
       "      <td>0.0</td>\n",
       "      <td>0.0</td>\n",
       "      <td>0</td>\n",
       "      <td>1</td>\n",
       "      <td>0</td>\n",
       "      <td>...</td>\n",
       "      <td>0</td>\n",
       "      <td>1</td>\n",
       "      <td>0</td>\n",
       "      <td>0</td>\n",
       "      <td>23</td>\n",
       "      <td>0</td>\n",
       "      <td>-45.921505</td>\n",
       "      <td>-3.303396</td>\n",
       "      <td>0.029748</td>\n",
       "      <td>9</td>\n",
       "    </tr>\n",
       "    <tr>\n",
       "      <td>3</td>\n",
       "      <td>26595503.0</td>\n",
       "      <td>0.000000</td>\n",
       "      <td>934627.200000</td>\n",
       "      <td>12.0</td>\n",
       "      <td>0.0</td>\n",
       "      <td>0.0</td>\n",
       "      <td>0.0</td>\n",
       "      <td>0</td>\n",
       "      <td>1</td>\n",
       "      <td>0</td>\n",
       "      <td>...</td>\n",
       "      <td>1</td>\n",
       "      <td>0</td>\n",
       "      <td>1</td>\n",
       "      <td>0</td>\n",
       "      <td>24</td>\n",
       "      <td>0</td>\n",
       "      <td>-44.625465</td>\n",
       "      <td>128.995650</td>\n",
       "      <td>0.051281</td>\n",
       "      <td>5</td>\n",
       "    </tr>\n",
       "    <tr>\n",
       "      <td>4</td>\n",
       "      <td>28176171.0</td>\n",
       "      <td>631.453333</td>\n",
       "      <td>818363.520000</td>\n",
       "      <td>16.0</td>\n",
       "      <td>0.0</td>\n",
       "      <td>0.0</td>\n",
       "      <td>0.0</td>\n",
       "      <td>1</td>\n",
       "      <td>0</td>\n",
       "      <td>0</td>\n",
       "      <td>...</td>\n",
       "      <td>0</td>\n",
       "      <td>1</td>\n",
       "      <td>0</td>\n",
       "      <td>0</td>\n",
       "      <td>26</td>\n",
       "      <td>1</td>\n",
       "      <td>30.411720</td>\n",
       "      <td>489.352330</td>\n",
       "      <td>0.766307</td>\n",
       "      <td>1</td>\n",
       "    </tr>\n",
       "  </tbody>\n",
       "</table>\n",
       "<p>5 rows × 52 columns</p>\n",
       "</div>"
      ],
      "text/plain": [
       "   Customer Number  Campaign Period Sales  Historical Sales Volume  \\\n",
       "0       16945903.0               0.000000            287573.333333   \n",
       "1        8651359.0               0.000000            502494.720000   \n",
       "2       33353885.0               0.000000            193789.866667   \n",
       "3       26595503.0               0.000000            934627.200000   \n",
       "4       28176171.0             631.453333            818363.520000   \n",
       "\n",
       "   Number of Prior Year Transactions  Do Not Direct Mail Solicit  \\\n",
       "0                               16.0                         0.0   \n",
       "1                               14.0                         0.0   \n",
       "2                               10.0                         0.0   \n",
       "3                               12.0                         0.0   \n",
       "4                               16.0                         0.0   \n",
       "\n",
       "   Do Not Email  Do Not Telemarket  Repurchase Method_AUTO RENEW  \\\n",
       "0           0.0                0.0                             0   \n",
       "1           0.0                0.0                             0   \n",
       "2           0.0                0.0                             0   \n",
       "3           0.0                0.0                             0   \n",
       "4           0.0                0.0                             1   \n",
       "\n",
       "   Repurchase Method_NOTICE  Repurchase Method_PAYMENT PLAN  ...  \\\n",
       "0                         1                               0  ...   \n",
       "1                         1                               0  ...   \n",
       "2                         1                               0  ...   \n",
       "3                         1                               0  ...   \n",
       "4                         0                               0  ...   \n",
       "\n",
       "   Number of Employees_unknown  Language_English  Language_Non English  \\\n",
       "0                            0                 1                     0   \n",
       "1                            0                 1                     0   \n",
       "2                            0                 1                     0   \n",
       "3                            1                 0                     1   \n",
       "4                            0                 1                     0   \n",
       "\n",
       "   Language_Unknown  Years_since_customer  Purchase     Profit  \\\n",
       "0                 0                    33         0 -46.175830   \n",
       "1                 0                    33         0 -45.926280   \n",
       "2                 0                    23         0 -45.921505   \n",
       "3                 0                    24         0 -44.625465   \n",
       "4                 0                    26         1  30.411720   \n",
       "\n",
       "   Sales_transaction_Size  predicted_prob_sale  Decile  \n",
       "0                0.923803             0.064151      10  \n",
       "1               13.129910             0.050129       9  \n",
       "2               -3.303396             0.029748       9  \n",
       "3              128.995650             0.051281       5  \n",
       "4              489.352330             0.766307       1  \n",
       "\n",
       "[5 rows x 52 columns]"
      ]
     },
     "execution_count": 245,
     "metadata": {},
     "output_type": "execute_result"
    }
   ],
   "source": [
    "df.head()"
   ]
  },
  {
   "cell_type": "code",
   "execution_count": 246,
   "metadata": {
    "slideshow": {
     "slide_type": "slide"
    }
   },
   "outputs": [],
   "source": [
    "#Comparing Mean number of years a customer is loyal to store and mean number of prior transactions made with store\n",
    "grouped1 = df.groupby('Decile')['Years_since_customer', 'Number of Prior Year Transactions'].mean()"
   ]
  },
  {
   "cell_type": "code",
   "execution_count": 247,
   "metadata": {
    "slideshow": {
     "slide_type": "fragment"
    }
   },
   "outputs": [
    {
     "name": "stdout",
     "output_type": "stream",
     "text": [
      "        Years_since_customer  Number of Prior Year Transactions\n",
      "Decile                                                         \n",
      "1                  35.106304                          16.050680\n",
      "2                  31.816832                          15.924505\n",
      "3                  36.299505                          14.332921\n",
      "4                  17.967862                          14.537701\n",
      "5                  18.133663                          14.256188\n",
      "6                  23.149752                          11.818069\n",
      "7                  26.367120                          11.053152\n",
      "8                  26.308168                          15.446782\n",
      "9                  27.193069                          15.926980\n",
      "10                 31.202719                          16.065513\n"
     ]
    }
   ],
   "source": [
    "print(grouped1)"
   ]
  },
  {
   "cell_type": "code",
   "execution_count": 248,
   "metadata": {
    "slideshow": {
     "slide_type": "fragment"
    }
   },
   "outputs": [],
   "source": [
    "source = ColumnDataSource(grouped1)\n",
    "cust_groups = source.data['Decile'].tolist()\n",
    "p = figure(plot_height=400)"
   ]
  },
  {
   "cell_type": "code",
   "execution_count": 249,
   "metadata": {
    "slideshow": {
     "slide_type": "slide"
    }
   },
   "outputs": [
    {
     "data": {
      "text/html": [
       "\n",
       "\n",
       "\n",
       "\n",
       "\n",
       "\n",
       "  <div class=\"bk-root\" id=\"f0aa4d8e-bb39-429b-8754-100014babc5b\" data-root-id=\"20176\"></div>\n"
      ]
     },
     "metadata": {},
     "output_type": "display_data"
    },
    {
     "data": {
      "application/javascript": [
       "(function(root) {\n",
       "  function embed_document(root) {\n",
       "    \n",
       "  var docs_json = {\"374801f7-aacf-4d12-9bc5-1cd6575efe1f\":{\"roots\":{\"references\":[{\"attributes\":{\"below\":[{\"id\":\"20185\",\"type\":\"LinearAxis\"}],\"center\":[{\"id\":\"20189\",\"type\":\"Grid\"},{\"id\":\"20194\",\"type\":\"Grid\"}],\"left\":[{\"id\":\"20190\",\"type\":\"LinearAxis\"}],\"plot_height\":400,\"renderers\":[{\"id\":\"20211\",\"type\":\"GlyphRenderer\"}],\"title\":{\"id\":\"20213\",\"type\":\"Title\"},\"toolbar\":{\"id\":\"20201\",\"type\":\"Toolbar\"},\"x_range\":{\"id\":\"20177\",\"type\":\"DataRange1d\"},\"x_scale\":{\"id\":\"20181\",\"type\":\"LinearScale\"},\"y_range\":{\"id\":\"20179\",\"type\":\"DataRange1d\"},\"y_scale\":{\"id\":\"20183\",\"type\":\"LinearScale\"}},\"id\":\"20176\",\"subtype\":\"Figure\",\"type\":\"Plot\"},{\"attributes\":{},\"id\":\"20195\",\"type\":\"PanTool\"},{\"attributes\":{\"callback\":null},\"id\":\"20179\",\"type\":\"DataRange1d\"},{\"attributes\":{},\"id\":\"20183\",\"type\":\"LinearScale\"},{\"attributes\":{\"callback\":null},\"id\":\"20177\",\"type\":\"DataRange1d\"},{\"attributes\":{},\"id\":\"20181\",\"type\":\"LinearScale\"},{\"attributes\":{},\"id\":\"20339\",\"type\":\"BasicTickFormatter\"},{\"attributes\":{},\"id\":\"20196\",\"type\":\"WheelZoomTool\"},{\"attributes\":{\"bottom_units\":\"screen\",\"fill_alpha\":{\"value\":0.5},\"fill_color\":{\"value\":\"lightgrey\"},\"left_units\":\"screen\",\"level\":\"overlay\",\"line_alpha\":{\"value\":1.0},\"line_color\":{\"value\":\"black\"},\"line_dash\":[4,4],\"line_width\":{\"value\":2},\"render_mode\":\"css\",\"right_units\":\"screen\",\"top_units\":\"screen\"},\"id\":\"20341\",\"type\":\"BoxAnnotation\"},{\"attributes\":{\"text\":\"Number of Transactions by Customer Before Campaign\"},\"id\":\"20213\",\"type\":\"Title\"},{\"attributes\":{},\"id\":\"20200\",\"type\":\"HelpTool\"},{\"attributes\":{\"active_drag\":\"auto\",\"active_inspect\":\"auto\",\"active_multi\":null,\"active_scroll\":\"auto\",\"active_tap\":\"auto\",\"tools\":[{\"id\":\"20195\",\"type\":\"PanTool\"},{\"id\":\"20196\",\"type\":\"WheelZoomTool\"},{\"id\":\"20197\",\"type\":\"BoxZoomTool\"},{\"id\":\"20198\",\"type\":\"SaveTool\"},{\"id\":\"20199\",\"type\":\"ResetTool\"},{\"id\":\"20200\",\"type\":\"HelpTool\"},{\"id\":\"20214\",\"type\":\"HoverTool\"}]},\"id\":\"20201\",\"type\":\"Toolbar\"},{\"attributes\":{},\"id\":\"20337\",\"type\":\"BasicTickFormatter\"},{\"attributes\":{},\"id\":\"20191\",\"type\":\"BasicTicker\"},{\"attributes\":{\"axis_label\":\"Number of Prior Transactions\",\"formatter\":{\"id\":\"20339\",\"type\":\"BasicTickFormatter\"},\"ticker\":{\"id\":\"20191\",\"type\":\"BasicTicker\"}},\"id\":\"20190\",\"type\":\"LinearAxis\"},{\"attributes\":{},\"id\":\"20199\",\"type\":\"ResetTool\"},{\"attributes\":{\"callback\":null,\"data\":{\"Decile\":[1,2,3,4,5,6,7,8,9,10],\"Number of Prior Year Transactions\":{\"__ndarray__\":\"unvRWvkMMECQu362WNkvQPhGFJh0qixA17Eeh00TLUBy188WK4MsQOdB7vrZoidAejV/vjYbJkArwzeiwOQuQL4RBSad2i9AyzVmdcUQMEA=\",\"dtype\":\"float64\",\"shape\":[10]},\"Years_since_customer\":{\"__ndarray__\":\"vZo/X5uNQUBoi5XhG9E/QOSuny1WJkJA22xoxsX3MUDQFivDNyIyQOSuny1WJjdAJ/3gkftdOkCYdGoe5E46QPMgd/1sMTtA6u5Fa+UzP0A=\",\"dtype\":\"float64\",\"shape\":[10]}},\"selected\":{\"id\":\"20342\",\"type\":\"Selection\"},\"selection_policy\":{\"id\":\"20343\",\"type\":\"UnionRenderers\"}},\"id\":\"20175\",\"type\":\"ColumnDataSource\"},{\"attributes\":{},\"id\":\"20343\",\"type\":\"UnionRenderers\"},{\"attributes\":{},\"id\":\"20342\",\"type\":\"Selection\"},{\"attributes\":{\"dimension\":1,\"ticker\":{\"id\":\"20191\",\"type\":\"BasicTicker\"}},\"id\":\"20194\",\"type\":\"Grid\"},{\"attributes\":{\"fill_color\":{\"value\":\"#718dbf\"},\"line_color\":{\"value\":\"#718dbf\"},\"top\":{\"field\":\"Number of Prior Year Transactions\"},\"width\":{\"value\":0.7},\"x\":{\"field\":\"Decile\"}},\"id\":\"20209\",\"type\":\"VBar\"},{\"attributes\":{\"overlay\":{\"id\":\"20341\",\"type\":\"BoxAnnotation\"}},\"id\":\"20197\",\"type\":\"BoxZoomTool\"},{\"attributes\":{\"fill_alpha\":{\"value\":0.1},\"fill_color\":{\"value\":\"#1f77b4\"},\"line_alpha\":{\"value\":0.1},\"line_color\":{\"value\":\"#1f77b4\"},\"top\":{\"field\":\"Number of Prior Year Transactions\"},\"width\":{\"value\":0.7},\"x\":{\"field\":\"Decile\"}},\"id\":\"20210\",\"type\":\"VBar\"},{\"attributes\":{\"data_source\":{\"id\":\"20175\",\"type\":\"ColumnDataSource\"},\"glyph\":{\"id\":\"20209\",\"type\":\"VBar\"},\"hover_glyph\":null,\"muted_glyph\":null,\"nonselection_glyph\":{\"id\":\"20210\",\"type\":\"VBar\"},\"selection_glyph\":null,\"view\":{\"id\":\"20212\",\"type\":\"CDSView\"}},\"id\":\"20211\",\"type\":\"GlyphRenderer\"},{\"attributes\":{},\"id\":\"20198\",\"type\":\"SaveTool\"},{\"attributes\":{\"axis_label\":\"Decile\",\"formatter\":{\"id\":\"20337\",\"type\":\"BasicTickFormatter\"},\"ticker\":{\"id\":\"20186\",\"type\":\"BasicTicker\"}},\"id\":\"20185\",\"type\":\"LinearAxis\"},{\"attributes\":{\"callback\":null,\"mode\":\"vline\",\"tooltips\":[[\"Mean of Prior Transactions\",\"$y\"]]},\"id\":\"20214\",\"type\":\"HoverTool\"},{\"attributes\":{\"ticker\":{\"id\":\"20186\",\"type\":\"BasicTicker\"}},\"id\":\"20189\",\"type\":\"Grid\"},{\"attributes\":{\"source\":{\"id\":\"20175\",\"type\":\"ColumnDataSource\"}},\"id\":\"20212\",\"type\":\"CDSView\"},{\"attributes\":{},\"id\":\"20186\",\"type\":\"BasicTicker\"}],\"root_ids\":[\"20176\"]},\"title\":\"Bokeh Application\",\"version\":\"1.3.4\"}};\n",
       "  var render_items = [{\"docid\":\"374801f7-aacf-4d12-9bc5-1cd6575efe1f\",\"roots\":{\"20176\":\"f0aa4d8e-bb39-429b-8754-100014babc5b\"}}];\n",
       "  root.Bokeh.embed.embed_items_notebook(docs_json, render_items);\n",
       "\n",
       "  }\n",
       "  if (root.Bokeh !== undefined) {\n",
       "    embed_document(root);\n",
       "  } else {\n",
       "    var attempts = 0;\n",
       "    var timer = setInterval(function(root) {\n",
       "      if (root.Bokeh !== undefined) {\n",
       "        embed_document(root);\n",
       "        clearInterval(timer);\n",
       "      }\n",
       "      attempts++;\n",
       "      if (attempts > 100) {\n",
       "        console.log(\"Bokeh: ERROR: Unable to run BokehJS code because BokehJS library is missing\");\n",
       "        clearInterval(timer);\n",
       "      }\n",
       "    }, 10, root)\n",
       "  }\n",
       "})(window);"
      ],
      "application/vnd.bokehjs_exec.v0+json": ""
     },
     "metadata": {
      "application/vnd.bokehjs_exec.v0+json": {
       "id": "20176"
      }
     },
     "output_type": "display_data"
    }
   ],
   "source": [
    "# Create  a Bar Plot for Number of Prior Transactions Before Campaign Per Decile\n",
    "p.vbar(x='Decile', top='Number of Prior Year Transactions', source=source, width=0.70, color= '#718dbf')\n",
    "p.title.text ='Number of Transactions by Customer Before Campaign'\n",
    "p.xaxis.axis_label = 'Decile'\n",
    "p.yaxis.axis_label = 'Number of Prior Transactions'\n",
    "hover = HoverTool()\n",
    "hover.tooltips = [(\"Mean of Prior Transactions\", \"$y\" )]\n",
    "hover.mode = 'vline'\n",
    "p.add_tools(hover)\n",
    "show(p)\n"
   ]
  },
  {
   "cell_type": "code",
   "execution_count": 250,
   "metadata": {
    "slideshow": {
     "slide_type": "slide"
    }
   },
   "outputs": [
    {
     "data": {
      "text/html": [
       "\n",
       "\n",
       "\n",
       "\n",
       "\n",
       "\n",
       "  <div class=\"bk-root\" id=\"451e8997-320c-466d-9c5c-7a84b0aa96fd\" data-root-id=\"20176\"></div>\n"
      ]
     },
     "metadata": {},
     "output_type": "display_data"
    },
    {
     "data": {
      "application/javascript": [
       "(function(root) {\n",
       "  function embed_document(root) {\n",
       "    \n",
       "  var docs_json = {\"3d56864a-1ed3-4ea0-8460-aaa3708936ca\":{\"roots\":{\"references\":[{\"attributes\":{\"below\":[{\"id\":\"20185\",\"type\":\"LinearAxis\"}],\"center\":[{\"id\":\"20189\",\"type\":\"Grid\"},{\"id\":\"20194\",\"type\":\"Grid\"}],\"left\":[{\"id\":\"20190\",\"type\":\"LinearAxis\"}],\"plot_height\":400,\"renderers\":[{\"id\":\"20211\",\"type\":\"GlyphRenderer\"},{\"id\":\"20401\",\"type\":\"GlyphRenderer\"}],\"title\":{\"id\":\"20213\",\"type\":\"Title\"},\"toolbar\":{\"id\":\"20201\",\"type\":\"Toolbar\"},\"x_range\":{\"id\":\"20177\",\"type\":\"DataRange1d\"},\"x_scale\":{\"id\":\"20181\",\"type\":\"LinearScale\"},\"y_range\":{\"id\":\"20179\",\"type\":\"DataRange1d\"},\"y_scale\":{\"id\":\"20183\",\"type\":\"LinearScale\"}},\"id\":\"20176\",\"subtype\":\"Figure\",\"type\":\"Plot\"},{\"attributes\":{},\"id\":\"20195\",\"type\":\"PanTool\"},{\"attributes\":{\"callback\":null},\"id\":\"20179\",\"type\":\"DataRange1d\"},{\"attributes\":{\"data_source\":{\"id\":\"20175\",\"type\":\"ColumnDataSource\"},\"glyph\":{\"id\":\"20399\",\"type\":\"VBar\"},\"hover_glyph\":null,\"muted_glyph\":null,\"nonselection_glyph\":{\"id\":\"20400\",\"type\":\"VBar\"},\"selection_glyph\":null,\"view\":{\"id\":\"20402\",\"type\":\"CDSView\"}},\"id\":\"20401\",\"type\":\"GlyphRenderer\"},{\"attributes\":{},\"id\":\"20183\",\"type\":\"LinearScale\"},{\"attributes\":{\"callback\":null},\"id\":\"20177\",\"type\":\"DataRange1d\"},{\"attributes\":{},\"id\":\"20181\",\"type\":\"LinearScale\"},{\"attributes\":{},\"id\":\"20339\",\"type\":\"BasicTickFormatter\"},{\"attributes\":{},\"id\":\"20196\",\"type\":\"WheelZoomTool\"},{\"attributes\":{\"bottom_units\":\"screen\",\"fill_alpha\":{\"value\":0.5},\"fill_color\":{\"value\":\"lightgrey\"},\"left_units\":\"screen\",\"level\":\"overlay\",\"line_alpha\":{\"value\":1.0},\"line_color\":{\"value\":\"black\"},\"line_dash\":[4,4],\"line_width\":{\"value\":2},\"render_mode\":\"css\",\"right_units\":\"screen\",\"top_units\":\"screen\"},\"id\":\"20341\",\"type\":\"BoxAnnotation\"},{\"attributes\":{\"text\":\"Tenure since customer with the store\"},\"id\":\"20213\",\"type\":\"Title\"},{\"attributes\":{},\"id\":\"20200\",\"type\":\"HelpTool\"},{\"attributes\":{\"active_drag\":\"auto\",\"active_inspect\":\"auto\",\"active_multi\":null,\"active_scroll\":\"auto\",\"active_tap\":\"auto\",\"tools\":[{\"id\":\"20195\",\"type\":\"PanTool\"},{\"id\":\"20196\",\"type\":\"WheelZoomTool\"},{\"id\":\"20197\",\"type\":\"BoxZoomTool\"},{\"id\":\"20198\",\"type\":\"SaveTool\"},{\"id\":\"20199\",\"type\":\"ResetTool\"},{\"id\":\"20200\",\"type\":\"HelpTool\"},{\"id\":\"20214\",\"type\":\"HoverTool\"},{\"id\":\"20532\",\"type\":\"HoverTool\"}]},\"id\":\"20201\",\"type\":\"Toolbar\"},{\"attributes\":{},\"id\":\"20337\",\"type\":\"BasicTickFormatter\"},{\"attributes\":{},\"id\":\"20191\",\"type\":\"BasicTicker\"},{\"attributes\":{\"axis_label\":\"Number of years since customer\",\"formatter\":{\"id\":\"20339\",\"type\":\"BasicTickFormatter\"},\"ticker\":{\"id\":\"20191\",\"type\":\"BasicTicker\"}},\"id\":\"20190\",\"type\":\"LinearAxis\"},{\"attributes\":{},\"id\":\"20199\",\"type\":\"ResetTool\"},{\"attributes\":{\"callback\":null,\"data\":{\"Decile\":[1,2,3,4,5,6,7,8,9,10],\"Number of Prior Year Transactions\":{\"__ndarray__\":\"unvRWvkMMECQu362WNkvQPhGFJh0qixA17Eeh00TLUBy188WK4MsQOdB7vrZoidAejV/vjYbJkArwzeiwOQuQL4RBSad2i9AyzVmdcUQMEA=\",\"dtype\":\"float64\",\"shape\":[10]},\"Years_since_customer\":{\"__ndarray__\":\"vZo/X5uNQUBoi5XhG9E/QOSuny1WJkJA22xoxsX3MUDQFivDNyIyQOSuny1WJjdAJ/3gkftdOkCYdGoe5E46QPMgd/1sMTtA6u5Fa+UzP0A=\",\"dtype\":\"float64\",\"shape\":[10]}},\"selected\":{\"id\":\"20342\",\"type\":\"Selection\"},\"selection_policy\":{\"id\":\"20343\",\"type\":\"UnionRenderers\"}},\"id\":\"20175\",\"type\":\"ColumnDataSource\"},{\"attributes\":{},\"id\":\"20343\",\"type\":\"UnionRenderers\"},{\"attributes\":{},\"id\":\"20342\",\"type\":\"Selection\"},{\"attributes\":{\"dimension\":1,\"ticker\":{\"id\":\"20191\",\"type\":\"BasicTicker\"}},\"id\":\"20194\",\"type\":\"Grid\"},{\"attributes\":{\"fill_color\":{\"value\":\"#718dbf\"},\"line_color\":{\"value\":\"#718dbf\"},\"top\":{\"field\":\"Number of Prior Year Transactions\"},\"width\":{\"value\":0.7},\"x\":{\"field\":\"Decile\"}},\"id\":\"20209\",\"type\":\"VBar\"},{\"attributes\":{\"overlay\":{\"id\":\"20341\",\"type\":\"BoxAnnotation\"}},\"id\":\"20197\",\"type\":\"BoxZoomTool\"},{\"attributes\":{\"callback\":null,\"tooltips\":[[\"Number of years since customer\",\"$y\"]]},\"id\":\"20532\",\"type\":\"HoverTool\"},{\"attributes\":{\"fill_alpha\":{\"value\":0.1},\"fill_color\":{\"value\":\"#1f77b4\"},\"line_alpha\":{\"value\":0.1},\"line_color\":{\"value\":\"#1f77b4\"},\"top\":{\"field\":\"Number of Prior Year Transactions\"},\"width\":{\"value\":0.7},\"x\":{\"field\":\"Decile\"}},\"id\":\"20210\",\"type\":\"VBar\"},{\"attributes\":{\"fill_alpha\":{\"value\":0.1},\"fill_color\":{\"value\":\"#1f77b4\"},\"line_alpha\":{\"value\":0.1},\"line_color\":{\"value\":\"#1f77b4\"},\"top\":{\"field\":\"Years_since_customer\"},\"width\":{\"value\":0.7},\"x\":{\"field\":\"Decile\"}},\"id\":\"20400\",\"type\":\"VBar\"},{\"attributes\":{\"data_source\":{\"id\":\"20175\",\"type\":\"ColumnDataSource\"},\"glyph\":{\"id\":\"20209\",\"type\":\"VBar\"},\"hover_glyph\":null,\"muted_glyph\":null,\"nonselection_glyph\":{\"id\":\"20210\",\"type\":\"VBar\"},\"selection_glyph\":null,\"view\":{\"id\":\"20212\",\"type\":\"CDSView\"}},\"id\":\"20211\",\"type\":\"GlyphRenderer\"},{\"attributes\":{},\"id\":\"20198\",\"type\":\"SaveTool\"},{\"attributes\":{\"axis_label\":\"Decile\",\"formatter\":{\"id\":\"20337\",\"type\":\"BasicTickFormatter\"},\"ticker\":{\"id\":\"20186\",\"type\":\"BasicTicker\"}},\"id\":\"20185\",\"type\":\"LinearAxis\"},{\"attributes\":{\"callback\":null,\"mode\":\"vline\",\"tooltips\":[[\"Mean of Prior Transactions\",\"$y\"]]},\"id\":\"20214\",\"type\":\"HoverTool\"},{\"attributes\":{\"ticker\":{\"id\":\"20186\",\"type\":\"BasicTicker\"}},\"id\":\"20189\",\"type\":\"Grid\"},{\"attributes\":{\"source\":{\"id\":\"20175\",\"type\":\"ColumnDataSource\"}},\"id\":\"20212\",\"type\":\"CDSView\"},{\"attributes\":{\"fill_color\":{\"value\":\"teal\"},\"line_color\":{\"value\":\"teal\"},\"top\":{\"field\":\"Years_since_customer\"},\"width\":{\"value\":0.7},\"x\":{\"field\":\"Decile\"}},\"id\":\"20399\",\"type\":\"VBar\"},{\"attributes\":{\"source\":{\"id\":\"20175\",\"type\":\"ColumnDataSource\"}},\"id\":\"20402\",\"type\":\"CDSView\"},{\"attributes\":{},\"id\":\"20186\",\"type\":\"BasicTicker\"}],\"root_ids\":[\"20176\"]},\"title\":\"Bokeh Application\",\"version\":\"1.3.4\"}};\n",
       "  var render_items = [{\"docid\":\"3d56864a-1ed3-4ea0-8460-aaa3708936ca\",\"roots\":{\"20176\":\"451e8997-320c-466d-9c5c-7a84b0aa96fd\"}}];\n",
       "  root.Bokeh.embed.embed_items_notebook(docs_json, render_items);\n",
       "\n",
       "  }\n",
       "  if (root.Bokeh !== undefined) {\n",
       "    embed_document(root);\n",
       "  } else {\n",
       "    var attempts = 0;\n",
       "    var timer = setInterval(function(root) {\n",
       "      if (root.Bokeh !== undefined) {\n",
       "        embed_document(root);\n",
       "        clearInterval(timer);\n",
       "      }\n",
       "      attempts++;\n",
       "      if (attempts > 100) {\n",
       "        console.log(\"Bokeh: ERROR: Unable to run BokehJS code because BokehJS library is missing\");\n",
       "        clearInterval(timer);\n",
       "      }\n",
       "    }, 10, root)\n",
       "  }\n",
       "})(window);"
      ],
      "application/vnd.bokehjs_exec.v0+json": ""
     },
     "metadata": {
      "application/vnd.bokehjs_exec.v0+json": {
       "id": "20176"
      }
     },
     "output_type": "display_data"
    }
   ],
   "source": [
    "# Create  a Bar Plot for Number of Years Cusotmer is Loyal to Store Before Campaign \n",
    "p.vbar(x='Decile', top='Years_since_customer', source=source, width=0.70, color= 'teal')\n",
    "\n",
    "p.title.text ='Tenure since customer with the store'\n",
    "p.xaxis.axis_label = 'Decile'\n",
    "p.yaxis.axis_label = 'Number of years since customer'\n",
    "\n",
    "hover = HoverTool()\n",
    "hover.tooltips = [(\"Number of years since customer\",\"$y\" )]\n",
    "p.add_tools(hover)\n",
    "show(p)\n"
   ]
  },
  {
   "cell_type": "code",
   "execution_count": 252,
   "metadata": {
    "slideshow": {
     "slide_type": "slide"
    }
   },
   "outputs": [],
   "source": [
    "# Comparing Profit, Historical Sales and Campaigne Period Sales in $ amount per Decile\n",
    "grouped2 = df.groupby('Decile')['Profit', 'Historical Sales Volume', 'Campaign Period Sales'].sum()"
   ]
  },
  {
   "cell_type": "code",
   "execution_count": 253,
   "metadata": {
    "slideshow": {
     "slide_type": "fragment"
    }
   },
   "outputs": [
    {
     "name": "stdout",
     "output_type": "stream",
     "text": [
      "               Profit  Historical Sales Volume  Campaign Period Sales\n",
      "Decile                                                               \n",
      "1       166897.811193             9.537959e+08           1.213521e+06\n",
      "2        -6209.583413             3.776463e+08           2.705677e+05\n",
      "3       -22529.160535             4.626267e+08           1.734757e+05\n",
      "4       -33743.132339             7.120365e+08           1.130410e+05\n",
      "5       -35725.394113             4.568463e+08           6.071047e+04\n",
      "6       -36484.709367             5.216218e+08           4.965392e+04\n",
      "7       -36978.426851             5.521842e+08           2.235321e+04\n",
      "8       -37058.304031             4.626025e+08           1.205908e+04\n",
      "9       -37137.998515             3.813919e+08           7.449068e+03\n",
      "10      -37416.583208             4.873190e+08           2.087063e+04\n"
     ]
    }
   ],
   "source": [
    "print(grouped2)"
   ]
  },
  {
   "cell_type": "code",
   "execution_count": 254,
   "metadata": {
    "slideshow": {
     "slide_type": "fragment"
    }
   },
   "outputs": [],
   "source": [
    "source = ColumnDataSource(grouped2)\n",
    "cust_groups2 = source.data['Decile'].tolist()\n",
    "p = figure(plot_height=300)\n",
    "q=figure(plot_height=300)\n",
    "r=figure(plot_height=300)"
   ]
  },
  {
   "cell_type": "code",
   "execution_count": 255,
   "metadata": {
    "slideshow": {
     "slide_type": "slide"
    }
   },
   "outputs": [
    {
     "data": {
      "text/html": [
       "\n",
       "\n",
       "\n",
       "\n",
       "\n",
       "\n",
       "  <div class=\"bk-root\" id=\"c675ea2d-1ab9-4709-90e8-575af35f9b42\" data-root-id=\"20853\"></div>\n"
      ]
     },
     "metadata": {},
     "output_type": "display_data"
    },
    {
     "data": {
      "application/javascript": [
       "(function(root) {\n",
       "  function embed_document(root) {\n",
       "    \n",
       "  var docs_json = {\"df9a1d19-41da-4d75-a9d2-f8a8f110b09c\":{\"roots\":{\"references\":[{\"attributes\":{\"below\":[{\"id\":\"20862\",\"type\":\"LinearAxis\"}],\"center\":[{\"id\":\"20866\",\"type\":\"Grid\"},{\"id\":\"20871\",\"type\":\"Grid\"}],\"left\":[{\"id\":\"20867\",\"type\":\"LinearAxis\"}],\"plot_height\":300,\"renderers\":[{\"id\":\"20952\",\"type\":\"GlyphRenderer\"}],\"title\":{\"id\":\"20954\",\"type\":\"Title\"},\"toolbar\":{\"id\":\"20878\",\"type\":\"Toolbar\"},\"x_range\":{\"id\":\"20854\",\"type\":\"DataRange1d\"},\"x_scale\":{\"id\":\"20858\",\"type\":\"LinearScale\"},\"y_range\":{\"id\":\"20856\",\"type\":\"DataRange1d\"},\"y_scale\":{\"id\":\"20860\",\"type\":\"LinearScale\"}},\"id\":\"20853\",\"subtype\":\"Figure\",\"type\":\"Plot\"},{\"attributes\":{\"axis_label\":\"Total Campaign Period Sales ($)\",\"formatter\":{\"id\":\"21089\",\"type\":\"BasicTickFormatter\"},\"ticker\":{\"id\":\"20868\",\"type\":\"BasicTicker\"}},\"id\":\"20867\",\"type\":\"LinearAxis\"},{\"attributes\":{},\"id\":\"20877\",\"type\":\"HelpTool\"},{\"attributes\":{\"callback\":null,\"mode\":\"vline\",\"tooltips\":[[\"Sale$\",\"$y{int}\"]]},\"id\":\"20955\",\"type\":\"HoverTool\"},{\"attributes\":{\"source\":{\"id\":\"20852\",\"type\":\"ColumnDataSource\"}},\"id\":\"20953\",\"type\":\"CDSView\"},{\"attributes\":{\"ticker\":{\"id\":\"20863\",\"type\":\"BasicTicker\"}},\"id\":\"20866\",\"type\":\"Grid\"},{\"attributes\":{\"callback\":null},\"id\":\"20854\",\"type\":\"DataRange1d\"},{\"attributes\":{\"active_drag\":\"auto\",\"active_inspect\":\"auto\",\"active_multi\":null,\"active_scroll\":\"auto\",\"active_tap\":\"auto\",\"tools\":[{\"id\":\"20872\",\"type\":\"PanTool\"},{\"id\":\"20873\",\"type\":\"WheelZoomTool\"},{\"id\":\"20874\",\"type\":\"BoxZoomTool\"},{\"id\":\"20875\",\"type\":\"SaveTool\"},{\"id\":\"20876\",\"type\":\"ResetTool\"},{\"id\":\"20877\",\"type\":\"HelpTool\"},{\"id\":\"20955\",\"type\":\"HoverTool\"}]},\"id\":\"20878\",\"type\":\"Toolbar\"},{\"attributes\":{},\"id\":\"20858\",\"type\":\"LinearScale\"},{\"attributes\":{\"callback\":null,\"data\":{\"Campaign Period Sales\":{\"__ndarray__\":\"aMF0RlGEMkGWyTrynoMQQWemSUAdLQVB1g/EjA+Z+0BUFf/izqTtQCcCaoG9PuhAoKKWUU3U1UAhHMa3io3HQCVZ7nQRGb1AqP0Xiqhh1EA=\",\"dtype\":\"float64\",\"shape\":[10]},\"Decile\":[1,2,3,4,5,6,7,8,9,10],\"Historical Sales Volume\":{\"__ndarray__\":\"nfShj+JszEH63gvwbIK2QYkkHZAfk7tBriZ9Nmg4xUE2FJG86zq7QWf+uSJRF79BV+d8vNR0wEGYcFcrwZK7QVQy7yeUu7ZBfofGqeULvUE=\",\"dtype\":\"float64\",\"shape\":[10]},\"Profit\":{\"__ndarray__\":\"MplSfY5fBEEod4halUG4wLmXNEZKANbAoP8ePOR54MDB3ZKcrHHhwEBsIrOW0OHAqm3DqE0O4sA/OJ+6SRjiwK+61fM/IuLA2tKjqRJF4sA=\",\"dtype\":\"float64\",\"shape\":[10]}},\"selected\":{\"id\":\"21092\",\"type\":\"Selection\"},\"selection_policy\":{\"id\":\"21093\",\"type\":\"UnionRenderers\"}},\"id\":\"20852\",\"type\":\"ColumnDataSource\"},{\"attributes\":{\"bottom_units\":\"screen\",\"fill_alpha\":{\"value\":0.5},\"fill_color\":{\"value\":\"lightgrey\"},\"left_units\":\"screen\",\"level\":\"overlay\",\"line_alpha\":{\"value\":1.0},\"line_color\":{\"value\":\"black\"},\"line_dash\":[4,4],\"line_width\":{\"value\":2},\"render_mode\":\"css\",\"right_units\":\"screen\",\"top_units\":\"screen\"},\"id\":\"21091\",\"type\":\"BoxAnnotation\"},{\"attributes\":{\"data_source\":{\"id\":\"20852\",\"type\":\"ColumnDataSource\"},\"glyph\":{\"id\":\"20950\",\"type\":\"VBar\"},\"hover_glyph\":null,\"muted_glyph\":null,\"nonselection_glyph\":{\"id\":\"20951\",\"type\":\"VBar\"},\"selection_glyph\":null,\"view\":{\"id\":\"20953\",\"type\":\"CDSView\"}},\"id\":\"20952\",\"type\":\"GlyphRenderer\"},{\"attributes\":{},\"id\":\"21093\",\"type\":\"UnionRenderers\"},{\"attributes\":{},\"id\":\"21087\",\"type\":\"BasicTickFormatter\"},{\"attributes\":{\"overlay\":{\"id\":\"21091\",\"type\":\"BoxAnnotation\"}},\"id\":\"20874\",\"type\":\"BoxZoomTool\"},{\"attributes\":{},\"id\":\"21092\",\"type\":\"Selection\"},{\"attributes\":{},\"id\":\"20868\",\"type\":\"BasicTicker\"},{\"attributes\":{},\"id\":\"21089\",\"type\":\"BasicTickFormatter\"},{\"attributes\":{},\"id\":\"20876\",\"type\":\"ResetTool\"},{\"attributes\":{},\"id\":\"20875\",\"type\":\"SaveTool\"},{\"attributes\":{\"fill_color\":{\"value\":\"LightSeaGreen\"},\"line_color\":{\"value\":\"LightSeaGreen\"},\"top\":{\"field\":\"Campaign Period Sales\"},\"width\":{\"value\":0.7},\"x\":{\"field\":\"Decile\"}},\"id\":\"20950\",\"type\":\"VBar\"},{\"attributes\":{\"axis_label\":\"Decile\",\"formatter\":{\"id\":\"21087\",\"type\":\"BasicTickFormatter\"},\"ticker\":{\"id\":\"20863\",\"type\":\"BasicTicker\"}},\"id\":\"20862\",\"type\":\"LinearAxis\"},{\"attributes\":{\"dimension\":1,\"ticker\":{\"id\":\"20868\",\"type\":\"BasicTicker\"}},\"id\":\"20871\",\"type\":\"Grid\"},{\"attributes\":{\"callback\":null},\"id\":\"20856\",\"type\":\"DataRange1d\"},{\"attributes\":{},\"id\":\"20872\",\"type\":\"PanTool\"},{\"attributes\":{},\"id\":\"20860\",\"type\":\"LinearScale\"},{\"attributes\":{\"fill_alpha\":{\"value\":0.1},\"fill_color\":{\"value\":\"#1f77b4\"},\"line_alpha\":{\"value\":0.1},\"line_color\":{\"value\":\"#1f77b4\"},\"top\":{\"field\":\"Campaign Period Sales\"},\"width\":{\"value\":0.7},\"x\":{\"field\":\"Decile\"}},\"id\":\"20951\",\"type\":\"VBar\"},{\"attributes\":{\"text\":\"Total Sales During the Campaign Per Decile\"},\"id\":\"20954\",\"type\":\"Title\"},{\"attributes\":{},\"id\":\"20873\",\"type\":\"WheelZoomTool\"},{\"attributes\":{},\"id\":\"20863\",\"type\":\"BasicTicker\"}],\"root_ids\":[\"20853\"]},\"title\":\"Bokeh Application\",\"version\":\"1.3.4\"}};\n",
       "  var render_items = [{\"docid\":\"df9a1d19-41da-4d75-a9d2-f8a8f110b09c\",\"roots\":{\"20853\":\"c675ea2d-1ab9-4709-90e8-575af35f9b42\"}}];\n",
       "  root.Bokeh.embed.embed_items_notebook(docs_json, render_items);\n",
       "\n",
       "  }\n",
       "  if (root.Bokeh !== undefined) {\n",
       "    embed_document(root);\n",
       "  } else {\n",
       "    var attempts = 0;\n",
       "    var timer = setInterval(function(root) {\n",
       "      if (root.Bokeh !== undefined) {\n",
       "        embed_document(root);\n",
       "        clearInterval(timer);\n",
       "      }\n",
       "      attempts++;\n",
       "      if (attempts > 100) {\n",
       "        console.log(\"Bokeh: ERROR: Unable to run BokehJS code because BokehJS library is missing\");\n",
       "        clearInterval(timer);\n",
       "      }\n",
       "    }, 10, root)\n",
       "  }\n",
       "})(window);"
      ],
      "application/vnd.bokehjs_exec.v0+json": ""
     },
     "metadata": {
      "application/vnd.bokehjs_exec.v0+json": {
       "id": "20853"
      }
     },
     "output_type": "display_data"
    }
   ],
   "source": [
    "# Create  a Bar Plot To show Total Sales During the Campaign Per Decile\n",
    "p.vbar(x='Decile', top='Campaign Period Sales', source=source, width=0.70, color= 'LightSeaGreen')\n",
    "\n",
    "p.title.text ='Total Sales During the Campaign Per Decile'\n",
    "p.xaxis.axis_label = 'Decile'\n",
    "p.yaxis.axis_label = 'Total Campaign Period Sales ($)'\n",
    "\n",
    "hover = HoverTool()\n",
    "hover.tooltips = [('Sale$',\"$y{int}\" )]\n",
    "hover.mode = 'vline'\n",
    "p.add_tools(hover)\n",
    "show(p)"
   ]
  },
  {
   "cell_type": "code",
   "execution_count": 256,
   "metadata": {
    "slideshow": {
     "slide_type": "slide"
    }
   },
   "outputs": [
    {
     "data": {
      "text/html": [
       "\n",
       "\n",
       "\n",
       "\n",
       "\n",
       "\n",
       "  <div class=\"bk-root\" id=\"2f9675c6-cc3b-4d8d-aa52-ce1350181845\" data-root-id=\"20885\"></div>\n"
      ]
     },
     "metadata": {},
     "output_type": "display_data"
    },
    {
     "data": {
      "application/javascript": [
       "(function(root) {\n",
       "  function embed_document(root) {\n",
       "    \n",
       "  var docs_json = {\"06743bf1-e169-48cd-9edf-cf43f5d3ac92\":{\"roots\":{\"references\":[{\"attributes\":{\"below\":[{\"id\":\"20894\",\"type\":\"LinearAxis\"}],\"center\":[{\"id\":\"20898\",\"type\":\"Grid\"},{\"id\":\"20903\",\"type\":\"Grid\"}],\"left\":[{\"id\":\"20899\",\"type\":\"LinearAxis\"}],\"plot_height\":300,\"renderers\":[{\"id\":\"21151\",\"type\":\"GlyphRenderer\"}],\"title\":{\"id\":\"21153\",\"type\":\"Title\"},\"toolbar\":{\"id\":\"20910\",\"type\":\"Toolbar\"},\"x_range\":{\"id\":\"20886\",\"type\":\"DataRange1d\"},\"x_scale\":{\"id\":\"20890\",\"type\":\"LinearScale\"},\"y_range\":{\"id\":\"20888\",\"type\":\"DataRange1d\"},\"y_scale\":{\"id\":\"20892\",\"type\":\"LinearScale\"}},\"id\":\"20885\",\"subtype\":\"Figure\",\"type\":\"Plot\"},{\"attributes\":{},\"id\":\"20905\",\"type\":\"WheelZoomTool\"},{\"attributes\":{\"callback\":null},\"id\":\"20888\",\"type\":\"DataRange1d\"},{\"attributes\":{},\"id\":\"20900\",\"type\":\"BasicTicker\"},{\"attributes\":{\"text\":\"Profit per Decile\"},\"id\":\"21153\",\"type\":\"Title\"},{\"attributes\":{\"ticker\":{\"id\":\"20895\",\"type\":\"BasicTicker\"}},\"id\":\"20898\",\"type\":\"Grid\"},{\"attributes\":{},\"id\":\"20909\",\"type\":\"HelpTool\"},{\"attributes\":{},\"id\":\"20895\",\"type\":\"BasicTicker\"},{\"attributes\":{},\"id\":\"21295\",\"type\":\"BasicTickFormatter\"},{\"attributes\":{},\"id\":\"20908\",\"type\":\"ResetTool\"},{\"attributes\":{},\"id\":\"21297\",\"type\":\"BasicTickFormatter\"},{\"attributes\":{\"axis_label\":\"Decile\",\"formatter\":{\"id\":\"21295\",\"type\":\"BasicTickFormatter\"},\"ticker\":{\"id\":\"20895\",\"type\":\"BasicTicker\"}},\"id\":\"20894\",\"type\":\"LinearAxis\"},{\"attributes\":{\"dimension\":1,\"ticker\":{\"id\":\"20900\",\"type\":\"BasicTicker\"}},\"id\":\"20903\",\"type\":\"Grid\"},{\"attributes\":{},\"id\":\"20907\",\"type\":\"SaveTool\"},{\"attributes\":{\"callback\":null,\"data\":{\"Campaign Period Sales\":{\"__ndarray__\":\"aMF0RlGEMkGWyTrynoMQQWemSUAdLQVB1g/EjA+Z+0BUFf/izqTtQCcCaoG9PuhAoKKWUU3U1UAhHMa3io3HQCVZ7nQRGb1AqP0Xiqhh1EA=\",\"dtype\":\"float64\",\"shape\":[10]},\"Decile\":[1,2,3,4,5,6,7,8,9,10],\"Historical Sales Volume\":{\"__ndarray__\":\"nfShj+JszEH63gvwbIK2QYkkHZAfk7tBriZ9Nmg4xUE2FJG86zq7QWf+uSJRF79BV+d8vNR0wEGYcFcrwZK7QVQy7yeUu7ZBfofGqeULvUE=\",\"dtype\":\"float64\",\"shape\":[10]},\"Profit\":{\"__ndarray__\":\"MplSfY5fBEEod4halUG4wLmXNEZKANbAoP8ePOR54MDB3ZKcrHHhwEBsIrOW0OHAqm3DqE0O4sA/OJ+6SRjiwK+61fM/IuLA2tKjqRJF4sA=\",\"dtype\":\"float64\",\"shape\":[10]}},\"selected\":{\"id\":\"21092\",\"type\":\"Selection\"},\"selection_policy\":{\"id\":\"21093\",\"type\":\"UnionRenderers\"}},\"id\":\"20852\",\"type\":\"ColumnDataSource\"},{\"attributes\":{},\"id\":\"21093\",\"type\":\"UnionRenderers\"},{\"attributes\":{},\"id\":\"20890\",\"type\":\"LinearScale\"},{\"attributes\":{},\"id\":\"20904\",\"type\":\"PanTool\"},{\"attributes\":{\"bottom_units\":\"screen\",\"fill_alpha\":{\"value\":0.5},\"fill_color\":{\"value\":\"lightgrey\"},\"left_units\":\"screen\",\"level\":\"overlay\",\"line_alpha\":{\"value\":1.0},\"line_color\":{\"value\":\"black\"},\"line_dash\":[4,4],\"line_width\":{\"value\":2},\"render_mode\":\"css\",\"right_units\":\"screen\",\"top_units\":\"screen\"},\"id\":\"21299\",\"type\":\"BoxAnnotation\"},{\"attributes\":{},\"id\":\"21092\",\"type\":\"Selection\"},{\"attributes\":{\"axis_label\":\"Total Profit\",\"formatter\":{\"id\":\"21297\",\"type\":\"BasicTickFormatter\"},\"ticker\":{\"id\":\"20900\",\"type\":\"BasicTicker\"}},\"id\":\"20899\",\"type\":\"LinearAxis\"},{\"attributes\":{\"source\":{\"id\":\"20852\",\"type\":\"ColumnDataSource\"}},\"id\":\"21152\",\"type\":\"CDSView\"},{\"attributes\":{\"callback\":null,\"mode\":\"vline\",\"tooltips\":[[\"Profit\",\"$y{int}\"]]},\"id\":\"21154\",\"type\":\"HoverTool\"},{\"attributes\":{\"data_source\":{\"id\":\"20852\",\"type\":\"ColumnDataSource\"},\"glyph\":{\"id\":\"21149\",\"type\":\"VBar\"},\"hover_glyph\":null,\"muted_glyph\":null,\"nonselection_glyph\":{\"id\":\"21150\",\"type\":\"VBar\"},\"selection_glyph\":null,\"view\":{\"id\":\"21152\",\"type\":\"CDSView\"}},\"id\":\"21151\",\"type\":\"GlyphRenderer\"},{\"attributes\":{\"fill_color\":{\"value\":\"CornflowerBlue\"},\"line_color\":{\"value\":\"CornflowerBlue\"},\"top\":{\"field\":\"Profit\"},\"width\":{\"value\":0.7},\"x\":{\"field\":\"Decile\"}},\"id\":\"21149\",\"type\":\"VBar\"},{\"attributes\":{\"callback\":null},\"id\":\"20886\",\"type\":\"DataRange1d\"},{\"attributes\":{\"fill_alpha\":{\"value\":0.1},\"fill_color\":{\"value\":\"#1f77b4\"},\"line_alpha\":{\"value\":0.1},\"line_color\":{\"value\":\"#1f77b4\"},\"top\":{\"field\":\"Profit\"},\"width\":{\"value\":0.7},\"x\":{\"field\":\"Decile\"}},\"id\":\"21150\",\"type\":\"VBar\"},{\"attributes\":{\"active_drag\":\"auto\",\"active_inspect\":\"auto\",\"active_multi\":null,\"active_scroll\":\"auto\",\"active_tap\":\"auto\",\"tools\":[{\"id\":\"20904\",\"type\":\"PanTool\"},{\"id\":\"20905\",\"type\":\"WheelZoomTool\"},{\"id\":\"20906\",\"type\":\"BoxZoomTool\"},{\"id\":\"20907\",\"type\":\"SaveTool\"},{\"id\":\"20908\",\"type\":\"ResetTool\"},{\"id\":\"20909\",\"type\":\"HelpTool\"},{\"id\":\"21154\",\"type\":\"HoverTool\"}]},\"id\":\"20910\",\"type\":\"Toolbar\"},{\"attributes\":{},\"id\":\"20892\",\"type\":\"LinearScale\"},{\"attributes\":{\"overlay\":{\"id\":\"21299\",\"type\":\"BoxAnnotation\"}},\"id\":\"20906\",\"type\":\"BoxZoomTool\"}],\"root_ids\":[\"20885\"]},\"title\":\"Bokeh Application\",\"version\":\"1.3.4\"}};\n",
       "  var render_items = [{\"docid\":\"06743bf1-e169-48cd-9edf-cf43f5d3ac92\",\"roots\":{\"20885\":\"2f9675c6-cc3b-4d8d-aa52-ce1350181845\"}}];\n",
       "  root.Bokeh.embed.embed_items_notebook(docs_json, render_items);\n",
       "\n",
       "  }\n",
       "  if (root.Bokeh !== undefined) {\n",
       "    embed_document(root);\n",
       "  } else {\n",
       "    var attempts = 0;\n",
       "    var timer = setInterval(function(root) {\n",
       "      if (root.Bokeh !== undefined) {\n",
       "        embed_document(root);\n",
       "        clearInterval(timer);\n",
       "      }\n",
       "      attempts++;\n",
       "      if (attempts > 100) {\n",
       "        console.log(\"Bokeh: ERROR: Unable to run BokehJS code because BokehJS library is missing\");\n",
       "        clearInterval(timer);\n",
       "      }\n",
       "    }, 10, root)\n",
       "  }\n",
       "})(window);"
      ],
      "application/vnd.bokehjs_exec.v0+json": ""
     },
     "metadata": {
      "application/vnd.bokehjs_exec.v0+json": {
       "id": "20885"
      }
     },
     "output_type": "display_data"
    }
   ],
   "source": [
    "# Create  a Bar Plot To show Total Profit Per Decile\n",
    "q.vbar(x='Decile', top='Profit', source=source, width=0.70, color= 'CornflowerBlue')\n",
    "\n",
    "q.title.text ='Profit per Decile'\n",
    "q.xaxis.axis_label = 'Decile'\n",
    "q.yaxis.axis_label = 'Total Profit'\n",
    "\n",
    "hover = HoverTool()\n",
    "hover.tooltips = [('Profit',\"$y{int}\" )]\n",
    "hover.mode = 'vline'\n",
    "q.add_tools(hover)\n",
    "show(q)"
   ]
  },
  {
   "cell_type": "markdown",
   "metadata": {
    "slideshow": {
     "slide_type": "fragment"
    }
   },
   "source": [
    "**Only first Decile was profitable with 167000   profit**"
   ]
  },
  {
   "cell_type": "code",
   "execution_count": 257,
   "metadata": {
    "slideshow": {
     "slide_type": "slide"
    }
   },
   "outputs": [
    {
     "data": {
      "text/html": [
       "\n",
       "\n",
       "\n",
       "\n",
       "\n",
       "\n",
       "  <div class=\"bk-root\" id=\"21cd1abd-35ac-464d-b5df-c498cbe35240\" data-root-id=\"20917\"></div>\n"
      ]
     },
     "metadata": {},
     "output_type": "display_data"
    },
    {
     "data": {
      "application/javascript": [
       "(function(root) {\n",
       "  function embed_document(root) {\n",
       "    \n",
       "  var docs_json = {\"184aab83-1240-4292-b2c8-81c938730f9f\":{\"roots\":{\"references\":[{\"attributes\":{\"below\":[{\"id\":\"20926\",\"type\":\"LinearAxis\"}],\"center\":[{\"id\":\"20930\",\"type\":\"Grid\"},{\"id\":\"20935\",\"type\":\"Grid\"}],\"left\":[{\"id\":\"20931\",\"type\":\"LinearAxis\"}],\"plot_height\":300,\"renderers\":[{\"id\":\"21359\",\"type\":\"GlyphRenderer\"}],\"title\":{\"id\":\"21361\",\"type\":\"Title\"},\"toolbar\":{\"id\":\"20942\",\"type\":\"Toolbar\"},\"x_range\":{\"id\":\"20918\",\"type\":\"DataRange1d\"},\"x_scale\":{\"id\":\"20922\",\"type\":\"LinearScale\"},\"y_range\":{\"id\":\"20920\",\"type\":\"DataRange1d\"},\"y_scale\":{\"id\":\"20924\",\"type\":\"LinearScale\"}},\"id\":\"20917\",\"subtype\":\"Figure\",\"type\":\"Plot\"},{\"attributes\":{\"source\":{\"id\":\"20852\",\"type\":\"ColumnDataSource\"}},\"id\":\"21360\",\"type\":\"CDSView\"},{\"attributes\":{},\"id\":\"20922\",\"type\":\"LinearScale\"},{\"attributes\":{\"axis_label\":\"Decile\",\"formatter\":{\"id\":\"21512\",\"type\":\"BasicTickFormatter\"},\"ticker\":{\"id\":\"20927\",\"type\":\"BasicTicker\"}},\"id\":\"20926\",\"type\":\"LinearAxis\"},{\"attributes\":{\"data_source\":{\"id\":\"20852\",\"type\":\"ColumnDataSource\"},\"glyph\":{\"id\":\"21357\",\"type\":\"VBar\"},\"hover_glyph\":null,\"muted_glyph\":null,\"nonselection_glyph\":{\"id\":\"21358\",\"type\":\"VBar\"},\"selection_glyph\":null,\"view\":{\"id\":\"21360\",\"type\":\"CDSView\"}},\"id\":\"21359\",\"type\":\"GlyphRenderer\"},{\"attributes\":{\"callback\":null,\"mode\":\"vline\",\"tooltips\":[[\"Past Sales $\",\"$y{int}\"]]},\"id\":\"21362\",\"type\":\"HoverTool\"},{\"attributes\":{\"callback\":null},\"id\":\"20918\",\"type\":\"DataRange1d\"},{\"attributes\":{\"callback\":null},\"id\":\"20920\",\"type\":\"DataRange1d\"},{\"attributes\":{},\"id\":\"20939\",\"type\":\"SaveTool\"},{\"attributes\":{\"callback\":null,\"data\":{\"Campaign Period Sales\":{\"__ndarray__\":\"aMF0RlGEMkGWyTrynoMQQWemSUAdLQVB1g/EjA+Z+0BUFf/izqTtQCcCaoG9PuhAoKKWUU3U1UAhHMa3io3HQCVZ7nQRGb1AqP0Xiqhh1EA=\",\"dtype\":\"float64\",\"shape\":[10]},\"Decile\":[1,2,3,4,5,6,7,8,9,10],\"Historical Sales Volume\":{\"__ndarray__\":\"nfShj+JszEH63gvwbIK2QYkkHZAfk7tBriZ9Nmg4xUE2FJG86zq7QWf+uSJRF79BV+d8vNR0wEGYcFcrwZK7QVQy7yeUu7ZBfofGqeULvUE=\",\"dtype\":\"float64\",\"shape\":[10]},\"Profit\":{\"__ndarray__\":\"MplSfY5fBEEod4halUG4wLmXNEZKANbAoP8ePOR54MDB3ZKcrHHhwEBsIrOW0OHAqm3DqE0O4sA/OJ+6SRjiwK+61fM/IuLA2tKjqRJF4sA=\",\"dtype\":\"float64\",\"shape\":[10]}},\"selected\":{\"id\":\"21092\",\"type\":\"Selection\"},\"selection_policy\":{\"id\":\"21093\",\"type\":\"UnionRenderers\"}},\"id\":\"20852\",\"type\":\"ColumnDataSource\"},{\"attributes\":{\"ticker\":{\"id\":\"20927\",\"type\":\"BasicTicker\"}},\"id\":\"20930\",\"type\":\"Grid\"},{\"attributes\":{},\"id\":\"20924\",\"type\":\"LinearScale\"},{\"attributes\":{\"axis_label\":\"Sales Volume in $\",\"formatter\":{\"id\":\"21514\",\"type\":\"BasicTickFormatter\"},\"ticker\":{\"id\":\"20932\",\"type\":\"BasicTicker\"}},\"id\":\"20931\",\"type\":\"LinearAxis\"},{\"attributes\":{},\"id\":\"20940\",\"type\":\"ResetTool\"},{\"attributes\":{},\"id\":\"21093\",\"type\":\"UnionRenderers\"},{\"attributes\":{\"fill_alpha\":{\"value\":0.1},\"fill_color\":{\"value\":\"#1f77b4\"},\"line_alpha\":{\"value\":0.1},\"line_color\":{\"value\":\"#1f77b4\"},\"top\":{\"field\":\"Historical Sales Volume\"},\"width\":{\"value\":0.7},\"x\":{\"field\":\"Decile\"}},\"id\":\"21358\",\"type\":\"VBar\"},{\"attributes\":{},\"id\":\"21512\",\"type\":\"BasicTickFormatter\"},{\"attributes\":{},\"id\":\"21092\",\"type\":\"Selection\"},{\"attributes\":{},\"id\":\"20932\",\"type\":\"BasicTicker\"},{\"attributes\":{\"overlay\":{\"id\":\"21516\",\"type\":\"BoxAnnotation\"}},\"id\":\"20938\",\"type\":\"BoxZoomTool\"},{\"attributes\":{\"bottom_units\":\"screen\",\"fill_alpha\":{\"value\":0.5},\"fill_color\":{\"value\":\"lightgrey\"},\"left_units\":\"screen\",\"level\":\"overlay\",\"line_alpha\":{\"value\":1.0},\"line_color\":{\"value\":\"black\"},\"line_dash\":[4,4],\"line_width\":{\"value\":2},\"render_mode\":\"css\",\"right_units\":\"screen\",\"top_units\":\"screen\"},\"id\":\"21516\",\"type\":\"BoxAnnotation\"},{\"attributes\":{\"fill_color\":{\"value\":\"LightSalmon\"},\"line_color\":{\"value\":\"LightSalmon\"},\"top\":{\"field\":\"Historical Sales Volume\"},\"width\":{\"value\":0.7},\"x\":{\"field\":\"Decile\"}},\"id\":\"21357\",\"type\":\"VBar\"},{\"attributes\":{\"active_drag\":\"auto\",\"active_inspect\":\"auto\",\"active_multi\":null,\"active_scroll\":\"auto\",\"active_tap\":\"auto\",\"tools\":[{\"id\":\"20936\",\"type\":\"PanTool\"},{\"id\":\"20937\",\"type\":\"WheelZoomTool\"},{\"id\":\"20938\",\"type\":\"BoxZoomTool\"},{\"id\":\"20939\",\"type\":\"SaveTool\"},{\"id\":\"20940\",\"type\":\"ResetTool\"},{\"id\":\"20941\",\"type\":\"HelpTool\"},{\"id\":\"21362\",\"type\":\"HoverTool\"}]},\"id\":\"20942\",\"type\":\"Toolbar\"},{\"attributes\":{\"text\":\"Historical Sales Volume per Decile\"},\"id\":\"21361\",\"type\":\"Title\"},{\"attributes\":{\"dimension\":1,\"ticker\":{\"id\":\"20932\",\"type\":\"BasicTicker\"}},\"id\":\"20935\",\"type\":\"Grid\"},{\"attributes\":{},\"id\":\"20927\",\"type\":\"BasicTicker\"},{\"attributes\":{},\"id\":\"21514\",\"type\":\"BasicTickFormatter\"},{\"attributes\":{},\"id\":\"20937\",\"type\":\"WheelZoomTool\"},{\"attributes\":{},\"id\":\"20941\",\"type\":\"HelpTool\"},{\"attributes\":{},\"id\":\"20936\",\"type\":\"PanTool\"}],\"root_ids\":[\"20917\"]},\"title\":\"Bokeh Application\",\"version\":\"1.3.4\"}};\n",
       "  var render_items = [{\"docid\":\"184aab83-1240-4292-b2c8-81c938730f9f\",\"roots\":{\"20917\":\"21cd1abd-35ac-464d-b5df-c498cbe35240\"}}];\n",
       "  root.Bokeh.embed.embed_items_notebook(docs_json, render_items);\n",
       "\n",
       "  }\n",
       "  if (root.Bokeh !== undefined) {\n",
       "    embed_document(root);\n",
       "  } else {\n",
       "    var attempts = 0;\n",
       "    var timer = setInterval(function(root) {\n",
       "      if (root.Bokeh !== undefined) {\n",
       "        embed_document(root);\n",
       "        clearInterval(timer);\n",
       "      }\n",
       "      attempts++;\n",
       "      if (attempts > 100) {\n",
       "        console.log(\"Bokeh: ERROR: Unable to run BokehJS code because BokehJS library is missing\");\n",
       "        clearInterval(timer);\n",
       "      }\n",
       "    }, 10, root)\n",
       "  }\n",
       "})(window);"
      ],
      "application/vnd.bokehjs_exec.v0+json": ""
     },
     "metadata": {
      "application/vnd.bokehjs_exec.v0+json": {
       "id": "20917"
      }
     },
     "output_type": "display_data"
    }
   ],
   "source": [
    "# Create  a Bar Plot To show Historical Sales Volume Per Decile\n",
    "r.vbar(x='Decile', top='Historical Sales Volume', source=source, width=0.70, color= 'LightSalmon')\n",
    "\n",
    "r.title.text ='Historical Sales Volume per Decile'\n",
    "r.xaxis.axis_label = 'Decile'\n",
    "r.yaxis.axis_label = 'Sales Volume in $'\n",
    "\n",
    "hover = HoverTool()\n",
    "hover.tooltips = [('Past Sales $',\"$y{int}\" )]\n",
    "hover.mode = 'vline'\n",
    "r.add_tools(hover)\n",
    "show(r)"
   ]
  },
  {
   "cell_type": "code",
   "execution_count": 258,
   "metadata": {
    "slideshow": {
     "slide_type": "slide"
    }
   },
   "outputs": [
    {
     "data": {
      "text/plain": [
       "(array([ 31.,  35.,  14., 314.,  23., 202., 130.,  42.,  14.,   4.]),\n",
       " array([ 3. , 10.1, 17.2, 24.3, 31.4, 38.5, 45.6, 52.7, 59.8, 66.9, 74. ]),\n",
       " <a list of 10 Patch objects>)"
      ]
     },
     "execution_count": 258,
     "metadata": {},
     "output_type": "execute_result"
    },
    {
     "data": {
      "image/png": "[encoded data removed]",
      "text/plain": [
       "<Figure size 432x288 with 1 Axes>"
      ]
     },
     "metadata": {
      "needs_background": "light"
     },
     "output_type": "display_data"
    }
   ],
   "source": [
    "# Comparing Loyalty of Decile 1 customers vs other Deciles\n",
    "a=df.loc[df['Decile']==1]['Years_since_customer']\n",
    "plt.hist(a)"
   ]
  },
  {
   "cell_type": "code",
   "execution_count": 259,
   "metadata": {
    "slideshow": {
     "slide_type": "slide"
    }
   },
   "outputs": [
    {
     "data": {
      "text/plain": [
       "(array([7.560e+02, 6.810e+02, 3.223e+03, 1.859e+03, 5.320e+02, 1.850e+02,\n",
       "        3.500e+01, 3.000e+00, 0.000e+00, 1.000e+00]),\n",
       " array([ 2. , 11.2, 20.4, 29.6, 38.8, 48. , 57.2, 66.4, 75.6, 84.8, 94. ]),\n",
       " <a list of 10 Patch objects>)"
      ]
     },
     "execution_count": 259,
     "metadata": {},
     "output_type": "execute_result"
    },
    {
     "data": {
      "image/png": "[encoded data removed]",
      "text/plain": [
       "<Figure size 432x288 with 1 Axes>"
      ]
     },
     "metadata": {
      "needs_background": "light"
     },
     "output_type": "display_data"
    }
   ],
   "source": [
    "#Loyalty of customers with store who were not in First Decile\n",
    "b=df.loc[df['Decile']!=1]['Years_since_customer']\n",
    "plt.hist(b)"
   ]
  },
  {
   "cell_type": "markdown",
   "metadata": {
    "slideshow": {
     "slide_type": "slide"
    }
   },
   "source": [
    "# Product Wise Purchase Comparison per Decile "
   ]
  },
  {
   "cell_type": "code",
   "execution_count": 260,
   "metadata": {
    "slideshow": {
     "slide_type": "fragment"
    }
   },
   "outputs": [],
   "source": [
    "df1 = df[['Decile','Office Supplies_Y','Insurance_Y','Computer_Y','Monitor_Y','Toner_Y','Printer_Y', 'Desk_Y', 'Executive Chair_Y','Standard Chair_Y']]"
   ]
  },
  {
   "cell_type": "code",
   "execution_count": 261,
   "metadata": {
    "slideshow": {
     "slide_type": "fragment"
    }
   },
   "outputs": [],
   "source": [
    "g1 = df1.groupby('Decile', as_index=False).sum()"
   ]
  },
  {
   "cell_type": "code",
   "execution_count": 262,
   "metadata": {
    "slideshow": {
     "slide_type": "skip"
    }
   },
   "outputs": [
    {
     "name": "stdout",
     "output_type": "stream",
     "text": [
      "   Decile  Office Supplies_Y  Insurance_Y  Computer_Y  Monitor_Y  Toner_Y  \\\n",
      "0       1                336          172          85        112      121   \n",
      "1       2                700           77           4          6       44   \n",
      "2       3                630           95           6          5       56   \n",
      "3       4                574          108           2          4       51   \n",
      "4       5                635           74           0          5       46   \n",
      "5       6                455           96           2          1       37   \n",
      "6       7                454           77           0          0       37   \n",
      "7       8                652           82           0          0       35   \n",
      "8       9                737           71           1          0       39   \n",
      "9      10                739           98           2          0       70   \n",
      "\n",
      "   Printer_Y  Desk_Y  Executive Chair_Y  Standard Chair_Y  \n",
      "0        102      84                150                84  \n",
      "1         12      37                 56                 9  \n",
      "2         13      32                 50                 9  \n",
      "3          7      51                 58                 7  \n",
      "4          8      33                 39                 1  \n",
      "5          9      38                 57                 2  \n",
      "6          6      58                 54                 1  \n",
      "7          5      46                 24                 1  \n",
      "8          5      46                 35                 0  \n",
      "9         19      34                 50                 2  \n"
     ]
    }
   ],
   "source": [
    "print(g1)"
   ]
  },
  {
   "cell_type": "code",
   "execution_count": 263,
   "metadata": {
    "slideshow": {
     "slide_type": "skip"
    }
   },
   "outputs": [
    {
     "data": {
      "text/html": [
       "\n",
       "    <div class=\"bk-root\">\n",
       "        <a href=\"https://bokeh.pydata.org\" target=\"_blank\" class=\"bk-logo bk-logo-small bk-logo-notebook\"></a>\n",
       "        <span id=\"21573\">Loading BokehJS ...</span>\n",
       "    </div>"
      ]
     },
     "metadata": {},
     "output_type": "display_data"
    },
    {
     "data": {
      "application/javascript": [
       "\n",
       "(function(root) {\n",
       "  function now() {\n",
       "    return new Date();\n",
       "  }\n",
       "\n",
       "  var force = true;\n",
       "\n",
       "  if (typeof root._bokeh_onload_callbacks === \"undefined\" || force === true) {\n",
       "    root._bokeh_onload_callbacks = [];\n",
       "    root._bokeh_is_loading = undefined;\n",
       "  }\n",
       "\n",
       "  var JS_MIME_TYPE = 'application/javascript';\n",
       "  var HTML_MIME_TYPE = 'text/html';\n",
       "  var EXEC_MIME_TYPE = 'application/vnd.bokehjs_exec.v0+json';\n",
       "  var CLASS_NAME = 'output_bokeh rendered_html';\n",
       "\n",
       "  /**\n",
       "   * Render data to the DOM node\n",
       "   */\n",
       "  function render(props, node) {\n",
       "    var script = document.createElement(\"script\");\n",
       "    node.appendChild(script);\n",
       "  }\n",
       "\n",
       "  /**\n",
       "   * Handle when an output is cleared or removed\n",
       "   */\n",
       "  function handleClearOutput(event, handle) {\n",
       "    var cell = handle.cell;\n",
       "\n",
       "    var id = cell.output_area._bokeh_element_id;\n",
       "    var server_id = cell.output_area._bokeh_server_id;\n",
       "    // Clean up Bokeh references\n",
       "    if (id != null && id in Bokeh.index) {\n",
       "      Bokeh.index[id].model.document.clear();\n",
       "      delete Bokeh.index[id];\n",
       "    }\n",
       "\n",
       "    if (server_id !== undefined) {\n",
       "      // Clean up Bokeh references\n",
       "      var cmd = \"from bokeh.io.state import curstate; print(curstate().uuid_to_server['\" + server_id + \"'].get_sessions()[0].document.roots[0]._id)\";\n",
       "      cell.notebook.kernel.execute(cmd, {\n",
       "        iopub: {\n",
       "          output: function(msg) {\n",
       "            var id = msg.content.text.trim();\n",
       "            if (id in Bokeh.index) {\n",
       "              Bokeh.index[id].model.document.clear();\n",
       "              delete Bokeh.index[id];\n",
       "            }\n",
       "          }\n",
       "        }\n",
       "      });\n",
       "      // Destroy server and session\n",
       "      var cmd = \"import bokeh.io.notebook as ion; ion.destroy_server('\" + server_id + \"')\";\n",
       "      cell.notebook.kernel.execute(cmd);\n",
       "    }\n",
       "  }\n",
       "\n",
       "  /**\n",
       "   * Handle when a new output is added\n",
       "   */\n",
       "  function handleAddOutput(event, handle) {\n",
       "    var output_area = handle.output_area;\n",
       "    var output = handle.output;\n",
       "\n",
       "    // limit handleAddOutput to display_data with EXEC_MIME_TYPE content only\n",
       "    if ((output.output_type != \"display_data\") || (!output.data.hasOwnProperty(EXEC_MIME_TYPE))) {\n",
       "      return\n",
       "    }\n",
       "\n",
       "    var toinsert = output_area.element.find(\".\" + CLASS_NAME.split(' ')[0]);\n",
       "\n",
       "    if (output.metadata[EXEC_MIME_TYPE][\"id\"] !== undefined) {\n",
       "      toinsert[toinsert.length - 1].firstChild.textContent = output.data[JS_MIME_TYPE];\n",
       "      // store reference to embed id on output_area\n",
       "      output_area._bokeh_element_id = output.metadata[EXEC_MIME_TYPE][\"id\"];\n",
       "    }\n",
       "    if (output.metadata[EXEC_MIME_TYPE][\"server_id\"] !== undefined) {\n",
       "      var bk_div = document.createElement(\"div\");\n",
       "      bk_div.innerHTML = output.data[HTML_MIME_TYPE];\n",
       "      var script_attrs = bk_div.children[0].attributes;\n",
       "      for (var i = 0; i < script_attrs.length; i++) {\n",
       "        toinsert[toinsert.length - 1].firstChild.setAttribute(script_attrs[i].name, script_attrs[i].value);\n",
       "      }\n",
       "      // store reference to server id on output_area\n",
       "      output_area._bokeh_server_id = output.metadata[EXEC_MIME_TYPE][\"server_id\"];\n",
       "    }\n",
       "  }\n",
       "\n",
       "  function register_renderer(events, OutputArea) {\n",
       "\n",
       "    function append_mime(data, metadata, element) {\n",
       "      // create a DOM node to render to\n",
       "      var toinsert = this.create_output_subarea(\n",
       "        metadata,\n",
       "        CLASS_NAME,\n",
       "        EXEC_MIME_TYPE\n",
       "      );\n",
       "      this.keyboard_manager.register_events(toinsert);\n",
       "      // Render to node\n",
       "      var props = {data: data, metadata: metadata[EXEC_MIME_TYPE]};\n",
       "      render(props, toinsert[toinsert.length - 1]);\n",
       "      element.append(toinsert);\n",
       "      return toinsert\n",
       "    }\n",
       "\n",
       "    /* Handle when an output is cleared or removed */\n",
       "    events.on('clear_output.CodeCell', handleClearOutput);\n",
       "    events.on('delete.Cell', handleClearOutput);\n",
       "\n",
       "    /* Handle when a new output is added */\n",
       "    events.on('output_added.OutputArea', handleAddOutput);\n",
       "\n",
       "    /**\n",
       "     * Register the mime type and append_mime function with output_area\n",
       "     */\n",
       "    OutputArea.prototype.register_mime_type(EXEC_MIME_TYPE, append_mime, {\n",
       "      /* Is output safe? */\n",
       "      safe: true,\n",
       "      /* Index of renderer in `output_area.display_order` */\n",
       "      index: 0\n",
       "    });\n",
       "  }\n",
       "\n",
       "  // register the mime type if in Jupyter Notebook environment and previously unregistered\n",
       "  if (root.Jupyter !== undefined) {\n",
       "    var events = require('base/js/events');\n",
       "    var OutputArea = require('notebook/js/outputarea').OutputArea;\n",
       "\n",
       "    if (OutputArea.prototype.mime_types().indexOf(EXEC_MIME_TYPE) == -1) {\n",
       "      register_renderer(events, OutputArea);\n",
       "    }\n",
       "  }\n",
       "\n",
       "  \n",
       "  if (typeof (root._bokeh_timeout) === \"undefined\" || force === true) {\n",
       "    root._bokeh_timeout = Date.now() + 5000;\n",
       "    root._bokeh_failed_load = false;\n",
       "  }\n",
       "\n",
       "  var NB_LOAD_WARNING = {'data': {'text/html':\n",
       "     \"<div style='background-color: #fdd'>\\n\"+\n",
       "     \"<p>\\n\"+\n",
       "     \"BokehJS does not appear to have successfully loaded. If loading BokehJS from CDN, this \\n\"+\n",
       "     \"may be due to a slow or bad network connection. Possible fixes:\\n\"+\n",
       "     \"</p>\\n\"+\n",
       "     \"<ul>\\n\"+\n",
       "     \"<li>re-rerun `output_notebook()` to attempt to load from CDN again, or</li>\\n\"+\n",
       "     \"<li>use INLINE resources instead, as so:</li>\\n\"+\n",
       "     \"</ul>\\n\"+\n",
       "     \"<code>\\n\"+\n",
       "     \"from bokeh.resources import INLINE\\n\"+\n",
       "     \"output_notebook(resources=INLINE)\\n\"+\n",
       "     \"</code>\\n\"+\n",
       "     \"</div>\"}};\n",
       "\n",
       "  function display_loaded() {\n",
       "    var el = document.getElementById(\"21573\");\n",
       "    if (el != null) {\n",
       "      el.textContent = \"BokehJS is loading...\";\n",
       "    }\n",
       "    if (root.Bokeh !== undefined) {\n",
       "      if (el != null) {\n",
       "        el.textContent = \"BokehJS \" + root.Bokeh.version + \" successfully loaded.\";\n",
       "      }\n",
       "    } else if (Date.now() < root._bokeh_timeout) {\n",
       "      setTimeout(display_loaded, 100)\n",
       "    }\n",
       "  }\n",
       "\n",
       "\n",
       "  function run_callbacks() {\n",
       "    try {\n",
       "      root._bokeh_onload_callbacks.forEach(function(callback) {\n",
       "        if (callback != null)\n",
       "          callback();\n",
       "      });\n",
       "    } finally {\n",
       "      delete root._bokeh_onload_callbacks\n",
       "    }\n",
       "    console.debug(\"Bokeh: all callbacks have finished\");\n",
       "  }\n",
       "\n",
       "  function load_libs(css_urls, js_urls, callback) {\n",
       "    if (css_urls == null) css_urls = [];\n",
       "    if (js_urls == null) js_urls = [];\n",
       "\n",
       "    root._bokeh_onload_callbacks.push(callback);\n",
       "    if (root._bokeh_is_loading > 0) {\n",
       "      console.debug(\"Bokeh: BokehJS is being loaded, scheduling callback at\", now());\n",
       "      return null;\n",
       "    }\n",
       "    if (js_urls == null || js_urls.length === 0) {\n",
       "      run_callbacks();\n",
       "      return null;\n",
       "    }\n",
       "    console.debug(\"Bokeh: BokehJS not loaded, scheduling load and callback at\", now());\n",
       "    root._bokeh_is_loading = css_urls.length + js_urls.length;\n",
       "\n",
       "    function on_load() {\n",
       "      root._bokeh_is_loading--;\n",
       "      if (root._bokeh_is_loading === 0) {\n",
       "        console.debug(\"Bokeh: all BokehJS libraries/stylesheets loaded\");\n",
       "        run_callbacks()\n",
       "      }\n",
       "    }\n",
       "\n",
       "    function on_error() {\n",
       "      console.error(\"failed to load \" + url);\n",
       "    }\n",
       "\n",
       "    for (var i = 0; i < css_urls.length; i++) {\n",
       "      var url = css_urls[i];\n",
       "      const element = document.createElement(\"link\");\n",
       "      element.onload = on_load;\n",
       "      element.onerror = on_error;\n",
       "      element.rel = \"stylesheet\";\n",
       "      element.type = \"text/css\";\n",
       "      element.href = url;\n",
       "      console.debug(\"Bokeh: injecting link tag for BokehJS stylesheet: \", url);\n",
       "      document.body.appendChild(element);\n",
       "    }\n",
       "\n",
       "    for (var i = 0; i < js_urls.length; i++) {\n",
       "      var url = js_urls[i];\n",
       "      var element = document.createElement('script');\n",
       "      element.onload = on_load;\n",
       "      element.onerror = on_error;\n",
       "      element.async = false;\n",
       "      element.src = url;\n",
       "      console.debug(\"Bokeh: injecting script tag for BokehJS library: \", url);\n",
       "      document.head.appendChild(element);\n",
       "    }\n",
       "  };var element = document.getElementById(\"21573\");\n",
       "  if (element == null) {\n",
       "    console.error(\"Bokeh: ERROR: autoload.js configured with elementid '21573' but no matching script tag was found. \")\n",
       "    return false;\n",
       "  }\n",
       "\n",
       "  function inject_raw_css(css) {\n",
       "    const element = document.createElement(\"style\");\n",
       "    element.appendChild(document.createTextNode(css));\n",
       "    document.body.appendChild(element);\n",
       "  }\n",
       "\n",
       "  var js_urls = [\"https://cdn.pydata.org/bokeh/release/bokeh-1.3.4.min.js\", \"https://cdn.pydata.org/bokeh/release/bokeh-widgets-1.3.4.min.js\", \"https://cdn.pydata.org/bokeh/release/bokeh-tables-1.3.4.min.js\", \"https://cdn.pydata.org/bokeh/release/bokeh-gl-1.3.4.min.js\"];\n",
       "  var css_urls = [];\n",
       "\n",
       "  var inline_js = [\n",
       "    function(Bokeh) {\n",
       "      Bokeh.set_log_level(\"info\");\n",
       "    },\n",
       "    \n",
       "    function(Bokeh) {\n",
       "      \n",
       "    },\n",
       "    function(Bokeh) {} // ensure no trailing comma for IE\n",
       "  ];\n",
       "\n",
       "  function run_inline_js() {\n",
       "    \n",
       "    if ((root.Bokeh !== undefined) || (force === true)) {\n",
       "      for (var i = 0; i < inline_js.length; i++) {\n",
       "        inline_js[i].call(root, root.Bokeh);\n",
       "      }if (force === true) {\n",
       "        display_loaded();\n",
       "      }} else if (Date.now() < root._bokeh_timeout) {\n",
       "      setTimeout(run_inline_js, 100);\n",
       "    } else if (!root._bokeh_failed_load) {\n",
       "      console.log(\"Bokeh: BokehJS failed to load within specified timeout.\");\n",
       "      root._bokeh_failed_load = true;\n",
       "    } else if (force !== true) {\n",
       "      var cell = $(document.getElementById(\"21573\")).parents('.cell').data().cell;\n",
       "      cell.output_area.append_execute_result(NB_LOAD_WARNING)\n",
       "    }\n",
       "\n",
       "  }\n",
       "\n",
       "  if (root._bokeh_is_loading === 0) {\n",
       "    console.debug(\"Bokeh: BokehJS loaded, going straight to plotting\");\n",
       "    run_inline_js();\n",
       "  } else {\n",
       "    load_libs(css_urls, js_urls, function() {\n",
       "      console.debug(\"Bokeh: BokehJS plotting callback run at\", now());\n",
       "      run_inline_js();\n",
       "    });\n",
       "  }\n",
       "}(window));"
      ],
      "application/vnd.bokehjs_load.v0+json": "\n(function(root) {\n  function now() {\n    return new Date();\n  }\n\n  var force = true;\n\n  if (typeof root._bokeh_onload_callbacks === \"undefined\" || force === true) {\n    root._bokeh_onload_callbacks = [];\n    root._bokeh_is_loading = undefined;\n  }\n\n  \n\n  \n  if (typeof (root._bokeh_timeout) === \"undefined\" || force === true) {\n    root._bokeh_timeout = Date.now() + 5000;\n    root._bokeh_failed_load = false;\n  }\n\n  var NB_LOAD_WARNING = {'data': {'text/html':\n     \"<div style='background-color: #fdd'>\\n\"+\n     \"<p>\\n\"+\n     \"BokehJS does not appear to have successfully loaded. If loading BokehJS from CDN, this \\n\"+\n     \"may be due to a slow or bad network connection. Possible fixes:\\n\"+\n     \"</p>\\n\"+\n     \"<ul>\\n\"+\n     \"<li>re-rerun `output_notebook()` to attempt to load from CDN again, or</li>\\n\"+\n     \"<li>use INLINE resources instead, as so:</li>\\n\"+\n     \"</ul>\\n\"+\n     \"<code>\\n\"+\n     \"from bokeh.resources import INLINE\\n\"+\n     \"output_notebook(resources=INLINE)\\n\"+\n     \"</code>\\n\"+\n     \"</div>\"}};\n\n  function display_loaded() {\n    var el = document.getElementById(\"21573\");\n    if (el != null) {\n      el.textContent = \"BokehJS is loading...\";\n    }\n    if (root.Bokeh !== undefined) {\n      if (el != null) {\n        el.textContent = \"BokehJS \" + root.Bokeh.version + \" successfully loaded.\";\n      }\n    } else if (Date.now() < root._bokeh_timeout) {\n      setTimeout(display_loaded, 100)\n    }\n  }\n\n\n  function run_callbacks() {\n    try {\n      root._bokeh_onload_callbacks.forEach(function(callback) {\n        if (callback != null)\n          callback();\n      });\n    } finally {\n      delete root._bokeh_onload_callbacks\n    }\n    console.debug(\"Bokeh: all callbacks have finished\");\n  }\n\n  function load_libs(css_urls, js_urls, callback) {\n    if (css_urls == null) css_urls = [];\n    if (js_urls == null) js_urls = [];\n\n    root._bokeh_onload_callbacks.push(callback);\n    if (root._bokeh_is_loading > 0) {\n      console.debug(\"Bokeh: BokehJS is being loaded, scheduling callback at\", now());\n      return null;\n    }\n    if (js_urls == null || js_urls.length === 0) {\n      run_callbacks();\n      return null;\n    }\n    console.debug(\"Bokeh: BokehJS not loaded, scheduling load and callback at\", now());\n    root._bokeh_is_loading = css_urls.length + js_urls.length;\n\n    function on_load() {\n      root._bokeh_is_loading--;\n      if (root._bokeh_is_loading === 0) {\n        console.debug(\"Bokeh: all BokehJS libraries/stylesheets loaded\");\n        run_callbacks()\n      }\n    }\n\n    function on_error() {\n      console.error(\"failed to load \" + url);\n    }\n\n    for (var i = 0; i < css_urls.length; i++) {\n      var url = css_urls[i];\n      const element = document.createElement(\"link\");\n      element.onload = on_load;\n      element.onerror = on_error;\n      element.rel = \"stylesheet\";\n      element.type = \"text/css\";\n      element.href = url;\n      console.debug(\"Bokeh: injecting link tag for BokehJS stylesheet: \", url);\n      document.body.appendChild(element);\n    }\n\n    for (var i = 0; i < js_urls.length; i++) {\n      var url = js_urls[i];\n      var element = document.createElement('script');\n      element.onload = on_load;\n      element.onerror = on_error;\n      element.async = false;\n      element.src = url;\n      console.debug(\"Bokeh: injecting script tag for BokehJS library: \", url);\n      document.head.appendChild(element);\n    }\n  };var element = document.getElementById(\"21573\");\n  if (element == null) {\n    console.error(\"Bokeh: ERROR: autoload.js configured with elementid '21573' but no matching script tag was found. \")\n    return false;\n  }\n\n  function inject_raw_css(css) {\n    const element = document.createElement(\"style\");\n    element.appendChild(document.createTextNode(css));\n    document.body.appendChild(element);\n  }\n\n  var js_urls = [\"https://cdn.pydata.org/bokeh/release/bokeh-1.3.4.min.js\", \"https://cdn.pydata.org/bokeh/release/bokeh-widgets-1.3.4.min.js\", \"https://cdn.pydata.org/bokeh/release/bokeh-tables-1.3.4.min.js\", \"https://cdn.pydata.org/bokeh/release/bokeh-gl-1.3.4.min.js\"];\n  var css_urls = [];\n\n  var inline_js = [\n    function(Bokeh) {\n      Bokeh.set_log_level(\"info\");\n    },\n    \n    function(Bokeh) {\n      \n    },\n    function(Bokeh) {} // ensure no trailing comma for IE\n  ];\n\n  function run_inline_js() {\n    \n    if ((root.Bokeh !== undefined) || (force === true)) {\n      for (var i = 0; i < inline_js.length; i++) {\n        inline_js[i].call(root, root.Bokeh);\n      }if (force === true) {\n        display_loaded();\n      }} else if (Date.now() < root._bokeh_timeout) {\n      setTimeout(run_inline_js, 100);\n    } else if (!root._bokeh_failed_load) {\n      console.log(\"Bokeh: BokehJS failed to load within specified timeout.\");\n      root._bokeh_failed_load = true;\n    } else if (force !== true) {\n      var cell = $(document.getElementById(\"21573\")).parents('.cell').data().cell;\n      cell.output_area.append_execute_result(NB_LOAD_WARNING)\n    }\n\n  }\n\n  if (root._bokeh_is_loading === 0) {\n    console.debug(\"Bokeh: BokehJS loaded, going straight to plotting\");\n    run_inline_js();\n  } else {\n    load_libs(css_urls, js_urls, function() {\n      console.debug(\"Bokeh: BokehJS plotting callback run at\", now());\n      run_inline_js();\n    });\n  }\n}(window));"
     },
     "metadata": {},
     "output_type": "display_data"
    }
   ],
   "source": [
    "bokeh.io.reset_output()\n",
    "bokeh.io.output_notebook()"
   ]
  },
  {
   "cell_type": "code",
   "execution_count": 264,
   "metadata": {
    "slideshow": {
     "slide_type": "fragment"
    }
   },
   "outputs": [],
   "source": [
    "#convert datetimes to strings\n",
    "g1['Decile'] = g1['Decile'].apply(str)\n",
    "#convert dataframe to dict\n",
    "data = g1.to_dict(orient='list')\n",
    "dates = g1['Decile'].tolist()"
   ]
  },
  {
   "cell_type": "code",
   "execution_count": 204,
   "metadata": {
    "slideshow": {
     "slide_type": "slide"
    }
   },
   "outputs": [
    {
     "data": {
      "text/html": [
       "\n",
       "\n",
       "\n",
       "\n",
       "\n",
       "\n",
       "  <div class=\"bk-root\" id=\"c9b20691-1115-46d3-a5d5-9ee939b70661\" data-root-id=\"17052\"></div>\n"
      ]
     },
     "metadata": {},
     "output_type": "display_data"
    },
    {
     "data": {
      "application/javascript": [
       "(function(root) {\n",
       "  function embed_document(root) {\n",
       "    \n",
       "  var docs_json = {\"a8c8a675-2141-4036-8f66-3ad6d78785aa\":{\"roots\":{\"references\":[{\"attributes\":{\"below\":[{\"id\":\"17063\",\"type\":\"CategoricalAxis\"}],\"center\":[{\"id\":\"17066\",\"type\":\"Grid\"},{\"id\":\"17071\",\"type\":\"Grid\"}],\"left\":[{\"id\":\"17067\",\"type\":\"LinearAxis\"}],\"plot_height\":250,\"renderers\":[{\"id\":\"17077\",\"type\":\"GlyphRenderer\"}],\"title\":{\"id\":\"17053\",\"type\":\"Title\"},\"toolbar\":{\"id\":\"17072\",\"type\":\"Toolbar\"},\"toolbar_location\":null,\"x_range\":{\"id\":\"17055\",\"type\":\"FactorRange\"},\"x_scale\":{\"id\":\"17059\",\"type\":\"CategoricalScale\"},\"y_range\":{\"id\":\"17057\",\"type\":\"Range1d\"},\"y_scale\":{\"id\":\"17061\",\"type\":\"LinearScale\"}},\"id\":\"17052\",\"subtype\":\"Figure\",\"type\":\"Plot\"},{\"attributes\":{\"text\":\"Decile Wise Office Supplies Purchase\"},\"id\":\"17053\",\"type\":\"Title\"},{\"attributes\":{},\"id\":\"17084\",\"type\":\"BasicTickFormatter\"},{\"attributes\":{\"source\":{\"id\":\"17051\",\"type\":\"ColumnDataSource\"}},\"id\":\"17078\",\"type\":\"CDSView\"},{\"attributes\":{\"active_drag\":\"auto\",\"active_inspect\":\"auto\",\"active_multi\":null,\"active_scroll\":\"auto\",\"active_tap\":\"auto\",\"tools\":[{\"id\":\"17079\",\"type\":\"HoverTool\"}]},\"id\":\"17072\",\"type\":\"Toolbar\"},{\"attributes\":{\"grid_line_color\":null,\"ticker\":{\"id\":\"17064\",\"type\":\"CategoricalTicker\"}},\"id\":\"17066\",\"type\":\"Grid\"},{\"attributes\":{\"callback\":null,\"end\":989},\"id\":\"17057\",\"type\":\"Range1d\"},{\"attributes\":{},\"id\":\"17082\",\"type\":\"CategoricalTickFormatter\"},{\"attributes\":{\"callback\":null,\"factors\":[\"1\",\"2\",\"3\",\"4\",\"5\",\"6\",\"7\",\"8\",\"9\",\"10\"],\"range_padding\":0.1},\"id\":\"17055\",\"type\":\"FactorRange\"},{\"attributes\":{\"fill_alpha\":{\"value\":0.1},\"fill_color\":{\"value\":\"#1f77b4\"},\"line_alpha\":{\"value\":0.1},\"line_color\":{\"value\":\"#1f77b4\"},\"top\":{\"field\":\"Office Supplies_Y\"},\"width\":{\"value\":0.4},\"x\":{\"field\":\"Decile\",\"transform\":{\"id\":\"17073\",\"type\":\"Dodge\"}}},\"id\":\"17076\",\"type\":\"VBar\"},{\"attributes\":{},\"id\":\"17087\",\"type\":\"UnionRenderers\"},{\"attributes\":{},\"id\":\"17086\",\"type\":\"Selection\"},{\"attributes\":{},\"id\":\"17059\",\"type\":\"CategoricalScale\"},{\"attributes\":{\"data_source\":{\"id\":\"17051\",\"type\":\"ColumnDataSource\"},\"glyph\":{\"id\":\"17075\",\"type\":\"VBar\"},\"hover_glyph\":null,\"muted_glyph\":null,\"nonselection_glyph\":{\"id\":\"17076\",\"type\":\"VBar\"},\"selection_glyph\":null,\"view\":{\"id\":\"17078\",\"type\":\"CDSView\"}},\"id\":\"17077\",\"type\":\"GlyphRenderer\"},{\"attributes\":{\"callback\":null,\"tooltips\":[[\"Office Supplies\",\"$y{int}\"]]},\"id\":\"17079\",\"type\":\"HoverTool\"},{\"attributes\":{\"formatter\":{\"id\":\"17084\",\"type\":\"BasicTickFormatter\"},\"ticker\":{\"id\":\"17068\",\"type\":\"BasicTicker\"}},\"id\":\"17067\",\"type\":\"LinearAxis\"},{\"attributes\":{},\"id\":\"17061\",\"type\":\"LinearScale\"},{\"attributes\":{\"callback\":null,\"data\":{\"Computer_Y\":[85,4,6,2,0,2,0,0,1,2],\"Decile\":[\"1\",\"2\",\"3\",\"4\",\"5\",\"6\",\"7\",\"8\",\"9\",\"10\"],\"Desk_Y\":[84,37,32,51,33,38,58,46,46,34],\"Executive Chair_Y\":[150,56,50,58,39,57,54,24,35,50],\"Insurance_Y\":[172,77,95,108,74,96,77,82,71,98],\"Monitor_Y\":[112,6,5,4,5,1,0,0,0,0],\"Office Supplies_Y\":[336,700,630,574,635,455,454,652,737,739],\"Printer_Y\":[102,12,13,7,8,9,6,5,5,19],\"Standard Chair_Y\":[84,9,9,7,1,2,1,1,0,2],\"Toner_Y\":[121,44,56,51,46,37,37,35,39,70]},\"selected\":{\"id\":\"17086\",\"type\":\"Selection\"},\"selection_policy\":{\"id\":\"17087\",\"type\":\"UnionRenderers\"}},\"id\":\"17051\",\"type\":\"ColumnDataSource\"},{\"attributes\":{\"fill_color\":{\"value\":\"#c9d9d3\"},\"line_color\":{\"value\":\"#c9d9d3\"},\"top\":{\"field\":\"Office Supplies_Y\"},\"width\":{\"value\":0.4},\"x\":{\"field\":\"Decile\",\"transform\":{\"id\":\"17073\",\"type\":\"Dodge\"}}},\"id\":\"17075\",\"type\":\"VBar\"},{\"attributes\":{\"dimension\":1,\"ticker\":{\"id\":\"17068\",\"type\":\"BasicTicker\"}},\"id\":\"17071\",\"type\":\"Grid\"},{\"attributes\":{\"formatter\":{\"id\":\"17082\",\"type\":\"CategoricalTickFormatter\"},\"ticker\":{\"id\":\"17064\",\"type\":\"CategoricalTicker\"}},\"id\":\"17063\",\"type\":\"CategoricalAxis\"},{\"attributes\":{\"range\":{\"id\":\"17055\",\"type\":\"FactorRange\"}},\"id\":\"17073\",\"type\":\"Dodge\"},{\"attributes\":{},\"id\":\"17068\",\"type\":\"BasicTicker\"},{\"attributes\":{},\"id\":\"17064\",\"type\":\"CategoricalTicker\"}],\"root_ids\":[\"17052\"]},\"title\":\"Bokeh Application\",\"version\":\"1.3.4\"}};\n",
       "  var render_items = [{\"docid\":\"a8c8a675-2141-4036-8f66-3ad6d78785aa\",\"roots\":{\"17052\":\"c9b20691-1115-46d3-a5d5-9ee939b70661\"}}];\n",
       "  root.Bokeh.embed.embed_items_notebook(docs_json, render_items);\n",
       "\n",
       "  }\n",
       "  if (root.Bokeh !== undefined) {\n",
       "    embed_document(root);\n",
       "  } else {\n",
       "    var attempts = 0;\n",
       "    var timer = setInterval(function(root) {\n",
       "      if (root.Bokeh !== undefined) {\n",
       "        embed_document(root);\n",
       "        clearInterval(timer);\n",
       "      }\n",
       "      attempts++;\n",
       "      if (attempts > 100) {\n",
       "        console.log(\"Bokeh: ERROR: Unable to run BokehJS code because BokehJS library is missing\");\n",
       "        clearInterval(timer);\n",
       "      }\n",
       "    }, 10, root)\n",
       "  }\n",
       "})(window);"
      ],
      "application/vnd.bokehjs_exec.v0+json": ""
     },
     "metadata": {
      "application/vnd.bokehjs_exec.v0+json": {
       "id": "17052"
      }
     },
     "output_type": "display_data"
    }
   ],
   "source": [
    "from bokeh.core.properties import value\n",
    "from bokeh.transform import dodge\n",
    "source = ColumnDataSource(data=data)\n",
    "p = figure(x_range=dates, y_range=(0, g1[['Office Supplies_Y']].values.max() + 250), plot_height=250, title=\"Decile Wise Office Supplies Purchase\",\n",
    "           toolbar_location=None, tools=\"\")\n",
    "\n",
    "p.vbar(x=dodge('Decile', 0, range=p.x_range), top='Office Supplies_Y', width=0.4, source=source, color=\"#c9d9d3\")\n",
    "\n",
    "p.add_tools(HoverTool(tooltips=[(\"Office Supplies\", \"$y{int}\")]))\n",
    "p.x_range.range_padding = 0.1\n",
    "p.xgrid.grid_line_color = None\n",
    "p.legend.location = \"top_left\"\n",
    "p.legend.orientation = \"horizontal\"\n",
    "show(p)"
   ]
  },
  {
   "cell_type": "code",
   "execution_count": 205,
   "metadata": {
    "slideshow": {
     "slide_type": "slide"
    }
   },
   "outputs": [
    {
     "data": {
      "text/html": [
       "\n",
       "\n",
       "\n",
       "\n",
       "\n",
       "\n",
       "  <div class=\"bk-root\" id=\"c03a8683-46e0-4a2e-ae60-f629e4c412de\" data-root-id=\"17131\"></div>\n"
      ]
     },
     "metadata": {},
     "output_type": "display_data"
    },
    {
     "data": {
      "application/javascript": [
       "(function(root) {\n",
       "  function embed_document(root) {\n",
       "    \n",
       "  var docs_json = {\"44ee9a56-6218-4c03-81c9-b683f1655181\":{\"roots\":{\"references\":[{\"attributes\":{\"below\":[{\"id\":\"17142\",\"type\":\"CategoricalAxis\"}],\"center\":[{\"id\":\"17145\",\"type\":\"Grid\"},{\"id\":\"17150\",\"type\":\"Grid\"}],\"left\":[{\"id\":\"17146\",\"type\":\"LinearAxis\"}],\"plot_height\":250,\"renderers\":[{\"id\":\"17156\",\"type\":\"GlyphRenderer\"}],\"title\":{\"id\":\"17132\",\"type\":\"Title\"},\"toolbar\":{\"id\":\"17151\",\"type\":\"Toolbar\"},\"toolbar_location\":null,\"x_range\":{\"id\":\"17134\",\"type\":\"FactorRange\"},\"x_scale\":{\"id\":\"17138\",\"type\":\"CategoricalScale\"},\"y_range\":{\"id\":\"17136\",\"type\":\"Range1d\"},\"y_scale\":{\"id\":\"17140\",\"type\":\"LinearScale\"}},\"id\":\"17131\",\"subtype\":\"Figure\",\"type\":\"Plot\"},{\"attributes\":{\"callback\":null,\"factors\":[\"1\",\"2\",\"3\",\"4\",\"5\",\"6\",\"7\",\"8\",\"9\",\"10\"],\"range_padding\":0.1},\"id\":\"17134\",\"type\":\"FactorRange\"},{\"attributes\":{},\"id\":\"17140\",\"type\":\"LinearScale\"},{\"attributes\":{\"dimension\":1,\"ticker\":{\"id\":\"17147\",\"type\":\"BasicTicker\"}},\"id\":\"17150\",\"type\":\"Grid\"},{\"attributes\":{\"fill_alpha\":{\"value\":0.1},\"fill_color\":{\"value\":\"#1f77b4\"},\"line_alpha\":{\"value\":0.1},\"line_color\":{\"value\":\"#1f77b4\"},\"top\":{\"field\":\"Insurance_Y\"},\"width\":{\"value\":0.4},\"x\":{\"field\":\"Decile\",\"transform\":{\"id\":\"17152\",\"type\":\"Dodge\"}}},\"id\":\"17155\",\"type\":\"VBar\"},{\"attributes\":{\"callback\":null,\"data\":{\"Computer_Y\":[85,4,6,2,0,2,0,0,1,2],\"Decile\":[\"1\",\"2\",\"3\",\"4\",\"5\",\"6\",\"7\",\"8\",\"9\",\"10\"],\"Desk_Y\":[84,37,32,51,33,38,58,46,46,34],\"Executive Chair_Y\":[150,56,50,58,39,57,54,24,35,50],\"Insurance_Y\":[172,77,95,108,74,96,77,82,71,98],\"Monitor_Y\":[112,6,5,4,5,1,0,0,0,0],\"Office Supplies_Y\":[336,700,630,574,635,455,454,652,737,739],\"Printer_Y\":[102,12,13,7,8,9,6,5,5,19],\"Standard Chair_Y\":[84,9,9,7,1,2,1,1,0,2],\"Toner_Y\":[121,44,56,51,46,37,37,35,39,70]},\"selected\":{\"id\":\"17172\",\"type\":\"Selection\"},\"selection_policy\":{\"id\":\"17173\",\"type\":\"UnionRenderers\"}},\"id\":\"17130\",\"type\":\"ColumnDataSource\"},{\"attributes\":{},\"id\":\"17172\",\"type\":\"Selection\"},{\"attributes\":{\"text\":\"Decile Wise Insurance Purchase\"},\"id\":\"17132\",\"type\":\"Title\"},{\"attributes\":{\"fill_color\":{\"value\":\"#718dbf\"},\"line_color\":{\"value\":\"#718dbf\"},\"top\":{\"field\":\"Insurance_Y\"},\"width\":{\"value\":0.4},\"x\":{\"field\":\"Decile\",\"transform\":{\"id\":\"17152\",\"type\":\"Dodge\"}}},\"id\":\"17154\",\"type\":\"VBar\"},{\"attributes\":{\"callback\":null,\"tooltips\":[[\"Insurance\",\"$y{int}\"]]},\"id\":\"17158\",\"type\":\"HoverTool\"},{\"attributes\":{\"source\":{\"id\":\"17130\",\"type\":\"ColumnDataSource\"}},\"id\":\"17157\",\"type\":\"CDSView\"},{\"attributes\":{\"formatter\":{\"id\":\"17168\",\"type\":\"CategoricalTickFormatter\"},\"ticker\":{\"id\":\"17143\",\"type\":\"CategoricalTicker\"}},\"id\":\"17142\",\"type\":\"CategoricalAxis\"},{\"attributes\":{},\"id\":\"17170\",\"type\":\"BasicTickFormatter\"},{\"attributes\":{},\"id\":\"17147\",\"type\":\"BasicTicker\"},{\"attributes\":{\"data_source\":{\"id\":\"17130\",\"type\":\"ColumnDataSource\"},\"glyph\":{\"id\":\"17154\",\"type\":\"VBar\"},\"hover_glyph\":null,\"muted_glyph\":null,\"nonselection_glyph\":{\"id\":\"17155\",\"type\":\"VBar\"},\"selection_glyph\":null,\"view\":{\"id\":\"17157\",\"type\":\"CDSView\"}},\"id\":\"17156\",\"type\":\"GlyphRenderer\"},{\"attributes\":{\"grid_line_color\":null,\"ticker\":{\"id\":\"17143\",\"type\":\"CategoricalTicker\"}},\"id\":\"17145\",\"type\":\"Grid\"},{\"attributes\":{},\"id\":\"17173\",\"type\":\"UnionRenderers\"},{\"attributes\":{\"active_drag\":\"auto\",\"active_inspect\":\"auto\",\"active_multi\":null,\"active_scroll\":\"auto\",\"active_tap\":\"auto\",\"tools\":[{\"id\":\"17158\",\"type\":\"HoverTool\"}]},\"id\":\"17151\",\"type\":\"Toolbar\"},{\"attributes\":{\"range\":{\"id\":\"17134\",\"type\":\"FactorRange\"}},\"id\":\"17152\",\"type\":\"Dodge\"},{\"attributes\":{\"callback\":null,\"end\":177},\"id\":\"17136\",\"type\":\"Range1d\"},{\"attributes\":{},\"id\":\"17168\",\"type\":\"CategoricalTickFormatter\"},{\"attributes\":{\"formatter\":{\"id\":\"17170\",\"type\":\"BasicTickFormatter\"},\"ticker\":{\"id\":\"17147\",\"type\":\"BasicTicker\"}},\"id\":\"17146\",\"type\":\"LinearAxis\"},{\"attributes\":{},\"id\":\"17143\",\"type\":\"CategoricalTicker\"},{\"attributes\":{},\"id\":\"17138\",\"type\":\"CategoricalScale\"}],\"root_ids\":[\"17131\"]},\"title\":\"Bokeh Application\",\"version\":\"1.3.4\"}};\n",
       "  var render_items = [{\"docid\":\"44ee9a56-6218-4c03-81c9-b683f1655181\",\"roots\":{\"17131\":\"c03a8683-46e0-4a2e-ae60-f629e4c412de\"}}];\n",
       "  root.Bokeh.embed.embed_items_notebook(docs_json, render_items);\n",
       "\n",
       "  }\n",
       "  if (root.Bokeh !== undefined) {\n",
       "    embed_document(root);\n",
       "  } else {\n",
       "    var attempts = 0;\n",
       "    var timer = setInterval(function(root) {\n",
       "      if (root.Bokeh !== undefined) {\n",
       "        embed_document(root);\n",
       "        clearInterval(timer);\n",
       "      }\n",
       "      attempts++;\n",
       "      if (attempts > 100) {\n",
       "        console.log(\"Bokeh: ERROR: Unable to run BokehJS code because BokehJS library is missing\");\n",
       "        clearInterval(timer);\n",
       "      }\n",
       "    }, 10, root)\n",
       "  }\n",
       "})(window);"
      ],
      "application/vnd.bokehjs_exec.v0+json": ""
     },
     "metadata": {
      "application/vnd.bokehjs_exec.v0+json": {
       "id": "17131"
      }
     },
     "output_type": "display_data"
    }
   ],
   "source": [
    "source = ColumnDataSource(data=data)\n",
    "p = figure(x_range=dates, y_range=(0, g1[['Insurance_Y']].values.max() + 5), \n",
    "           plot_height=250, title=\"Decile Wise Insurance Purchase\", toolbar_location=None, tools=\"\")\n",
    "\n",
    "p.vbar(x=dodge('Decile', 0, range=p.x_range), top='Insurance_Y', width=0.4, source=source, color=\"#718dbf\")\n",
    "\n",
    "p.add_tools(HoverTool(tooltips=[('Insurance', \"$y{int}\")]))\n",
    "p.x_range.range_padding = 0.1\n",
    "p.xgrid.grid_line_color = None\n",
    "p.legend.location = \"top_left\"\n",
    "p.legend.orientation = \"horizontal\"\n",
    "show(p)"
   ]
  },
  {
   "cell_type": "code",
   "execution_count": 206,
   "metadata": {
    "slideshow": {
     "slide_type": "slide"
    }
   },
   "outputs": [
    {
     "data": {
      "text/html": [
       "\n",
       "\n",
       "\n",
       "\n",
       "\n",
       "\n",
       "  <div class=\"bk-root\" id=\"27cb9c5b-2e1a-4a3b-b71e-ab36da13e31e\" data-root-id=\"17217\"></div>\n"
      ]
     },
     "metadata": {},
     "output_type": "display_data"
    },
    {
     "data": {
      "application/javascript": [
       "(function(root) {\n",
       "  function embed_document(root) {\n",
       "    \n",
       "  var docs_json = {\"588e3c61-9c7d-4ed7-98bc-2268c860eb03\":{\"roots\":{\"references\":[{\"attributes\":{\"below\":[{\"id\":\"17228\",\"type\":\"CategoricalAxis\"}],\"center\":[{\"id\":\"17231\",\"type\":\"Grid\"},{\"id\":\"17236\",\"type\":\"Grid\"}],\"left\":[{\"id\":\"17232\",\"type\":\"LinearAxis\"}],\"plot_height\":250,\"renderers\":[{\"id\":\"17242\",\"type\":\"GlyphRenderer\"}],\"title\":{\"id\":\"17218\",\"type\":\"Title\"},\"toolbar\":{\"id\":\"17237\",\"type\":\"Toolbar\"},\"toolbar_location\":null,\"x_range\":{\"id\":\"17220\",\"type\":\"FactorRange\"},\"x_scale\":{\"id\":\"17224\",\"type\":\"CategoricalScale\"},\"y_range\":{\"id\":\"17222\",\"type\":\"Range1d\"},\"y_scale\":{\"id\":\"17226\",\"type\":\"LinearScale\"}},\"id\":\"17217\",\"subtype\":\"Figure\",\"type\":\"Plot\"},{\"attributes\":{\"text\":\"Decile Wise Computer Purchase\"},\"id\":\"17218\",\"type\":\"Title\"},{\"attributes\":{\"active_drag\":\"auto\",\"active_inspect\":\"auto\",\"active_multi\":null,\"active_scroll\":\"auto\",\"active_tap\":\"auto\",\"tools\":[{\"id\":\"17244\",\"type\":\"HoverTool\"}]},\"id\":\"17237\",\"type\":\"Toolbar\"},{\"attributes\":{\"fill_color\":{\"value\":\"#718dbf\"},\"line_color\":{\"value\":\"#718dbf\"},\"top\":{\"field\":\"Computer_Y\"},\"width\":{\"value\":0.4},\"x\":{\"field\":\"Decile\",\"transform\":{\"id\":\"17238\",\"type\":\"Dodge\"}}},\"id\":\"17240\",\"type\":\"VBar\"},{\"attributes\":{\"callback\":null,\"tooltips\":[[\"Computer\",\"$y{int}\"]]},\"id\":\"17244\",\"type\":\"HoverTool\"},{\"attributes\":{\"fill_alpha\":{\"value\":0.1},\"fill_color\":{\"value\":\"#1f77b4\"},\"line_alpha\":{\"value\":0.1},\"line_color\":{\"value\":\"#1f77b4\"},\"top\":{\"field\":\"Computer_Y\"},\"width\":{\"value\":0.4},\"x\":{\"field\":\"Decile\",\"transform\":{\"id\":\"17238\",\"type\":\"Dodge\"}}},\"id\":\"17241\",\"type\":\"VBar\"},{\"attributes\":{\"data_source\":{\"id\":\"17216\",\"type\":\"ColumnDataSource\"},\"glyph\":{\"id\":\"17240\",\"type\":\"VBar\"},\"hover_glyph\":null,\"muted_glyph\":null,\"nonselection_glyph\":{\"id\":\"17241\",\"type\":\"VBar\"},\"selection_glyph\":null,\"view\":{\"id\":\"17243\",\"type\":\"CDSView\"}},\"id\":\"17242\",\"type\":\"GlyphRenderer\"},{\"attributes\":{\"callback\":null,\"factors\":[\"1\",\"2\",\"3\",\"4\",\"5\",\"6\",\"7\",\"8\",\"9\",\"10\"],\"range_padding\":0.1},\"id\":\"17220\",\"type\":\"FactorRange\"},{\"attributes\":{},\"id\":\"17265\",\"type\":\"Selection\"},{\"attributes\":{\"formatter\":{\"id\":\"17261\",\"type\":\"CategoricalTickFormatter\"},\"ticker\":{\"id\":\"17229\",\"type\":\"CategoricalTicker\"}},\"id\":\"17228\",\"type\":\"CategoricalAxis\"},{\"attributes\":{\"source\":{\"id\":\"17216\",\"type\":\"ColumnDataSource\"}},\"id\":\"17243\",\"type\":\"CDSView\"},{\"attributes\":{\"grid_line_color\":null,\"ticker\":{\"id\":\"17229\",\"type\":\"CategoricalTicker\"}},\"id\":\"17231\",\"type\":\"Grid\"},{\"attributes\":{},\"id\":\"17261\",\"type\":\"CategoricalTickFormatter\"},{\"attributes\":{},\"id\":\"17224\",\"type\":\"CategoricalScale\"},{\"attributes\":{},\"id\":\"17226\",\"type\":\"LinearScale\"},{\"attributes\":{},\"id\":\"17266\",\"type\":\"UnionRenderers\"},{\"attributes\":{\"formatter\":{\"id\":\"17263\",\"type\":\"BasicTickFormatter\"},\"ticker\":{\"id\":\"17233\",\"type\":\"BasicTicker\"}},\"id\":\"17232\",\"type\":\"LinearAxis\"},{\"attributes\":{\"dimension\":1,\"ticker\":{\"id\":\"17233\",\"type\":\"BasicTicker\"}},\"id\":\"17236\",\"type\":\"Grid\"},{\"attributes\":{\"callback\":null,\"data\":{\"Computer_Y\":[85,4,6,2,0,2,0,0,1,2],\"Decile\":[\"1\",\"2\",\"3\",\"4\",\"5\",\"6\",\"7\",\"8\",\"9\",\"10\"],\"Desk_Y\":[84,37,32,51,33,38,58,46,46,34],\"Executive Chair_Y\":[150,56,50,58,39,57,54,24,35,50],\"Insurance_Y\":[172,77,95,108,74,96,77,82,71,98],\"Monitor_Y\":[112,6,5,4,5,1,0,0,0,0],\"Office Supplies_Y\":[336,700,630,574,635,455,454,652,737,739],\"Printer_Y\":[102,12,13,7,8,9,6,5,5,19],\"Standard Chair_Y\":[84,9,9,7,1,2,1,1,0,2],\"Toner_Y\":[121,44,56,51,46,37,37,35,39,70]},\"selected\":{\"id\":\"17265\",\"type\":\"Selection\"},\"selection_policy\":{\"id\":\"17266\",\"type\":\"UnionRenderers\"}},\"id\":\"17216\",\"type\":\"ColumnDataSource\"},{\"attributes\":{\"callback\":null,\"end\":90},\"id\":\"17222\",\"type\":\"Range1d\"},{\"attributes\":{},\"id\":\"17229\",\"type\":\"CategoricalTicker\"},{\"attributes\":{},\"id\":\"17263\",\"type\":\"BasicTickFormatter\"},{\"attributes\":{\"range\":{\"id\":\"17220\",\"type\":\"FactorRange\"}},\"id\":\"17238\",\"type\":\"Dodge\"},{\"attributes\":{},\"id\":\"17233\",\"type\":\"BasicTicker\"}],\"root_ids\":[\"17217\"]},\"title\":\"Bokeh Application\",\"version\":\"1.3.4\"}};\n",
       "  var render_items = [{\"docid\":\"588e3c61-9c7d-4ed7-98bc-2268c860eb03\",\"roots\":{\"17217\":\"27cb9c5b-2e1a-4a3b-b71e-ab36da13e31e\"}}];\n",
       "  root.Bokeh.embed.embed_items_notebook(docs_json, render_items);\n",
       "\n",
       "  }\n",
       "  if (root.Bokeh !== undefined) {\n",
       "    embed_document(root);\n",
       "  } else {\n",
       "    var attempts = 0;\n",
       "    var timer = setInterval(function(root) {\n",
       "      if (root.Bokeh !== undefined) {\n",
       "        embed_document(root);\n",
       "        clearInterval(timer);\n",
       "      }\n",
       "      attempts++;\n",
       "      if (attempts > 100) {\n",
       "        console.log(\"Bokeh: ERROR: Unable to run BokehJS code because BokehJS library is missing\");\n",
       "        clearInterval(timer);\n",
       "      }\n",
       "    }, 10, root)\n",
       "  }\n",
       "})(window);"
      ],
      "application/vnd.bokehjs_exec.v0+json": ""
     },
     "metadata": {
      "application/vnd.bokehjs_exec.v0+json": {
       "id": "17217"
      }
     },
     "output_type": "display_data"
    }
   ],
   "source": [
    "source = ColumnDataSource(data=data)\n",
    "\n",
    "p = figure(x_range=dates, y_range=(0, g1[['Computer_Y']].values.max() + 5), \n",
    "           plot_height=250, title=\"Decile Wise Computer Purchase\", toolbar_location=None, tools=\"\")\n",
    "\n",
    "p.vbar(x=dodge('Decile', 0, range=p.x_range), top='Computer_Y', width=0.4, source=source, color=\"#718dbf\")\n",
    "\n",
    "p.add_tools(HoverTool(tooltips=[('Computer', \"$y{int}\")]))\n",
    "p.x_range.range_padding = 0.1\n",
    "p.xgrid.grid_line_color = None\n",
    "p.legend.location = \"top_left\"\n",
    "p.legend.orientation = \"horizontal\"\n",
    "show(p)"
   ]
  },
  {
   "cell_type": "code",
   "execution_count": 207,
   "metadata": {
    "slideshow": {
     "slide_type": "slide"
    }
   },
   "outputs": [
    {
     "data": {
      "text/html": [
       "\n",
       "\n",
       "\n",
       "\n",
       "\n",
       "\n",
       "  <div class=\"bk-root\" id=\"5155fd5c-e1aa-4e09-b216-fef6b13a1e4f\" data-root-id=\"17310\"></div>\n"
      ]
     },
     "metadata": {},
     "output_type": "display_data"
    },
    {
     "data": {
      "application/javascript": [
       "(function(root) {\n",
       "  function embed_document(root) {\n",
       "    \n",
       "  var docs_json = {\"8c7cff40-8759-4d5d-ac56-57b8a21261c6\":{\"roots\":{\"references\":[{\"attributes\":{\"below\":[{\"id\":\"17321\",\"type\":\"CategoricalAxis\"}],\"center\":[{\"id\":\"17324\",\"type\":\"Grid\"},{\"id\":\"17329\",\"type\":\"Grid\"}],\"left\":[{\"id\":\"17325\",\"type\":\"LinearAxis\"}],\"plot_height\":250,\"renderers\":[{\"id\":\"17335\",\"type\":\"GlyphRenderer\"}],\"title\":{\"id\":\"17311\",\"type\":\"Title\"},\"toolbar\":{\"id\":\"17330\",\"type\":\"Toolbar\"},\"toolbar_location\":null,\"x_range\":{\"id\":\"17313\",\"type\":\"FactorRange\"},\"x_scale\":{\"id\":\"17317\",\"type\":\"CategoricalScale\"},\"y_range\":{\"id\":\"17315\",\"type\":\"Range1d\"},\"y_scale\":{\"id\":\"17319\",\"type\":\"LinearScale\"}},\"id\":\"17310\",\"subtype\":\"Figure\",\"type\":\"Plot\"},{\"attributes\":{\"fill_color\":{\"value\":\"#718dbf\"},\"line_color\":{\"value\":\"#718dbf\"},\"top\":{\"field\":\"Monitor_Y\"},\"width\":{\"value\":0.4},\"x\":{\"field\":\"Decile\",\"transform\":{\"id\":\"17331\",\"type\":\"Dodge\"}}},\"id\":\"17333\",\"type\":\"VBar\"},{\"attributes\":{\"callback\":null,\"tooltips\":[[\"Monitor\",\"$y{int}\"]]},\"id\":\"17337\",\"type\":\"HoverTool\"},{\"attributes\":{\"fill_alpha\":{\"value\":0.1},\"fill_color\":{\"value\":\"#1f77b4\"},\"line_alpha\":{\"value\":0.1},\"line_color\":{\"value\":\"#1f77b4\"},\"top\":{\"field\":\"Monitor_Y\"},\"width\":{\"value\":0.4},\"x\":{\"field\":\"Decile\",\"transform\":{\"id\":\"17331\",\"type\":\"Dodge\"}}},\"id\":\"17334\",\"type\":\"VBar\"},{\"attributes\":{\"formatter\":{\"id\":\"17361\",\"type\":\"CategoricalTickFormatter\"},\"ticker\":{\"id\":\"17322\",\"type\":\"CategoricalTicker\"}},\"id\":\"17321\",\"type\":\"CategoricalAxis\"},{\"attributes\":{\"data_source\":{\"id\":\"17309\",\"type\":\"ColumnDataSource\"},\"glyph\":{\"id\":\"17333\",\"type\":\"VBar\"},\"hover_glyph\":null,\"muted_glyph\":null,\"nonselection_glyph\":{\"id\":\"17334\",\"type\":\"VBar\"},\"selection_glyph\":null,\"view\":{\"id\":\"17336\",\"type\":\"CDSView\"}},\"id\":\"17335\",\"type\":\"GlyphRenderer\"},{\"attributes\":{\"callback\":null,\"factors\":[\"1\",\"2\",\"3\",\"4\",\"5\",\"6\",\"7\",\"8\",\"9\",\"10\"],\"range_padding\":0.1},\"id\":\"17313\",\"type\":\"FactorRange\"},{\"attributes\":{},\"id\":\"17317\",\"type\":\"CategoricalScale\"},{\"attributes\":{\"source\":{\"id\":\"17309\",\"type\":\"ColumnDataSource\"}},\"id\":\"17336\",\"type\":\"CDSView\"},{\"attributes\":{\"callback\":null,\"data\":{\"Computer_Y\":[85,4,6,2,0,2,0,0,1,2],\"Decile\":[\"1\",\"2\",\"3\",\"4\",\"5\",\"6\",\"7\",\"8\",\"9\",\"10\"],\"Desk_Y\":[84,37,32,51,33,38,58,46,46,34],\"Executive Chair_Y\":[150,56,50,58,39,57,54,24,35,50],\"Insurance_Y\":[172,77,95,108,74,96,77,82,71,98],\"Monitor_Y\":[112,6,5,4,5,1,0,0,0,0],\"Office Supplies_Y\":[336,700,630,574,635,455,454,652,737,739],\"Printer_Y\":[102,12,13,7,8,9,6,5,5,19],\"Standard Chair_Y\":[84,9,9,7,1,2,1,1,0,2],\"Toner_Y\":[121,44,56,51,46,37,37,35,39,70]},\"selected\":{\"id\":\"17365\",\"type\":\"Selection\"},\"selection_policy\":{\"id\":\"17366\",\"type\":\"UnionRenderers\"}},\"id\":\"17309\",\"type\":\"ColumnDataSource\"},{\"attributes\":{\"grid_line_color\":null,\"ticker\":{\"id\":\"17322\",\"type\":\"CategoricalTicker\"}},\"id\":\"17324\",\"type\":\"Grid\"},{\"attributes\":{\"formatter\":{\"id\":\"17363\",\"type\":\"BasicTickFormatter\"},\"ticker\":{\"id\":\"17326\",\"type\":\"BasicTicker\"}},\"id\":\"17325\",\"type\":\"LinearAxis\"},{\"attributes\":{},\"id\":\"17319\",\"type\":\"LinearScale\"},{\"attributes\":{},\"id\":\"17363\",\"type\":\"BasicTickFormatter\"},{\"attributes\":{},\"id\":\"17361\",\"type\":\"CategoricalTickFormatter\"},{\"attributes\":{},\"id\":\"17322\",\"type\":\"CategoricalTicker\"},{\"attributes\":{},\"id\":\"17365\",\"type\":\"Selection\"},{\"attributes\":{\"active_drag\":\"auto\",\"active_inspect\":\"auto\",\"active_multi\":null,\"active_scroll\":\"auto\",\"active_tap\":\"auto\",\"tools\":[{\"id\":\"17337\",\"type\":\"HoverTool\"}]},\"id\":\"17330\",\"type\":\"Toolbar\"},{\"attributes\":{\"range\":{\"id\":\"17313\",\"type\":\"FactorRange\"}},\"id\":\"17331\",\"type\":\"Dodge\"},{\"attributes\":{\"dimension\":1,\"ticker\":{\"id\":\"17326\",\"type\":\"BasicTicker\"}},\"id\":\"17329\",\"type\":\"Grid\"},{\"attributes\":{\"callback\":null,\"end\":117},\"id\":\"17315\",\"type\":\"Range1d\"},{\"attributes\":{},\"id\":\"17366\",\"type\":\"UnionRenderers\"},{\"attributes\":{},\"id\":\"17326\",\"type\":\"BasicTicker\"},{\"attributes\":{\"text\":\"Decile Wise Monitor Purchase\"},\"id\":\"17311\",\"type\":\"Title\"}],\"root_ids\":[\"17310\"]},\"title\":\"Bokeh Application\",\"version\":\"1.3.4\"}};\n",
       "  var render_items = [{\"docid\":\"8c7cff40-8759-4d5d-ac56-57b8a21261c6\",\"roots\":{\"17310\":\"5155fd5c-e1aa-4e09-b216-fef6b13a1e4f\"}}];\n",
       "  root.Bokeh.embed.embed_items_notebook(docs_json, render_items);\n",
       "\n",
       "  }\n",
       "  if (root.Bokeh !== undefined) {\n",
       "    embed_document(root);\n",
       "  } else {\n",
       "    var attempts = 0;\n",
       "    var timer = setInterval(function(root) {\n",
       "      if (root.Bokeh !== undefined) {\n",
       "        embed_document(root);\n",
       "        clearInterval(timer);\n",
       "      }\n",
       "      attempts++;\n",
       "      if (attempts > 100) {\n",
       "        console.log(\"Bokeh: ERROR: Unable to run BokehJS code because BokehJS library is missing\");\n",
       "        clearInterval(timer);\n",
       "      }\n",
       "    }, 10, root)\n",
       "  }\n",
       "})(window);"
      ],
      "application/vnd.bokehjs_exec.v0+json": ""
     },
     "metadata": {
      "application/vnd.bokehjs_exec.v0+json": {
       "id": "17310"
      }
     },
     "output_type": "display_data"
    }
   ],
   "source": [
    "source = ColumnDataSource(data=data)\n",
    "\n",
    "p = figure(x_range=dates, y_range=(0, g1[['Monitor_Y']].values.max() + 5), \n",
    "           plot_height=250, title=\"Decile Wise Monitor Purchase\", toolbar_location=None, tools=\"\")\n",
    "\n",
    "p.vbar(x=dodge('Decile', 0, range=p.x_range), top='Monitor_Y', width=0.4, source=source, color=\"#718dbf\")\n",
    "\n",
    "p.add_tools(HoverTool(tooltips=[('Monitor', \"$y{int}\")]))\n",
    "p.x_range.range_padding = 0.1\n",
    "p.xgrid.grid_line_color = None\n",
    "p.legend.location = \"top_left\"\n",
    "p.legend.orientation = \"horizontal\"\n",
    "\n",
    "show(p)"
   ]
  },
  {
   "cell_type": "code",
   "execution_count": 208,
   "metadata": {
    "slideshow": {
     "slide_type": "slide"
    }
   },
   "outputs": [
    {
     "data": {
      "text/html": [
       "\n",
       "\n",
       "\n",
       "\n",
       "\n",
       "\n",
       "  <div class=\"bk-root\" id=\"f888cf27-5f2f-4d52-924e-80a4e155d309\" data-root-id=\"17410\"></div>\n"
      ]
     },
     "metadata": {},
     "output_type": "display_data"
    },
    {
     "data": {
      "application/javascript": [
       "(function(root) {\n",
       "  function embed_document(root) {\n",
       "    \n",
       "  var docs_json = {\"d649731c-bd24-428d-b580-f8d8c10ecb40\":{\"roots\":{\"references\":[{\"attributes\":{\"below\":[{\"id\":\"17421\",\"type\":\"CategoricalAxis\"}],\"center\":[{\"id\":\"17424\",\"type\":\"Grid\"},{\"id\":\"17429\",\"type\":\"Grid\"}],\"left\":[{\"id\":\"17425\",\"type\":\"LinearAxis\"}],\"plot_height\":250,\"renderers\":[{\"id\":\"17435\",\"type\":\"GlyphRenderer\"}],\"title\":{\"id\":\"17411\",\"type\":\"Title\"},\"toolbar\":{\"id\":\"17430\",\"type\":\"Toolbar\"},\"toolbar_location\":null,\"x_range\":{\"id\":\"17413\",\"type\":\"FactorRange\"},\"x_scale\":{\"id\":\"17417\",\"type\":\"CategoricalScale\"},\"y_range\":{\"id\":\"17415\",\"type\":\"Range1d\"},\"y_scale\":{\"id\":\"17419\",\"type\":\"LinearScale\"}},\"id\":\"17410\",\"subtype\":\"Figure\",\"type\":\"Plot\"},{\"attributes\":{\"text\":\"Decile Wise Toner Purchase\"},\"id\":\"17411\",\"type\":\"Title\"},{\"attributes\":{\"fill_color\":{\"value\":\"#718dbf\"},\"line_color\":{\"value\":\"#718dbf\"},\"top\":{\"field\":\"Toner_Y\"},\"width\":{\"value\":0.4},\"x\":{\"field\":\"Decile\",\"transform\":{\"id\":\"17431\",\"type\":\"Dodge\"}}},\"id\":\"17433\",\"type\":\"VBar\"},{\"attributes\":{\"active_drag\":\"auto\",\"active_inspect\":\"auto\",\"active_multi\":null,\"active_scroll\":\"auto\",\"active_tap\":\"auto\",\"tools\":[{\"id\":\"17437\",\"type\":\"HoverTool\"}]},\"id\":\"17430\",\"type\":\"Toolbar\"},{\"attributes\":{\"fill_alpha\":{\"value\":0.1},\"fill_color\":{\"value\":\"#1f77b4\"},\"line_alpha\":{\"value\":0.1},\"line_color\":{\"value\":\"#1f77b4\"},\"top\":{\"field\":\"Toner_Y\"},\"width\":{\"value\":0.4},\"x\":{\"field\":\"Decile\",\"transform\":{\"id\":\"17431\",\"type\":\"Dodge\"}}},\"id\":\"17434\",\"type\":\"VBar\"},{\"attributes\":{\"dimension\":1,\"ticker\":{\"id\":\"17426\",\"type\":\"BasicTicker\"}},\"id\":\"17429\",\"type\":\"Grid\"},{\"attributes\":{},\"id\":\"17426\",\"type\":\"BasicTicker\"},{\"attributes\":{\"data_source\":{\"id\":\"17409\",\"type\":\"ColumnDataSource\"},\"glyph\":{\"id\":\"17433\",\"type\":\"VBar\"},\"hover_glyph\":null,\"muted_glyph\":null,\"nonselection_glyph\":{\"id\":\"17434\",\"type\":\"VBar\"},\"selection_glyph\":null,\"view\":{\"id\":\"17436\",\"type\":\"CDSView\"}},\"id\":\"17435\",\"type\":\"GlyphRenderer\"},{\"attributes\":{\"callback\":null,\"factors\":[\"1\",\"2\",\"3\",\"4\",\"5\",\"6\",\"7\",\"8\",\"9\",\"10\"],\"range_padding\":0.1},\"id\":\"17413\",\"type\":\"FactorRange\"},{\"attributes\":{},\"id\":\"17468\",\"type\":\"CategoricalTickFormatter\"},{\"attributes\":{\"callback\":null,\"tooltips\":[[\"Toner\",\"$y{int}\"]]},\"id\":\"17437\",\"type\":\"HoverTool\"},{\"attributes\":{\"source\":{\"id\":\"17409\",\"type\":\"ColumnDataSource\"}},\"id\":\"17436\",\"type\":\"CDSView\"},{\"attributes\":{\"grid_line_color\":null,\"ticker\":{\"id\":\"17422\",\"type\":\"CategoricalTicker\"}},\"id\":\"17424\",\"type\":\"Grid\"},{\"attributes\":{\"formatter\":{\"id\":\"17468\",\"type\":\"CategoricalTickFormatter\"},\"ticker\":{\"id\":\"17422\",\"type\":\"CategoricalTicker\"}},\"id\":\"17421\",\"type\":\"CategoricalAxis\"},{\"attributes\":{},\"id\":\"17470\",\"type\":\"BasicTickFormatter\"},{\"attributes\":{},\"id\":\"17417\",\"type\":\"CategoricalScale\"},{\"attributes\":{},\"id\":\"17419\",\"type\":\"LinearScale\"},{\"attributes\":{},\"id\":\"17472\",\"type\":\"Selection\"},{\"attributes\":{\"formatter\":{\"id\":\"17470\",\"type\":\"BasicTickFormatter\"},\"ticker\":{\"id\":\"17426\",\"type\":\"BasicTicker\"}},\"id\":\"17425\",\"type\":\"LinearAxis\"},{\"attributes\":{\"callback\":null,\"data\":{\"Computer_Y\":[85,4,6,2,0,2,0,0,1,2],\"Decile\":[\"1\",\"2\",\"3\",\"4\",\"5\",\"6\",\"7\",\"8\",\"9\",\"10\"],\"Desk_Y\":[84,37,32,51,33,38,58,46,46,34],\"Executive Chair_Y\":[150,56,50,58,39,57,54,24,35,50],\"Insurance_Y\":[172,77,95,108,74,96,77,82,71,98],\"Monitor_Y\":[112,6,5,4,5,1,0,0,0,0],\"Office Supplies_Y\":[336,700,630,574,635,455,454,652,737,739],\"Printer_Y\":[102,12,13,7,8,9,6,5,5,19],\"Standard Chair_Y\":[84,9,9,7,1,2,1,1,0,2],\"Toner_Y\":[121,44,56,51,46,37,37,35,39,70]},\"selected\":{\"id\":\"17472\",\"type\":\"Selection\"},\"selection_policy\":{\"id\":\"17473\",\"type\":\"UnionRenderers\"}},\"id\":\"17409\",\"type\":\"ColumnDataSource\"},{\"attributes\":{\"callback\":null,\"end\":126},\"id\":\"17415\",\"type\":\"Range1d\"},{\"attributes\":{},\"id\":\"17422\",\"type\":\"CategoricalTicker\"},{\"attributes\":{},\"id\":\"17473\",\"type\":\"UnionRenderers\"},{\"attributes\":{\"range\":{\"id\":\"17413\",\"type\":\"FactorRange\"}},\"id\":\"17431\",\"type\":\"Dodge\"}],\"root_ids\":[\"17410\"]},\"title\":\"Bokeh Application\",\"version\":\"1.3.4\"}};\n",
       "  var render_items = [{\"docid\":\"d649731c-bd24-428d-b580-f8d8c10ecb40\",\"roots\":{\"17410\":\"f888cf27-5f2f-4d52-924e-80a4e155d309\"}}];\n",
       "  root.Bokeh.embed.embed_items_notebook(docs_json, render_items);\n",
       "\n",
       "  }\n",
       "  if (root.Bokeh !== undefined) {\n",
       "    embed_document(root);\n",
       "  } else {\n",
       "    var attempts = 0;\n",
       "    var timer = setInterval(function(root) {\n",
       "      if (root.Bokeh !== undefined) {\n",
       "        embed_document(root);\n",
       "        clearInterval(timer);\n",
       "      }\n",
       "      attempts++;\n",
       "      if (attempts > 100) {\n",
       "        console.log(\"Bokeh: ERROR: Unable to run BokehJS code because BokehJS library is missing\");\n",
       "        clearInterval(timer);\n",
       "      }\n",
       "    }, 10, root)\n",
       "  }\n",
       "})(window);"
      ],
      "application/vnd.bokehjs_exec.v0+json": ""
     },
     "metadata": {
      "application/vnd.bokehjs_exec.v0+json": {
       "id": "17410"
      }
     },
     "output_type": "display_data"
    }
   ],
   "source": [
    "source = ColumnDataSource(data=data)\n",
    "\n",
    "p = figure(x_range=dates, y_range=(0, g1[['Toner_Y']].values.max() + 5), \n",
    "           plot_height=250, title=\"Decile Wise Toner Purchase\",toolbar_location=None, tools=\"\")\n",
    "\n",
    "p.vbar(x=dodge('Decile', 0, range=p.x_range), top='Toner_Y', width=0.4, source=source,color=\"#718dbf\")\n",
    "\n",
    "p.add_tools(HoverTool(tooltips=[('Toner', \"$y{int}\")]))\n",
    "p.x_range.range_padding = 0.1\n",
    "p.xgrid.grid_line_color = None\n",
    "p.legend.location = \"top_left\"\n",
    "p.legend.orientation = \"horizontal\"\n",
    "show(p)"
   ]
  },
  {
   "cell_type": "code",
   "execution_count": 209,
   "metadata": {
    "slideshow": {
     "slide_type": "slide"
    }
   },
   "outputs": [
    {
     "data": {
      "text/html": [
       "\n",
       "\n",
       "\n",
       "\n",
       "\n",
       "\n",
       "  <div class=\"bk-root\" id=\"f49f941f-e835-4d53-b675-7202b7f529d6\" data-root-id=\"17517\"></div>\n"
      ]
     },
     "metadata": {},
     "output_type": "display_data"
    },
    {
     "data": {
      "application/javascript": [
       "(function(root) {\n",
       "  function embed_document(root) {\n",
       "    \n",
       "  var docs_json = {\"d14b0a91-8a50-4ff9-9d4c-e0f1e69739f3\":{\"roots\":{\"references\":[{\"attributes\":{\"below\":[{\"id\":\"17528\",\"type\":\"CategoricalAxis\"}],\"center\":[{\"id\":\"17531\",\"type\":\"Grid\"},{\"id\":\"17536\",\"type\":\"Grid\"}],\"left\":[{\"id\":\"17532\",\"type\":\"LinearAxis\"}],\"plot_height\":250,\"renderers\":[{\"id\":\"17542\",\"type\":\"GlyphRenderer\"}],\"title\":{\"id\":\"17518\",\"type\":\"Title\"},\"toolbar\":{\"id\":\"17537\",\"type\":\"Toolbar\"},\"toolbar_location\":null,\"x_range\":{\"id\":\"17520\",\"type\":\"FactorRange\"},\"x_scale\":{\"id\":\"17524\",\"type\":\"CategoricalScale\"},\"y_range\":{\"id\":\"17522\",\"type\":\"Range1d\"},\"y_scale\":{\"id\":\"17526\",\"type\":\"LinearScale\"}},\"id\":\"17517\",\"subtype\":\"Figure\",\"type\":\"Plot\"},{\"attributes\":{\"text\":\"Decile Wise Printer Purchase\"},\"id\":\"17518\",\"type\":\"Title\"},{\"attributes\":{\"range\":{\"id\":\"17520\",\"type\":\"FactorRange\"}},\"id\":\"17538\",\"type\":\"Dodge\"},{\"attributes\":{\"fill_color\":{\"value\":\"#718dbf\"},\"line_color\":{\"value\":\"#718dbf\"},\"top\":{\"field\":\"Printer_Y\"},\"width\":{\"value\":0.4},\"x\":{\"field\":\"Decile\",\"transform\":{\"id\":\"17538\",\"type\":\"Dodge\"}}},\"id\":\"17540\",\"type\":\"VBar\"},{\"attributes\":{\"callback\":null,\"end\":112},\"id\":\"17522\",\"type\":\"Range1d\"},{\"attributes\":{},\"id\":\"17584\",\"type\":\"BasicTickFormatter\"},{\"attributes\":{\"fill_alpha\":{\"value\":0.1},\"fill_color\":{\"value\":\"#1f77b4\"},\"line_alpha\":{\"value\":0.1},\"line_color\":{\"value\":\"#1f77b4\"},\"top\":{\"field\":\"Printer_Y\"},\"width\":{\"value\":0.4},\"x\":{\"field\":\"Decile\",\"transform\":{\"id\":\"17538\",\"type\":\"Dodge\"}}},\"id\":\"17541\",\"type\":\"VBar\"},{\"attributes\":{\"dimension\":1,\"ticker\":{\"id\":\"17533\",\"type\":\"BasicTicker\"}},\"id\":\"17536\",\"type\":\"Grid\"},{\"attributes\":{\"data_source\":{\"id\":\"17516\",\"type\":\"ColumnDataSource\"},\"glyph\":{\"id\":\"17540\",\"type\":\"VBar\"},\"hover_glyph\":null,\"muted_glyph\":null,\"nonselection_glyph\":{\"id\":\"17541\",\"type\":\"VBar\"},\"selection_glyph\":null,\"view\":{\"id\":\"17543\",\"type\":\"CDSView\"}},\"id\":\"17542\",\"type\":\"GlyphRenderer\"},{\"attributes\":{\"active_drag\":\"auto\",\"active_inspect\":\"auto\",\"active_multi\":null,\"active_scroll\":\"auto\",\"active_tap\":\"auto\",\"tools\":[{\"id\":\"17544\",\"type\":\"HoverTool\"}]},\"id\":\"17537\",\"type\":\"Toolbar\"},{\"attributes\":{\"source\":{\"id\":\"17516\",\"type\":\"ColumnDataSource\"}},\"id\":\"17543\",\"type\":\"CDSView\"},{\"attributes\":{},\"id\":\"17533\",\"type\":\"BasicTicker\"},{\"attributes\":{\"callback\":null,\"tooltips\":[[\"Printer\",\"$y{int}\"]]},\"id\":\"17544\",\"type\":\"HoverTool\"},{\"attributes\":{\"formatter\":{\"id\":\"17582\",\"type\":\"CategoricalTickFormatter\"},\"ticker\":{\"id\":\"17529\",\"type\":\"CategoricalTicker\"}},\"id\":\"17528\",\"type\":\"CategoricalAxis\"},{\"attributes\":{\"callback\":null,\"factors\":[\"1\",\"2\",\"3\",\"4\",\"5\",\"6\",\"7\",\"8\",\"9\",\"10\"],\"range_padding\":0.1},\"id\":\"17520\",\"type\":\"FactorRange\"},{\"attributes\":{},\"id\":\"17524\",\"type\":\"CategoricalScale\"},{\"attributes\":{\"grid_line_color\":null,\"ticker\":{\"id\":\"17529\",\"type\":\"CategoricalTicker\"}},\"id\":\"17531\",\"type\":\"Grid\"},{\"attributes\":{},\"id\":\"17582\",\"type\":\"CategoricalTickFormatter\"},{\"attributes\":{},\"id\":\"17529\",\"type\":\"CategoricalTicker\"},{\"attributes\":{\"callback\":null,\"data\":{\"Computer_Y\":[85,4,6,2,0,2,0,0,1,2],\"Decile\":[\"1\",\"2\",\"3\",\"4\",\"5\",\"6\",\"7\",\"8\",\"9\",\"10\"],\"Desk_Y\":[84,37,32,51,33,38,58,46,46,34],\"Executive Chair_Y\":[150,56,50,58,39,57,54,24,35,50],\"Insurance_Y\":[172,77,95,108,74,96,77,82,71,98],\"Monitor_Y\":[112,6,5,4,5,1,0,0,0,0],\"Office Supplies_Y\":[336,700,630,574,635,455,454,652,737,739],\"Printer_Y\":[102,12,13,7,8,9,6,5,5,19],\"Standard Chair_Y\":[84,9,9,7,1,2,1,1,0,2],\"Toner_Y\":[121,44,56,51,46,37,37,35,39,70]},\"selected\":{\"id\":\"17586\",\"type\":\"Selection\"},\"selection_policy\":{\"id\":\"17587\",\"type\":\"UnionRenderers\"}},\"id\":\"17516\",\"type\":\"ColumnDataSource\"},{\"attributes\":{},\"id\":\"17587\",\"type\":\"UnionRenderers\"},{\"attributes\":{},\"id\":\"17526\",\"type\":\"LinearScale\"},{\"attributes\":{},\"id\":\"17586\",\"type\":\"Selection\"},{\"attributes\":{\"formatter\":{\"id\":\"17584\",\"type\":\"BasicTickFormatter\"},\"ticker\":{\"id\":\"17533\",\"type\":\"BasicTicker\"}},\"id\":\"17532\",\"type\":\"LinearAxis\"}],\"root_ids\":[\"17517\"]},\"title\":\"Bokeh Application\",\"version\":\"1.3.4\"}};\n",
       "  var render_items = [{\"docid\":\"d14b0a91-8a50-4ff9-9d4c-e0f1e69739f3\",\"roots\":{\"17517\":\"f49f941f-e835-4d53-b675-7202b7f529d6\"}}];\n",
       "  root.Bokeh.embed.embed_items_notebook(docs_json, render_items);\n",
       "\n",
       "  }\n",
       "  if (root.Bokeh !== undefined) {\n",
       "    embed_document(root);\n",
       "  } else {\n",
       "    var attempts = 0;\n",
       "    var timer = setInterval(function(root) {\n",
       "      if (root.Bokeh !== undefined) {\n",
       "        embed_document(root);\n",
       "        clearInterval(timer);\n",
       "      }\n",
       "      attempts++;\n",
       "      if (attempts > 100) {\n",
       "        console.log(\"Bokeh: ERROR: Unable to run BokehJS code because BokehJS library is missing\");\n",
       "        clearInterval(timer);\n",
       "      }\n",
       "    }, 10, root)\n",
       "  }\n",
       "})(window);"
      ],
      "application/vnd.bokehjs_exec.v0+json": ""
     },
     "metadata": {
      "application/vnd.bokehjs_exec.v0+json": {
       "id": "17517"
      }
     },
     "output_type": "display_data"
    }
   ],
   "source": [
    "source = ColumnDataSource(data=data)\n",
    "\n",
    "p = figure(x_range=dates, y_range=(0, g1[['Printer_Y']].values.max() + 10), \n",
    "           plot_height=250, title=\"Decile Wise Printer Purchase\", toolbar_location=None, tools=\"\")\n",
    "\n",
    "p.vbar(x=dodge('Decile',  0,  range=p.x_range), top='Printer_Y', width=0.4, source=source, color=\"#718dbf\")\n",
    "\n",
    "p.add_tools(HoverTool(tooltips=[(\"Printer\", \"$y{int}\")]))\n",
    "p.x_range.range_padding = 0.1\n",
    "p.xgrid.grid_line_color = None\n",
    "p.legend.location = \"top_left\"\n",
    "p.legend.orientation = \"horizontal\"\n",
    "show(p)"
   ]
  },
  {
   "cell_type": "code",
   "execution_count": 210,
   "metadata": {
    "slideshow": {
     "slide_type": "slide"
    }
   },
   "outputs": [
    {
     "data": {
      "text/html": [
       "\n",
       "\n",
       "\n",
       "\n",
       "\n",
       "\n",
       "  <div class=\"bk-root\" id=\"34dea645-aa1e-49cf-9e77-c51cccd39ff5\" data-root-id=\"17631\"></div>\n"
      ]
     },
     "metadata": {},
     "output_type": "display_data"
    },
    {
     "data": {
      "application/javascript": [
       "(function(root) {\n",
       "  function embed_document(root) {\n",
       "    \n",
       "  var docs_json = {\"69c21128-8867-49f5-898f-887b73304f7e\":{\"roots\":{\"references\":[{\"attributes\":{\"below\":[{\"id\":\"17642\",\"type\":\"CategoricalAxis\"}],\"center\":[{\"id\":\"17645\",\"type\":\"Grid\"},{\"id\":\"17650\",\"type\":\"Grid\"}],\"left\":[{\"id\":\"17646\",\"type\":\"LinearAxis\"}],\"plot_height\":250,\"renderers\":[{\"id\":\"17656\",\"type\":\"GlyphRenderer\"}],\"title\":{\"id\":\"17632\",\"type\":\"Title\"},\"toolbar\":{\"id\":\"17651\",\"type\":\"Toolbar\"},\"toolbar_location\":null,\"x_range\":{\"id\":\"17634\",\"type\":\"FactorRange\"},\"x_scale\":{\"id\":\"17638\",\"type\":\"CategoricalScale\"},\"y_range\":{\"id\":\"17636\",\"type\":\"Range1d\"},\"y_scale\":{\"id\":\"17640\",\"type\":\"LinearScale\"}},\"id\":\"17631\",\"subtype\":\"Figure\",\"type\":\"Plot\"},{\"attributes\":{},\"id\":\"17647\",\"type\":\"BasicTicker\"},{\"attributes\":{\"fill_color\":{\"value\":\"#718dbf\"},\"line_color\":{\"value\":\"#718dbf\"},\"top\":{\"field\":\"Desk_Y\"},\"width\":{\"value\":0.4},\"x\":{\"field\":\"Decile\",\"transform\":{\"id\":\"17652\",\"type\":\"Dodge\"}}},\"id\":\"17654\",\"type\":\"VBar\"},{\"attributes\":{},\"id\":\"17643\",\"type\":\"CategoricalTicker\"},{\"attributes\":{\"callback\":null,\"data\":{\"Computer_Y\":[85,4,6,2,0,2,0,0,1,2],\"Decile\":[\"1\",\"2\",\"3\",\"4\",\"5\",\"6\",\"7\",\"8\",\"9\",\"10\"],\"Desk_Y\":[84,37,32,51,33,38,58,46,46,34],\"Executive Chair_Y\":[150,56,50,58,39,57,54,24,35,50],\"Insurance_Y\":[172,77,95,108,74,96,77,82,71,98],\"Monitor_Y\":[112,6,5,4,5,1,0,0,0,0],\"Office Supplies_Y\":[336,700,630,574,635,455,454,652,737,739],\"Printer_Y\":[102,12,13,7,8,9,6,5,5,19],\"Standard Chair_Y\":[84,9,9,7,1,2,1,1,0,2],\"Toner_Y\":[121,44,56,51,46,37,37,35,39,70]},\"selected\":{\"id\":\"17707\",\"type\":\"Selection\"},\"selection_policy\":{\"id\":\"17708\",\"type\":\"UnionRenderers\"}},\"id\":\"17630\",\"type\":\"ColumnDataSource\"},{\"attributes\":{\"fill_alpha\":{\"value\":0.1},\"fill_color\":{\"value\":\"#1f77b4\"},\"line_alpha\":{\"value\":0.1},\"line_color\":{\"value\":\"#1f77b4\"},\"top\":{\"field\":\"Desk_Y\"},\"width\":{\"value\":0.4},\"x\":{\"field\":\"Decile\",\"transform\":{\"id\":\"17652\",\"type\":\"Dodge\"}}},\"id\":\"17655\",\"type\":\"VBar\"},{\"attributes\":{},\"id\":\"17705\",\"type\":\"BasicTickFormatter\"},{\"attributes\":{\"formatter\":{\"id\":\"17705\",\"type\":\"BasicTickFormatter\"},\"ticker\":{\"id\":\"17647\",\"type\":\"BasicTicker\"}},\"id\":\"17646\",\"type\":\"LinearAxis\"},{\"attributes\":{\"data_source\":{\"id\":\"17630\",\"type\":\"ColumnDataSource\"},\"glyph\":{\"id\":\"17654\",\"type\":\"VBar\"},\"hover_glyph\":null,\"muted_glyph\":null,\"nonselection_glyph\":{\"id\":\"17655\",\"type\":\"VBar\"},\"selection_glyph\":null,\"view\":{\"id\":\"17657\",\"type\":\"CDSView\"}},\"id\":\"17656\",\"type\":\"GlyphRenderer\"},{\"attributes\":{\"range\":{\"id\":\"17634\",\"type\":\"FactorRange\"}},\"id\":\"17652\",\"type\":\"Dodge\"},{\"attributes\":{},\"id\":\"17707\",\"type\":\"Selection\"},{\"attributes\":{\"source\":{\"id\":\"17630\",\"type\":\"ColumnDataSource\"}},\"id\":\"17657\",\"type\":\"CDSView\"},{\"attributes\":{\"callback\":null,\"end\":89},\"id\":\"17636\",\"type\":\"Range1d\"},{\"attributes\":{\"formatter\":{\"id\":\"17703\",\"type\":\"CategoricalTickFormatter\"},\"ticker\":{\"id\":\"17643\",\"type\":\"CategoricalTicker\"}},\"id\":\"17642\",\"type\":\"CategoricalAxis\"},{\"attributes\":{},\"id\":\"17703\",\"type\":\"CategoricalTickFormatter\"},{\"attributes\":{\"text\":\"Decile Wise Desk Purchase\"},\"id\":\"17632\",\"type\":\"Title\"},{\"attributes\":{\"grid_line_color\":null,\"ticker\":{\"id\":\"17643\",\"type\":\"CategoricalTicker\"}},\"id\":\"17645\",\"type\":\"Grid\"},{\"attributes\":{\"active_drag\":\"auto\",\"active_inspect\":\"auto\",\"active_multi\":null,\"active_scroll\":\"auto\",\"active_tap\":\"auto\",\"tools\":[{\"id\":\"17658\",\"type\":\"HoverTool\"}]},\"id\":\"17651\",\"type\":\"Toolbar\"},{\"attributes\":{\"callback\":null,\"tooltips\":[[\"Desk\",\"$y{int}\"]]},\"id\":\"17658\",\"type\":\"HoverTool\"},{\"attributes\":{},\"id\":\"17708\",\"type\":\"UnionRenderers\"},{\"attributes\":{\"dimension\":1,\"ticker\":{\"id\":\"17647\",\"type\":\"BasicTicker\"}},\"id\":\"17650\",\"type\":\"Grid\"},{\"attributes\":{\"callback\":null,\"factors\":[\"1\",\"2\",\"3\",\"4\",\"5\",\"6\",\"7\",\"8\",\"9\",\"10\"],\"range_padding\":0.1},\"id\":\"17634\",\"type\":\"FactorRange\"},{\"attributes\":{},\"id\":\"17640\",\"type\":\"LinearScale\"},{\"attributes\":{},\"id\":\"17638\",\"type\":\"CategoricalScale\"}],\"root_ids\":[\"17631\"]},\"title\":\"Bokeh Application\",\"version\":\"1.3.4\"}};\n",
       "  var render_items = [{\"docid\":\"69c21128-8867-49f5-898f-887b73304f7e\",\"roots\":{\"17631\":\"34dea645-aa1e-49cf-9e77-c51cccd39ff5\"}}];\n",
       "  root.Bokeh.embed.embed_items_notebook(docs_json, render_items);\n",
       "\n",
       "  }\n",
       "  if (root.Bokeh !== undefined) {\n",
       "    embed_document(root);\n",
       "  } else {\n",
       "    var attempts = 0;\n",
       "    var timer = setInterval(function(root) {\n",
       "      if (root.Bokeh !== undefined) {\n",
       "        embed_document(root);\n",
       "        clearInterval(timer);\n",
       "      }\n",
       "      attempts++;\n",
       "      if (attempts > 100) {\n",
       "        console.log(\"Bokeh: ERROR: Unable to run BokehJS code because BokehJS library is missing\");\n",
       "        clearInterval(timer);\n",
       "      }\n",
       "    }, 10, root)\n",
       "  }\n",
       "})(window);"
      ],
      "application/vnd.bokehjs_exec.v0+json": ""
     },
     "metadata": {
      "application/vnd.bokehjs_exec.v0+json": {
       "id": "17631"
      }
     },
     "output_type": "display_data"
    }
   ],
   "source": [
    "source = ColumnDataSource(data=data)\n",
    "p = figure(x_range=dates, y_range=(0, g1[['Desk_Y']].values.max() + 5), \n",
    "           plot_height=250, title=\"Decile Wise Desk Purchase\", toolbar_location=None, tools=\"\")\n",
    "\n",
    "p.vbar(x=dodge('Decile',  0,  range=p.x_range), top='Desk_Y', width=0.4, source=source, color=\"#718dbf\")\n",
    "\n",
    "p.add_tools(HoverTool(tooltips=[(\"Desk\", \"$y{int}\")]))\n",
    "p.x_range.range_padding = 0.1\n",
    "p.xgrid.grid_line_color = None\n",
    "p.legend.location = \"top_left\"\n",
    "p.legend.orientation = \"horizontal\"\n",
    "show(p)"
   ]
  },
  {
   "cell_type": "code",
   "execution_count": 211,
   "metadata": {
    "slideshow": {
     "slide_type": "slide"
    }
   },
   "outputs": [
    {
     "data": {
      "text/html": [
       "\n",
       "\n",
       "\n",
       "\n",
       "\n",
       "\n",
       "  <div class=\"bk-root\" id=\"1f1ededb-760f-4624-8a92-22cfe88f0a2c\" data-root-id=\"17752\"></div>\n"
      ]
     },
     "metadata": {},
     "output_type": "display_data"
    },
    {
     "data": {
      "application/javascript": [
       "(function(root) {\n",
       "  function embed_document(root) {\n",
       "    \n",
       "  var docs_json = {\"6219beb0-5b0b-456f-84ff-57b1c01163b5\":{\"roots\":{\"references\":[{\"attributes\":{\"below\":[{\"id\":\"17763\",\"type\":\"CategoricalAxis\"}],\"center\":[{\"id\":\"17766\",\"type\":\"Grid\"},{\"id\":\"17771\",\"type\":\"Grid\"}],\"left\":[{\"id\":\"17767\",\"type\":\"LinearAxis\"}],\"plot_height\":250,\"renderers\":[{\"id\":\"17777\",\"type\":\"GlyphRenderer\"}],\"title\":{\"id\":\"17753\",\"type\":\"Title\"},\"toolbar\":{\"id\":\"17772\",\"type\":\"Toolbar\"},\"toolbar_location\":null,\"x_range\":{\"id\":\"17755\",\"type\":\"FactorRange\"},\"x_scale\":{\"id\":\"17759\",\"type\":\"CategoricalScale\"},\"y_range\":{\"id\":\"17757\",\"type\":\"Range1d\"},\"y_scale\":{\"id\":\"17761\",\"type\":\"LinearScale\"}},\"id\":\"17752\",\"subtype\":\"Figure\",\"type\":\"Plot\"},{\"attributes\":{},\"id\":\"17831\",\"type\":\"CategoricalTickFormatter\"},{\"attributes\":{},\"id\":\"17761\",\"type\":\"LinearScale\"},{\"attributes\":{},\"id\":\"17833\",\"type\":\"BasicTickFormatter\"},{\"attributes\":{\"callback\":null,\"data\":{\"Computer_Y\":[85,4,6,2,0,2,0,0,1,2],\"Decile\":[\"1\",\"2\",\"3\",\"4\",\"5\",\"6\",\"7\",\"8\",\"9\",\"10\"],\"Desk_Y\":[84,37,32,51,33,38,58,46,46,34],\"Executive Chair_Y\":[150,56,50,58,39,57,54,24,35,50],\"Insurance_Y\":[172,77,95,108,74,96,77,82,71,98],\"Monitor_Y\":[112,6,5,4,5,1,0,0,0,0],\"Office Supplies_Y\":[336,700,630,574,635,455,454,652,737,739],\"Printer_Y\":[102,12,13,7,8,9,6,5,5,19],\"Standard Chair_Y\":[84,9,9,7,1,2,1,1,0,2],\"Toner_Y\":[121,44,56,51,46,37,37,35,39,70]},\"selected\":{\"id\":\"17835\",\"type\":\"Selection\"},\"selection_policy\":{\"id\":\"17836\",\"type\":\"UnionRenderers\"}},\"id\":\"17751\",\"type\":\"ColumnDataSource\"},{\"attributes\":{\"callback\":null,\"end\":155},\"id\":\"17757\",\"type\":\"Range1d\"},{\"attributes\":{},\"id\":\"17836\",\"type\":\"UnionRenderers\"},{\"attributes\":{},\"id\":\"17768\",\"type\":\"BasicTicker\"},{\"attributes\":{\"source\":{\"id\":\"17751\",\"type\":\"ColumnDataSource\"}},\"id\":\"17778\",\"type\":\"CDSView\"},{\"attributes\":{\"dimension\":1,\"ticker\":{\"id\":\"17768\",\"type\":\"BasicTicker\"}},\"id\":\"17771\",\"type\":\"Grid\"},{\"attributes\":{\"text\":\"Decile Wise Executive Chair Purchase\"},\"id\":\"17753\",\"type\":\"Title\"},{\"attributes\":{\"active_drag\":\"auto\",\"active_inspect\":\"auto\",\"active_multi\":null,\"active_scroll\":\"auto\",\"active_tap\":\"auto\",\"tools\":[{\"id\":\"17779\",\"type\":\"HoverTool\"}]},\"id\":\"17772\",\"type\":\"Toolbar\"},{\"attributes\":{\"formatter\":{\"id\":\"17833\",\"type\":\"BasicTickFormatter\"},\"ticker\":{\"id\":\"17768\",\"type\":\"BasicTicker\"}},\"id\":\"17767\",\"type\":\"LinearAxis\"},{\"attributes\":{},\"id\":\"17835\",\"type\":\"Selection\"},{\"attributes\":{\"range\":{\"id\":\"17755\",\"type\":\"FactorRange\"}},\"id\":\"17773\",\"type\":\"Dodge\"},{\"attributes\":{},\"id\":\"17759\",\"type\":\"CategoricalScale\"},{\"attributes\":{\"data_source\":{\"id\":\"17751\",\"type\":\"ColumnDataSource\"},\"glyph\":{\"id\":\"17775\",\"type\":\"VBar\"},\"hover_glyph\":null,\"muted_glyph\":null,\"nonselection_glyph\":{\"id\":\"17776\",\"type\":\"VBar\"},\"selection_glyph\":null,\"view\":{\"id\":\"17778\",\"type\":\"CDSView\"}},\"id\":\"17777\",\"type\":\"GlyphRenderer\"},{\"attributes\":{\"grid_line_color\":null,\"ticker\":{\"id\":\"17764\",\"type\":\"CategoricalTicker\"}},\"id\":\"17766\",\"type\":\"Grid\"},{\"attributes\":{\"fill_alpha\":{\"value\":0.1},\"fill_color\":{\"value\":\"#1f77b4\"},\"line_alpha\":{\"value\":0.1},\"line_color\":{\"value\":\"#1f77b4\"},\"top\":{\"field\":\"Executive Chair_Y\"},\"width\":{\"value\":0.4},\"x\":{\"field\":\"Decile\",\"transform\":{\"id\":\"17773\",\"type\":\"Dodge\"}}},\"id\":\"17776\",\"type\":\"VBar\"},{\"attributes\":{\"formatter\":{\"id\":\"17831\",\"type\":\"CategoricalTickFormatter\"},\"ticker\":{\"id\":\"17764\",\"type\":\"CategoricalTicker\"}},\"id\":\"17763\",\"type\":\"CategoricalAxis\"},{\"attributes\":{\"callback\":null,\"factors\":[\"1\",\"2\",\"3\",\"4\",\"5\",\"6\",\"7\",\"8\",\"9\",\"10\"],\"range_padding\":0.1},\"id\":\"17755\",\"type\":\"FactorRange\"},{\"attributes\":{\"callback\":null,\"tooltips\":[[\"Executive Chair\",\"$y{int}\"]]},\"id\":\"17779\",\"type\":\"HoverTool\"},{\"attributes\":{},\"id\":\"17764\",\"type\":\"CategoricalTicker\"},{\"attributes\":{\"fill_color\":{\"value\":\"#718dbf\"},\"line_color\":{\"value\":\"#718dbf\"},\"top\":{\"field\":\"Executive Chair_Y\"},\"width\":{\"value\":0.4},\"x\":{\"field\":\"Decile\",\"transform\":{\"id\":\"17773\",\"type\":\"Dodge\"}}},\"id\":\"17775\",\"type\":\"VBar\"}],\"root_ids\":[\"17752\"]},\"title\":\"Bokeh Application\",\"version\":\"1.3.4\"}};\n",
       "  var render_items = [{\"docid\":\"6219beb0-5b0b-456f-84ff-57b1c01163b5\",\"roots\":{\"17752\":\"1f1ededb-760f-4624-8a92-22cfe88f0a2c\"}}];\n",
       "  root.Bokeh.embed.embed_items_notebook(docs_json, render_items);\n",
       "\n",
       "  }\n",
       "  if (root.Bokeh !== undefined) {\n",
       "    embed_document(root);\n",
       "  } else {\n",
       "    var attempts = 0;\n",
       "    var timer = setInterval(function(root) {\n",
       "      if (root.Bokeh !== undefined) {\n",
       "        embed_document(root);\n",
       "        clearInterval(timer);\n",
       "      }\n",
       "      attempts++;\n",
       "      if (attempts > 100) {\n",
       "        console.log(\"Bokeh: ERROR: Unable to run BokehJS code because BokehJS library is missing\");\n",
       "        clearInterval(timer);\n",
       "      }\n",
       "    }, 10, root)\n",
       "  }\n",
       "})(window);"
      ],
      "application/vnd.bokehjs_exec.v0+json": ""
     },
     "metadata": {
      "application/vnd.bokehjs_exec.v0+json": {
       "id": "17752"
      }
     },
     "output_type": "display_data"
    }
   ],
   "source": [
    "source = ColumnDataSource(data=data)\n",
    "p = figure(x_range=dates, y_range=(0, g1[['Executive Chair_Y']].values.max() + 5), \n",
    "           plot_height=250, title=\"Decile Wise Executive Chair Purchase\", toolbar_location=None, tools=\"\")\n",
    "\n",
    "\n",
    "p.vbar(x=dodge('Decile',  0,  range=p.x_range), top='Executive Chair_Y', width=0.4, source=source, color=\"#718dbf\")\n",
    "\n",
    "p.add_tools(HoverTool(tooltips=[(\"Executive Chair\", \"$y{int}\")]))\n",
    "p.x_range.range_padding = 0.1\n",
    "p.xgrid.grid_line_color = None\n",
    "p.legend.location = \"top_left\"\n",
    "p.legend.orientation = \"horizontal\"\n",
    "show(p)"
   ]
  },
  {
   "cell_type": "code",
   "execution_count": 212,
   "metadata": {
    "slideshow": {
     "slide_type": "slide"
    }
   },
   "outputs": [
    {
     "data": {
      "text/html": [
       "\n",
       "\n",
       "\n",
       "\n",
       "\n",
       "\n",
       "  <div class=\"bk-root\" id=\"6a8735fb-1db7-4fab-84b7-189966e1af70\" data-root-id=\"17880\"></div>\n"
      ]
     },
     "metadata": {},
     "output_type": "display_data"
    },
    {
     "data": {
      "application/javascript": [
       "(function(root) {\n",
       "  function embed_document(root) {\n",
       "    \n",
       "  var docs_json = {\"f7d43962-a33b-4fb9-89f1-6c518be360d3\":{\"roots\":{\"references\":[{\"attributes\":{\"below\":[{\"id\":\"17891\",\"type\":\"CategoricalAxis\"}],\"center\":[{\"id\":\"17894\",\"type\":\"Grid\"},{\"id\":\"17899\",\"type\":\"Grid\"}],\"left\":[{\"id\":\"17895\",\"type\":\"LinearAxis\"}],\"plot_height\":250,\"renderers\":[{\"id\":\"17905\",\"type\":\"GlyphRenderer\"}],\"title\":{\"id\":\"17881\",\"type\":\"Title\"},\"toolbar\":{\"id\":\"17900\",\"type\":\"Toolbar\"},\"toolbar_location\":null,\"x_range\":{\"id\":\"17883\",\"type\":\"FactorRange\"},\"x_scale\":{\"id\":\"17887\",\"type\":\"CategoricalScale\"},\"y_range\":{\"id\":\"17885\",\"type\":\"Range1d\"},\"y_scale\":{\"id\":\"17889\",\"type\":\"LinearScale\"}},\"id\":\"17880\",\"subtype\":\"Figure\",\"type\":\"Plot\"},{\"attributes\":{},\"id\":\"17892\",\"type\":\"CategoricalTicker\"},{\"attributes\":{\"callback\":null,\"end\":89},\"id\":\"17885\",\"type\":\"Range1d\"},{\"attributes\":{\"dimension\":1,\"ticker\":{\"id\":\"17896\",\"type\":\"BasicTicker\"}},\"id\":\"17899\",\"type\":\"Grid\"},{\"attributes\":{\"range\":{\"id\":\"17883\",\"type\":\"FactorRange\"}},\"id\":\"17901\",\"type\":\"Dodge\"},{\"attributes\":{\"formatter\":{\"id\":\"17966\",\"type\":\"CategoricalTickFormatter\"},\"ticker\":{\"id\":\"17892\",\"type\":\"CategoricalTicker\"}},\"id\":\"17891\",\"type\":\"CategoricalAxis\"},{\"attributes\":{\"active_drag\":\"auto\",\"active_inspect\":\"auto\",\"active_multi\":null,\"active_scroll\":\"auto\",\"active_tap\":\"auto\",\"tools\":[{\"id\":\"17907\",\"type\":\"HoverTool\"}]},\"id\":\"17900\",\"type\":\"Toolbar\"},{\"attributes\":{\"callback\":null,\"factors\":[\"1\",\"2\",\"3\",\"4\",\"5\",\"6\",\"7\",\"8\",\"9\",\"10\"],\"range_padding\":0.1},\"id\":\"17883\",\"type\":\"FactorRange\"},{\"attributes\":{},\"id\":\"17896\",\"type\":\"BasicTicker\"},{\"attributes\":{\"callback\":null,\"tooltips\":[[\"Standard Chair\",\"$y{int}\"]]},\"id\":\"17907\",\"type\":\"HoverTool\"},{\"attributes\":{},\"id\":\"17968\",\"type\":\"BasicTickFormatter\"},{\"attributes\":{\"callback\":null,\"data\":{\"Computer_Y\":[85,4,6,2,0,2,0,0,1,2],\"Decile\":[\"1\",\"2\",\"3\",\"4\",\"5\",\"6\",\"7\",\"8\",\"9\",\"10\"],\"Desk_Y\":[84,37,32,51,33,38,58,46,46,34],\"Executive Chair_Y\":[150,56,50,58,39,57,54,24,35,50],\"Insurance_Y\":[172,77,95,108,74,96,77,82,71,98],\"Monitor_Y\":[112,6,5,4,5,1,0,0,0,0],\"Office Supplies_Y\":[336,700,630,574,635,455,454,652,737,739],\"Printer_Y\":[102,12,13,7,8,9,6,5,5,19],\"Standard Chair_Y\":[84,9,9,7,1,2,1,1,0,2],\"Toner_Y\":[121,44,56,51,46,37,37,35,39,70]},\"selected\":{\"id\":\"17970\",\"type\":\"Selection\"},\"selection_policy\":{\"id\":\"17971\",\"type\":\"UnionRenderers\"}},\"id\":\"17879\",\"type\":\"ColumnDataSource\"},{\"attributes\":{},\"id\":\"17970\",\"type\":\"Selection\"},{\"attributes\":{},\"id\":\"17971\",\"type\":\"UnionRenderers\"},{\"attributes\":{\"source\":{\"id\":\"17879\",\"type\":\"ColumnDataSource\"}},\"id\":\"17906\",\"type\":\"CDSView\"},{\"attributes\":{\"data_source\":{\"id\":\"17879\",\"type\":\"ColumnDataSource\"},\"glyph\":{\"id\":\"17903\",\"type\":\"VBar\"},\"hover_glyph\":null,\"muted_glyph\":null,\"nonselection_glyph\":{\"id\":\"17904\",\"type\":\"VBar\"},\"selection_glyph\":null,\"view\":{\"id\":\"17906\",\"type\":\"CDSView\"}},\"id\":\"17905\",\"type\":\"GlyphRenderer\"},{\"attributes\":{\"text\":\"Decile Wise Standard Chair Purchase\"},\"id\":\"17881\",\"type\":\"Title\"},{\"attributes\":{\"grid_line_color\":null,\"ticker\":{\"id\":\"17892\",\"type\":\"CategoricalTicker\"}},\"id\":\"17894\",\"type\":\"Grid\"},{\"attributes\":{\"formatter\":{\"id\":\"17968\",\"type\":\"BasicTickFormatter\"},\"ticker\":{\"id\":\"17896\",\"type\":\"BasicTicker\"}},\"id\":\"17895\",\"type\":\"LinearAxis\"},{\"attributes\":{},\"id\":\"17966\",\"type\":\"CategoricalTickFormatter\"},{\"attributes\":{},\"id\":\"17889\",\"type\":\"LinearScale\"},{\"attributes\":{\"fill_color\":{\"value\":\"#718dbf\"},\"line_color\":{\"value\":\"#718dbf\"},\"top\":{\"field\":\"Standard Chair_Y\"},\"width\":{\"value\":0.4},\"x\":{\"field\":\"Decile\",\"transform\":{\"id\":\"17901\",\"type\":\"Dodge\"}}},\"id\":\"17903\",\"type\":\"VBar\"},{\"attributes\":{},\"id\":\"17887\",\"type\":\"CategoricalScale\"},{\"attributes\":{\"fill_alpha\":{\"value\":0.1},\"fill_color\":{\"value\":\"#1f77b4\"},\"line_alpha\":{\"value\":0.1},\"line_color\":{\"value\":\"#1f77b4\"},\"top\":{\"field\":\"Standard Chair_Y\"},\"width\":{\"value\":0.4},\"x\":{\"field\":\"Decile\",\"transform\":{\"id\":\"17901\",\"type\":\"Dodge\"}}},\"id\":\"17904\",\"type\":\"VBar\"}],\"root_ids\":[\"17880\"]},\"title\":\"Bokeh Application\",\"version\":\"1.3.4\"}};\n",
       "  var render_items = [{\"docid\":\"f7d43962-a33b-4fb9-89f1-6c518be360d3\",\"roots\":{\"17880\":\"6a8735fb-1db7-4fab-84b7-189966e1af70\"}}];\n",
       "  root.Bokeh.embed.embed_items_notebook(docs_json, render_items);\n",
       "\n",
       "  }\n",
       "  if (root.Bokeh !== undefined) {\n",
       "    embed_document(root);\n",
       "  } else {\n",
       "    var attempts = 0;\n",
       "    var timer = setInterval(function(root) {\n",
       "      if (root.Bokeh !== undefined) {\n",
       "        embed_document(root);\n",
       "        clearInterval(timer);\n",
       "      }\n",
       "      attempts++;\n",
       "      if (attempts > 100) {\n",
       "        console.log(\"Bokeh: ERROR: Unable to run BokehJS code because BokehJS library is missing\");\n",
       "        clearInterval(timer);\n",
       "      }\n",
       "    }, 10, root)\n",
       "  }\n",
       "})(window);"
      ],
      "application/vnd.bokehjs_exec.v0+json": ""
     },
     "metadata": {
      "application/vnd.bokehjs_exec.v0+json": {
       "id": "17880"
      }
     },
     "output_type": "display_data"
    }
   ],
   "source": [
    "source = ColumnDataSource(data=data)\n",
    "p = figure(x_range=dates, y_range=(0, g1[['Standard Chair_Y']].values.max() + 5), \n",
    "           plot_height=250, title=\"Decile Wise Standard Chair Purchase\", toolbar_location=None, tools=\"\")\n",
    "\n",
    "\n",
    "p.vbar(x=dodge('Decile',  0,  range=p.x_range), top='Standard Chair_Y', width=0.4, source=source, color=\"#718dbf\")\n",
    "\n",
    "p.add_tools(HoverTool(tooltips=[(\"Standard Chair\", \"$y{int}\")]))\n",
    "p.x_range.range_padding = 0.1\n",
    "p.xgrid.grid_line_color = None\n",
    "p.legend.location = \"top_left\"\n",
    "p.legend.orientation = \"horizontal\"\n",
    "show(p)"
   ]
  },
  {
   "cell_type": "code",
   "execution_count": 213,
   "metadata": {
    "slideshow": {
     "slide_type": "slide"
    }
   },
   "outputs": [],
   "source": [
    "df2 = df[['Decile','Number of Employees_Big','Number of Employees_Huge','Number of Employees_Large', 'Number of Employees_medium','Number of Employees_small','Number of Employees_unknown']]\n",
    "\n",
    "          "
   ]
  },
  {
   "cell_type": "code",
   "execution_count": 214,
   "metadata": {
    "slideshow": {
     "slide_type": "fragment"
    }
   },
   "outputs": [],
   "source": [
    "g2 = df2.groupby('Decile', as_index=False).sum()"
   ]
  },
  {
   "cell_type": "code",
   "execution_count": 215,
   "metadata": {
    "slideshow": {
     "slide_type": "skip"
    }
   },
   "outputs": [
    {
     "name": "stdout",
     "output_type": "stream",
     "text": [
      "   Decile  Number of Employees_Big  Number of Employees_Huge  \\\n",
      "0       1                       59                        23   \n",
      "1       2                       22                         5   \n",
      "2       3                       22                        21   \n",
      "3       4                       74                        16   \n",
      "4       5                       19                         9   \n",
      "5       6                       35                        13   \n",
      "6       7                       56                         4   \n",
      "7       8                        6                         3   \n",
      "8       9                       10                         5   \n",
      "9      10                       25                         7   \n",
      "\n",
      "   Number of Employees_Large  Number of Employees_medium  \\\n",
      "0                         90                          81   \n",
      "1                         76                         166   \n",
      "2                         34                          33   \n",
      "3                        156                         191   \n",
      "4                         30                          85   \n",
      "5                         87                          71   \n",
      "6                        105                         131   \n",
      "7                         97                         167   \n",
      "8                         16                         129   \n",
      "9                         16                          71   \n",
      "\n",
      "   Number of Employees_small  Number of Employees_unknown  \n",
      "0                         37                          519  \n",
      "1                        482                           57  \n",
      "2                        554                          144  \n",
      "3                        205                          167  \n",
      "4                        541                          124  \n",
      "5                        293                          309  \n",
      "6                        218                          295  \n",
      "7                        440                           95  \n",
      "8                        599                           49  \n",
      "9                        639                           51  \n"
     ]
    }
   ],
   "source": [
    "print(g2)"
   ]
  },
  {
   "cell_type": "code",
   "execution_count": 216,
   "metadata": {
    "slideshow": {
     "slide_type": "fragment"
    }
   },
   "outputs": [],
   "source": [
    "#convert datetimes to strings\n",
    "g2['Decile'] = g2['Decile'].apply(str)\n",
    "#convert dataframe to dict\n",
    "data2 = g2.to_dict(orient='list')\n",
    "dates2 = g2['Decile'].tolist()"
   ]
  },
  {
   "cell_type": "code",
   "execution_count": 233,
   "metadata": {
    "slideshow": {
     "slide_type": "slide"
    }
   },
   "outputs": [
    {
     "data": {
      "text/html": [
       "<div style=\"display: table;\"><div style=\"display: table-row;\"><div style=\"display: table-cell;\"><b title=\"bokeh.models.renderers.GlyphRenderer\">GlyphRenderer</b>(</div><div style=\"display: table-cell;\">id&nbsp;=&nbsp;'19566', <span id=\"19577\" style=\"cursor: pointer;\">&hellip;)</span></div></div><div class=\"19576\" style=\"display: none;\"><div style=\"display: table-cell;\"></div><div style=\"display: table-cell;\">data_source&nbsp;=&nbsp;ColumnDataSource(id='19471', ...),</div></div><div class=\"19576\" style=\"display: none;\"><div style=\"display: table-cell;\"></div><div style=\"display: table-cell;\">glyph&nbsp;=&nbsp;VBar(id='19564', ...),</div></div><div class=\"19576\" style=\"display: none;\"><div style=\"display: table-cell;\"></div><div style=\"display: table-cell;\">hover_glyph&nbsp;=&nbsp;None,</div></div><div class=\"19576\" style=\"display: none;\"><div style=\"display: table-cell;\"></div><div style=\"display: table-cell;\">js_event_callbacks&nbsp;=&nbsp;{},</div></div><div class=\"19576\" style=\"display: none;\"><div style=\"display: table-cell;\"></div><div style=\"display: table-cell;\">js_property_callbacks&nbsp;=&nbsp;{},</div></div><div class=\"19576\" style=\"display: none;\"><div style=\"display: table-cell;\"></div><div style=\"display: table-cell;\">level&nbsp;=&nbsp;'glyph',</div></div><div class=\"19576\" style=\"display: none;\"><div style=\"display: table-cell;\"></div><div style=\"display: table-cell;\">muted&nbsp;=&nbsp;False,</div></div><div class=\"19576\" style=\"display: none;\"><div style=\"display: table-cell;\"></div><div style=\"display: table-cell;\">muted_glyph&nbsp;=&nbsp;None,</div></div><div class=\"19576\" style=\"display: none;\"><div style=\"display: table-cell;\"></div><div style=\"display: table-cell;\">name&nbsp;=&nbsp;None,</div></div><div class=\"19576\" style=\"display: none;\"><div style=\"display: table-cell;\"></div><div style=\"display: table-cell;\">nonselection_glyph&nbsp;=&nbsp;VBar(id='19565', ...),</div></div><div class=\"19576\" style=\"display: none;\"><div style=\"display: table-cell;\"></div><div style=\"display: table-cell;\">selection_glyph&nbsp;=&nbsp;None,</div></div><div class=\"19576\" style=\"display: none;\"><div style=\"display: table-cell;\"></div><div style=\"display: table-cell;\">subscribed_events&nbsp;=&nbsp;[],</div></div><div class=\"19576\" style=\"display: none;\"><div style=\"display: table-cell;\"></div><div style=\"display: table-cell;\">tags&nbsp;=&nbsp;[],</div></div><div class=\"19576\" style=\"display: none;\"><div style=\"display: table-cell;\"></div><div style=\"display: table-cell;\">view&nbsp;=&nbsp;CDSView(id='19567', ...),</div></div><div class=\"19576\" style=\"display: none;\"><div style=\"display: table-cell;\"></div><div style=\"display: table-cell;\">visible&nbsp;=&nbsp;True,</div></div><div class=\"19576\" style=\"display: none;\"><div style=\"display: table-cell;\"></div><div style=\"display: table-cell;\">x_range_name&nbsp;=&nbsp;'default',</div></div><div class=\"19576\" style=\"display: none;\"><div style=\"display: table-cell;\"></div><div style=\"display: table-cell;\">y_range_name&nbsp;=&nbsp;'default')</div></div></div>\n",
       "<script>\n",
       "(function() {\n",
       "  var expanded = false;\n",
       "  var ellipsis = document.getElementById(\"19577\");\n",
       "  ellipsis.addEventListener(\"click\", function() {\n",
       "    var rows = document.getElementsByClassName(\"19576\");\n",
       "    for (var i = 0; i < rows.length; i++) {\n",
       "      var el = rows[i];\n",
       "      el.style.display = expanded ? \"none\" : \"table-row\";\n",
       "    }\n",
       "    ellipsis.innerHTML = expanded ? \"&hellip;)\" : \"&lsaquo;&lsaquo;&lsaquo;\";\n",
       "    expanded = !expanded;\n",
       "  });\n",
       "})();\n",
       "</script>\n"
      ],
      "text/plain": [
       "GlyphRenderer(id='19566', ...)"
      ]
     },
     "execution_count": 233,
     "metadata": {},
     "output_type": "execute_result"
    }
   ],
   "source": [
    "source = ColumnDataSource(data=data2)\n",
    "p = figure(x_range=dates2, y_range=(0, g2[['Number of Employees_Big','Number of Employees_Huge','Number of Employees_Large', 'Number of Employees_medium','Number of Employees_small','Number of Employees_unknown']].values.max() + 250), \n",
    "           plot_height=250, title=\"Customer Company Size by Number of Employees\", toolbar_location=None, tools=\"\", plot_width= 1200)\n",
    "\n",
    "p.vbar(x=dodge('Decile',  -.45,  range=p.x_range), top='Number of Employees_Big', width=0.15, source=source, color=\"DarkKhaki\", legend=value(\"Big\"))\n",
    "p.vbar(x=dodge('Decile',  -0.30,  range=p.x_range), top='Number of Employees_Huge', width=0.15, source=source, color=\"SteelBlue\", legend=value(\"Huge\"))\n",
    "p.vbar(x=dodge('Decile',  -0.15,  range=p.x_range), top='Number of Employees_Large', width=0.15, source=source, color=\"DarkGray\", legend=value(\"Large\"))\n",
    "p.vbar(x=dodge('Decile',  0,  range=p.x_range), top='Number of Employees_medium', width=0.15, source=source, color=\"#718dbf\", legend=value(\"medium\"))\n",
    "p.vbar(x=dodge('Decile',  0.15,  range=p.x_range), top='Number of Employees_small', width=0.15, source=source, color=\"Navy\", legend=value(\"small\"))\n",
    "p.vbar(x=dodge('Decile',  0.30,  range=p.x_range), top='Number of Employees_unknown', width=0.15, source=source, color=\"DarkTurquoise\", legend=value(\"unknown\"))\n",
    "\n"
   ]
  },
  {
   "cell_type": "code",
   "execution_count": 237,
   "metadata": {
    "slideshow": {
     "slide_type": "slide"
    }
   },
   "outputs": [
    {
     "data": {
      "text/html": [
       "\n",
       "\n",
       "\n",
       "\n",
       "\n",
       "\n",
       "  <div class=\"bk-root\" id=\"78423c51-fa7b-483c-8d7b-203292c81c48\" data-root-id=\"19775\"></div>\n"
      ]
     },
     "metadata": {},
     "output_type": "display_data"
    },
    {
     "data": {
      "application/javascript": [
       "(function(root) {\n",
       "  function embed_document(root) {\n",
       "    \n",
       "  var docs_json = {\"2f3f36eb-9749-4bd9-96f1-f46f7572a898\":{\"roots\":{\"references\":[{\"attributes\":{\"below\":[{\"id\":\"19786\",\"type\":\"CategoricalAxis\"}],\"center\":[{\"id\":\"19789\",\"type\":\"Grid\"},{\"id\":\"19794\",\"type\":\"Grid\"},{\"id\":\"19807\",\"type\":\"Legend\"}],\"left\":[{\"id\":\"19790\",\"type\":\"LinearAxis\"}],\"plot_height\":250,\"plot_width\":800,\"renderers\":[{\"id\":\"19800\",\"type\":\"GlyphRenderer\"},{\"id\":\"19813\",\"type\":\"GlyphRenderer\"},{\"id\":\"19827\",\"type\":\"GlyphRenderer\"}],\"title\":{\"id\":\"19776\",\"type\":\"Title\"},\"toolbar\":{\"id\":\"19795\",\"type\":\"Toolbar\"},\"toolbar_location\":null,\"x_range\":{\"id\":\"19778\",\"type\":\"FactorRange\"},\"x_scale\":{\"id\":\"19782\",\"type\":\"CategoricalScale\"},\"y_range\":{\"id\":\"19780\",\"type\":\"Range1d\"},\"y_scale\":{\"id\":\"19784\",\"type\":\"LinearScale\"}},\"id\":\"19775\",\"subtype\":\"Figure\",\"type\":\"Plot\"},{\"attributes\":{\"formatter\":{\"id\":\"19803\",\"type\":\"CategoricalTickFormatter\"},\"ticker\":{\"id\":\"19787\",\"type\":\"CategoricalTicker\"}},\"id\":\"19786\",\"type\":\"CategoricalAxis\"},{\"attributes\":{},\"id\":\"19782\",\"type\":\"CategoricalScale\"},{\"attributes\":{\"callback\":null,\"end\":884},\"id\":\"19780\",\"type\":\"Range1d\"},{\"attributes\":{\"label\":{\"value\":\"Payment Plan\"},\"renderers\":[{\"id\":\"19827\",\"type\":\"GlyphRenderer\"}]},\"id\":\"19836\",\"type\":\"LegendItem\"},{\"attributes\":{\"data_source\":{\"id\":\"19774\",\"type\":\"ColumnDataSource\"},\"glyph\":{\"id\":\"19798\",\"type\":\"VBar\"},\"hover_glyph\":null,\"muted_glyph\":null,\"nonselection_glyph\":{\"id\":\"19799\",\"type\":\"VBar\"},\"selection_glyph\":null,\"view\":{\"id\":\"19801\",\"type\":\"CDSView\"}},\"id\":\"19800\",\"type\":\"GlyphRenderer\"},{\"attributes\":{\"label\":{\"value\":\"Notice\"},\"renderers\":[{\"id\":\"19813\",\"type\":\"GlyphRenderer\"}]},\"id\":\"19822\",\"type\":\"LegendItem\"},{\"attributes\":{\"range\":{\"id\":\"19778\",\"type\":\"FactorRange\"},\"value\":0.25},\"id\":\"19823\",\"type\":\"Dodge\"},{\"attributes\":{\"fill_alpha\":{\"value\":0.1},\"fill_color\":{\"value\":\"#1f77b4\"},\"line_alpha\":{\"value\":0.1},\"line_color\":{\"value\":\"#1f77b4\"},\"top\":{\"field\":\"Repurchase Method_NOTICE\"},\"width\":{\"value\":0.25},\"x\":{\"field\":\"Decile\",\"transform\":{\"id\":\"19809\",\"type\":\"Dodge\"}}},\"id\":\"19812\",\"type\":\"VBar\"},{\"attributes\":{\"callback\":null,\"factors\":[\"1\",\"2\",\"3\",\"4\",\"5\",\"6\",\"7\",\"8\",\"9\",\"10\"],\"range_padding\":0.1},\"id\":\"19778\",\"type\":\"FactorRange\"},{\"attributes\":{\"fill_alpha\":{\"value\":0.1},\"fill_color\":{\"value\":\"#1f77b4\"},\"line_alpha\":{\"value\":0.1},\"line_color\":{\"value\":\"#1f77b4\"},\"top\":{\"field\":\"Repurchase Method_AUTO RENEW\"},\"width\":{\"value\":0.25},\"x\":{\"field\":\"Decile\",\"transform\":{\"id\":\"19796\",\"type\":\"Dodge\"}}},\"id\":\"19799\",\"type\":\"VBar\"},{\"attributes\":{},\"id\":\"19805\",\"type\":\"BasicTickFormatter\"},{\"attributes\":{\"fill_alpha\":{\"value\":0.1},\"fill_color\":{\"value\":\"#1f77b4\"},\"line_alpha\":{\"value\":0.1},\"line_color\":{\"value\":\"#1f77b4\"},\"top\":{\"field\":\"Repurchase Method_PAYMENT PLAN\"},\"width\":{\"value\":0.25},\"x\":{\"field\":\"Decile\",\"transform\":{\"id\":\"19823\",\"type\":\"Dodge\"}}},\"id\":\"19826\",\"type\":\"VBar\"},{\"attributes\":{\"items\":[{\"id\":\"19808\",\"type\":\"LegendItem\"},{\"id\":\"19822\",\"type\":\"LegendItem\"},{\"id\":\"19836\",\"type\":\"LegendItem\"}],\"location\":\"top_left\",\"orientation\":\"horizontal\"},\"id\":\"19807\",\"type\":\"Legend\"},{\"attributes\":{\"data_source\":{\"id\":\"19774\",\"type\":\"ColumnDataSource\"},\"glyph\":{\"id\":\"19811\",\"type\":\"VBar\"},\"hover_glyph\":null,\"muted_glyph\":null,\"nonselection_glyph\":{\"id\":\"19812\",\"type\":\"VBar\"},\"selection_glyph\":null,\"view\":{\"id\":\"19814\",\"type\":\"CDSView\"}},\"id\":\"19813\",\"type\":\"GlyphRenderer\"},{\"attributes\":{\"source\":{\"id\":\"19774\",\"type\":\"ColumnDataSource\"}},\"id\":\"19801\",\"type\":\"CDSView\"},{\"attributes\":{\"formatter\":{\"id\":\"19805\",\"type\":\"BasicTickFormatter\"},\"ticker\":{\"id\":\"19791\",\"type\":\"BasicTicker\"}},\"id\":\"19790\",\"type\":\"LinearAxis\"},{\"attributes\":{\"fill_color\":{\"value\":\"DarkGray\"},\"line_color\":{\"value\":\"DarkGray\"},\"top\":{\"field\":\"Repurchase Method_PAYMENT PLAN\"},\"width\":{\"value\":0.25},\"x\":{\"field\":\"Decile\",\"transform\":{\"id\":\"19823\",\"type\":\"Dodge\"}}},\"id\":\"19825\",\"type\":\"VBar\"},{\"attributes\":{\"text\":\"Repurchase Method Per Decile\"},\"id\":\"19776\",\"type\":\"Title\"},{\"attributes\":{\"grid_line_color\":null,\"ticker\":{\"id\":\"19787\",\"type\":\"CategoricalTicker\"}},\"id\":\"19789\",\"type\":\"Grid\"},{\"attributes\":{\"fill_color\":{\"value\":\"DarkKhaki\"},\"line_color\":{\"value\":\"DarkKhaki\"},\"top\":{\"field\":\"Repurchase Method_AUTO RENEW\"},\"width\":{\"value\":0.25},\"x\":{\"field\":\"Decile\",\"transform\":{\"id\":\"19796\",\"type\":\"Dodge\"}}},\"id\":\"19798\",\"type\":\"VBar\"},{\"attributes\":{\"source\":{\"id\":\"19774\",\"type\":\"ColumnDataSource\"}},\"id\":\"19814\",\"type\":\"CDSView\"},{\"attributes\":{\"fill_color\":{\"value\":\"SteelBlue\"},\"line_color\":{\"value\":\"SteelBlue\"},\"top\":{\"field\":\"Repurchase Method_NOTICE\"},\"width\":{\"value\":0.25},\"x\":{\"field\":\"Decile\",\"transform\":{\"id\":\"19809\",\"type\":\"Dodge\"}}},\"id\":\"19811\",\"type\":\"VBar\"},{\"attributes\":{\"dimension\":1,\"ticker\":{\"id\":\"19791\",\"type\":\"BasicTicker\"}},\"id\":\"19794\",\"type\":\"Grid\"},{\"attributes\":{},\"id\":\"19791\",\"type\":\"BasicTicker\"},{\"attributes\":{},\"id\":\"19784\",\"type\":\"LinearScale\"},{\"attributes\":{},\"id\":\"19803\",\"type\":\"CategoricalTickFormatter\"},{\"attributes\":{\"data_source\":{\"id\":\"19774\",\"type\":\"ColumnDataSource\"},\"glyph\":{\"id\":\"19825\",\"type\":\"VBar\"},\"hover_glyph\":null,\"muted_glyph\":null,\"nonselection_glyph\":{\"id\":\"19826\",\"type\":\"VBar\"},\"selection_glyph\":null,\"view\":{\"id\":\"19828\",\"type\":\"CDSView\"}},\"id\":\"19827\",\"type\":\"GlyphRenderer\"},{\"attributes\":{\"range\":{\"id\":\"19778\",\"type\":\"FactorRange\"}},\"id\":\"19809\",\"type\":\"Dodge\"},{\"attributes\":{},\"id\":\"19820\",\"type\":\"Selection\"},{\"attributes\":{},\"id\":\"19787\",\"type\":\"CategoricalTicker\"},{\"attributes\":{\"label\":{\"value\":\"Auto Renew\"},\"renderers\":[{\"id\":\"19800\",\"type\":\"GlyphRenderer\"}]},\"id\":\"19808\",\"type\":\"LegendItem\"},{\"attributes\":{},\"id\":\"19821\",\"type\":\"UnionRenderers\"},{\"attributes\":{\"active_drag\":\"auto\",\"active_inspect\":\"auto\",\"active_multi\":null,\"active_scroll\":\"auto\",\"active_tap\":\"auto\"},\"id\":\"19795\",\"type\":\"Toolbar\"},{\"attributes\":{\"callback\":null,\"data\":{\"Decile\":[\"1\",\"2\",\"3\",\"4\",\"5\",\"6\",\"7\",\"8\",\"9\",\"10\"],\"Repurchase Method_AUTO RENEW\":[353,189,198,295,220,224,251,167,162,75],\"Repurchase Method_NOTICE\":[455,619,610,514,588,584,558,641,646,734],\"Repurchase Method_PAYMENT PLAN\":[1,0,0,0,0,0,0,0,0,0]},\"selected\":{\"id\":\"19820\",\"type\":\"Selection\"},\"selection_policy\":{\"id\":\"19821\",\"type\":\"UnionRenderers\"}},\"id\":\"19774\",\"type\":\"ColumnDataSource\"},{\"attributes\":{\"source\":{\"id\":\"19774\",\"type\":\"ColumnDataSource\"}},\"id\":\"19828\",\"type\":\"CDSView\"},{\"attributes\":{\"range\":{\"id\":\"19778\",\"type\":\"FactorRange\"},\"value\":-0.25},\"id\":\"19796\",\"type\":\"Dodge\"}],\"root_ids\":[\"19775\"]},\"title\":\"Bokeh Application\",\"version\":\"1.3.4\"}};\n",
       "  var render_items = [{\"docid\":\"2f3f36eb-9749-4bd9-96f1-f46f7572a898\",\"roots\":{\"19775\":\"78423c51-fa7b-483c-8d7b-203292c81c48\"}}];\n",
       "  root.Bokeh.embed.embed_items_notebook(docs_json, render_items);\n",
       "\n",
       "  }\n",
       "  if (root.Bokeh !== undefined) {\n",
       "    embed_document(root);\n",
       "  } else {\n",
       "    var attempts = 0;\n",
       "    var timer = setInterval(function(root) {\n",
       "      if (root.Bokeh !== undefined) {\n",
       "        embed_document(root);\n",
       "        clearInterval(timer);\n",
       "      }\n",
       "      attempts++;\n",
       "      if (attempts > 100) {\n",
       "        console.log(\"Bokeh: ERROR: Unable to run BokehJS code because BokehJS library is missing\");\n",
       "        clearInterval(timer);\n",
       "      }\n",
       "    }, 10, root)\n",
       "  }\n",
       "})(window);"
      ],
      "application/vnd.bokehjs_exec.v0+json": ""
     },
     "metadata": {
      "application/vnd.bokehjs_exec.v0+json": {
       "id": "19775"
      }
     },
     "output_type": "display_data"
    }
   ],
   "source": [
    "p.x_range.range_padding = 0.1\n",
    "p.xgrid.grid_line_color = None\n",
    "p.legend.location = \"top_left\"\n",
    "p.legend.orientation = \"horizontal\"\n",
    "show(p)"
   ]
  },
  {
   "cell_type": "code",
   "execution_count": 219,
   "metadata": {
    "slideshow": {
     "slide_type": "slide"
    }
   },
   "outputs": [],
   "source": [
    "df3 = df[['Decile','Last Transaction Channel_AUTO RENEW','Last Transaction Channel_BILLING','Last Transaction Channel_BRANCH (PHONE)','Last Transaction Channel_BRANCH (POS)', 'Last Transaction Channel_MAIL','Last Transaction Channel_IT','Last Transaction Channel_PHONE','Last Transaction Channel_UNKNOWN','Last Transaction Channel_WEB']]"
   ]
  },
  {
   "cell_type": "code",
   "execution_count": 220,
   "metadata": {
    "slideshow": {
     "slide_type": "fragment"
    }
   },
   "outputs": [],
   "source": [
    "g3 = df3.groupby('Decile', as_index=False).sum()"
   ]
  },
  {
   "cell_type": "code",
   "execution_count": 221,
   "metadata": {
    "slideshow": {
     "slide_type": "fragment"
    }
   },
   "outputs": [],
   "source": [
    "#convert datetimes to strings\n",
    "g3['Decile'] = g3['Decile'].apply(str)\n",
    "#convert dataframe to dict\n",
    "data3 = g3.to_dict(orient='list')\n",
    "dates3 = g3['Decile'].tolist()"
   ]
  },
  {
   "cell_type": "code",
   "execution_count": 230,
   "metadata": {
    "slideshow": {
     "slide_type": "slide"
    }
   },
   "outputs": [
    {
     "data": {
      "text/html": [
       "<div style=\"display: table;\"><div style=\"display: table-row;\"><div style=\"display: table-cell;\"><b title=\"bokeh.models.renderers.GlyphRenderer\">GlyphRenderer</b>(</div><div style=\"display: table-cell;\">id&nbsp;=&nbsp;'19109', <span id=\"19120\" style=\"cursor: pointer;\">&hellip;)</span></div></div><div class=\"19119\" style=\"display: none;\"><div style=\"display: table-cell;\"></div><div style=\"display: table-cell;\">data_source&nbsp;=&nbsp;ColumnDataSource(id='18972', ...),</div></div><div class=\"19119\" style=\"display: none;\"><div style=\"display: table-cell;\"></div><div style=\"display: table-cell;\">glyph&nbsp;=&nbsp;VBar(id='19107', ...),</div></div><div class=\"19119\" style=\"display: none;\"><div style=\"display: table-cell;\"></div><div style=\"display: table-cell;\">hover_glyph&nbsp;=&nbsp;None,</div></div><div class=\"19119\" style=\"display: none;\"><div style=\"display: table-cell;\"></div><div style=\"display: table-cell;\">js_event_callbacks&nbsp;=&nbsp;{},</div></div><div class=\"19119\" style=\"display: none;\"><div style=\"display: table-cell;\"></div><div style=\"display: table-cell;\">js_property_callbacks&nbsp;=&nbsp;{},</div></div><div class=\"19119\" style=\"display: none;\"><div style=\"display: table-cell;\"></div><div style=\"display: table-cell;\">level&nbsp;=&nbsp;'glyph',</div></div><div class=\"19119\" style=\"display: none;\"><div style=\"display: table-cell;\"></div><div style=\"display: table-cell;\">muted&nbsp;=&nbsp;False,</div></div><div class=\"19119\" style=\"display: none;\"><div style=\"display: table-cell;\"></div><div style=\"display: table-cell;\">muted_glyph&nbsp;=&nbsp;None,</div></div><div class=\"19119\" style=\"display: none;\"><div style=\"display: table-cell;\"></div><div style=\"display: table-cell;\">name&nbsp;=&nbsp;None,</div></div><div class=\"19119\" style=\"display: none;\"><div style=\"display: table-cell;\"></div><div style=\"display: table-cell;\">nonselection_glyph&nbsp;=&nbsp;VBar(id='19108', ...),</div></div><div class=\"19119\" style=\"display: none;\"><div style=\"display: table-cell;\"></div><div style=\"display: table-cell;\">selection_glyph&nbsp;=&nbsp;None,</div></div><div class=\"19119\" style=\"display: none;\"><div style=\"display: table-cell;\"></div><div style=\"display: table-cell;\">subscribed_events&nbsp;=&nbsp;[],</div></div><div class=\"19119\" style=\"display: none;\"><div style=\"display: table-cell;\"></div><div style=\"display: table-cell;\">tags&nbsp;=&nbsp;[],</div></div><div class=\"19119\" style=\"display: none;\"><div style=\"display: table-cell;\"></div><div style=\"display: table-cell;\">view&nbsp;=&nbsp;CDSView(id='19110', ...),</div></div><div class=\"19119\" style=\"display: none;\"><div style=\"display: table-cell;\"></div><div style=\"display: table-cell;\">visible&nbsp;=&nbsp;True,</div></div><div class=\"19119\" style=\"display: none;\"><div style=\"display: table-cell;\"></div><div style=\"display: table-cell;\">x_range_name&nbsp;=&nbsp;'default',</div></div><div class=\"19119\" style=\"display: none;\"><div style=\"display: table-cell;\"></div><div style=\"display: table-cell;\">y_range_name&nbsp;=&nbsp;'default')</div></div></div>\n",
       "<script>\n",
       "(function() {\n",
       "  var expanded = false;\n",
       "  var ellipsis = document.getElementById(\"19120\");\n",
       "  ellipsis.addEventListener(\"click\", function() {\n",
       "    var rows = document.getElementsByClassName(\"19119\");\n",
       "    for (var i = 0; i < rows.length; i++) {\n",
       "      var el = rows[i];\n",
       "      el.style.display = expanded ? \"none\" : \"table-row\";\n",
       "    }\n",
       "    ellipsis.innerHTML = expanded ? \"&hellip;)\" : \"&lsaquo;&lsaquo;&lsaquo;\";\n",
       "    expanded = !expanded;\n",
       "  });\n",
       "})();\n",
       "</script>\n"
      ],
      "text/plain": [
       "GlyphRenderer(id='19109', ...)"
      ]
     },
     "execution_count": 230,
     "metadata": {},
     "output_type": "execute_result"
    }
   ],
   "source": [
    "source = ColumnDataSource(data=data3)\n",
    "p = figure(x_range=dates3, y_range=(0, g3[['Last Transaction Channel_AUTO RENEW','Last Transaction Channel_BILLING','Last Transaction Channel_BRANCH (PHONE)','Last Transaction Channel_BRANCH (POS)', 'Last Transaction Channel_MAIL','Last Transaction Channel_IT','Last Transaction Channel_PHONE','Last Transaction Channel_UNKNOWN','Last Transaction Channel_WEB']].values.max() + 150), \n",
    "           plot_height=250, title=\"Transaction Channel Per Decile\", toolbar_location=None, tools=\"\", plot_width= 1200)\n",
    "\n",
    "p.vbar(x=dodge('Decile',  -.40,  range=p.x_range), top='Last Transaction Channel_AUTO RENEW', width=0.1, source=source, color=\"DarkKhaki\", legend=value(\"Auto Renew\"))\n",
    "p.vbar(x=dodge('Decile',  -0.30,  range=p.x_range), top='Last Transaction Channel_BILLING', width=0.1, source=source, color=\"SteelBlue\", legend=value(\"Billing\"))\n",
    "p.vbar(x=dodge('Decile',  -0.20,  range=p.x_range), top='Last Transaction Channel_BRANCH (PHONE)', width=0.1, source=source, color=\"DarkGray\", legend=value(\"Branch Phone\"))\n",
    "p.vbar(x=dodge('Decile',  -0.10,  range=p.x_range), top='Last Transaction Channel_BRANCH (POS)', width=0.1, source=source, color=\"#718dbf\", legend=value(\"Branch\"))\n",
    "p.vbar(x=dodge('Decile',  0,  range=p.x_range), top='Last Transaction Channel_MAIL', width=0.1, source=source, color=\"Navy\", legend=value(\"Mail\"))\n",
    "p.vbar(x=dodge('Decile',  0.10,  range=p.x_range), top='Last Transaction Channel_IT', width=0.1, source=source, color=\"DarkTurquoise\", legend=value(\"IT\"))\n",
    "p.vbar(x=dodge('Decile',  0.20,  range=p.x_range), top='Last Transaction Channel_PHONE', width=0.1, source=source, color=\"PaleVioletRed\", legend=value(\"Phone\"))\n",
    "p.vbar(x=dodge('Decile',  0.30,  range=p.x_range), top='Last Transaction Channel_UNKNOWN', width=0.1, source=source, color=\"OliveDrab\", legend=value(\"Unknown\"))\n",
    "p.vbar(x=dodge('Decile',  0.40,  range=p.x_range), top='Last Transaction Channel_WEB', width=0.1, source=source, color=\"Purple\", legend=value(\"WEB\"))\n",
    "\n"
   ]
  },
  {
   "cell_type": "code",
   "execution_count": 235,
   "metadata": {
    "slideshow": {
     "slide_type": "slide"
    }
   },
   "outputs": [
    {
     "data": {
      "text/html": [
       "\n",
       "\n",
       "\n",
       "\n",
       "\n",
       "\n",
       "  <div class=\"bk-root\" id=\"fbc9e0de-c426-4396-b623-16cb53bd9fff\" data-root-id=\"19472\"></div>\n"
      ]
     },
     "metadata": {},
     "output_type": "display_data"
    },
    {
     "data": {
      "application/javascript": [
       "(function(root) {\n",
       "  function embed_document(root) {\n",
       "    \n",
       "  var docs_json = {\"c51588f8-2c2a-496e-8b01-2bd7c838f5be\":{\"roots\":{\"references\":[{\"attributes\":{\"below\":[{\"id\":\"19483\",\"type\":\"CategoricalAxis\"}],\"center\":[{\"id\":\"19486\",\"type\":\"Grid\"},{\"id\":\"19491\",\"type\":\"Grid\"},{\"id\":\"19504\",\"type\":\"Legend\"}],\"left\":[{\"id\":\"19487\",\"type\":\"LinearAxis\"}],\"plot_height\":250,\"plot_width\":1200,\"renderers\":[{\"id\":\"19497\",\"type\":\"GlyphRenderer\"},{\"id\":\"19510\",\"type\":\"GlyphRenderer\"},{\"id\":\"19524\",\"type\":\"GlyphRenderer\"},{\"id\":\"19538\",\"type\":\"GlyphRenderer\"},{\"id\":\"19552\",\"type\":\"GlyphRenderer\"},{\"id\":\"19566\",\"type\":\"GlyphRenderer\"}],\"title\":{\"id\":\"19473\",\"type\":\"Title\"},\"toolbar\":{\"id\":\"19492\",\"type\":\"Toolbar\"},\"toolbar_location\":null,\"x_range\":{\"id\":\"19475\",\"type\":\"FactorRange\"},\"x_scale\":{\"id\":\"19479\",\"type\":\"CategoricalScale\"},\"y_range\":{\"id\":\"19477\",\"type\":\"Range1d\"},\"y_scale\":{\"id\":\"19481\",\"type\":\"LinearScale\"}},\"id\":\"19472\",\"subtype\":\"Figure\",\"type\":\"Plot\"},{\"attributes\":{\"data_source\":{\"id\":\"19471\",\"type\":\"ColumnDataSource\"},\"glyph\":{\"id\":\"19536\",\"type\":\"VBar\"},\"hover_glyph\":null,\"muted_glyph\":null,\"nonselection_glyph\":{\"id\":\"19537\",\"type\":\"VBar\"},\"selection_glyph\":null,\"view\":{\"id\":\"19539\",\"type\":\"CDSView\"}},\"id\":\"19538\",\"type\":\"GlyphRenderer\"},{\"attributes\":{\"range\":{\"id\":\"19475\",\"type\":\"FactorRange\"}},\"id\":\"19534\",\"type\":\"Dodge\"},{\"attributes\":{\"fill_color\":{\"value\":\"DarkGray\"},\"line_color\":{\"value\":\"DarkGray\"},\"top\":{\"field\":\"Number of Employees_Large\"},\"width\":{\"value\":0.15},\"x\":{\"field\":\"Decile\",\"transform\":{\"id\":\"19520\",\"type\":\"Dodge\"}}},\"id\":\"19522\",\"type\":\"VBar\"},{\"attributes\":{\"fill_alpha\":{\"value\":0.1},\"fill_color\":{\"value\":\"#1f77b4\"},\"line_alpha\":{\"value\":0.1},\"line_color\":{\"value\":\"#1f77b4\"},\"top\":{\"field\":\"Number of Employees_unknown\"},\"width\":{\"value\":0.15},\"x\":{\"field\":\"Decile\",\"transform\":{\"id\":\"19562\",\"type\":\"Dodge\"}}},\"id\":\"19565\",\"type\":\"VBar\"},{\"attributes\":{\"fill_color\":{\"value\":\"Navy\"},\"line_color\":{\"value\":\"Navy\"},\"top\":{\"field\":\"Number of Employees_small\"},\"width\":{\"value\":0.15},\"x\":{\"field\":\"Decile\",\"transform\":{\"id\":\"19548\",\"type\":\"Dodge\"}}},\"id\":\"19550\",\"type\":\"VBar\"},{\"attributes\":{},\"id\":\"19517\",\"type\":\"Selection\"},{\"attributes\":{\"callback\":null,\"factors\":[\"1\",\"2\",\"3\",\"4\",\"5\",\"6\",\"7\",\"8\",\"9\",\"10\"],\"range_padding\":0},\"id\":\"19475\",\"type\":\"FactorRange\"},{\"attributes\":{},\"id\":\"19518\",\"type\":\"UnionRenderers\"},{\"attributes\":{\"fill_color\":{\"value\":\"DarkTurquoise\"},\"line_color\":{\"value\":\"DarkTurquoise\"},\"top\":{\"field\":\"Number of Employees_unknown\"},\"width\":{\"value\":0.15},\"x\":{\"field\":\"Decile\",\"transform\":{\"id\":\"19562\",\"type\":\"Dodge\"}}},\"id\":\"19564\",\"type\":\"VBar\"},{\"attributes\":{\"callback\":null,\"end\":889},\"id\":\"19477\",\"type\":\"Range1d\"},{\"attributes\":{\"range\":{\"id\":\"19475\",\"type\":\"FactorRange\"},\"value\":-0.3},\"id\":\"19506\",\"type\":\"Dodge\"},{\"attributes\":{},\"id\":\"19481\",\"type\":\"LinearScale\"},{\"attributes\":{\"label\":{\"value\":\"small\"},\"renderers\":[{\"id\":\"19552\",\"type\":\"GlyphRenderer\"}]},\"id\":\"19561\",\"type\":\"LegendItem\"},{\"attributes\":{\"range\":{\"id\":\"19475\",\"type\":\"FactorRange\"},\"value\":0.15},\"id\":\"19548\",\"type\":\"Dodge\"},{\"attributes\":{},\"id\":\"19502\",\"type\":\"BasicTickFormatter\"},{\"attributes\":{\"fill_alpha\":{\"value\":0.1},\"fill_color\":{\"value\":\"#1f77b4\"},\"line_alpha\":{\"value\":0.1},\"line_color\":{\"value\":\"#1f77b4\"},\"top\":{\"field\":\"Number of Employees_Huge\"},\"width\":{\"value\":0.15},\"x\":{\"field\":\"Decile\",\"transform\":{\"id\":\"19506\",\"type\":\"Dodge\"}}},\"id\":\"19509\",\"type\":\"VBar\"},{\"attributes\":{\"data_source\":{\"id\":\"19471\",\"type\":\"ColumnDataSource\"},\"glyph\":{\"id\":\"19495\",\"type\":\"VBar\"},\"hover_glyph\":null,\"muted_glyph\":null,\"nonselection_glyph\":{\"id\":\"19496\",\"type\":\"VBar\"},\"selection_glyph\":null,\"view\":{\"id\":\"19498\",\"type\":\"CDSView\"}},\"id\":\"19497\",\"type\":\"GlyphRenderer\"},{\"attributes\":{\"source\":{\"id\":\"19471\",\"type\":\"ColumnDataSource\"}},\"id\":\"19567\",\"type\":\"CDSView\"},{\"attributes\":{\"label\":{\"value\":\"medium\"},\"renderers\":[{\"id\":\"19538\",\"type\":\"GlyphRenderer\"}]},\"id\":\"19547\",\"type\":\"LegendItem\"},{\"attributes\":{\"label\":{\"value\":\"unknown\"},\"renderers\":[{\"id\":\"19566\",\"type\":\"GlyphRenderer\"}]},\"id\":\"19575\",\"type\":\"LegendItem\"},{\"attributes\":{\"range\":{\"id\":\"19475\",\"type\":\"FactorRange\"},\"value\":-0.45},\"id\":\"19493\",\"type\":\"Dodge\"},{\"attributes\":{\"label\":{\"value\":\"Huge\"},\"renderers\":[{\"id\":\"19510\",\"type\":\"GlyphRenderer\"}]},\"id\":\"19519\",\"type\":\"LegendItem\"},{\"attributes\":{\"source\":{\"id\":\"19471\",\"type\":\"ColumnDataSource\"}},\"id\":\"19511\",\"type\":\"CDSView\"},{\"attributes\":{\"fill_alpha\":{\"value\":0.1},\"fill_color\":{\"value\":\"#1f77b4\"},\"line_alpha\":{\"value\":0.1},\"line_color\":{\"value\":\"#1f77b4\"},\"top\":{\"field\":\"Number of Employees_small\"},\"width\":{\"value\":0.15},\"x\":{\"field\":\"Decile\",\"transform\":{\"id\":\"19548\",\"type\":\"Dodge\"}}},\"id\":\"19551\",\"type\":\"VBar\"},{\"attributes\":{\"data_source\":{\"id\":\"19471\",\"type\":\"ColumnDataSource\"},\"glyph\":{\"id\":\"19564\",\"type\":\"VBar\"},\"hover_glyph\":null,\"muted_glyph\":null,\"nonselection_glyph\":{\"id\":\"19565\",\"type\":\"VBar\"},\"selection_glyph\":null,\"view\":{\"id\":\"19567\",\"type\":\"CDSView\"}},\"id\":\"19566\",\"type\":\"GlyphRenderer\"},{\"attributes\":{\"text\":\"Customer Company Size by Number of Employees\"},\"id\":\"19473\",\"type\":\"Title\"},{\"attributes\":{\"source\":{\"id\":\"19471\",\"type\":\"ColumnDataSource\"}},\"id\":\"19553\",\"type\":\"CDSView\"},{\"attributes\":{\"range\":{\"id\":\"19475\",\"type\":\"FactorRange\"},\"value\":0.3},\"id\":\"19562\",\"type\":\"Dodge\"},{\"attributes\":{\"fill_color\":{\"value\":\"SteelBlue\"},\"line_color\":{\"value\":\"SteelBlue\"},\"top\":{\"field\":\"Number of Employees_Huge\"},\"width\":{\"value\":0.15},\"x\":{\"field\":\"Decile\",\"transform\":{\"id\":\"19506\",\"type\":\"Dodge\"}}},\"id\":\"19508\",\"type\":\"VBar\"},{\"attributes\":{\"active_drag\":\"auto\",\"active_inspect\":\"auto\",\"active_multi\":null,\"active_scroll\":\"auto\",\"active_tap\":\"auto\"},\"id\":\"19492\",\"type\":\"Toolbar\"},{\"attributes\":{},\"id\":\"19484\",\"type\":\"CategoricalTicker\"},{\"attributes\":{\"source\":{\"id\":\"19471\",\"type\":\"ColumnDataSource\"}},\"id\":\"19498\",\"type\":\"CDSView\"},{\"attributes\":{\"fill_alpha\":{\"value\":0.1},\"fill_color\":{\"value\":\"#1f77b4\"},\"line_alpha\":{\"value\":0.1},\"line_color\":{\"value\":\"#1f77b4\"},\"top\":{\"field\":\"Number of Employees_medium\"},\"width\":{\"value\":0.15},\"x\":{\"field\":\"Decile\",\"transform\":{\"id\":\"19534\",\"type\":\"Dodge\"}}},\"id\":\"19537\",\"type\":\"VBar\"},{\"attributes\":{\"grid_line_color\":null,\"ticker\":{\"id\":\"19484\",\"type\":\"CategoricalTicker\"}},\"id\":\"19486\",\"type\":\"Grid\"},{\"attributes\":{\"formatter\":{\"id\":\"19500\",\"type\":\"CategoricalTickFormatter\"},\"ticker\":{\"id\":\"19484\",\"type\":\"CategoricalTicker\"}},\"id\":\"19483\",\"type\":\"CategoricalAxis\"},{\"attributes\":{\"source\":{\"id\":\"19471\",\"type\":\"ColumnDataSource\"}},\"id\":\"19539\",\"type\":\"CDSView\"},{\"attributes\":{},\"id\":\"19488\",\"type\":\"BasicTicker\"},{\"attributes\":{\"callback\":null,\"data\":{\"Decile\":[\"1\",\"2\",\"3\",\"4\",\"5\",\"6\",\"7\",\"8\",\"9\",\"10\"],\"Number of Employees_Big\":[59,22,22,74,19,35,56,6,10,25],\"Number of Employees_Huge\":[23,5,21,16,9,13,4,3,5,7],\"Number of Employees_Large\":[90,76,34,156,30,87,105,97,16,16],\"Number of Employees_medium\":[81,166,33,191,85,71,131,167,129,71],\"Number of Employees_small\":[37,482,554,205,541,293,218,440,599,639],\"Number of Employees_unknown\":[519,57,144,167,124,309,295,95,49,51]},\"selected\":{\"id\":\"19517\",\"type\":\"Selection\"},\"selection_policy\":{\"id\":\"19518\",\"type\":\"UnionRenderers\"}},\"id\":\"19471\",\"type\":\"ColumnDataSource\"},{\"attributes\":{\"fill_alpha\":{\"value\":0.1},\"fill_color\":{\"value\":\"#1f77b4\"},\"line_alpha\":{\"value\":0.1},\"line_color\":{\"value\":\"#1f77b4\"},\"top\":{\"field\":\"Number of Employees_Large\"},\"width\":{\"value\":0.15},\"x\":{\"field\":\"Decile\",\"transform\":{\"id\":\"19520\",\"type\":\"Dodge\"}}},\"id\":\"19523\",\"type\":\"VBar\"},{\"attributes\":{\"items\":[{\"id\":\"19505\",\"type\":\"LegendItem\"},{\"id\":\"19519\",\"type\":\"LegendItem\"},{\"id\":\"19533\",\"type\":\"LegendItem\"},{\"id\":\"19547\",\"type\":\"LegendItem\"},{\"id\":\"19561\",\"type\":\"LegendItem\"},{\"id\":\"19575\",\"type\":\"LegendItem\"}],\"location\":\"top_left\",\"orientation\":\"horizontal\"},\"id\":\"19504\",\"type\":\"Legend\"},{\"attributes\":{\"fill_alpha\":{\"value\":0.1},\"fill_color\":{\"value\":\"#1f77b4\"},\"line_alpha\":{\"value\":0.1},\"line_color\":{\"value\":\"#1f77b4\"},\"top\":{\"field\":\"Number of Employees_Big\"},\"width\":{\"value\":0.15},\"x\":{\"field\":\"Decile\",\"transform\":{\"id\":\"19493\",\"type\":\"Dodge\"}}},\"id\":\"19496\",\"type\":\"VBar\"},{\"attributes\":{\"range\":{\"id\":\"19475\",\"type\":\"FactorRange\"},\"value\":-0.15},\"id\":\"19520\",\"type\":\"Dodge\"},{\"attributes\":{\"label\":{\"value\":\"Big\"},\"renderers\":[{\"id\":\"19497\",\"type\":\"GlyphRenderer\"}]},\"id\":\"19505\",\"type\":\"LegendItem\"},{\"attributes\":{},\"id\":\"19479\",\"type\":\"CategoricalScale\"},{\"attributes\":{\"data_source\":{\"id\":\"19471\",\"type\":\"ColumnDataSource\"},\"glyph\":{\"id\":\"19522\",\"type\":\"VBar\"},\"hover_glyph\":null,\"muted_glyph\":null,\"nonselection_glyph\":{\"id\":\"19523\",\"type\":\"VBar\"},\"selection_glyph\":null,\"view\":{\"id\":\"19525\",\"type\":\"CDSView\"}},\"id\":\"19524\",\"type\":\"GlyphRenderer\"},{\"attributes\":{\"fill_color\":{\"value\":\"DarkKhaki\"},\"line_color\":{\"value\":\"DarkKhaki\"},\"top\":{\"field\":\"Number of Employees_Big\"},\"width\":{\"value\":0.15},\"x\":{\"field\":\"Decile\",\"transform\":{\"id\":\"19493\",\"type\":\"Dodge\"}}},\"id\":\"19495\",\"type\":\"VBar\"},{\"attributes\":{\"fill_color\":{\"value\":\"#718dbf\"},\"line_color\":{\"value\":\"#718dbf\"},\"top\":{\"field\":\"Number of Employees_medium\"},\"width\":{\"value\":0.15},\"x\":{\"field\":\"Decile\",\"transform\":{\"id\":\"19534\",\"type\":\"Dodge\"}}},\"id\":\"19536\",\"type\":\"VBar\"},{\"attributes\":{\"data_source\":{\"id\":\"19471\",\"type\":\"ColumnDataSource\"},\"glyph\":{\"id\":\"19508\",\"type\":\"VBar\"},\"hover_glyph\":null,\"muted_glyph\":null,\"nonselection_glyph\":{\"id\":\"19509\",\"type\":\"VBar\"},\"selection_glyph\":null,\"view\":{\"id\":\"19511\",\"type\":\"CDSView\"}},\"id\":\"19510\",\"type\":\"GlyphRenderer\"},{\"attributes\":{},\"id\":\"19500\",\"type\":\"CategoricalTickFormatter\"},{\"attributes\":{\"dimension\":1,\"ticker\":{\"id\":\"19488\",\"type\":\"BasicTicker\"}},\"id\":\"19491\",\"type\":\"Grid\"},{\"attributes\":{\"label\":{\"value\":\"Large\"},\"renderers\":[{\"id\":\"19524\",\"type\":\"GlyphRenderer\"}]},\"id\":\"19533\",\"type\":\"LegendItem\"},{\"attributes\":{\"formatter\":{\"id\":\"19502\",\"type\":\"BasicTickFormatter\"},\"ticker\":{\"id\":\"19488\",\"type\":\"BasicTicker\"}},\"id\":\"19487\",\"type\":\"LinearAxis\"},{\"attributes\":{\"source\":{\"id\":\"19471\",\"type\":\"ColumnDataSource\"}},\"id\":\"19525\",\"type\":\"CDSView\"},{\"attributes\":{\"data_source\":{\"id\":\"19471\",\"type\":\"ColumnDataSource\"},\"glyph\":{\"id\":\"19550\",\"type\":\"VBar\"},\"hover_glyph\":null,\"muted_glyph\":null,\"nonselection_glyph\":{\"id\":\"19551\",\"type\":\"VBar\"},\"selection_glyph\":null,\"view\":{\"id\":\"19553\",\"type\":\"CDSView\"}},\"id\":\"19552\",\"type\":\"GlyphRenderer\"}],\"root_ids\":[\"19472\"]},\"title\":\"Bokeh Application\",\"version\":\"1.3.4\"}};\n",
       "  var render_items = [{\"docid\":\"c51588f8-2c2a-496e-8b01-2bd7c838f5be\",\"roots\":{\"19472\":\"fbc9e0de-c426-4396-b623-16cb53bd9fff\"}}];\n",
       "  root.Bokeh.embed.embed_items_notebook(docs_json, render_items);\n",
       "\n",
       "  }\n",
       "  if (root.Bokeh !== undefined) {\n",
       "    embed_document(root);\n",
       "  } else {\n",
       "    var attempts = 0;\n",
       "    var timer = setInterval(function(root) {\n",
       "      if (root.Bokeh !== undefined) {\n",
       "        embed_document(root);\n",
       "        clearInterval(timer);\n",
       "      }\n",
       "      attempts++;\n",
       "      if (attempts > 100) {\n",
       "        console.log(\"Bokeh: ERROR: Unable to run BokehJS code because BokehJS library is missing\");\n",
       "        clearInterval(timer);\n",
       "      }\n",
       "    }, 10, root)\n",
       "  }\n",
       "})(window);"
      ],
      "application/vnd.bokehjs_exec.v0+json": ""
     },
     "metadata": {
      "application/vnd.bokehjs_exec.v0+json": {
       "id": "19472"
      }
     },
     "output_type": "display_data"
    }
   ],
   "source": [
    "p.x_range.range_padding = 0\n",
    "p.xgrid.grid_line_color = None\n",
    "p.legend.location = \"top_left\"\n",
    "p.legend.orientation = \"horizontal\"\n",
    "show(p)"
   ]
  },
  {
   "cell_type": "code",
   "execution_count": 224,
   "metadata": {
    "slideshow": {
     "slide_type": "slide"
    }
   },
   "outputs": [],
   "source": [
    "df4 = df[['Decile','Repurchase Method_AUTO RENEW','Repurchase Method_NOTICE', 'Repurchase Method_PAYMENT PLAN']]"
   ]
  },
  {
   "cell_type": "code",
   "execution_count": 225,
   "metadata": {
    "slideshow": {
     "slide_type": "fragment"
    }
   },
   "outputs": [],
   "source": [
    "g4 = df4.groupby('Decile', as_index=False).sum()"
   ]
  },
  {
   "cell_type": "code",
   "execution_count": 226,
   "metadata": {
    "slideshow": {
     "slide_type": "fragment"
    }
   },
   "outputs": [],
   "source": [
    "#convert datetimes to strings\n",
    "g4['Decile'] = g4['Decile'].apply(str)\n",
    "#convert dataframe to dict\n",
    "data4 = g4.to_dict(orient='list')\n",
    "dates4 = g4['Decile'].tolist()"
   ]
  },
  {
   "cell_type": "code",
   "execution_count": 236,
   "metadata": {
    "slideshow": {
     "slide_type": "slide"
    }
   },
   "outputs": [
    {
     "data": {
      "text/html": [
       "\n",
       "\n",
       "\n",
       "\n",
       "\n",
       "\n",
       "  <div class=\"bk-root\" id=\"ad556142-e1a6-4095-9ad2-9c1c0c3d3230\" data-root-id=\"19775\"></div>\n"
      ]
     },
     "metadata": {},
     "output_type": "display_data"
    },
    {
     "data": {
      "application/javascript": [
       "(function(root) {\n",
       "  function embed_document(root) {\n",
       "    \n",
       "  var docs_json = {\"c33e0d0b-e2e0-43f1-9630-ed6fdba7c232\":{\"roots\":{\"references\":[{\"attributes\":{\"below\":[{\"id\":\"19786\",\"type\":\"CategoricalAxis\"}],\"center\":[{\"id\":\"19789\",\"type\":\"Grid\"},{\"id\":\"19794\",\"type\":\"Grid\"},{\"id\":\"19807\",\"type\":\"Legend\"}],\"left\":[{\"id\":\"19790\",\"type\":\"LinearAxis\"}],\"plot_height\":250,\"plot_width\":800,\"renderers\":[{\"id\":\"19800\",\"type\":\"GlyphRenderer\"},{\"id\":\"19813\",\"type\":\"GlyphRenderer\"},{\"id\":\"19827\",\"type\":\"GlyphRenderer\"}],\"title\":{\"id\":\"19776\",\"type\":\"Title\"},\"toolbar\":{\"id\":\"19795\",\"type\":\"Toolbar\"},\"toolbar_location\":null,\"x_range\":{\"id\":\"19778\",\"type\":\"FactorRange\"},\"x_scale\":{\"id\":\"19782\",\"type\":\"CategoricalScale\"},\"y_range\":{\"id\":\"19780\",\"type\":\"Range1d\"},\"y_scale\":{\"id\":\"19784\",\"type\":\"LinearScale\"}},\"id\":\"19775\",\"subtype\":\"Figure\",\"type\":\"Plot\"},{\"attributes\":{\"formatter\":{\"id\":\"19803\",\"type\":\"CategoricalTickFormatter\"},\"ticker\":{\"id\":\"19787\",\"type\":\"CategoricalTicker\"}},\"id\":\"19786\",\"type\":\"CategoricalAxis\"},{\"attributes\":{},\"id\":\"19782\",\"type\":\"CategoricalScale\"},{\"attributes\":{\"callback\":null,\"end\":884},\"id\":\"19780\",\"type\":\"Range1d\"},{\"attributes\":{\"label\":{\"value\":\"Payment Plan\"},\"renderers\":[{\"id\":\"19827\",\"type\":\"GlyphRenderer\"}]},\"id\":\"19836\",\"type\":\"LegendItem\"},{\"attributes\":{\"data_source\":{\"id\":\"19774\",\"type\":\"ColumnDataSource\"},\"glyph\":{\"id\":\"19798\",\"type\":\"VBar\"},\"hover_glyph\":null,\"muted_glyph\":null,\"nonselection_glyph\":{\"id\":\"19799\",\"type\":\"VBar\"},\"selection_glyph\":null,\"view\":{\"id\":\"19801\",\"type\":\"CDSView\"}},\"id\":\"19800\",\"type\":\"GlyphRenderer\"},{\"attributes\":{\"label\":{\"value\":\"Notice\"},\"renderers\":[{\"id\":\"19813\",\"type\":\"GlyphRenderer\"}]},\"id\":\"19822\",\"type\":\"LegendItem\"},{\"attributes\":{\"range\":{\"id\":\"19778\",\"type\":\"FactorRange\"},\"value\":0.25},\"id\":\"19823\",\"type\":\"Dodge\"},{\"attributes\":{\"fill_alpha\":{\"value\":0.1},\"fill_color\":{\"value\":\"#1f77b4\"},\"line_alpha\":{\"value\":0.1},\"line_color\":{\"value\":\"#1f77b4\"},\"top\":{\"field\":\"Repurchase Method_NOTICE\"},\"width\":{\"value\":0.25},\"x\":{\"field\":\"Decile\",\"transform\":{\"id\":\"19809\",\"type\":\"Dodge\"}}},\"id\":\"19812\",\"type\":\"VBar\"},{\"attributes\":{\"callback\":null,\"factors\":[\"1\",\"2\",\"3\",\"4\",\"5\",\"6\",\"7\",\"8\",\"9\",\"10\"],\"range_padding\":0.1},\"id\":\"19778\",\"type\":\"FactorRange\"},{\"attributes\":{\"fill_alpha\":{\"value\":0.1},\"fill_color\":{\"value\":\"#1f77b4\"},\"line_alpha\":{\"value\":0.1},\"line_color\":{\"value\":\"#1f77b4\"},\"top\":{\"field\":\"Repurchase Method_AUTO RENEW\"},\"width\":{\"value\":0.25},\"x\":{\"field\":\"Decile\",\"transform\":{\"id\":\"19796\",\"type\":\"Dodge\"}}},\"id\":\"19799\",\"type\":\"VBar\"},{\"attributes\":{},\"id\":\"19805\",\"type\":\"BasicTickFormatter\"},{\"attributes\":{\"fill_alpha\":{\"value\":0.1},\"fill_color\":{\"value\":\"#1f77b4\"},\"line_alpha\":{\"value\":0.1},\"line_color\":{\"value\":\"#1f77b4\"},\"top\":{\"field\":\"Repurchase Method_PAYMENT PLAN\"},\"width\":{\"value\":0.25},\"x\":{\"field\":\"Decile\",\"transform\":{\"id\":\"19823\",\"type\":\"Dodge\"}}},\"id\":\"19826\",\"type\":\"VBar\"},{\"attributes\":{\"items\":[{\"id\":\"19808\",\"type\":\"LegendItem\"},{\"id\":\"19822\",\"type\":\"LegendItem\"},{\"id\":\"19836\",\"type\":\"LegendItem\"}],\"location\":\"top_left\",\"orientation\":\"horizontal\"},\"id\":\"19807\",\"type\":\"Legend\"},{\"attributes\":{\"data_source\":{\"id\":\"19774\",\"type\":\"ColumnDataSource\"},\"glyph\":{\"id\":\"19811\",\"type\":\"VBar\"},\"hover_glyph\":null,\"muted_glyph\":null,\"nonselection_glyph\":{\"id\":\"19812\",\"type\":\"VBar\"},\"selection_glyph\":null,\"view\":{\"id\":\"19814\",\"type\":\"CDSView\"}},\"id\":\"19813\",\"type\":\"GlyphRenderer\"},{\"attributes\":{\"source\":{\"id\":\"19774\",\"type\":\"ColumnDataSource\"}},\"id\":\"19801\",\"type\":\"CDSView\"},{\"attributes\":{\"formatter\":{\"id\":\"19805\",\"type\":\"BasicTickFormatter\"},\"ticker\":{\"id\":\"19791\",\"type\":\"BasicTicker\"}},\"id\":\"19790\",\"type\":\"LinearAxis\"},{\"attributes\":{\"fill_color\":{\"value\":\"DarkGray\"},\"line_color\":{\"value\":\"DarkGray\"},\"top\":{\"field\":\"Repurchase Method_PAYMENT PLAN\"},\"width\":{\"value\":0.25},\"x\":{\"field\":\"Decile\",\"transform\":{\"id\":\"19823\",\"type\":\"Dodge\"}}},\"id\":\"19825\",\"type\":\"VBar\"},{\"attributes\":{\"text\":\"Repurchase Method Per Decile\"},\"id\":\"19776\",\"type\":\"Title\"},{\"attributes\":{\"grid_line_color\":null,\"ticker\":{\"id\":\"19787\",\"type\":\"CategoricalTicker\"}},\"id\":\"19789\",\"type\":\"Grid\"},{\"attributes\":{\"fill_color\":{\"value\":\"DarkKhaki\"},\"line_color\":{\"value\":\"DarkKhaki\"},\"top\":{\"field\":\"Repurchase Method_AUTO RENEW\"},\"width\":{\"value\":0.25},\"x\":{\"field\":\"Decile\",\"transform\":{\"id\":\"19796\",\"type\":\"Dodge\"}}},\"id\":\"19798\",\"type\":\"VBar\"},{\"attributes\":{\"source\":{\"id\":\"19774\",\"type\":\"ColumnDataSource\"}},\"id\":\"19814\",\"type\":\"CDSView\"},{\"attributes\":{\"fill_color\":{\"value\":\"SteelBlue\"},\"line_color\":{\"value\":\"SteelBlue\"},\"top\":{\"field\":\"Repurchase Method_NOTICE\"},\"width\":{\"value\":0.25},\"x\":{\"field\":\"Decile\",\"transform\":{\"id\":\"19809\",\"type\":\"Dodge\"}}},\"id\":\"19811\",\"type\":\"VBar\"},{\"attributes\":{\"dimension\":1,\"ticker\":{\"id\":\"19791\",\"type\":\"BasicTicker\"}},\"id\":\"19794\",\"type\":\"Grid\"},{\"attributes\":{},\"id\":\"19791\",\"type\":\"BasicTicker\"},{\"attributes\":{},\"id\":\"19784\",\"type\":\"LinearScale\"},{\"attributes\":{},\"id\":\"19803\",\"type\":\"CategoricalTickFormatter\"},{\"attributes\":{\"data_source\":{\"id\":\"19774\",\"type\":\"ColumnDataSource\"},\"glyph\":{\"id\":\"19825\",\"type\":\"VBar\"},\"hover_glyph\":null,\"muted_glyph\":null,\"nonselection_glyph\":{\"id\":\"19826\",\"type\":\"VBar\"},\"selection_glyph\":null,\"view\":{\"id\":\"19828\",\"type\":\"CDSView\"}},\"id\":\"19827\",\"type\":\"GlyphRenderer\"},{\"attributes\":{\"range\":{\"id\":\"19778\",\"type\":\"FactorRange\"}},\"id\":\"19809\",\"type\":\"Dodge\"},{\"attributes\":{},\"id\":\"19820\",\"type\":\"Selection\"},{\"attributes\":{},\"id\":\"19787\",\"type\":\"CategoricalTicker\"},{\"attributes\":{\"label\":{\"value\":\"Auto Renew\"},\"renderers\":[{\"id\":\"19800\",\"type\":\"GlyphRenderer\"}]},\"id\":\"19808\",\"type\":\"LegendItem\"},{\"attributes\":{},\"id\":\"19821\",\"type\":\"UnionRenderers\"},{\"attributes\":{\"active_drag\":\"auto\",\"active_inspect\":\"auto\",\"active_multi\":null,\"active_scroll\":\"auto\",\"active_tap\":\"auto\"},\"id\":\"19795\",\"type\":\"Toolbar\"},{\"attributes\":{\"callback\":null,\"data\":{\"Decile\":[\"1\",\"2\",\"3\",\"4\",\"5\",\"6\",\"7\",\"8\",\"9\",\"10\"],\"Repurchase Method_AUTO RENEW\":[353,189,198,295,220,224,251,167,162,75],\"Repurchase Method_NOTICE\":[455,619,610,514,588,584,558,641,646,734],\"Repurchase Method_PAYMENT PLAN\":[1,0,0,0,0,0,0,0,0,0]},\"selected\":{\"id\":\"19820\",\"type\":\"Selection\"},\"selection_policy\":{\"id\":\"19821\",\"type\":\"UnionRenderers\"}},\"id\":\"19774\",\"type\":\"ColumnDataSource\"},{\"attributes\":{\"source\":{\"id\":\"19774\",\"type\":\"ColumnDataSource\"}},\"id\":\"19828\",\"type\":\"CDSView\"},{\"attributes\":{\"range\":{\"id\":\"19778\",\"type\":\"FactorRange\"},\"value\":-0.25},\"id\":\"19796\",\"type\":\"Dodge\"}],\"root_ids\":[\"19775\"]},\"title\":\"Bokeh Application\",\"version\":\"1.3.4\"}};\n",
       "  var render_items = [{\"docid\":\"c33e0d0b-e2e0-43f1-9630-ed6fdba7c232\",\"roots\":{\"19775\":\"ad556142-e1a6-4095-9ad2-9c1c0c3d3230\"}}];\n",
       "  root.Bokeh.embed.embed_items_notebook(docs_json, render_items);\n",
       "\n",
       "  }\n",
       "  if (root.Bokeh !== undefined) {\n",
       "    embed_document(root);\n",
       "  } else {\n",
       "    var attempts = 0;\n",
       "    var timer = setInterval(function(root) {\n",
       "      if (root.Bokeh !== undefined) {\n",
       "        embed_document(root);\n",
       "        clearInterval(timer);\n",
       "      }\n",
       "      attempts++;\n",
       "      if (attempts > 100) {\n",
       "        console.log(\"Bokeh: ERROR: Unable to run BokehJS code because BokehJS library is missing\");\n",
       "        clearInterval(timer);\n",
       "      }\n",
       "    }, 10, root)\n",
       "  }\n",
       "})(window);"
      ],
      "application/vnd.bokehjs_exec.v0+json": ""
     },
     "metadata": {
      "application/vnd.bokehjs_exec.v0+json": {
       "id": "19775"
      }
     },
     "output_type": "display_data"
    }
   ],
   "source": [
    "source = ColumnDataSource(data=data4)\n",
    "p = figure(x_range=dates4, y_range=(0, g4[['Repurchase Method_AUTO RENEW','Repurchase Method_NOTICE', 'Repurchase Method_PAYMENT PLAN']].values.max() + 150), \n",
    "           plot_height=250, title=\"Repurchase Method Per Decile\",\n",
    "           toolbar_location=None, tools=\"\", plot_width= 800)\n",
    "\n",
    "p.vbar(x=dodge('Decile',  -.25,  range=p.x_range), top='Repurchase Method_AUTO RENEW', width=0.25, source=source, color=\"DarkKhaki\", legend=value(\"Auto Renew\"))\n",
    "p.vbar(x=dodge('Decile', 0,  range=p.x_range), top='Repurchase Method_NOTICE', width=0.25, source=source, color=\"SteelBlue\", legend=value(\"Notice\"))\n",
    "p.vbar(x=dodge('Decile',  0.25,  range=p.x_range), top='Repurchase Method_PAYMENT PLAN', width=0.25, source=source, color=\"DarkGray\", legend=value(\"Payment Plan\"))\n",
    "\n",
    "p.x_range.range_padding = 0.1\n",
    "p.xgrid.grid_line_color = None\n",
    "p.legend.location = \"top_left\"\n",
    "p.legend.orientation = \"horizontal\"\n",
    "show(p)"
   ]
  },
  {
   "cell_type": "code",
   "execution_count": null,
   "metadata": {},
   "outputs": [],
   "source": []
  },
  {
   "cell_type": "code",
   "execution_count": null,
   "metadata": {},
   "outputs": [],
   "source": []
  },
  {
   "cell_type": "code",
   "execution_count": null,
   "metadata": {},
   "outputs": [],
   "source": []
  },
  {
   "cell_type": "code",
   "execution_count": null,
   "metadata": {},
   "outputs": [],
   "source": []
  }
 ],
 "metadata": {
  "celltoolbar": "Slideshow",
  "kernelspec": {
   "display_name": "Python 3",
   "language": "python",
   "name": "python3"
  },
  "language_info": {
   "codemirror_mode": {
    "name": "ipython",
    "version": 3
   },
   "file_extension": ".py",
   "mimetype": "text/x-python",
   "name": "python",
   "nbconvert_exporter": "python",
   "pygments_lexer": "ipython3",
   "version": "3.7.6"
  }
 },
 "nbformat": 4,
 "nbformat_minor": 2
}

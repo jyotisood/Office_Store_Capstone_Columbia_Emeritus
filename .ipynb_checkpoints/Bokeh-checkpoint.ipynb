{
 "cells": [
  {
   "cell_type": "code",
   "execution_count": 120,
   "metadata": {},
   "outputs": [],
   "source": [
    "import pandas as pd\n",
    "import numpy as np\n",
    "import bokeh\n",
    "#bokeh.sampledata.download()\n",
    "from bokeh.models import ColumnDataSource\n",
    "from bokeh.models.tools import HoverTool\n",
    "import scikitplot as skplt\n",
    "import matplotlib.pyplot as plt\n",
    "%matplotlib inline\n",
    "import seaborn as sns\n",
    "from bokeh.core.properties import value\n",
    "from bokeh.io import show, output_file\n",
    "from bokeh.models import ColumnDataSource\n",
    "from bokeh.plotting import figure\n",
    "from bokeh.transform import dodge"
   ]
  },
  {
   "cell_type": "code",
   "execution_count": 121,
   "metadata": {},
   "outputs": [],
   "source": [
    "from bokeh.plotting import figure, output_notebook, show"
   ]
  },
  {
   "cell_type": "code",
   "execution_count": 122,
   "metadata": {},
   "outputs": [
    {
     "data": {
      "text/html": [
       "\n",
       "    <div class=\"bk-root\">\n",
       "        <a href=\"https://bokeh.pydata.org\" target=\"_blank\" class=\"bk-logo bk-logo-small bk-logo-notebook\"></a>\n",
       "        <span id=\"14141\">Loading BokehJS ...</span>\n",
       "    </div>"
      ]
     },
     "metadata": {},
     "output_type": "display_data"
    },
    {
     "data": {
      "application/javascript": [
       "\n",
       "(function(root) {\n",
       "  function now() {\n",
       "    return new Date();\n",
       "  }\n",
       "\n",
       "  var force = true;\n",
       "\n",
       "  if (typeof root._bokeh_onload_callbacks === \"undefined\" || force === true) {\n",
       "    root._bokeh_onload_callbacks = [];\n",
       "    root._bokeh_is_loading = undefined;\n",
       "  }\n",
       "\n",
       "  var JS_MIME_TYPE = 'application/javascript';\n",
       "  var HTML_MIME_TYPE = 'text/html';\n",
       "  var EXEC_MIME_TYPE = 'application/vnd.bokehjs_exec.v0+json';\n",
       "  var CLASS_NAME = 'output_bokeh rendered_html';\n",
       "\n",
       "  /**\n",
       "   * Render data to the DOM node\n",
       "   */\n",
       "  function render(props, node) {\n",
       "    var script = document.createElement(\"script\");\n",
       "    node.appendChild(script);\n",
       "  }\n",
       "\n",
       "  /**\n",
       "   * Handle when an output is cleared or removed\n",
       "   */\n",
       "  function handleClearOutput(event, handle) {\n",
       "    var cell = handle.cell;\n",
       "\n",
       "    var id = cell.output_area._bokeh_element_id;\n",
       "    var server_id = cell.output_area._bokeh_server_id;\n",
       "    // Clean up Bokeh references\n",
       "    if (id != null && id in Bokeh.index) {\n",
       "      Bokeh.index[id].model.document.clear();\n",
       "      delete Bokeh.index[id];\n",
       "    }\n",
       "\n",
       "    if (server_id !== undefined) {\n",
       "      // Clean up Bokeh references\n",
       "      var cmd = \"from bokeh.io.state import curstate; print(curstate().uuid_to_server['\" + server_id + \"'].get_sessions()[0].document.roots[0]._id)\";\n",
       "      cell.notebook.kernel.execute(cmd, {\n",
       "        iopub: {\n",
       "          output: function(msg) {\n",
       "            var id = msg.content.text.trim();\n",
       "            if (id in Bokeh.index) {\n",
       "              Bokeh.index[id].model.document.clear();\n",
       "              delete Bokeh.index[id];\n",
       "            }\n",
       "          }\n",
       "        }\n",
       "      });\n",
       "      // Destroy server and session\n",
       "      var cmd = \"import bokeh.io.notebook as ion; ion.destroy_server('\" + server_id + \"')\";\n",
       "      cell.notebook.kernel.execute(cmd);\n",
       "    }\n",
       "  }\n",
       "\n",
       "  /**\n",
       "   * Handle when a new output is added\n",
       "   */\n",
       "  function handleAddOutput(event, handle) {\n",
       "    var output_area = handle.output_area;\n",
       "    var output = handle.output;\n",
       "\n",
       "    // limit handleAddOutput to display_data with EXEC_MIME_TYPE content only\n",
       "    if ((output.output_type != \"display_data\") || (!output.data.hasOwnProperty(EXEC_MIME_TYPE))) {\n",
       "      return\n",
       "    }\n",
       "\n",
       "    var toinsert = output_area.element.find(\".\" + CLASS_NAME.split(' ')[0]);\n",
       "\n",
       "    if (output.metadata[EXEC_MIME_TYPE][\"id\"] !== undefined) {\n",
       "      toinsert[toinsert.length - 1].firstChild.textContent = output.data[JS_MIME_TYPE];\n",
       "      // store reference to embed id on output_area\n",
       "      output_area._bokeh_element_id = output.metadata[EXEC_MIME_TYPE][\"id\"];\n",
       "    }\n",
       "    if (output.metadata[EXEC_MIME_TYPE][\"server_id\"] !== undefined) {\n",
       "      var bk_div = document.createElement(\"div\");\n",
       "      bk_div.innerHTML = output.data[HTML_MIME_TYPE];\n",
       "      var script_attrs = bk_div.children[0].attributes;\n",
       "      for (var i = 0; i < script_attrs.length; i++) {\n",
       "        toinsert[toinsert.length - 1].firstChild.setAttribute(script_attrs[i].name, script_attrs[i].value);\n",
       "      }\n",
       "      // store reference to server id on output_area\n",
       "      output_area._bokeh_server_id = output.metadata[EXEC_MIME_TYPE][\"server_id\"];\n",
       "    }\n",
       "  }\n",
       "\n",
       "  function register_renderer(events, OutputArea) {\n",
       "\n",
       "    function append_mime(data, metadata, element) {\n",
       "      // create a DOM node to render to\n",
       "      var toinsert = this.create_output_subarea(\n",
       "        metadata,\n",
       "        CLASS_NAME,\n",
       "        EXEC_MIME_TYPE\n",
       "      );\n",
       "      this.keyboard_manager.register_events(toinsert);\n",
       "      // Render to node\n",
       "      var props = {data: data, metadata: metadata[EXEC_MIME_TYPE]};\n",
       "      render(props, toinsert[toinsert.length - 1]);\n",
       "      element.append(toinsert);\n",
       "      return toinsert\n",
       "    }\n",
       "\n",
       "    /* Handle when an output is cleared or removed */\n",
       "    events.on('clear_output.CodeCell', handleClearOutput);\n",
       "    events.on('delete.Cell', handleClearOutput);\n",
       "\n",
       "    /* Handle when a new output is added */\n",
       "    events.on('output_added.OutputArea', handleAddOutput);\n",
       "\n",
       "    /**\n",
       "     * Register the mime type and append_mime function with output_area\n",
       "     */\n",
       "    OutputArea.prototype.register_mime_type(EXEC_MIME_TYPE, append_mime, {\n",
       "      /* Is output safe? */\n",
       "      safe: true,\n",
       "      /* Index of renderer in `output_area.display_order` */\n",
       "      index: 0\n",
       "    });\n",
       "  }\n",
       "\n",
       "  // register the mime type if in Jupyter Notebook environment and previously unregistered\n",
       "  if (root.Jupyter !== undefined) {\n",
       "    var events = require('base/js/events');\n",
       "    var OutputArea = require('notebook/js/outputarea').OutputArea;\n",
       "\n",
       "    if (OutputArea.prototype.mime_types().indexOf(EXEC_MIME_TYPE) == -1) {\n",
       "      register_renderer(events, OutputArea);\n",
       "    }\n",
       "  }\n",
       "\n",
       "  \n",
       "  if (typeof (root._bokeh_timeout) === \"undefined\" || force === true) {\n",
       "    root._bokeh_timeout = Date.now() + 5000;\n",
       "    root._bokeh_failed_load = false;\n",
       "  }\n",
       "\n",
       "  var NB_LOAD_WARNING = {'data': {'text/html':\n",
       "     \"<div style='background-color: #fdd'>\\n\"+\n",
       "     \"<p>\\n\"+\n",
       "     \"BokehJS does not appear to have successfully loaded. If loading BokehJS from CDN, this \\n\"+\n",
       "     \"may be due to a slow or bad network connection. Possible fixes:\\n\"+\n",
       "     \"</p>\\n\"+\n",
       "     \"<ul>\\n\"+\n",
       "     \"<li>re-rerun `output_notebook()` to attempt to load from CDN again, or</li>\\n\"+\n",
       "     \"<li>use INLINE resources instead, as so:</li>\\n\"+\n",
       "     \"</ul>\\n\"+\n",
       "     \"<code>\\n\"+\n",
       "     \"from bokeh.resources import INLINE\\n\"+\n",
       "     \"output_notebook(resources=INLINE)\\n\"+\n",
       "     \"</code>\\n\"+\n",
       "     \"</div>\"}};\n",
       "\n",
       "  function display_loaded() {\n",
       "    var el = document.getElementById(\"14141\");\n",
       "    if (el != null) {\n",
       "      el.textContent = \"BokehJS is loading...\";\n",
       "    }\n",
       "    if (root.Bokeh !== undefined) {\n",
       "      if (el != null) {\n",
       "        el.textContent = \"BokehJS \" + root.Bokeh.version + \" successfully loaded.\";\n",
       "      }\n",
       "    } else if (Date.now() < root._bokeh_timeout) {\n",
       "      setTimeout(display_loaded, 100)\n",
       "    }\n",
       "  }\n",
       "\n",
       "\n",
       "  function run_callbacks() {\n",
       "    try {\n",
       "      root._bokeh_onload_callbacks.forEach(function(callback) {\n",
       "        if (callback != null)\n",
       "          callback();\n",
       "      });\n",
       "    } finally {\n",
       "      delete root._bokeh_onload_callbacks\n",
       "    }\n",
       "    console.debug(\"Bokeh: all callbacks have finished\");\n",
       "  }\n",
       "\n",
       "  function load_libs(css_urls, js_urls, callback) {\n",
       "    if (css_urls == null) css_urls = [];\n",
       "    if (js_urls == null) js_urls = [];\n",
       "\n",
       "    root._bokeh_onload_callbacks.push(callback);\n",
       "    if (root._bokeh_is_loading > 0) {\n",
       "      console.debug(\"Bokeh: BokehJS is being loaded, scheduling callback at\", now());\n",
       "      return null;\n",
       "    }\n",
       "    if (js_urls == null || js_urls.length === 0) {\n",
       "      run_callbacks();\n",
       "      return null;\n",
       "    }\n",
       "    console.debug(\"Bokeh: BokehJS not loaded, scheduling load and callback at\", now());\n",
       "    root._bokeh_is_loading = css_urls.length + js_urls.length;\n",
       "\n",
       "    function on_load() {\n",
       "      root._bokeh_is_loading--;\n",
       "      if (root._bokeh_is_loading === 0) {\n",
       "        console.debug(\"Bokeh: all BokehJS libraries/stylesheets loaded\");\n",
       "        run_callbacks()\n",
       "      }\n",
       "    }\n",
       "\n",
       "    function on_error() {\n",
       "      console.error(\"failed to load \" + url);\n",
       "    }\n",
       "\n",
       "    for (var i = 0; i < css_urls.length; i++) {\n",
       "      var url = css_urls[i];\n",
       "      const element = document.createElement(\"link\");\n",
       "      element.onload = on_load;\n",
       "      element.onerror = on_error;\n",
       "      element.rel = \"stylesheet\";\n",
       "      element.type = \"text/css\";\n",
       "      element.href = url;\n",
       "      console.debug(\"Bokeh: injecting link tag for BokehJS stylesheet: \", url);\n",
       "      document.body.appendChild(element);\n",
       "    }\n",
       "\n",
       "    for (var i = 0; i < js_urls.length; i++) {\n",
       "      var url = js_urls[i];\n",
       "      var element = document.createElement('script');\n",
       "      element.onload = on_load;\n",
       "      element.onerror = on_error;\n",
       "      element.async = false;\n",
       "      element.src = url;\n",
       "      console.debug(\"Bokeh: injecting script tag for BokehJS library: \", url);\n",
       "      document.head.appendChild(element);\n",
       "    }\n",
       "  };var element = document.getElementById(\"14141\");\n",
       "  if (element == null) {\n",
       "    console.error(\"Bokeh: ERROR: autoload.js configured with elementid '14141' but no matching script tag was found. \")\n",
       "    return false;\n",
       "  }\n",
       "\n",
       "  function inject_raw_css(css) {\n",
       "    const element = document.createElement(\"style\");\n",
       "    element.appendChild(document.createTextNode(css));\n",
       "    document.body.appendChild(element);\n",
       "  }\n",
       "\n",
       "  var js_urls = [\"https://cdn.pydata.org/bokeh/release/bokeh-1.3.4.min.js\", \"https://cdn.pydata.org/bokeh/release/bokeh-widgets-1.3.4.min.js\", \"https://cdn.pydata.org/bokeh/release/bokeh-tables-1.3.4.min.js\", \"https://cdn.pydata.org/bokeh/release/bokeh-gl-1.3.4.min.js\"];\n",
       "  var css_urls = [];\n",
       "\n",
       "  var inline_js = [\n",
       "    function(Bokeh) {\n",
       "      Bokeh.set_log_level(\"info\");\n",
       "    },\n",
       "    \n",
       "    function(Bokeh) {\n",
       "      \n",
       "    },\n",
       "    function(Bokeh) {} // ensure no trailing comma for IE\n",
       "  ];\n",
       "\n",
       "  function run_inline_js() {\n",
       "    \n",
       "    if ((root.Bokeh !== undefined) || (force === true)) {\n",
       "      for (var i = 0; i < inline_js.length; i++) {\n",
       "        inline_js[i].call(root, root.Bokeh);\n",
       "      }if (force === true) {\n",
       "        display_loaded();\n",
       "      }} else if (Date.now() < root._bokeh_timeout) {\n",
       "      setTimeout(run_inline_js, 100);\n",
       "    } else if (!root._bokeh_failed_load) {\n",
       "      console.log(\"Bokeh: BokehJS failed to load within specified timeout.\");\n",
       "      root._bokeh_failed_load = true;\n",
       "    } else if (force !== true) {\n",
       "      var cell = $(document.getElementById(\"14141\")).parents('.cell').data().cell;\n",
       "      cell.output_area.append_execute_result(NB_LOAD_WARNING)\n",
       "    }\n",
       "\n",
       "  }\n",
       "\n",
       "  if (root._bokeh_is_loading === 0) {\n",
       "    console.debug(\"Bokeh: BokehJS loaded, going straight to plotting\");\n",
       "    run_inline_js();\n",
       "  } else {\n",
       "    load_libs(css_urls, js_urls, function() {\n",
       "      console.debug(\"Bokeh: BokehJS plotting callback run at\", now());\n",
       "      run_inline_js();\n",
       "    });\n",
       "  }\n",
       "}(window));"
      ],
      "application/vnd.bokehjs_load.v0+json": "\n(function(root) {\n  function now() {\n    return new Date();\n  }\n\n  var force = true;\n\n  if (typeof root._bokeh_onload_callbacks === \"undefined\" || force === true) {\n    root._bokeh_onload_callbacks = [];\n    root._bokeh_is_loading = undefined;\n  }\n\n  \n\n  \n  if (typeof (root._bokeh_timeout) === \"undefined\" || force === true) {\n    root._bokeh_timeout = Date.now() + 5000;\n    root._bokeh_failed_load = false;\n  }\n\n  var NB_LOAD_WARNING = {'data': {'text/html':\n     \"<div style='background-color: #fdd'>\\n\"+\n     \"<p>\\n\"+\n     \"BokehJS does not appear to have successfully loaded. If loading BokehJS from CDN, this \\n\"+\n     \"may be due to a slow or bad network connection. Possible fixes:\\n\"+\n     \"</p>\\n\"+\n     \"<ul>\\n\"+\n     \"<li>re-rerun `output_notebook()` to attempt to load from CDN again, or</li>\\n\"+\n     \"<li>use INLINE resources instead, as so:</li>\\n\"+\n     \"</ul>\\n\"+\n     \"<code>\\n\"+\n     \"from bokeh.resources import INLINE\\n\"+\n     \"output_notebook(resources=INLINE)\\n\"+\n     \"</code>\\n\"+\n     \"</div>\"}};\n\n  function display_loaded() {\n    var el = document.getElementById(\"14141\");\n    if (el != null) {\n      el.textContent = \"BokehJS is loading...\";\n    }\n    if (root.Bokeh !== undefined) {\n      if (el != null) {\n        el.textContent = \"BokehJS \" + root.Bokeh.version + \" successfully loaded.\";\n      }\n    } else if (Date.now() < root._bokeh_timeout) {\n      setTimeout(display_loaded, 100)\n    }\n  }\n\n\n  function run_callbacks() {\n    try {\n      root._bokeh_onload_callbacks.forEach(function(callback) {\n        if (callback != null)\n          callback();\n      });\n    } finally {\n      delete root._bokeh_onload_callbacks\n    }\n    console.debug(\"Bokeh: all callbacks have finished\");\n  }\n\n  function load_libs(css_urls, js_urls, callback) {\n    if (css_urls == null) css_urls = [];\n    if (js_urls == null) js_urls = [];\n\n    root._bokeh_onload_callbacks.push(callback);\n    if (root._bokeh_is_loading > 0) {\n      console.debug(\"Bokeh: BokehJS is being loaded, scheduling callback at\", now());\n      return null;\n    }\n    if (js_urls == null || js_urls.length === 0) {\n      run_callbacks();\n      return null;\n    }\n    console.debug(\"Bokeh: BokehJS not loaded, scheduling load and callback at\", now());\n    root._bokeh_is_loading = css_urls.length + js_urls.length;\n\n    function on_load() {\n      root._bokeh_is_loading--;\n      if (root._bokeh_is_loading === 0) {\n        console.debug(\"Bokeh: all BokehJS libraries/stylesheets loaded\");\n        run_callbacks()\n      }\n    }\n\n    function on_error() {\n      console.error(\"failed to load \" + url);\n    }\n\n    for (var i = 0; i < css_urls.length; i++) {\n      var url = css_urls[i];\n      const element = document.createElement(\"link\");\n      element.onload = on_load;\n      element.onerror = on_error;\n      element.rel = \"stylesheet\";\n      element.type = \"text/css\";\n      element.href = url;\n      console.debug(\"Bokeh: injecting link tag for BokehJS stylesheet: \", url);\n      document.body.appendChild(element);\n    }\n\n    for (var i = 0; i < js_urls.length; i++) {\n      var url = js_urls[i];\n      var element = document.createElement('script');\n      element.onload = on_load;\n      element.onerror = on_error;\n      element.async = false;\n      element.src = url;\n      console.debug(\"Bokeh: injecting script tag for BokehJS library: \", url);\n      document.head.appendChild(element);\n    }\n  };var element = document.getElementById(\"14141\");\n  if (element == null) {\n    console.error(\"Bokeh: ERROR: autoload.js configured with elementid '14141' but no matching script tag was found. \")\n    return false;\n  }\n\n  function inject_raw_css(css) {\n    const element = document.createElement(\"style\");\n    element.appendChild(document.createTextNode(css));\n    document.body.appendChild(element);\n  }\n\n  var js_urls = [\"https://cdn.pydata.org/bokeh/release/bokeh-1.3.4.min.js\", \"https://cdn.pydata.org/bokeh/release/bokeh-widgets-1.3.4.min.js\", \"https://cdn.pydata.org/bokeh/release/bokeh-tables-1.3.4.min.js\", \"https://cdn.pydata.org/bokeh/release/bokeh-gl-1.3.4.min.js\"];\n  var css_urls = [];\n\n  var inline_js = [\n    function(Bokeh) {\n      Bokeh.set_log_level(\"info\");\n    },\n    \n    function(Bokeh) {\n      \n    },\n    function(Bokeh) {} // ensure no trailing comma for IE\n  ];\n\n  function run_inline_js() {\n    \n    if ((root.Bokeh !== undefined) || (force === true)) {\n      for (var i = 0; i < inline_js.length; i++) {\n        inline_js[i].call(root, root.Bokeh);\n      }if (force === true) {\n        display_loaded();\n      }} else if (Date.now() < root._bokeh_timeout) {\n      setTimeout(run_inline_js, 100);\n    } else if (!root._bokeh_failed_load) {\n      console.log(\"Bokeh: BokehJS failed to load within specified timeout.\");\n      root._bokeh_failed_load = true;\n    } else if (force !== true) {\n      var cell = $(document.getElementById(\"14141\")).parents('.cell').data().cell;\n      cell.output_area.append_execute_result(NB_LOAD_WARNING)\n    }\n\n  }\n\n  if (root._bokeh_is_loading === 0) {\n    console.debug(\"Bokeh: BokehJS loaded, going straight to plotting\");\n    run_inline_js();\n  } else {\n    load_libs(css_urls, js_urls, function() {\n      console.debug(\"Bokeh: BokehJS plotting callback run at\", now());\n      run_inline_js();\n    });\n  }\n}(window));"
     },
     "metadata": {},
     "output_type": "display_data"
    }
   ],
   "source": [
    "output_notebook()"
   ]
  },
  {
   "cell_type": "code",
   "execution_count": null,
   "metadata": {},
   "outputs": [],
   "source": []
  },
  {
   "cell_type": "code",
   "execution_count": 123,
   "metadata": {},
   "outputs": [],
   "source": [
    "df = pd.read_csv(r'Bokeh.csv')"
   ]
  },
  {
   "cell_type": "code",
   "execution_count": 124,
   "metadata": {},
   "outputs": [
    {
     "data": {
      "text/html": [
       "<div>\n",
       "<style scoped>\n",
       "    .dataframe tbody tr th:only-of-type {\n",
       "        vertical-align: middle;\n",
       "    }\n",
       "\n",
       "    .dataframe tbody tr th {\n",
       "        vertical-align: top;\n",
       "    }\n",
       "\n",
       "    .dataframe thead th {\n",
       "        text-align: right;\n",
       "    }\n",
       "</style>\n",
       "<table border=\"1\" class=\"dataframe\">\n",
       "  <thead>\n",
       "    <tr style=\"text-align: right;\">\n",
       "      <th></th>\n",
       "      <th>Customer Number</th>\n",
       "      <th>Campaign Period Sales</th>\n",
       "      <th>Historical Sales Volume</th>\n",
       "      <th>Number of Prior Year Transactions</th>\n",
       "      <th>Do Not Direct Mail Solicit</th>\n",
       "      <th>Do Not Email</th>\n",
       "      <th>Do Not Telemarket</th>\n",
       "      <th>Repurchase Method_AUTO RENEW</th>\n",
       "      <th>Repurchase Method_NOTICE</th>\n",
       "      <th>Repurchase Method_PAYMENT PLAN</th>\n",
       "      <th>...</th>\n",
       "      <th>Number of Employees_unknown</th>\n",
       "      <th>Language_English</th>\n",
       "      <th>Language_Non English</th>\n",
       "      <th>Language_Unknown</th>\n",
       "      <th>Years_since_customer</th>\n",
       "      <th>Purchase</th>\n",
       "      <th>Profit</th>\n",
       "      <th>Sales_transaction_Size</th>\n",
       "      <th>predicted_prob_sale</th>\n",
       "      <th>Decile</th>\n",
       "    </tr>\n",
       "  </thead>\n",
       "  <tbody>\n",
       "    <tr>\n",
       "      <td>0</td>\n",
       "      <td>16945903.0</td>\n",
       "      <td>0.000000</td>\n",
       "      <td>287573.333333</td>\n",
       "      <td>16.0</td>\n",
       "      <td>0.0</td>\n",
       "      <td>0.0</td>\n",
       "      <td>0.0</td>\n",
       "      <td>0</td>\n",
       "      <td>1</td>\n",
       "      <td>0</td>\n",
       "      <td>...</td>\n",
       "      <td>0</td>\n",
       "      <td>1</td>\n",
       "      <td>0</td>\n",
       "      <td>0</td>\n",
       "      <td>33</td>\n",
       "      <td>0</td>\n",
       "      <td>-46.175830</td>\n",
       "      <td>0.923803</td>\n",
       "      <td>0.064151</td>\n",
       "      <td>10</td>\n",
       "    </tr>\n",
       "    <tr>\n",
       "      <td>1</td>\n",
       "      <td>8651359.0</td>\n",
       "      <td>0.000000</td>\n",
       "      <td>502494.720000</td>\n",
       "      <td>14.0</td>\n",
       "      <td>0.0</td>\n",
       "      <td>0.0</td>\n",
       "      <td>0.0</td>\n",
       "      <td>0</td>\n",
       "      <td>1</td>\n",
       "      <td>0</td>\n",
       "      <td>...</td>\n",
       "      <td>0</td>\n",
       "      <td>1</td>\n",
       "      <td>0</td>\n",
       "      <td>0</td>\n",
       "      <td>33</td>\n",
       "      <td>0</td>\n",
       "      <td>-45.926280</td>\n",
       "      <td>13.129910</td>\n",
       "      <td>0.050129</td>\n",
       "      <td>9</td>\n",
       "    </tr>\n",
       "    <tr>\n",
       "      <td>2</td>\n",
       "      <td>33353885.0</td>\n",
       "      <td>0.000000</td>\n",
       "      <td>193789.866667</td>\n",
       "      <td>10.0</td>\n",
       "      <td>0.0</td>\n",
       "      <td>0.0</td>\n",
       "      <td>0.0</td>\n",
       "      <td>0</td>\n",
       "      <td>1</td>\n",
       "      <td>0</td>\n",
       "      <td>...</td>\n",
       "      <td>0</td>\n",
       "      <td>1</td>\n",
       "      <td>0</td>\n",
       "      <td>0</td>\n",
       "      <td>23</td>\n",
       "      <td>0</td>\n",
       "      <td>-45.921505</td>\n",
       "      <td>-3.303396</td>\n",
       "      <td>0.029748</td>\n",
       "      <td>9</td>\n",
       "    </tr>\n",
       "    <tr>\n",
       "      <td>3</td>\n",
       "      <td>26595503.0</td>\n",
       "      <td>0.000000</td>\n",
       "      <td>934627.200000</td>\n",
       "      <td>12.0</td>\n",
       "      <td>0.0</td>\n",
       "      <td>0.0</td>\n",
       "      <td>0.0</td>\n",
       "      <td>0</td>\n",
       "      <td>1</td>\n",
       "      <td>0</td>\n",
       "      <td>...</td>\n",
       "      <td>1</td>\n",
       "      <td>0</td>\n",
       "      <td>1</td>\n",
       "      <td>0</td>\n",
       "      <td>24</td>\n",
       "      <td>0</td>\n",
       "      <td>-44.625465</td>\n",
       "      <td>128.995650</td>\n",
       "      <td>0.051281</td>\n",
       "      <td>5</td>\n",
       "    </tr>\n",
       "    <tr>\n",
       "      <td>4</td>\n",
       "      <td>28176171.0</td>\n",
       "      <td>631.453333</td>\n",
       "      <td>818363.520000</td>\n",
       "      <td>16.0</td>\n",
       "      <td>0.0</td>\n",
       "      <td>0.0</td>\n",
       "      <td>0.0</td>\n",
       "      <td>1</td>\n",
       "      <td>0</td>\n",
       "      <td>0</td>\n",
       "      <td>...</td>\n",
       "      <td>0</td>\n",
       "      <td>1</td>\n",
       "      <td>0</td>\n",
       "      <td>0</td>\n",
       "      <td>26</td>\n",
       "      <td>1</td>\n",
       "      <td>30.411720</td>\n",
       "      <td>489.352330</td>\n",
       "      <td>0.766307</td>\n",
       "      <td>1</td>\n",
       "    </tr>\n",
       "  </tbody>\n",
       "</table>\n",
       "<p>5 rows × 52 columns</p>\n",
       "</div>"
      ],
      "text/plain": [
       "   Customer Number  Campaign Period Sales  Historical Sales Volume  \\\n",
       "0       16945903.0               0.000000            287573.333333   \n",
       "1        8651359.0               0.000000            502494.720000   \n",
       "2       33353885.0               0.000000            193789.866667   \n",
       "3       26595503.0               0.000000            934627.200000   \n",
       "4       28176171.0             631.453333            818363.520000   \n",
       "\n",
       "   Number of Prior Year Transactions  Do Not Direct Mail Solicit  \\\n",
       "0                               16.0                         0.0   \n",
       "1                               14.0                         0.0   \n",
       "2                               10.0                         0.0   \n",
       "3                               12.0                         0.0   \n",
       "4                               16.0                         0.0   \n",
       "\n",
       "   Do Not Email  Do Not Telemarket  Repurchase Method_AUTO RENEW  \\\n",
       "0           0.0                0.0                             0   \n",
       "1           0.0                0.0                             0   \n",
       "2           0.0                0.0                             0   \n",
       "3           0.0                0.0                             0   \n",
       "4           0.0                0.0                             1   \n",
       "\n",
       "   Repurchase Method_NOTICE  Repurchase Method_PAYMENT PLAN  ...  \\\n",
       "0                         1                               0  ...   \n",
       "1                         1                               0  ...   \n",
       "2                         1                               0  ...   \n",
       "3                         1                               0  ...   \n",
       "4                         0                               0  ...   \n",
       "\n",
       "   Number of Employees_unknown  Language_English  Language_Non English  \\\n",
       "0                            0                 1                     0   \n",
       "1                            0                 1                     0   \n",
       "2                            0                 1                     0   \n",
       "3                            1                 0                     1   \n",
       "4                            0                 1                     0   \n",
       "\n",
       "   Language_Unknown  Years_since_customer  Purchase     Profit  \\\n",
       "0                 0                    33         0 -46.175830   \n",
       "1                 0                    33         0 -45.926280   \n",
       "2                 0                    23         0 -45.921505   \n",
       "3                 0                    24         0 -44.625465   \n",
       "4                 0                    26         1  30.411720   \n",
       "\n",
       "   Sales_transaction_Size  predicted_prob_sale  Decile  \n",
       "0                0.923803             0.064151      10  \n",
       "1               13.129910             0.050129       9  \n",
       "2               -3.303396             0.029748       9  \n",
       "3              128.995650             0.051281       5  \n",
       "4              489.352330             0.766307       1  \n",
       "\n",
       "[5 rows x 52 columns]"
      ]
     },
     "execution_count": 124,
     "metadata": {},
     "output_type": "execute_result"
    }
   ],
   "source": [
    "df.head()"
   ]
  },
  {
   "cell_type": "code",
   "execution_count": 125,
   "metadata": {},
   "outputs": [],
   "source": [
    "grouped1 = df.groupby('Decile')['Years_since_customer', 'Number of Prior Year Transactions'].mean()"
   ]
  },
  {
   "cell_type": "code",
   "execution_count": 126,
   "metadata": {},
   "outputs": [
    {
     "name": "stdout",
     "output_type": "stream",
     "text": [
      "        Years_since_customer  Number of Prior Year Transactions\n",
      "Decile                                                         \n",
      "1                  35.106304                          16.050680\n",
      "2                  31.816832                          15.924505\n",
      "3                  36.299505                          14.332921\n",
      "4                  17.967862                          14.537701\n",
      "5                  18.133663                          14.256188\n",
      "6                  23.149752                          11.818069\n",
      "7                  26.367120                          11.053152\n",
      "8                  26.308168                          15.446782\n",
      "9                  27.193069                          15.926980\n",
      "10                 31.202719                          16.065513\n"
     ]
    }
   ],
   "source": [
    "print(grouped1)"
   ]
  },
  {
   "cell_type": "code",
   "execution_count": 127,
   "metadata": {},
   "outputs": [],
   "source": [
    "source = ColumnDataSource(grouped1)\n",
    "cust_groups = source.data['Decile'].tolist()\n",
    "p = figure()"
   ]
  },
  {
   "cell_type": "code",
   "execution_count": 128,
   "metadata": {},
   "outputs": [],
   "source": [
    "#color_map = factor_cmap(field_name='Decile',palette=Spectral5, factors=cust_groups, end=1)\n",
    "\n",
    "#index_cmap = factor_cmap('cyl_mfr', palette=Spectral5, factors=sorted(df.cyl.unique()), end=1)\n",
    "\n",
    "p.vbar(x='Decile', top='Number of Prior Year Transactions', source=source, width=0.70, color= 'grey')\n",
    "\n",
    "p.title.text ='Number of Transactions by Customer Before Campaign'\n",
    "p.xaxis.axis_label = 'Decile'\n",
    "p.yaxis.axis_label = 'Number of Prior Transactions'"
   ]
  },
  {
   "cell_type": "code",
   "execution_count": 129,
   "metadata": {},
   "outputs": [
    {
     "data": {
      "text/html": [
       "\n",
       "\n",
       "\n",
       "\n",
       "\n",
       "\n",
       "  <div class=\"bk-root\" id=\"66867b49-a30a-4ecd-9b9b-04a1de48fe4f\" data-root-id=\"14143\"></div>\n"
      ]
     },
     "metadata": {},
     "output_type": "display_data"
    },
    {
     "data": {
      "application/javascript": [
       "(function(root) {\n",
       "  function embed_document(root) {\n",
       "    \n",
       "  var docs_json = {\"3d00769f-6202-4b31-bc28-1797a1ec487e\":{\"roots\":{\"references\":[{\"attributes\":{\"below\":[{\"id\":\"14152\",\"type\":\"LinearAxis\"}],\"center\":[{\"id\":\"14156\",\"type\":\"Grid\"},{\"id\":\"14161\",\"type\":\"Grid\"}],\"left\":[{\"id\":\"14157\",\"type\":\"LinearAxis\"}],\"renderers\":[{\"id\":\"14178\",\"type\":\"GlyphRenderer\"}],\"title\":{\"id\":\"14180\",\"type\":\"Title\"},\"toolbar\":{\"id\":\"14168\",\"type\":\"Toolbar\"},\"x_range\":{\"id\":\"14144\",\"type\":\"DataRange1d\"},\"x_scale\":{\"id\":\"14148\",\"type\":\"LinearScale\"},\"y_range\":{\"id\":\"14146\",\"type\":\"DataRange1d\"},\"y_scale\":{\"id\":\"14150\",\"type\":\"LinearScale\"}},\"id\":\"14143\",\"subtype\":\"Figure\",\"type\":\"Plot\"},{\"attributes\":{\"axis_label\":\"Number of Prior Transactions\",\"formatter\":{\"id\":\"14410\",\"type\":\"BasicTickFormatter\"},\"ticker\":{\"id\":\"14158\",\"type\":\"BasicTicker\"}},\"id\":\"14157\",\"type\":\"LinearAxis\"},{\"attributes\":{},\"id\":\"14148\",\"type\":\"LinearScale\"},{\"attributes\":{\"text\":\"Number of Transactions by Customer Before Campaign\"},\"id\":\"14180\",\"type\":\"Title\"},{\"attributes\":{\"callback\":null,\"data\":{\"Decile\":[1,2,3,4,5,6,7,8,9,10],\"Number of Prior Year Transactions\":{\"__ndarray__\":\"unvRWvkMMECQu362WNkvQPhGFJh0qixA17Eeh00TLUBy188WK4MsQOdB7vrZoidAejV/vjYbJkArwzeiwOQuQL4RBSad2i9AyzVmdcUQMEA=\",\"dtype\":\"float64\",\"shape\":[10]},\"Years_since_customer\":{\"__ndarray__\":\"vZo/X5uNQUBoi5XhG9E/QOSuny1WJkJA22xoxsX3MUDQFivDNyIyQOSuny1WJjdAJ/3gkftdOkCYdGoe5E46QPMgd/1sMTtA6u5Fa+UzP0A=\",\"dtype\":\"float64\",\"shape\":[10]}},\"selected\":{\"id\":\"14414\",\"type\":\"Selection\"},\"selection_policy\":{\"id\":\"14413\",\"type\":\"UnionRenderers\"}},\"id\":\"14142\",\"type\":\"ColumnDataSource\"},{\"attributes\":{},\"id\":\"14162\",\"type\":\"PanTool\"},{\"attributes\":{\"source\":{\"id\":\"14142\",\"type\":\"ColumnDataSource\"}},\"id\":\"14179\",\"type\":\"CDSView\"},{\"attributes\":{\"fill_color\":{\"value\":\"grey\"},\"line_color\":{\"value\":\"grey\"},\"top\":{\"field\":\"Number of Prior Year Transactions\"},\"width\":{\"value\":0.7},\"x\":{\"field\":\"Decile\"}},\"id\":\"14176\",\"type\":\"VBar\"},{\"attributes\":{\"axis_label\":\"Decile\",\"formatter\":{\"id\":\"14408\",\"type\":\"BasicTickFormatter\"},\"ticker\":{\"id\":\"14153\",\"type\":\"BasicTicker\"}},\"id\":\"14152\",\"type\":\"LinearAxis\"},{\"attributes\":{},\"id\":\"14158\",\"type\":\"BasicTicker\"},{\"attributes\":{\"callback\":null,\"mode\":\"vline\",\"tooltips\":[[\"Mean of Prior Transactions\",\"$y\"]]},\"id\":\"14181\",\"type\":\"HoverTool\"},{\"attributes\":{\"data_source\":{\"id\":\"14142\",\"type\":\"ColumnDataSource\"},\"glyph\":{\"id\":\"14176\",\"type\":\"VBar\"},\"hover_glyph\":null,\"muted_glyph\":null,\"nonselection_glyph\":{\"id\":\"14177\",\"type\":\"VBar\"},\"selection_glyph\":null,\"view\":{\"id\":\"14179\",\"type\":\"CDSView\"}},\"id\":\"14178\",\"type\":\"GlyphRenderer\"},{\"attributes\":{},\"id\":\"14150\",\"type\":\"LinearScale\"},{\"attributes\":{},\"id\":\"14166\",\"type\":\"ResetTool\"},{\"attributes\":{},\"id\":\"14153\",\"type\":\"BasicTicker\"},{\"attributes\":{},\"id\":\"14410\",\"type\":\"BasicTickFormatter\"},{\"attributes\":{},\"id\":\"14408\",\"type\":\"BasicTickFormatter\"},{\"attributes\":{\"dimension\":1,\"ticker\":{\"id\":\"14158\",\"type\":\"BasicTicker\"}},\"id\":\"14161\",\"type\":\"Grid\"},{\"attributes\":{},\"id\":\"14163\",\"type\":\"WheelZoomTool\"},{\"attributes\":{\"active_drag\":\"auto\",\"active_inspect\":\"auto\",\"active_multi\":null,\"active_scroll\":\"auto\",\"active_tap\":\"auto\",\"tools\":[{\"id\":\"14162\",\"type\":\"PanTool\"},{\"id\":\"14163\",\"type\":\"WheelZoomTool\"},{\"id\":\"14164\",\"type\":\"BoxZoomTool\"},{\"id\":\"14165\",\"type\":\"SaveTool\"},{\"id\":\"14166\",\"type\":\"ResetTool\"},{\"id\":\"14167\",\"type\":\"HelpTool\"},{\"id\":\"14181\",\"type\":\"HoverTool\"}]},\"id\":\"14168\",\"type\":\"Toolbar\"},{\"attributes\":{},\"id\":\"14165\",\"type\":\"SaveTool\"},{\"attributes\":{},\"id\":\"14414\",\"type\":\"Selection\"},{\"attributes\":{\"callback\":null},\"id\":\"14146\",\"type\":\"DataRange1d\"},{\"attributes\":{\"ticker\":{\"id\":\"14153\",\"type\":\"BasicTicker\"}},\"id\":\"14156\",\"type\":\"Grid\"},{\"attributes\":{},\"id\":\"14413\",\"type\":\"UnionRenderers\"},{\"attributes\":{\"callback\":null},\"id\":\"14144\",\"type\":\"DataRange1d\"},{\"attributes\":{\"fill_alpha\":{\"value\":0.1},\"fill_color\":{\"value\":\"#1f77b4\"},\"line_alpha\":{\"value\":0.1},\"line_color\":{\"value\":\"#1f77b4\"},\"top\":{\"field\":\"Number of Prior Year Transactions\"},\"width\":{\"value\":0.7},\"x\":{\"field\":\"Decile\"}},\"id\":\"14177\",\"type\":\"VBar\"},{\"attributes\":{\"bottom_units\":\"screen\",\"fill_alpha\":{\"value\":0.5},\"fill_color\":{\"value\":\"lightgrey\"},\"left_units\":\"screen\",\"level\":\"overlay\",\"line_alpha\":{\"value\":1.0},\"line_color\":{\"value\":\"black\"},\"line_dash\":[4,4],\"line_width\":{\"value\":2},\"render_mode\":\"css\",\"right_units\":\"screen\",\"top_units\":\"screen\"},\"id\":\"14412\",\"type\":\"BoxAnnotation\"},{\"attributes\":{},\"id\":\"14167\",\"type\":\"HelpTool\"},{\"attributes\":{\"overlay\":{\"id\":\"14412\",\"type\":\"BoxAnnotation\"}},\"id\":\"14164\",\"type\":\"BoxZoomTool\"}],\"root_ids\":[\"14143\"]},\"title\":\"Bokeh Application\",\"version\":\"1.3.4\"}};\n",
       "  var render_items = [{\"docid\":\"3d00769f-6202-4b31-bc28-1797a1ec487e\",\"roots\":{\"14143\":\"66867b49-a30a-4ecd-9b9b-04a1de48fe4f\"}}];\n",
       "  root.Bokeh.embed.embed_items_notebook(docs_json, render_items);\n",
       "\n",
       "  }\n",
       "  if (root.Bokeh !== undefined) {\n",
       "    embed_document(root);\n",
       "  } else {\n",
       "    var attempts = 0;\n",
       "    var timer = setInterval(function(root) {\n",
       "      if (root.Bokeh !== undefined) {\n",
       "        embed_document(root);\n",
       "        clearInterval(timer);\n",
       "      }\n",
       "      attempts++;\n",
       "      if (attempts > 100) {\n",
       "        console.log(\"Bokeh: ERROR: Unable to run BokehJS code because BokehJS library is missing\");\n",
       "        clearInterval(timer);\n",
       "      }\n",
       "    }, 10, root)\n",
       "  }\n",
       "})(window);"
      ],
      "application/vnd.bokehjs_exec.v0+json": ""
     },
     "metadata": {
      "application/vnd.bokehjs_exec.v0+json": {
       "id": "14143"
      }
     },
     "output_type": "display_data"
    }
   ],
   "source": [
    "hover = HoverTool()\n",
    "hover.tooltips = [(\"Mean of Prior Transactions\", \"$y\" )]\n",
    "\n",
    "hover.mode = 'vline'\n",
    "\n",
    "p.add_tools(hover)\n",
    "show(p)"
   ]
  },
  {
   "cell_type": "code",
   "execution_count": 130,
   "metadata": {},
   "outputs": [],
   "source": [
    "p.vbar(x='Decile', top='Years_since_customer', source=source, width=0.70, color= 'grey')\n",
    "\n",
    "p.title.text ='Tenure since customer with the store'\n",
    "p.xaxis.axis_label = 'Decile'\n",
    "p.yaxis.axis_label = 'Number of years since customer'"
   ]
  },
  {
   "cell_type": "code",
   "execution_count": 131,
   "metadata": {},
   "outputs": [
    {
     "data": {
      "text/html": [
       "\n",
       "\n",
       "\n",
       "\n",
       "\n",
       "\n",
       "  <div class=\"bk-root\" id=\"af58021d-f50a-492a-8bb5-e4bcc74dafc7\" data-root-id=\"14143\"></div>\n"
      ]
     },
     "metadata": {},
     "output_type": "display_data"
    },
    {
     "data": {
      "application/javascript": [
       "(function(root) {\n",
       "  function embed_document(root) {\n",
       "    \n",
       "  var docs_json = {\"c0e7deb3-6a3e-43b9-8c0b-6505d5ffb4c6\":{\"roots\":{\"references\":[{\"attributes\":{\"below\":[{\"id\":\"14152\",\"type\":\"LinearAxis\"}],\"center\":[{\"id\":\"14156\",\"type\":\"Grid\"},{\"id\":\"14161\",\"type\":\"Grid\"}],\"left\":[{\"id\":\"14157\",\"type\":\"LinearAxis\"}],\"renderers\":[{\"id\":\"14178\",\"type\":\"GlyphRenderer\"},{\"id\":\"14472\",\"type\":\"GlyphRenderer\"}],\"title\":{\"id\":\"14180\",\"type\":\"Title\"},\"toolbar\":{\"id\":\"14168\",\"type\":\"Toolbar\"},\"x_range\":{\"id\":\"14144\",\"type\":\"DataRange1d\"},\"x_scale\":{\"id\":\"14148\",\"type\":\"LinearScale\"},\"y_range\":{\"id\":\"14146\",\"type\":\"DataRange1d\"},\"y_scale\":{\"id\":\"14150\",\"type\":\"LinearScale\"}},\"id\":\"14143\",\"subtype\":\"Figure\",\"type\":\"Plot\"},{\"attributes\":{\"axis_label\":\"Number of years since customer\",\"formatter\":{\"id\":\"14410\",\"type\":\"BasicTickFormatter\"},\"ticker\":{\"id\":\"14158\",\"type\":\"BasicTicker\"}},\"id\":\"14157\",\"type\":\"LinearAxis\"},{\"attributes\":{\"fill_color\":{\"value\":\"grey\"},\"line_color\":{\"value\":\"grey\"},\"top\":{\"field\":\"Years_since_customer\"},\"width\":{\"value\":0.7},\"x\":{\"field\":\"Decile\"}},\"id\":\"14470\",\"type\":\"VBar\"},{\"attributes\":{},\"id\":\"14148\",\"type\":\"LinearScale\"},{\"attributes\":{\"text\":\"Tenure since customer with the store\"},\"id\":\"14180\",\"type\":\"Title\"},{\"attributes\":{\"callback\":null,\"data\":{\"Decile\":[1,2,3,4,5,6,7,8,9,10],\"Number of Prior Year Transactions\":{\"__ndarray__\":\"unvRWvkMMECQu362WNkvQPhGFJh0qixA17Eeh00TLUBy188WK4MsQOdB7vrZoidAejV/vjYbJkArwzeiwOQuQL4RBSad2i9AyzVmdcUQMEA=\",\"dtype\":\"float64\",\"shape\":[10]},\"Years_since_customer\":{\"__ndarray__\":\"vZo/X5uNQUBoi5XhG9E/QOSuny1WJkJA22xoxsX3MUDQFivDNyIyQOSuny1WJjdAJ/3gkftdOkCYdGoe5E46QPMgd/1sMTtA6u5Fa+UzP0A=\",\"dtype\":\"float64\",\"shape\":[10]}},\"selected\":{\"id\":\"14414\",\"type\":\"Selection\"},\"selection_policy\":{\"id\":\"14413\",\"type\":\"UnionRenderers\"}},\"id\":\"14142\",\"type\":\"ColumnDataSource\"},{\"attributes\":{},\"id\":\"14162\",\"type\":\"PanTool\"},{\"attributes\":{\"source\":{\"id\":\"14142\",\"type\":\"ColumnDataSource\"}},\"id\":\"14179\",\"type\":\"CDSView\"},{\"attributes\":{\"fill_color\":{\"value\":\"grey\"},\"line_color\":{\"value\":\"grey\"},\"top\":{\"field\":\"Number of Prior Year Transactions\"},\"width\":{\"value\":0.7},\"x\":{\"field\":\"Decile\"}},\"id\":\"14176\",\"type\":\"VBar\"},{\"attributes\":{\"axis_label\":\"Decile\",\"formatter\":{\"id\":\"14408\",\"type\":\"BasicTickFormatter\"},\"ticker\":{\"id\":\"14153\",\"type\":\"BasicTicker\"}},\"id\":\"14152\",\"type\":\"LinearAxis\"},{\"attributes\":{\"fill_alpha\":{\"value\":0.1},\"fill_color\":{\"value\":\"#1f77b4\"},\"line_alpha\":{\"value\":0.1},\"line_color\":{\"value\":\"#1f77b4\"},\"top\":{\"field\":\"Years_since_customer\"},\"width\":{\"value\":0.7},\"x\":{\"field\":\"Decile\"}},\"id\":\"14471\",\"type\":\"VBar\"},{\"attributes\":{},\"id\":\"14158\",\"type\":\"BasicTicker\"},{\"attributes\":{\"callback\":null,\"mode\":\"vline\",\"tooltips\":[[\"Mean of Prior Transactions\",\"$y\"]]},\"id\":\"14181\",\"type\":\"HoverTool\"},{\"attributes\":{\"data_source\":{\"id\":\"14142\",\"type\":\"ColumnDataSource\"},\"glyph\":{\"id\":\"14176\",\"type\":\"VBar\"},\"hover_glyph\":null,\"muted_glyph\":null,\"nonselection_glyph\":{\"id\":\"14177\",\"type\":\"VBar\"},\"selection_glyph\":null,\"view\":{\"id\":\"14179\",\"type\":\"CDSView\"}},\"id\":\"14178\",\"type\":\"GlyphRenderer\"},{\"attributes\":{},\"id\":\"14150\",\"type\":\"LinearScale\"},{\"attributes\":{},\"id\":\"14153\",\"type\":\"BasicTicker\"},{\"attributes\":{},\"id\":\"14166\",\"type\":\"ResetTool\"},{\"attributes\":{},\"id\":\"14410\",\"type\":\"BasicTickFormatter\"},{\"attributes\":{},\"id\":\"14408\",\"type\":\"BasicTickFormatter\"},{\"attributes\":{\"dimension\":1,\"ticker\":{\"id\":\"14158\",\"type\":\"BasicTicker\"}},\"id\":\"14161\",\"type\":\"Grid\"},{\"attributes\":{},\"id\":\"14163\",\"type\":\"WheelZoomTool\"},{\"attributes\":{\"active_drag\":\"auto\",\"active_inspect\":\"auto\",\"active_multi\":null,\"active_scroll\":\"auto\",\"active_tap\":\"auto\",\"tools\":[{\"id\":\"14162\",\"type\":\"PanTool\"},{\"id\":\"14163\",\"type\":\"WheelZoomTool\"},{\"id\":\"14164\",\"type\":\"BoxZoomTool\"},{\"id\":\"14165\",\"type\":\"SaveTool\"},{\"id\":\"14166\",\"type\":\"ResetTool\"},{\"id\":\"14167\",\"type\":\"HelpTool\"},{\"id\":\"14181\",\"type\":\"HoverTool\"},{\"id\":\"14707\",\"type\":\"HoverTool\"}]},\"id\":\"14168\",\"type\":\"Toolbar\"},{\"attributes\":{},\"id\":\"14165\",\"type\":\"SaveTool\"},{\"attributes\":{\"callback\":null,\"tooltips\":[[\"Number of years since customer\",\"$y\"]]},\"id\":\"14707\",\"type\":\"HoverTool\"},{\"attributes\":{},\"id\":\"14414\",\"type\":\"Selection\"},{\"attributes\":{\"callback\":null},\"id\":\"14146\",\"type\":\"DataRange1d\"},{\"attributes\":{\"data_source\":{\"id\":\"14142\",\"type\":\"ColumnDataSource\"},\"glyph\":{\"id\":\"14470\",\"type\":\"VBar\"},\"hover_glyph\":null,\"muted_glyph\":null,\"nonselection_glyph\":{\"id\":\"14471\",\"type\":\"VBar\"},\"selection_glyph\":null,\"view\":{\"id\":\"14473\",\"type\":\"CDSView\"}},\"id\":\"14472\",\"type\":\"GlyphRenderer\"},{\"attributes\":{\"ticker\":{\"id\":\"14153\",\"type\":\"BasicTicker\"}},\"id\":\"14156\",\"type\":\"Grid\"},{\"attributes\":{\"source\":{\"id\":\"14142\",\"type\":\"ColumnDataSource\"}},\"id\":\"14473\",\"type\":\"CDSView\"},{\"attributes\":{},\"id\":\"14413\",\"type\":\"UnionRenderers\"},{\"attributes\":{\"callback\":null},\"id\":\"14144\",\"type\":\"DataRange1d\"},{\"attributes\":{\"fill_alpha\":{\"value\":0.1},\"fill_color\":{\"value\":\"#1f77b4\"},\"line_alpha\":{\"value\":0.1},\"line_color\":{\"value\":\"#1f77b4\"},\"top\":{\"field\":\"Number of Prior Year Transactions\"},\"width\":{\"value\":0.7},\"x\":{\"field\":\"Decile\"}},\"id\":\"14177\",\"type\":\"VBar\"},{\"attributes\":{\"bottom_units\":\"screen\",\"fill_alpha\":{\"value\":0.5},\"fill_color\":{\"value\":\"lightgrey\"},\"left_units\":\"screen\",\"level\":\"overlay\",\"line_alpha\":{\"value\":1.0},\"line_color\":{\"value\":\"black\"},\"line_dash\":[4,4],\"line_width\":{\"value\":2},\"render_mode\":\"css\",\"right_units\":\"screen\",\"top_units\":\"screen\"},\"id\":\"14412\",\"type\":\"BoxAnnotation\"},{\"attributes\":{},\"id\":\"14167\",\"type\":\"HelpTool\"},{\"attributes\":{\"overlay\":{\"id\":\"14412\",\"type\":\"BoxAnnotation\"}},\"id\":\"14164\",\"type\":\"BoxZoomTool\"}],\"root_ids\":[\"14143\"]},\"title\":\"Bokeh Application\",\"version\":\"1.3.4\"}};\n",
       "  var render_items = [{\"docid\":\"c0e7deb3-6a3e-43b9-8c0b-6505d5ffb4c6\",\"roots\":{\"14143\":\"af58021d-f50a-492a-8bb5-e4bcc74dafc7\"}}];\n",
       "  root.Bokeh.embed.embed_items_notebook(docs_json, render_items);\n",
       "\n",
       "  }\n",
       "  if (root.Bokeh !== undefined) {\n",
       "    embed_document(root);\n",
       "  } else {\n",
       "    var attempts = 0;\n",
       "    var timer = setInterval(function(root) {\n",
       "      if (root.Bokeh !== undefined) {\n",
       "        embed_document(root);\n",
       "        clearInterval(timer);\n",
       "      }\n",
       "      attempts++;\n",
       "      if (attempts > 100) {\n",
       "        console.log(\"Bokeh: ERROR: Unable to run BokehJS code because BokehJS library is missing\");\n",
       "        clearInterval(timer);\n",
       "      }\n",
       "    }, 10, root)\n",
       "  }\n",
       "})(window);"
      ],
      "application/vnd.bokehjs_exec.v0+json": ""
     },
     "metadata": {
      "application/vnd.bokehjs_exec.v0+json": {
       "id": "14143"
      }
     },
     "output_type": "display_data"
    }
   ],
   "source": [
    "hover = HoverTool()\n",
    "hover.tooltips = [(\"Number of years since customer\",\"$y\" )]\n",
    "\n",
    "#hover.mode = 'vline'\n",
    "\n",
    "p.add_tools(hover)\n",
    "show(p);"
   ]
  },
  {
   "cell_type": "code",
   "execution_count": 132,
   "metadata": {},
   "outputs": [],
   "source": [
    "grouped2 = df.groupby('Decile')['Profit', 'Historical Sales Volume', 'Campaign Period Sales'].sum()"
   ]
  },
  {
   "cell_type": "code",
   "execution_count": 133,
   "metadata": {},
   "outputs": [
    {
     "name": "stdout",
     "output_type": "stream",
     "text": [
      "               Profit  Historical Sales Volume  Campaign Period Sales\n",
      "Decile                                                               \n",
      "1       166897.811193             9.537959e+08           1.213521e+06\n",
      "2        -6209.583413             3.776463e+08           2.705677e+05\n",
      "3       -22529.160535             4.626267e+08           1.734757e+05\n",
      "4       -33743.132339             7.120365e+08           1.130410e+05\n",
      "5       -35725.394113             4.568463e+08           6.071047e+04\n",
      "6       -36484.709367             5.216218e+08           4.965392e+04\n",
      "7       -36978.426851             5.521842e+08           2.235321e+04\n",
      "8       -37058.304031             4.626025e+08           1.205908e+04\n",
      "9       -37137.998515             3.813919e+08           7.449068e+03\n",
      "10      -37416.583208             4.873190e+08           2.087063e+04\n"
     ]
    }
   ],
   "source": [
    "print(grouped2)"
   ]
  },
  {
   "cell_type": "code",
   "execution_count": 151,
   "metadata": {},
   "outputs": [],
   "source": [
    "source = ColumnDataSource(grouped2)\n",
    "cust_groups2 = source.data['Decile'].tolist()\n",
    "p = figure()\n",
    "q=figure()\n",
    "r=figure()"
   ]
  },
  {
   "cell_type": "code",
   "execution_count": 152,
   "metadata": {},
   "outputs": [],
   "source": [
    "p.vbar(x='Decile', top='Campaign Period Sales', source=source, width=0.70, color= 'LightSeaGreen')\n",
    "\n",
    "p.title.text ='Total Sales During the Campaign Per Decile'\n",
    "p.xaxis.axis_label = 'Decile'\n",
    "p.yaxis.axis_label = 'Total Campaign Period Sales ($)'"
   ]
  },
  {
   "cell_type": "code",
   "execution_count": 153,
   "metadata": {},
   "outputs": [
    {
     "data": {
      "text/html": [
       "\n",
       "\n",
       "\n",
       "\n",
       "\n",
       "\n",
       "  <div class=\"bk-root\" id=\"c580d17a-88a7-4a35-8001-5c8eaec8d1e9\" data-root-id=\"18843\"></div>\n"
      ]
     },
     "metadata": {},
     "output_type": "display_data"
    },
    {
     "data": {
      "application/javascript": [
       "(function(root) {\n",
       "  function embed_document(root) {\n",
       "    \n",
       "  var docs_json = {\"532a4dc6-a43a-4bf4-9bd7-ae70232d85e3\":{\"roots\":{\"references\":[{\"attributes\":{\"below\":[{\"id\":\"18852\",\"type\":\"LinearAxis\"}],\"center\":[{\"id\":\"18856\",\"type\":\"Grid\"},{\"id\":\"18861\",\"type\":\"Grid\"}],\"left\":[{\"id\":\"18857\",\"type\":\"LinearAxis\"}],\"renderers\":[{\"id\":\"18942\",\"type\":\"GlyphRenderer\"}],\"title\":{\"id\":\"18944\",\"type\":\"Title\"},\"toolbar\":{\"id\":\"18868\",\"type\":\"Toolbar\"},\"x_range\":{\"id\":\"18844\",\"type\":\"DataRange1d\"},\"x_scale\":{\"id\":\"18848\",\"type\":\"LinearScale\"},\"y_range\":{\"id\":\"18846\",\"type\":\"DataRange1d\"},\"y_scale\":{\"id\":\"18850\",\"type\":\"LinearScale\"}},\"id\":\"18843\",\"subtype\":\"Figure\",\"type\":\"Plot\"},{\"attributes\":{},\"id\":\"18848\",\"type\":\"LinearScale\"},{\"attributes\":{\"axis_label\":\"Total Campaign Period Sales ($)\",\"formatter\":{\"id\":\"19192\",\"type\":\"BasicTickFormatter\"},\"ticker\":{\"id\":\"18858\",\"type\":\"BasicTicker\"}},\"id\":\"18857\",\"type\":\"LinearAxis\"},{\"attributes\":{},\"id\":\"18853\",\"type\":\"BasicTicker\"},{\"attributes\":{},\"id\":\"18867\",\"type\":\"HelpTool\"},{\"attributes\":{\"callback\":null,\"mode\":\"vline\",\"tooltips\":[[\"Sale$\",\"$y{int}\"]]},\"id\":\"18945\",\"type\":\"HoverTool\"},{\"attributes\":{},\"id\":\"19190\",\"type\":\"BasicTickFormatter\"},{\"attributes\":{},\"id\":\"18850\",\"type\":\"LinearScale\"},{\"attributes\":{},\"id\":\"18863\",\"type\":\"WheelZoomTool\"},{\"attributes\":{\"fill_color\":{\"value\":\"LightSeaGreen\"},\"line_color\":{\"value\":\"LightSeaGreen\"},\"top\":{\"field\":\"Campaign Period Sales\"},\"width\":{\"value\":0.7},\"x\":{\"field\":\"Decile\"}},\"id\":\"18940\",\"type\":\"VBar\"},{\"attributes\":{\"bottom_units\":\"screen\",\"fill_alpha\":{\"value\":0.5},\"fill_color\":{\"value\":\"lightgrey\"},\"left_units\":\"screen\",\"level\":\"overlay\",\"line_alpha\":{\"value\":1.0},\"line_color\":{\"value\":\"black\"},\"line_dash\":[4,4],\"line_width\":{\"value\":2},\"render_mode\":\"css\",\"right_units\":\"screen\",\"top_units\":\"screen\"},\"id\":\"19194\",\"type\":\"BoxAnnotation\"},{\"attributes\":{\"callback\":null,\"data\":{\"Campaign Period Sales\":{\"__ndarray__\":\"aMF0RlGEMkGWyTrynoMQQWemSUAdLQVB1g/EjA+Z+0BUFf/izqTtQCcCaoG9PuhAoKKWUU3U1UAhHMa3io3HQCVZ7nQRGb1AqP0Xiqhh1EA=\",\"dtype\":\"float64\",\"shape\":[10]},\"Decile\":[1,2,3,4,5,6,7,8,9,10],\"Historical Sales Volume\":{\"__ndarray__\":\"nfShj+JszEH63gvwbIK2QYkkHZAfk7tBriZ9Nmg4xUE2FJG86zq7QWf+uSJRF79BV+d8vNR0wEGYcFcrwZK7QVQy7yeUu7ZBfofGqeULvUE=\",\"dtype\":\"float64\",\"shape\":[10]},\"Profit\":{\"__ndarray__\":\"MplSfY5fBEEod4halUG4wLmXNEZKANbAoP8ePOR54MDB3ZKcrHHhwEBsIrOW0OHAqm3DqE0O4sA/OJ+6SRjiwK+61fM/IuLA2tKjqRJF4sA=\",\"dtype\":\"float64\",\"shape\":[10]}},\"selected\":{\"id\":\"19196\",\"type\":\"Selection\"},\"selection_policy\":{\"id\":\"19195\",\"type\":\"UnionRenderers\"}},\"id\":\"18842\",\"type\":\"ColumnDataSource\"},{\"attributes\":{\"callback\":null},\"id\":\"18844\",\"type\":\"DataRange1d\"},{\"attributes\":{\"dimension\":1,\"ticker\":{\"id\":\"18858\",\"type\":\"BasicTicker\"}},\"id\":\"18861\",\"type\":\"Grid\"},{\"attributes\":{\"source\":{\"id\":\"18842\",\"type\":\"ColumnDataSource\"}},\"id\":\"18943\",\"type\":\"CDSView\"},{\"attributes\":{\"overlay\":{\"id\":\"19194\",\"type\":\"BoxAnnotation\"}},\"id\":\"18864\",\"type\":\"BoxZoomTool\"},{\"attributes\":{\"fill_alpha\":{\"value\":0.1},\"fill_color\":{\"value\":\"#1f77b4\"},\"line_alpha\":{\"value\":0.1},\"line_color\":{\"value\":\"#1f77b4\"},\"top\":{\"field\":\"Campaign Period Sales\"},\"width\":{\"value\":0.7},\"x\":{\"field\":\"Decile\"}},\"id\":\"18941\",\"type\":\"VBar\"},{\"attributes\":{\"ticker\":{\"id\":\"18853\",\"type\":\"BasicTicker\"}},\"id\":\"18856\",\"type\":\"Grid\"},{\"attributes\":{\"data_source\":{\"id\":\"18842\",\"type\":\"ColumnDataSource\"},\"glyph\":{\"id\":\"18940\",\"type\":\"VBar\"},\"hover_glyph\":null,\"muted_glyph\":null,\"nonselection_glyph\":{\"id\":\"18941\",\"type\":\"VBar\"},\"selection_glyph\":null,\"view\":{\"id\":\"18943\",\"type\":\"CDSView\"}},\"id\":\"18942\",\"type\":\"GlyphRenderer\"},{\"attributes\":{},\"id\":\"18865\",\"type\":\"SaveTool\"},{\"attributes\":{\"axis_label\":\"Decile\",\"formatter\":{\"id\":\"19190\",\"type\":\"BasicTickFormatter\"},\"ticker\":{\"id\":\"18853\",\"type\":\"BasicTicker\"}},\"id\":\"18852\",\"type\":\"LinearAxis\"},{\"attributes\":{},\"id\":\"19195\",\"type\":\"UnionRenderers\"},{\"attributes\":{},\"id\":\"18858\",\"type\":\"BasicTicker\"},{\"attributes\":{\"active_drag\":\"auto\",\"active_inspect\":\"auto\",\"active_multi\":null,\"active_scroll\":\"auto\",\"active_tap\":\"auto\",\"tools\":[{\"id\":\"18862\",\"type\":\"PanTool\"},{\"id\":\"18863\",\"type\":\"WheelZoomTool\"},{\"id\":\"18864\",\"type\":\"BoxZoomTool\"},{\"id\":\"18865\",\"type\":\"SaveTool\"},{\"id\":\"18866\",\"type\":\"ResetTool\"},{\"id\":\"18867\",\"type\":\"HelpTool\"},{\"id\":\"18945\",\"type\":\"HoverTool\"}]},\"id\":\"18868\",\"type\":\"Toolbar\"},{\"attributes\":{},\"id\":\"18866\",\"type\":\"ResetTool\"},{\"attributes\":{},\"id\":\"19196\",\"type\":\"Selection\"},{\"attributes\":{\"text\":\"Total Sales During the Campaign Per Decile\"},\"id\":\"18944\",\"type\":\"Title\"},{\"attributes\":{},\"id\":\"19192\",\"type\":\"BasicTickFormatter\"},{\"attributes\":{\"callback\":null},\"id\":\"18846\",\"type\":\"DataRange1d\"},{\"attributes\":{},\"id\":\"18862\",\"type\":\"PanTool\"}],\"root_ids\":[\"18843\"]},\"title\":\"Bokeh Application\",\"version\":\"1.3.4\"}};\n",
       "  var render_items = [{\"docid\":\"532a4dc6-a43a-4bf4-9bd7-ae70232d85e3\",\"roots\":{\"18843\":\"c580d17a-88a7-4a35-8001-5c8eaec8d1e9\"}}];\n",
       "  root.Bokeh.embed.embed_items_notebook(docs_json, render_items);\n",
       "\n",
       "  }\n",
       "  if (root.Bokeh !== undefined) {\n",
       "    embed_document(root);\n",
       "  } else {\n",
       "    var attempts = 0;\n",
       "    var timer = setInterval(function(root) {\n",
       "      if (root.Bokeh !== undefined) {\n",
       "        embed_document(root);\n",
       "        clearInterval(timer);\n",
       "      }\n",
       "      attempts++;\n",
       "      if (attempts > 100) {\n",
       "        console.log(\"Bokeh: ERROR: Unable to run BokehJS code because BokehJS library is missing\");\n",
       "        clearInterval(timer);\n",
       "      }\n",
       "    }, 10, root)\n",
       "  }\n",
       "})(window);"
      ],
      "application/vnd.bokehjs_exec.v0+json": ""
     },
     "metadata": {
      "application/vnd.bokehjs_exec.v0+json": {
       "id": "18843"
      }
     },
     "output_type": "display_data"
    }
   ],
   "source": [
    "hover = HoverTool()\n",
    "hover.tooltips = [('Sale$',\"$y{int}\" )]\n",
    "\n",
    "hover.mode = 'vline'\n",
    "\n",
    "p.add_tools(hover)\n",
    "show(p)"
   ]
  },
  {
   "cell_type": "code",
   "execution_count": 160,
   "metadata": {},
   "outputs": [],
   "source": [
    "q.vbar(x='Decile', top='Profit', source=source, width=0.70, color= 'CornflowerBlue')\n",
    "\n",
    "q.title.text ='Profit per Decile'\n",
    "q.xaxis.axis_label = 'Decile'\n",
    "q.yaxis.axis_label = 'Total Profit'"
   ]
  },
  {
   "cell_type": "code",
   "execution_count": 161,
   "metadata": {},
   "outputs": [
    {
     "data": {
      "text/html": [
       "\n",
       "\n",
       "\n",
       "\n",
       "\n",
       "\n",
       "  <div class=\"bk-root\" id=\"2f13568b-7f74-4fbd-994e-7f139d1ca616\" data-root-id=\"18875\"></div>\n"
      ]
     },
     "metadata": {},
     "output_type": "display_data"
    },
    {
     "data": {
      "application/javascript": [
       "(function(root) {\n",
       "  function embed_document(root) {\n",
       "    \n",
       "  var docs_json = {\"321236b5-945b-470a-b2d9-0c1a15370d43\":{\"roots\":{\"references\":[{\"attributes\":{\"below\":[{\"id\":\"18884\",\"type\":\"LinearAxis\"}],\"center\":[{\"id\":\"18888\",\"type\":\"Grid\"},{\"id\":\"18893\",\"type\":\"Grid\"}],\"left\":[{\"id\":\"18889\",\"type\":\"LinearAxis\"}],\"renderers\":[{\"id\":\"19254\",\"type\":\"GlyphRenderer\"},{\"id\":\"20226\",\"type\":\"GlyphRenderer\"}],\"title\":{\"id\":\"19256\",\"type\":\"Title\"},\"toolbar\":{\"id\":\"18900\",\"type\":\"Toolbar\"},\"x_range\":{\"id\":\"18876\",\"type\":\"DataRange1d\"},\"x_scale\":{\"id\":\"18880\",\"type\":\"LinearScale\"},\"y_range\":{\"id\":\"18878\",\"type\":\"DataRange1d\"},\"y_scale\":{\"id\":\"18882\",\"type\":\"LinearScale\"}},\"id\":\"18875\",\"subtype\":\"Figure\",\"type\":\"Plot\"},{\"attributes\":{},\"id\":\"18899\",\"type\":\"HelpTool\"},{\"attributes\":{\"callback\":null},\"id\":\"18876\",\"type\":\"DataRange1d\"},{\"attributes\":{\"callback\":null,\"mode\":\"vline\",\"tooltips\":[[\"Profit\",\"$y{int}\"]]},\"id\":\"20497\",\"type\":\"HoverTool\"},{\"attributes\":{},\"id\":\"18880\",\"type\":\"LinearScale\"},{\"attributes\":{\"data_source\":{\"id\":\"18842\",\"type\":\"ColumnDataSource\"},\"glyph\":{\"id\":\"20224\",\"type\":\"VBar\"},\"hover_glyph\":null,\"muted_glyph\":null,\"nonselection_glyph\":{\"id\":\"20225\",\"type\":\"VBar\"},\"selection_glyph\":null,\"view\":{\"id\":\"20227\",\"type\":\"CDSView\"}},\"id\":\"20226\",\"type\":\"GlyphRenderer\"},{\"attributes\":{},\"id\":\"18894\",\"type\":\"PanTool\"},{\"attributes\":{},\"id\":\"19511\",\"type\":\"BasicTickFormatter\"},{\"attributes\":{},\"id\":\"18885\",\"type\":\"BasicTicker\"},{\"attributes\":{\"dimension\":1,\"ticker\":{\"id\":\"18890\",\"type\":\"BasicTicker\"}},\"id\":\"18893\",\"type\":\"Grid\"},{\"attributes\":{\"callback\":null,\"data\":{\"Campaign Period Sales\":{\"__ndarray__\":\"aMF0RlGEMkGWyTrynoMQQWemSUAdLQVB1g/EjA+Z+0BUFf/izqTtQCcCaoG9PuhAoKKWUU3U1UAhHMa3io3HQCVZ7nQRGb1AqP0Xiqhh1EA=\",\"dtype\":\"float64\",\"shape\":[10]},\"Decile\":[1,2,3,4,5,6,7,8,9,10],\"Historical Sales Volume\":{\"__ndarray__\":\"nfShj+JszEH63gvwbIK2QYkkHZAfk7tBriZ9Nmg4xUE2FJG86zq7QWf+uSJRF79BV+d8vNR0wEGYcFcrwZK7QVQy7yeUu7ZBfofGqeULvUE=\",\"dtype\":\"float64\",\"shape\":[10]},\"Profit\":{\"__ndarray__\":\"MplSfY5fBEEod4halUG4wLmXNEZKANbAoP8ePOR54MDB3ZKcrHHhwEBsIrOW0OHAqm3DqE0O4sA/OJ+6SRjiwK+61fM/IuLA2tKjqRJF4sA=\",\"dtype\":\"float64\",\"shape\":[10]}},\"selected\":{\"id\":\"19196\",\"type\":\"Selection\"},\"selection_policy\":{\"id\":\"19195\",\"type\":\"UnionRenderers\"}},\"id\":\"18842\",\"type\":\"ColumnDataSource\"},{\"attributes\":{\"fill_alpha\":{\"value\":0.1},\"fill_color\":{\"value\":\"#1f77b4\"},\"line_alpha\":{\"value\":0.1},\"line_color\":{\"value\":\"#1f77b4\"},\"top\":{\"field\":\"Profit\"},\"width\":{\"value\":0.7},\"x\":{\"field\":\"Decile\"}},\"id\":\"19253\",\"type\":\"VBar\"},{\"attributes\":{\"active_drag\":\"auto\",\"active_inspect\":\"auto\",\"active_multi\":null,\"active_scroll\":\"auto\",\"active_tap\":\"auto\",\"tools\":[{\"id\":\"18894\",\"type\":\"PanTool\"},{\"id\":\"18895\",\"type\":\"WheelZoomTool\"},{\"id\":\"18896\",\"type\":\"BoxZoomTool\"},{\"id\":\"18897\",\"type\":\"SaveTool\"},{\"id\":\"18898\",\"type\":\"ResetTool\"},{\"id\":\"18899\",\"type\":\"HelpTool\"},{\"id\":\"19257\",\"type\":\"HoverTool\"},{\"id\":\"20497\",\"type\":\"HoverTool\"}]},\"id\":\"18900\",\"type\":\"Toolbar\"},{\"attributes\":{\"source\":{\"id\":\"18842\",\"type\":\"ColumnDataSource\"}},\"id\":\"20227\",\"type\":\"CDSView\"},{\"attributes\":{\"fill_alpha\":{\"value\":0.1},\"fill_color\":{\"value\":\"#1f77b4\"},\"line_alpha\":{\"value\":0.1},\"line_color\":{\"value\":\"#1f77b4\"},\"top\":{\"field\":\"Profit\"},\"width\":{\"value\":0.7},\"x\":{\"field\":\"Decile\"}},\"id\":\"20225\",\"type\":\"VBar\"},{\"attributes\":{\"overlay\":{\"id\":\"19515\",\"type\":\"BoxAnnotation\"}},\"id\":\"18896\",\"type\":\"BoxZoomTool\"},{\"attributes\":{},\"id\":\"19513\",\"type\":\"BasicTickFormatter\"},{\"attributes\":{\"ticker\":{\"id\":\"18885\",\"type\":\"BasicTicker\"}},\"id\":\"18888\",\"type\":\"Grid\"},{\"attributes\":{\"data_source\":{\"id\":\"18842\",\"type\":\"ColumnDataSource\"},\"glyph\":{\"id\":\"19252\",\"type\":\"VBar\"},\"hover_glyph\":null,\"muted_glyph\":null,\"nonselection_glyph\":{\"id\":\"19253\",\"type\":\"VBar\"},\"selection_glyph\":null,\"view\":{\"id\":\"19255\",\"type\":\"CDSView\"}},\"id\":\"19254\",\"type\":\"GlyphRenderer\"},{\"attributes\":{},\"id\":\"18898\",\"type\":\"ResetTool\"},{\"attributes\":{\"fill_color\":{\"value\":\"LightSeaGreen\"},\"line_color\":{\"value\":\"LightSeaGreen\"},\"top\":{\"field\":\"Profit\"},\"width\":{\"value\":0.7},\"x\":{\"field\":\"Decile\"}},\"id\":\"19252\",\"type\":\"VBar\"},{\"attributes\":{\"bottom_units\":\"screen\",\"fill_alpha\":{\"value\":0.5},\"fill_color\":{\"value\":\"lightgrey\"},\"left_units\":\"screen\",\"level\":\"overlay\",\"line_alpha\":{\"value\":1.0},\"line_color\":{\"value\":\"black\"},\"line_dash\":[4,4],\"line_width\":{\"value\":2},\"render_mode\":\"css\",\"right_units\":\"screen\",\"top_units\":\"screen\"},\"id\":\"19515\",\"type\":\"BoxAnnotation\"},{\"attributes\":{},\"id\":\"18882\",\"type\":\"LinearScale\"},{\"attributes\":{\"callback\":null,\"mode\":\"vline\",\"tooltips\":[[\"Profit\",\"$y{int}\"]]},\"id\":\"19257\",\"type\":\"HoverTool\"},{\"attributes\":{\"source\":{\"id\":\"18842\",\"type\":\"ColumnDataSource\"}},\"id\":\"19255\",\"type\":\"CDSView\"},{\"attributes\":{},\"id\":\"19195\",\"type\":\"UnionRenderers\"},{\"attributes\":{},\"id\":\"18890\",\"type\":\"BasicTicker\"},{\"attributes\":{},\"id\":\"18895\",\"type\":\"WheelZoomTool\"},{\"attributes\":{\"axis_label\":\"Total Profit\",\"formatter\":{\"id\":\"19513\",\"type\":\"BasicTickFormatter\"},\"ticker\":{\"id\":\"18890\",\"type\":\"BasicTicker\"}},\"id\":\"18889\",\"type\":\"LinearAxis\"},{\"attributes\":{},\"id\":\"19196\",\"type\":\"Selection\"},{\"attributes\":{\"fill_color\":{\"value\":\"CornflowerBlue\"},\"line_color\":{\"value\":\"CornflowerBlue\"},\"top\":{\"field\":\"Profit\"},\"width\":{\"value\":0.7},\"x\":{\"field\":\"Decile\"}},\"id\":\"20224\",\"type\":\"VBar\"},{\"attributes\":{\"axis_label\":\"Decile\",\"formatter\":{\"id\":\"19511\",\"type\":\"BasicTickFormatter\"},\"ticker\":{\"id\":\"18885\",\"type\":\"BasicTicker\"}},\"id\":\"18884\",\"type\":\"LinearAxis\"},{\"attributes\":{\"callback\":null},\"id\":\"18878\",\"type\":\"DataRange1d\"},{\"attributes\":{\"text\":\"Profit per Decile\"},\"id\":\"19256\",\"type\":\"Title\"},{\"attributes\":{},\"id\":\"18897\",\"type\":\"SaveTool\"}],\"root_ids\":[\"18875\"]},\"title\":\"Bokeh Application\",\"version\":\"1.3.4\"}};\n",
       "  var render_items = [{\"docid\":\"321236b5-945b-470a-b2d9-0c1a15370d43\",\"roots\":{\"18875\":\"2f13568b-7f74-4fbd-994e-7f139d1ca616\"}}];\n",
       "  root.Bokeh.embed.embed_items_notebook(docs_json, render_items);\n",
       "\n",
       "  }\n",
       "  if (root.Bokeh !== undefined) {\n",
       "    embed_document(root);\n",
       "  } else {\n",
       "    var attempts = 0;\n",
       "    var timer = setInterval(function(root) {\n",
       "      if (root.Bokeh !== undefined) {\n",
       "        embed_document(root);\n",
       "        clearInterval(timer);\n",
       "      }\n",
       "      attempts++;\n",
       "      if (attempts > 100) {\n",
       "        console.log(\"Bokeh: ERROR: Unable to run BokehJS code because BokehJS library is missing\");\n",
       "        clearInterval(timer);\n",
       "      }\n",
       "    }, 10, root)\n",
       "  }\n",
       "})(window);"
      ],
      "application/vnd.bokehjs_exec.v0+json": ""
     },
     "metadata": {
      "application/vnd.bokehjs_exec.v0+json": {
       "id": "18875"
      }
     },
     "output_type": "display_data"
    }
   ],
   "source": [
    "hover = HoverTool()\n",
    "hover.tooltips = [('Profit',\"$y{int}\" )]\n",
    "\n",
    "hover.mode = 'vline'\n",
    "\n",
    "q.add_tools(hover)\n",
    "show(q)"
   ]
  },
  {
   "cell_type": "code",
   "execution_count": 162,
   "metadata": {},
   "outputs": [],
   "source": [
    "r.vbar(x='Decile', top='Historical Sales Volume', source=source, width=0.70, color= 'LightSalmon')\n",
    "\n",
    "r.title.text ='Historical Sales Volume per Decile'\n",
    "r.xaxis.axis_label = 'Decile'\n",
    "r.yaxis.axis_label = 'Sales Volume in $'"
   ]
  },
  {
   "cell_type": "code",
   "execution_count": 163,
   "metadata": {},
   "outputs": [
    {
     "data": {
      "text/html": [
       "\n",
       "\n",
       "\n",
       "\n",
       "\n",
       "\n",
       "  <div class=\"bk-root\" id=\"7c240f02-61e4-4c83-9f72-740560f5e6e3\" data-root-id=\"18907\"></div>\n"
      ]
     },
     "metadata": {},
     "output_type": "display_data"
    },
    {
     "data": {
      "application/javascript": [
       "(function(root) {\n",
       "  function embed_document(root) {\n",
       "    \n",
       "  var docs_json = {\"dfeef9a5-0fcb-4123-a8da-09339b579749\":{\"roots\":{\"references\":[{\"attributes\":{\"below\":[{\"id\":\"18916\",\"type\":\"LinearAxis\"}],\"center\":[{\"id\":\"18920\",\"type\":\"Grid\"},{\"id\":\"18925\",\"type\":\"Grid\"}],\"left\":[{\"id\":\"18921\",\"type\":\"LinearAxis\"}],\"renderers\":[{\"id\":\"19575\",\"type\":\"GlyphRenderer\"},{\"id\":\"19896\",\"type\":\"GlyphRenderer\"},{\"id\":\"20824\",\"type\":\"GlyphRenderer\"}],\"title\":{\"id\":\"19898\",\"type\":\"Title\"},\"toolbar\":{\"id\":\"18932\",\"type\":\"Toolbar\"},\"x_range\":{\"id\":\"18908\",\"type\":\"DataRange1d\"},\"x_scale\":{\"id\":\"18912\",\"type\":\"LinearScale\"},\"y_range\":{\"id\":\"18910\",\"type\":\"DataRange1d\"},\"y_scale\":{\"id\":\"18914\",\"type\":\"LinearScale\"}},\"id\":\"18907\",\"subtype\":\"Figure\",\"type\":\"Plot\"},{\"attributes\":{\"fill_alpha\":{\"value\":0.1},\"fill_color\":{\"value\":\"#1f77b4\"},\"line_alpha\":{\"value\":0.1},\"line_color\":{\"value\":\"#1f77b4\"},\"top\":{\"field\":\"Historical Sales Volume\"},\"width\":{\"value\":0.7},\"x\":{\"field\":\"Decile\"}},\"id\":\"19895\",\"type\":\"VBar\"},{\"attributes\":{\"active_drag\":\"auto\",\"active_inspect\":\"auto\",\"active_multi\":null,\"active_scroll\":\"auto\",\"active_tap\":\"auto\",\"tools\":[{\"id\":\"18926\",\"type\":\"PanTool\"},{\"id\":\"18927\",\"type\":\"WheelZoomTool\"},{\"id\":\"18928\",\"type\":\"BoxZoomTool\"},{\"id\":\"18929\",\"type\":\"SaveTool\"},{\"id\":\"18930\",\"type\":\"ResetTool\"},{\"id\":\"18931\",\"type\":\"HelpTool\"},{\"id\":\"19899\",\"type\":\"HoverTool\"},{\"id\":\"21095\",\"type\":\"HoverTool\"}]},\"id\":\"18932\",\"type\":\"Toolbar\"},{\"attributes\":{\"data_source\":{\"id\":\"18842\",\"type\":\"ColumnDataSource\"},\"glyph\":{\"id\":\"19573\",\"type\":\"VBar\"},\"hover_glyph\":null,\"muted_glyph\":null,\"nonselection_glyph\":{\"id\":\"19574\",\"type\":\"VBar\"},\"selection_glyph\":null,\"view\":{\"id\":\"19576\",\"type\":\"CDSView\"}},\"id\":\"19575\",\"type\":\"GlyphRenderer\"},{\"attributes\":{\"fill_color\":{\"value\":\"LightSalmon\"},\"line_color\":{\"value\":\"LightSalmon\"},\"top\":{\"field\":\"Historical Sales Volume\"},\"width\":{\"value\":0.7},\"x\":{\"field\":\"Decile\"}},\"id\":\"20822\",\"type\":\"VBar\"},{\"attributes\":{\"data_source\":{\"id\":\"18842\",\"type\":\"ColumnDataSource\"},\"glyph\":{\"id\":\"19894\",\"type\":\"VBar\"},\"hover_glyph\":null,\"muted_glyph\":null,\"nonselection_glyph\":{\"id\":\"19895\",\"type\":\"VBar\"},\"selection_glyph\":null,\"view\":{\"id\":\"19897\",\"type\":\"CDSView\"}},\"id\":\"19896\",\"type\":\"GlyphRenderer\"},{\"attributes\":{},\"id\":\"20162\",\"type\":\"BasicTickFormatter\"},{\"attributes\":{},\"id\":\"18922\",\"type\":\"BasicTicker\"},{\"attributes\":{\"callback\":null},\"id\":\"18908\",\"type\":\"DataRange1d\"},{\"attributes\":{\"callback\":null,\"data\":{\"Campaign Period Sales\":{\"__ndarray__\":\"aMF0RlGEMkGWyTrynoMQQWemSUAdLQVB1g/EjA+Z+0BUFf/izqTtQCcCaoG9PuhAoKKWUU3U1UAhHMa3io3HQCVZ7nQRGb1AqP0Xiqhh1EA=\",\"dtype\":\"float64\",\"shape\":[10]},\"Decile\":[1,2,3,4,5,6,7,8,9,10],\"Historical Sales Volume\":{\"__ndarray__\":\"nfShj+JszEH63gvwbIK2QYkkHZAfk7tBriZ9Nmg4xUE2FJG86zq7QWf+uSJRF79BV+d8vNR0wEGYcFcrwZK7QVQy7yeUu7ZBfofGqeULvUE=\",\"dtype\":\"float64\",\"shape\":[10]},\"Profit\":{\"__ndarray__\":\"MplSfY5fBEEod4halUG4wLmXNEZKANbAoP8ePOR54MDB3ZKcrHHhwEBsIrOW0OHAqm3DqE0O4sA/OJ+6SRjiwK+61fM/IuLA2tKjqRJF4sA=\",\"dtype\":\"float64\",\"shape\":[10]}},\"selected\":{\"id\":\"19196\",\"type\":\"Selection\"},\"selection_policy\":{\"id\":\"19195\",\"type\":\"UnionRenderers\"}},\"id\":\"18842\",\"type\":\"ColumnDataSource\"},{\"attributes\":{\"callback\":null,\"mode\":\"vline\",\"tooltips\":[[\"Past Sales $\",\"$y{int}\"]]},\"id\":\"19899\",\"type\":\"HoverTool\"},{\"attributes\":{\"source\":{\"id\":\"18842\",\"type\":\"ColumnDataSource\"}},\"id\":\"19576\",\"type\":\"CDSView\"},{\"attributes\":{\"axis_label\":\"Sales Volume in $\",\"formatter\":{\"id\":\"20164\",\"type\":\"BasicTickFormatter\"},\"ticker\":{\"id\":\"18922\",\"type\":\"BasicTicker\"}},\"id\":\"18921\",\"type\":\"LinearAxis\"},{\"attributes\":{\"text\":\"Historical Sales Volume per Decile\"},\"id\":\"19898\",\"type\":\"Title\"},{\"attributes\":{\"ticker\":{\"id\":\"18917\",\"type\":\"BasicTicker\"}},\"id\":\"18920\",\"type\":\"Grid\"},{\"attributes\":{},\"id\":\"18912\",\"type\":\"LinearScale\"},{\"attributes\":{\"overlay\":{\"id\":\"20166\",\"type\":\"BoxAnnotation\"}},\"id\":\"18928\",\"type\":\"BoxZoomTool\"},{\"attributes\":{\"dimension\":1,\"ticker\":{\"id\":\"18922\",\"type\":\"BasicTicker\"}},\"id\":\"18925\",\"type\":\"Grid\"},{\"attributes\":{},\"id\":\"18931\",\"type\":\"HelpTool\"},{\"attributes\":{\"data_source\":{\"id\":\"18842\",\"type\":\"ColumnDataSource\"},\"glyph\":{\"id\":\"20822\",\"type\":\"VBar\"},\"hover_glyph\":null,\"muted_glyph\":null,\"nonselection_glyph\":{\"id\":\"20823\",\"type\":\"VBar\"},\"selection_glyph\":null,\"view\":{\"id\":\"20825\",\"type\":\"CDSView\"}},\"id\":\"20824\",\"type\":\"GlyphRenderer\"},{\"attributes\":{},\"id\":\"18929\",\"type\":\"SaveTool\"},{\"attributes\":{},\"id\":\"20164\",\"type\":\"BasicTickFormatter\"},{\"attributes\":{\"callback\":null},\"id\":\"18910\",\"type\":\"DataRange1d\"},{\"attributes\":{},\"id\":\"18930\",\"type\":\"ResetTool\"},{\"attributes\":{\"axis_label\":\"Decile\",\"formatter\":{\"id\":\"20162\",\"type\":\"BasicTickFormatter\"},\"ticker\":{\"id\":\"18917\",\"type\":\"BasicTicker\"}},\"id\":\"18916\",\"type\":\"LinearAxis\"},{\"attributes\":{\"fill_color\":{\"value\":\"orange\"},\"line_color\":{\"value\":\"orange\"},\"top\":{\"field\":\"Historical Sales Volume\"},\"width\":{\"value\":0.7},\"x\":{\"field\":\"Decile\"}},\"id\":\"19894\",\"type\":\"VBar\"},{\"attributes\":{\"source\":{\"id\":\"18842\",\"type\":\"ColumnDataSource\"}},\"id\":\"19897\",\"type\":\"CDSView\"},{\"attributes\":{},\"id\":\"19195\",\"type\":\"UnionRenderers\"},{\"attributes\":{},\"id\":\"18917\",\"type\":\"BasicTicker\"},{\"attributes\":{\"fill_alpha\":{\"value\":0.1},\"fill_color\":{\"value\":\"#1f77b4\"},\"line_alpha\":{\"value\":0.1},\"line_color\":{\"value\":\"#1f77b4\"},\"top\":{\"field\":\"Historical Sales Volume\"},\"width\":{\"value\":0.7},\"x\":{\"field\":\"Decile\"}},\"id\":\"20823\",\"type\":\"VBar\"},{\"attributes\":{\"source\":{\"id\":\"18842\",\"type\":\"ColumnDataSource\"}},\"id\":\"20825\",\"type\":\"CDSView\"},{\"attributes\":{\"bottom_units\":\"screen\",\"fill_alpha\":{\"value\":0.5},\"fill_color\":{\"value\":\"lightgrey\"},\"left_units\":\"screen\",\"level\":\"overlay\",\"line_alpha\":{\"value\":1.0},\"line_color\":{\"value\":\"black\"},\"line_dash\":[4,4],\"line_width\":{\"value\":2},\"render_mode\":\"css\",\"right_units\":\"screen\",\"top_units\":\"screen\"},\"id\":\"20166\",\"type\":\"BoxAnnotation\"},{\"attributes\":{},\"id\":\"19196\",\"type\":\"Selection\"},{\"attributes\":{},\"id\":\"18927\",\"type\":\"WheelZoomTool\"},{\"attributes\":{\"fill_alpha\":{\"value\":0.1},\"fill_color\":{\"value\":\"#1f77b4\"},\"line_alpha\":{\"value\":0.1},\"line_color\":{\"value\":\"#1f77b4\"},\"top\":{\"field\":\"Historical Sales Volume\"},\"width\":{\"value\":0.7},\"x\":{\"field\":\"Decile\"}},\"id\":\"19574\",\"type\":\"VBar\"},{\"attributes\":{\"callback\":null,\"mode\":\"vline\",\"tooltips\":[[\"Past Sales $\",\"$y{int}\"]]},\"id\":\"21095\",\"type\":\"HoverTool\"},{\"attributes\":{},\"id\":\"18926\",\"type\":\"PanTool\"},{\"attributes\":{\"fill_color\":{\"value\":\"orange\"},\"line_color\":{\"value\":\"orange\"},\"top\":{\"field\":\"Historical Sales Volume\"},\"width\":{\"value\":0.7},\"x\":{\"field\":\"Decile\"}},\"id\":\"19573\",\"type\":\"VBar\"},{\"attributes\":{},\"id\":\"18914\",\"type\":\"LinearScale\"}],\"root_ids\":[\"18907\"]},\"title\":\"Bokeh Application\",\"version\":\"1.3.4\"}};\n",
       "  var render_items = [{\"docid\":\"dfeef9a5-0fcb-4123-a8da-09339b579749\",\"roots\":{\"18907\":\"7c240f02-61e4-4c83-9f72-740560f5e6e3\"}}];\n",
       "  root.Bokeh.embed.embed_items_notebook(docs_json, render_items);\n",
       "\n",
       "  }\n",
       "  if (root.Bokeh !== undefined) {\n",
       "    embed_document(root);\n",
       "  } else {\n",
       "    var attempts = 0;\n",
       "    var timer = setInterval(function(root) {\n",
       "      if (root.Bokeh !== undefined) {\n",
       "        embed_document(root);\n",
       "        clearInterval(timer);\n",
       "      }\n",
       "      attempts++;\n",
       "      if (attempts > 100) {\n",
       "        console.log(\"Bokeh: ERROR: Unable to run BokehJS code because BokehJS library is missing\");\n",
       "        clearInterval(timer);\n",
       "      }\n",
       "    }, 10, root)\n",
       "  }\n",
       "})(window);"
      ],
      "application/vnd.bokehjs_exec.v0+json": ""
     },
     "metadata": {
      "application/vnd.bokehjs_exec.v0+json": {
       "id": "18907"
      }
     },
     "output_type": "display_data"
    }
   ],
   "source": [
    "hover = HoverTool()\n",
    "hover.tooltips = [('Past Sales $',\"$y{int}\" )]\n",
    "\n",
    "hover.mode = 'vline'\n",
    "\n",
    "r.add_tools(hover)\n",
    "show(r)"
   ]
  },
  {
   "cell_type": "raw",
   "metadata": {},
   "source": [
    "a=df.loc[df['Decile']==1]['Years_since_customer']\n",
    "b=df.loc[df['Decile']!=1]['Years_since_customer']\n"
   ]
  },
  {
   "cell_type": "code",
   "execution_count": 23,
   "metadata": {},
   "outputs": [
    {
     "data": {
      "text/plain": [
       "(array([ 31.,  35.,  14., 314.,  23., 202., 130.,  42.,  14.,   4.]),\n",
       " array([ 3. , 10.1, 17.2, 24.3, 31.4, 38.5, 45.6, 52.7, 59.8, 66.9, 74. ]),\n",
       " <a list of 10 Patch objects>)"
      ]
     },
     "execution_count": 23,
     "metadata": {},
     "output_type": "execute_result"
    },
    {
     "data": {
      "image/png": "[encoded data removed]",
      "text/plain": [
       "<Figure size 432x288 with 1 Axes>"
      ]
     },
     "metadata": {
      "needs_background": "light"
     },
     "output_type": "display_data"
    }
   ],
   "source": [
    "plt.hist(a)"
   ]
  },
  {
   "cell_type": "code",
   "execution_count": 24,
   "metadata": {},
   "outputs": [
    {
     "data": {
      "text/plain": [
       "(array([7.560e+02, 6.810e+02, 3.223e+03, 1.859e+03, 5.320e+02, 1.850e+02,\n",
       "        3.500e+01, 3.000e+00, 0.000e+00, 1.000e+00]),\n",
       " array([ 2. , 11.2, 20.4, 29.6, 38.8, 48. , 57.2, 66.4, 75.6, 84.8, 94. ]),\n",
       " <a list of 10 Patch objects>)"
      ]
     },
     "execution_count": 24,
     "metadata": {},
     "output_type": "execute_result"
    },
    {
     "data": {
      "image/png": "[encoded data removed]",
      "text/plain": [
       "<Figure size 432x288 with 1 Axes>"
      ]
     },
     "metadata": {
      "needs_background": "light"
     },
     "output_type": "display_data"
    }
   ],
   "source": [
    "plt.hist(b)"
   ]
  },
  {
   "cell_type": "code",
   "execution_count": 25,
   "metadata": {},
   "outputs": [],
   "source": [
    "df1 = df[['Decile','Office Supplies_Y','Insurance_Y','Computer_Y','Monitor_Y','Toner_Y','Printer_Y', 'Desk_Y', 'Executive Chair_Y','Standard Chair_Y']]"
   ]
  },
  {
   "cell_type": "code",
   "execution_count": 26,
   "metadata": {},
   "outputs": [],
   "source": [
    "g1 = df1.groupby('Decile', as_index=False).sum()"
   ]
  },
  {
   "cell_type": "code",
   "execution_count": null,
   "metadata": {},
   "outputs": [],
   "source": []
  },
  {
   "cell_type": "code",
   "execution_count": 28,
   "metadata": {},
   "outputs": [
    {
     "name": "stdout",
     "output_type": "stream",
     "text": [
      "   Decile  Office Supplies_Y  Insurance_Y  Computer_Y  Monitor_Y  Toner_Y  \\\n",
      "0       1                336          172          85        112      121   \n",
      "1       2                700           77           4          6       44   \n",
      "2       3                630           95           6          5       56   \n",
      "3       4                574          108           2          4       51   \n",
      "4       5                635           74           0          5       46   \n",
      "5       6                455           96           2          1       37   \n",
      "6       7                454           77           0          0       37   \n",
      "7       8                652           82           0          0       35   \n",
      "8       9                737           71           1          0       39   \n",
      "9      10                739           98           2          0       70   \n",
      "\n",
      "   Printer_Y  Desk_Y  Executive Chair_Y  Standard Chair_Y  \n",
      "0        102      84                150                84  \n",
      "1         12      37                 56                 9  \n",
      "2         13      32                 50                 9  \n",
      "3          7      51                 58                 7  \n",
      "4          8      33                 39                 1  \n",
      "5          9      38                 57                 2  \n",
      "6          6      58                 54                 1  \n",
      "7          5      46                 24                 1  \n",
      "8          5      46                 35                 0  \n",
      "9         19      34                 50                 2  \n"
     ]
    }
   ],
   "source": [
    "print(g1)"
   ]
  },
  {
   "cell_type": "code",
   "execution_count": 29,
   "metadata": {},
   "outputs": [],
   "source": [
    "#convert datetimes to strings\n",
    "g1['Decile'] = g1['Decile'].apply(str)\n",
    "#convert dataframe to dict\n",
    "data = g1.to_dict(orient='list')\n",
    "dates = g1['Decile'].tolist()"
   ]
  },
  {
   "cell_type": "code",
   "execution_count": 34,
   "metadata": {},
   "outputs": [
    {
     "data": {
      "text/html": [
       "\n",
       "\n",
       "\n",
       "\n",
       "\n",
       "\n",
       "  <div class=\"bk-root\" id=\"a46da585-02fe-4edc-b7bf-13f2694480d4\" data-root-id=\"2210\"></div>\n"
      ]
     },
     "metadata": {},
     "output_type": "display_data"
    },
    {
     "data": {
      "application/javascript": [
       "(function(root) {\n",
       "  function embed_document(root) {\n",
       "    \n",
       "  var docs_json = {\"8ee30c2b-2e2b-4468-8ec5-1290059bc7d3\":{\"roots\":{\"references\":[{\"attributes\":{\"below\":[{\"id\":\"2221\",\"type\":\"CategoricalAxis\"}],\"center\":[{\"id\":\"2224\",\"type\":\"Grid\"},{\"id\":\"2229\",\"type\":\"Grid\"}],\"left\":[{\"id\":\"2225\",\"type\":\"LinearAxis\"}],\"plot_height\":250,\"renderers\":[{\"id\":\"2235\",\"type\":\"GlyphRenderer\"}],\"title\":{\"id\":\"2211\",\"type\":\"Title\"},\"toolbar\":{\"id\":\"2230\",\"type\":\"Toolbar\"},\"toolbar_location\":null,\"x_range\":{\"id\":\"2213\",\"type\":\"FactorRange\"},\"x_scale\":{\"id\":\"2217\",\"type\":\"CategoricalScale\"},\"y_range\":{\"id\":\"2215\",\"type\":\"Range1d\"},\"y_scale\":{\"id\":\"2219\",\"type\":\"LinearScale\"}},\"id\":\"2210\",\"subtype\":\"Figure\",\"type\":\"Plot\"},{\"attributes\":{},\"id\":\"2286\",\"type\":\"CategoricalTickFormatter\"},{\"attributes\":{\"fill_color\":{\"value\":\"#c9d9d3\"},\"line_color\":{\"value\":\"#c9d9d3\"},\"top\":{\"field\":\"Office Supplies_Y\"},\"width\":{\"value\":0.4},\"x\":{\"field\":\"Decile\",\"transform\":{\"id\":\"2231\",\"type\":\"Dodge\"}}},\"id\":\"2233\",\"type\":\"VBar\"},{\"attributes\":{\"data_source\":{\"id\":\"2209\",\"type\":\"ColumnDataSource\"},\"glyph\":{\"id\":\"2233\",\"type\":\"VBar\"},\"hover_glyph\":null,\"muted_glyph\":null,\"nonselection_glyph\":{\"id\":\"2234\",\"type\":\"VBar\"},\"selection_glyph\":null,\"view\":{\"id\":\"2236\",\"type\":\"CDSView\"}},\"id\":\"2235\",\"type\":\"GlyphRenderer\"},{\"attributes\":{\"text\":\"Decile Wise Office Supplies Purchase\"},\"id\":\"2211\",\"type\":\"Title\"},{\"attributes\":{},\"id\":\"2217\",\"type\":\"CategoricalScale\"},{\"attributes\":{\"fill_alpha\":{\"value\":0.1},\"fill_color\":{\"value\":\"#1f77b4\"},\"line_alpha\":{\"value\":0.1},\"line_color\":{\"value\":\"#1f77b4\"},\"top\":{\"field\":\"Office Supplies_Y\"},\"width\":{\"value\":0.4},\"x\":{\"field\":\"Decile\",\"transform\":{\"id\":\"2231\",\"type\":\"Dodge\"}}},\"id\":\"2234\",\"type\":\"VBar\"},{\"attributes\":{\"dimension\":1,\"ticker\":{\"id\":\"2226\",\"type\":\"BasicTicker\"}},\"id\":\"2229\",\"type\":\"Grid\"},{\"attributes\":{\"source\":{\"id\":\"2209\",\"type\":\"ColumnDataSource\"}},\"id\":\"2236\",\"type\":\"CDSView\"},{\"attributes\":{\"active_drag\":\"auto\",\"active_inspect\":\"auto\",\"active_multi\":null,\"active_scroll\":\"auto\",\"active_tap\":\"auto\",\"tools\":[{\"id\":\"2237\",\"type\":\"HoverTool\"}]},\"id\":\"2230\",\"type\":\"Toolbar\"},{\"attributes\":{\"grid_line_color\":null,\"ticker\":{\"id\":\"2222\",\"type\":\"CategoricalTicker\"}},\"id\":\"2224\",\"type\":\"Grid\"},{\"attributes\":{\"callback\":null,\"data\":{\"Computer_Y\":[85,4,6,2,0,2,0,0,1,2],\"Decile\":[\"1\",\"2\",\"3\",\"4\",\"5\",\"6\",\"7\",\"8\",\"9\",\"10\"],\"Desk_Y\":[84,37,32,51,33,38,58,46,46,34],\"Executive Chair_Y\":[150,56,50,58,39,57,54,24,35,50],\"Insurance_Y\":[172,77,95,108,74,96,77,82,71,98],\"Monitor_Y\":[112,6,5,4,5,1,0,0,0,0],\"Office Supplies_Y\":[336,700,630,574,635,455,454,652,737,739],\"Printer_Y\":[102,12,13,7,8,9,6,5,5,19],\"Standard Chair_Y\":[84,9,9,7,1,2,1,1,0,2],\"Toner_Y\":[121,44,56,51,46,37,37,35,39,70]},\"selected\":{\"id\":\"2291\",\"type\":\"Selection\"},\"selection_policy\":{\"id\":\"2290\",\"type\":\"UnionRenderers\"}},\"id\":\"2209\",\"type\":\"ColumnDataSource\"},{\"attributes\":{},\"id\":\"2226\",\"type\":\"BasicTicker\"},{\"attributes\":{\"range\":{\"id\":\"2213\",\"type\":\"FactorRange\"}},\"id\":\"2231\",\"type\":\"Dodge\"},{\"attributes\":{\"callback\":null,\"tooltips\":[[\"Office Supplies\",\"$y{int}\"]]},\"id\":\"2237\",\"type\":\"HoverTool\"},{\"attributes\":{\"formatter\":{\"id\":\"2286\",\"type\":\"CategoricalTickFormatter\"},\"ticker\":{\"id\":\"2222\",\"type\":\"CategoricalTicker\"}},\"id\":\"2221\",\"type\":\"CategoricalAxis\"},{\"attributes\":{\"formatter\":{\"id\":\"2288\",\"type\":\"BasicTickFormatter\"},\"ticker\":{\"id\":\"2226\",\"type\":\"BasicTicker\"}},\"id\":\"2225\",\"type\":\"LinearAxis\"},{\"attributes\":{\"callback\":null,\"factors\":[\"1\",\"2\",\"3\",\"4\",\"5\",\"6\",\"7\",\"8\",\"9\",\"10\"],\"range_padding\":0.1},\"id\":\"2213\",\"type\":\"FactorRange\"},{\"attributes\":{},\"id\":\"2288\",\"type\":\"BasicTickFormatter\"},{\"attributes\":{\"callback\":null,\"end\":989},\"id\":\"2215\",\"type\":\"Range1d\"},{\"attributes\":{},\"id\":\"2219\",\"type\":\"LinearScale\"},{\"attributes\":{},\"id\":\"2291\",\"type\":\"Selection\"},{\"attributes\":{},\"id\":\"2222\",\"type\":\"CategoricalTicker\"},{\"attributes\":{},\"id\":\"2290\",\"type\":\"UnionRenderers\"}],\"root_ids\":[\"2210\"]},\"title\":\"Bokeh Application\",\"version\":\"1.3.4\"}};\n",
       "  var render_items = [{\"docid\":\"8ee30c2b-2e2b-4468-8ec5-1290059bc7d3\",\"roots\":{\"2210\":\"a46da585-02fe-4edc-b7bf-13f2694480d4\"}}];\n",
       "  root.Bokeh.embed.embed_items_notebook(docs_json, render_items);\n",
       "\n",
       "  }\n",
       "  if (root.Bokeh !== undefined) {\n",
       "    embed_document(root);\n",
       "  } else {\n",
       "    var attempts = 0;\n",
       "    var timer = setInterval(function(root) {\n",
       "      if (root.Bokeh !== undefined) {\n",
       "        embed_document(root);\n",
       "        clearInterval(timer);\n",
       "      }\n",
       "      attempts++;\n",
       "      if (attempts > 100) {\n",
       "        console.log(\"Bokeh: ERROR: Unable to run BokehJS code because BokehJS library is missing\");\n",
       "        clearInterval(timer);\n",
       "      }\n",
       "    }, 10, root)\n",
       "  }\n",
       "})(window);"
      ],
      "application/vnd.bokehjs_exec.v0+json": ""
     },
     "metadata": {
      "application/vnd.bokehjs_exec.v0+json": {
       "id": "2210"
      }
     },
     "output_type": "display_data"
    }
   ],
   "source": [
    "from bokeh.core.properties import value\n",
    "from bokeh.transform import dodge\n",
    "from bokeh.io import show, output_file\n",
    "\n",
    "output_file(\"dodged_bars.html\")\n",
    "\n",
    "source = ColumnDataSource(data=data)\n",
    "\n",
    "\n",
    "#get max possible value of plotted columns with some offset\n",
    "p = figure(x_range=dates, y_range=(0, g1[['Office Supplies_Y']].values.max() + 250), \n",
    "           plot_height=250, title=\"Decile Wise Office Supplies Purchase\",\n",
    "           toolbar_location=None, tools=\"\")\n",
    "\n",
    "p.vbar(x=dodge('Decile', 0, range=p.x_range), top='Office Supplies_Y', width=0.4, source=source,\n",
    "       color=\"#c9d9d3\")\n",
    "\n",
    "#p.vbar(x=dodge('Decile',  0.25,  range=p.x_range), top='Insurance_Y', width=0.4, source=source, color=\"#718dbf\", legend=value(\"Insurance\"))\n",
    "p.add_tools(HoverTool(tooltips=[(\"Office Supplies\", \"$y{int}\")]))\n",
    "#p.add_tools(HoverTool(tooltips=[ (\"$y\", \"$y{int} Office Supplies  / @Insurance_Y Insurance\")]))\n",
    "p.x_range.range_padding = 0.1\n",
    "p.xgrid.grid_line_color = None\n",
    "p.legend.location = \"top_left\"\n",
    "p.legend.orientation = \"horizontal\"\n",
    "\n",
    "show(p)\n"
   ]
  },
  {
   "cell_type": "code",
   "execution_count": 48,
   "metadata": {},
   "outputs": [
    {
     "data": {
      "text/html": [
       "\n",
       "\n",
       "\n",
       "\n",
       "\n",
       "\n",
       "  <div class=\"bk-root\" id=\"74fc4c45-5c4c-4c8f-8696-d4dd513e461b\" data-root-id=\"4585\"></div>\n"
      ]
     },
     "metadata": {},
     "output_type": "display_data"
    },
    {
     "data": {
      "application/javascript": [
       "(function(root) {\n",
       "  function embed_document(root) {\n",
       "    \n",
       "  var docs_json = {\"9c5bc7e8-e452-41d6-aef0-8b5990b4d540\":{\"roots\":{\"references\":[{\"attributes\":{\"below\":[{\"id\":\"4596\",\"type\":\"CategoricalAxis\"}],\"center\":[{\"id\":\"4599\",\"type\":\"Grid\"},{\"id\":\"4604\",\"type\":\"Grid\"}],\"left\":[{\"id\":\"4600\",\"type\":\"LinearAxis\"}],\"plot_height\":250,\"renderers\":[{\"id\":\"4610\",\"type\":\"GlyphRenderer\"}],\"title\":{\"id\":\"4586\",\"type\":\"Title\"},\"toolbar\":{\"id\":\"4605\",\"type\":\"Toolbar\"},\"toolbar_location\":null,\"x_range\":{\"id\":\"4588\",\"type\":\"FactorRange\"},\"x_scale\":{\"id\":\"4592\",\"type\":\"CategoricalScale\"},\"y_range\":{\"id\":\"4590\",\"type\":\"Range1d\"},\"y_scale\":{\"id\":\"4594\",\"type\":\"LinearScale\"}},\"id\":\"4585\",\"subtype\":\"Figure\",\"type\":\"Plot\"},{\"attributes\":{\"text\":\"Decile Wise Printer Purchase\"},\"id\":\"4586\",\"type\":\"Title\"},{\"attributes\":{\"callback\":null,\"end\":112},\"id\":\"4590\",\"type\":\"Range1d\"},{\"attributes\":{\"callback\":null,\"tooltips\":[[\"Printer\",\"$y{int}\"]]},\"id\":\"4612\",\"type\":\"HoverTool\"},{\"attributes\":{\"fill_color\":{\"value\":\"#718dbf\"},\"line_color\":{\"value\":\"#718dbf\"},\"top\":{\"field\":\"Printer_Y\"},\"width\":{\"value\":0.4},\"x\":{\"field\":\"Decile\",\"transform\":{\"id\":\"4606\",\"type\":\"Dodge\"}}},\"id\":\"4608\",\"type\":\"VBar\"},{\"attributes\":{\"callback\":null,\"factors\":[\"1\",\"2\",\"3\",\"4\",\"5\",\"6\",\"7\",\"8\",\"9\",\"10\"],\"range_padding\":0.1},\"id\":\"4588\",\"type\":\"FactorRange\"},{\"attributes\":{\"formatter\":{\"id\":\"4643\",\"type\":\"CategoricalTickFormatter\"},\"ticker\":{\"id\":\"4597\",\"type\":\"CategoricalTicker\"}},\"id\":\"4596\",\"type\":\"CategoricalAxis\"},{\"attributes\":{\"fill_alpha\":{\"value\":0.1},\"fill_color\":{\"value\":\"#1f77b4\"},\"line_alpha\":{\"value\":0.1},\"line_color\":{\"value\":\"#1f77b4\"},\"top\":{\"field\":\"Printer_Y\"},\"width\":{\"value\":0.4},\"x\":{\"field\":\"Decile\",\"transform\":{\"id\":\"4606\",\"type\":\"Dodge\"}}},\"id\":\"4609\",\"type\":\"VBar\"},{\"attributes\":{},\"id\":\"4643\",\"type\":\"CategoricalTickFormatter\"},{\"attributes\":{\"data_source\":{\"id\":\"4584\",\"type\":\"ColumnDataSource\"},\"glyph\":{\"id\":\"4608\",\"type\":\"VBar\"},\"hover_glyph\":null,\"muted_glyph\":null,\"nonselection_glyph\":{\"id\":\"4609\",\"type\":\"VBar\"},\"selection_glyph\":null,\"view\":{\"id\":\"4611\",\"type\":\"CDSView\"}},\"id\":\"4610\",\"type\":\"GlyphRenderer\"},{\"attributes\":{\"grid_line_color\":null,\"ticker\":{\"id\":\"4597\",\"type\":\"CategoricalTicker\"}},\"id\":\"4599\",\"type\":\"Grid\"},{\"attributes\":{},\"id\":\"4592\",\"type\":\"CategoricalScale\"},{\"attributes\":{\"source\":{\"id\":\"4584\",\"type\":\"ColumnDataSource\"}},\"id\":\"4611\",\"type\":\"CDSView\"},{\"attributes\":{},\"id\":\"4594\",\"type\":\"LinearScale\"},{\"attributes\":{\"formatter\":{\"id\":\"4645\",\"type\":\"BasicTickFormatter\"},\"ticker\":{\"id\":\"4601\",\"type\":\"BasicTicker\"}},\"id\":\"4600\",\"type\":\"LinearAxis\"},{\"attributes\":{},\"id\":\"4647\",\"type\":\"UnionRenderers\"},{\"attributes\":{},\"id\":\"4597\",\"type\":\"CategoricalTicker\"},{\"attributes\":{\"callback\":null,\"data\":{\"Computer_Y\":[85,4,6,2,0,2,0,0,1,2],\"Decile\":[\"1\",\"2\",\"3\",\"4\",\"5\",\"6\",\"7\",\"8\",\"9\",\"10\"],\"Desk_Y\":[84,37,32,51,33,38,58,46,46,34],\"Executive Chair_Y\":[150,56,50,58,39,57,54,24,35,50],\"Insurance_Y\":[172,77,95,108,74,96,77,82,71,98],\"Monitor_Y\":[112,6,5,4,5,1,0,0,0,0],\"Office Supplies_Y\":[336,700,630,574,635,455,454,652,737,739],\"Printer_Y\":[102,12,13,7,8,9,6,5,5,19],\"Standard Chair_Y\":[84,9,9,7,1,2,1,1,0,2],\"Toner_Y\":[121,44,56,51,46,37,37,35,39,70]},\"selected\":{\"id\":\"4648\",\"type\":\"Selection\"},\"selection_policy\":{\"id\":\"4647\",\"type\":\"UnionRenderers\"}},\"id\":\"4584\",\"type\":\"ColumnDataSource\"},{\"attributes\":{\"dimension\":1,\"ticker\":{\"id\":\"4601\",\"type\":\"BasicTicker\"}},\"id\":\"4604\",\"type\":\"Grid\"},{\"attributes\":{},\"id\":\"4648\",\"type\":\"Selection\"},{\"attributes\":{},\"id\":\"4645\",\"type\":\"BasicTickFormatter\"},{\"attributes\":{},\"id\":\"4601\",\"type\":\"BasicTicker\"},{\"attributes\":{\"range\":{\"id\":\"4588\",\"type\":\"FactorRange\"}},\"id\":\"4606\",\"type\":\"Dodge\"},{\"attributes\":{\"active_drag\":\"auto\",\"active_inspect\":\"auto\",\"active_multi\":null,\"active_scroll\":\"auto\",\"active_tap\":\"auto\",\"tools\":[{\"id\":\"4612\",\"type\":\"HoverTool\"}]},\"id\":\"4605\",\"type\":\"Toolbar\"}],\"root_ids\":[\"4585\"]},\"title\":\"Bokeh Application\",\"version\":\"1.3.4\"}};\n",
       "  var render_items = [{\"docid\":\"9c5bc7e8-e452-41d6-aef0-8b5990b4d540\",\"roots\":{\"4585\":\"74fc4c45-5c4c-4c8f-8696-d4dd513e461b\"}}];\n",
       "  root.Bokeh.embed.embed_items_notebook(docs_json, render_items);\n",
       "\n",
       "  }\n",
       "  if (root.Bokeh !== undefined) {\n",
       "    embed_document(root);\n",
       "  } else {\n",
       "    var attempts = 0;\n",
       "    var timer = setInterval(function(root) {\n",
       "      if (root.Bokeh !== undefined) {\n",
       "        embed_document(root);\n",
       "        clearInterval(timer);\n",
       "      }\n",
       "      attempts++;\n",
       "      if (attempts > 100) {\n",
       "        console.log(\"Bokeh: ERROR: Unable to run BokehJS code because BokehJS library is missing\");\n",
       "        clearInterval(timer);\n",
       "      }\n",
       "    }, 10, root)\n",
       "  }\n",
       "})(window);"
      ],
      "application/vnd.bokehjs_exec.v0+json": ""
     },
     "metadata": {
      "application/vnd.bokehjs_exec.v0+json": {
       "id": "4585"
      }
     },
     "output_type": "display_data"
    }
   ],
   "source": []
  },
  {
   "cell_type": "code",
   "execution_count": 50,
   "metadata": {},
   "outputs": [
    {
     "data": {
      "text/html": [
       "\n",
       "\n",
       "\n",
       "\n",
       "\n",
       "\n",
       "  <div class=\"bk-root\" id=\"f713ea59-2020-41bb-a664-8d65ac1ae906\" data-root-id=\"4806\"></div>\n"
      ]
     },
     "metadata": {},
     "output_type": "display_data"
    },
    {
     "data": {
      "application/javascript": [
       "(function(root) {\n",
       "  function embed_document(root) {\n",
       "    \n",
       "  var docs_json = {\"536954c3-b79c-41d2-86a5-e39f57d4de9d\":{\"roots\":{\"references\":[{\"attributes\":{\"below\":[{\"id\":\"4817\",\"type\":\"CategoricalAxis\"}],\"center\":[{\"id\":\"4820\",\"type\":\"Grid\"},{\"id\":\"4825\",\"type\":\"Grid\"}],\"left\":[{\"id\":\"4821\",\"type\":\"LinearAxis\"}],\"plot_height\":250,\"renderers\":[{\"id\":\"4831\",\"type\":\"GlyphRenderer\"}],\"title\":{\"id\":\"4807\",\"type\":\"Title\"},\"toolbar\":{\"id\":\"4826\",\"type\":\"Toolbar\"},\"toolbar_location\":null,\"x_range\":{\"id\":\"4809\",\"type\":\"FactorRange\"},\"x_scale\":{\"id\":\"4813\",\"type\":\"CategoricalScale\"},\"y_range\":{\"id\":\"4811\",\"type\":\"Range1d\"},\"y_scale\":{\"id\":\"4815\",\"type\":\"LinearScale\"}},\"id\":\"4806\",\"subtype\":\"Figure\",\"type\":\"Plot\"},{\"attributes\":{\"fill_alpha\":{\"value\":0.1},\"fill_color\":{\"value\":\"#1f77b4\"},\"line_alpha\":{\"value\":0.1},\"line_color\":{\"value\":\"#1f77b4\"},\"top\":{\"field\":\"Insurance_Y\"},\"width\":{\"value\":0.4},\"x\":{\"field\":\"Decile\",\"transform\":{\"id\":\"4827\",\"type\":\"Dodge\"}}},\"id\":\"4830\",\"type\":\"VBar\"},{\"attributes\":{\"formatter\":{\"id\":\"4878\",\"type\":\"CategoricalTickFormatter\"},\"ticker\":{\"id\":\"4818\",\"type\":\"CategoricalTicker\"}},\"id\":\"4817\",\"type\":\"CategoricalAxis\"},{\"attributes\":{\"callback\":null,\"tooltips\":[[\"Insurance\",\"$y{int}\"]]},\"id\":\"4833\",\"type\":\"HoverTool\"},{\"attributes\":{\"data_source\":{\"id\":\"4805\",\"type\":\"ColumnDataSource\"},\"glyph\":{\"id\":\"4829\",\"type\":\"VBar\"},\"hover_glyph\":null,\"muted_glyph\":null,\"nonselection_glyph\":{\"id\":\"4830\",\"type\":\"VBar\"},\"selection_glyph\":null,\"view\":{\"id\":\"4832\",\"type\":\"CDSView\"}},\"id\":\"4831\",\"type\":\"GlyphRenderer\"},{\"attributes\":{\"grid_line_color\":null,\"ticker\":{\"id\":\"4818\",\"type\":\"CategoricalTicker\"}},\"id\":\"4820\",\"type\":\"Grid\"},{\"attributes\":{},\"id\":\"4883\",\"type\":\"Selection\"},{\"attributes\":{},\"id\":\"4813\",\"type\":\"CategoricalScale\"},{\"attributes\":{\"source\":{\"id\":\"4805\",\"type\":\"ColumnDataSource\"}},\"id\":\"4832\",\"type\":\"CDSView\"},{\"attributes\":{},\"id\":\"4815\",\"type\":\"LinearScale\"},{\"attributes\":{\"callback\":null,\"data\":{\"Computer_Y\":[85,4,6,2,0,2,0,0,1,2],\"Decile\":[\"1\",\"2\",\"3\",\"4\",\"5\",\"6\",\"7\",\"8\",\"9\",\"10\"],\"Desk_Y\":[84,37,32,51,33,38,58,46,46,34],\"Executive Chair_Y\":[150,56,50,58,39,57,54,24,35,50],\"Insurance_Y\":[172,77,95,108,74,96,77,82,71,98],\"Monitor_Y\":[112,6,5,4,5,1,0,0,0,0],\"Office Supplies_Y\":[336,700,630,574,635,455,454,652,737,739],\"Printer_Y\":[102,12,13,7,8,9,6,5,5,19],\"Standard Chair_Y\":[84,9,9,7,1,2,1,1,0,2],\"Toner_Y\":[121,44,56,51,46,37,37,35,39,70]},\"selected\":{\"id\":\"4883\",\"type\":\"Selection\"},\"selection_policy\":{\"id\":\"4882\",\"type\":\"UnionRenderers\"}},\"id\":\"4805\",\"type\":\"ColumnDataSource\"},{\"attributes\":{\"formatter\":{\"id\":\"4880\",\"type\":\"BasicTickFormatter\"},\"ticker\":{\"id\":\"4822\",\"type\":\"BasicTicker\"}},\"id\":\"4821\",\"type\":\"LinearAxis\"},{\"attributes\":{},\"id\":\"4818\",\"type\":\"CategoricalTicker\"},{\"attributes\":{\"dimension\":1,\"ticker\":{\"id\":\"4822\",\"type\":\"BasicTicker\"}},\"id\":\"4825\",\"type\":\"Grid\"},{\"attributes\":{\"range\":{\"id\":\"4809\",\"type\":\"FactorRange\"}},\"id\":\"4827\",\"type\":\"Dodge\"},{\"attributes\":{},\"id\":\"4822\",\"type\":\"BasicTicker\"},{\"attributes\":{},\"id\":\"4880\",\"type\":\"BasicTickFormatter\"},{\"attributes\":{},\"id\":\"4878\",\"type\":\"CategoricalTickFormatter\"},{\"attributes\":{\"active_drag\":\"auto\",\"active_inspect\":\"auto\",\"active_multi\":null,\"active_scroll\":\"auto\",\"active_tap\":\"auto\",\"tools\":[{\"id\":\"4833\",\"type\":\"HoverTool\"}]},\"id\":\"4826\",\"type\":\"Toolbar\"},{\"attributes\":{\"callback\":null,\"end\":177},\"id\":\"4811\",\"type\":\"Range1d\"},{\"attributes\":{},\"id\":\"4882\",\"type\":\"UnionRenderers\"},{\"attributes\":{\"text\":\"Decile Wise Insurance Purchase\"},\"id\":\"4807\",\"type\":\"Title\"},{\"attributes\":{\"callback\":null,\"factors\":[\"1\",\"2\",\"3\",\"4\",\"5\",\"6\",\"7\",\"8\",\"9\",\"10\"],\"range_padding\":0.1},\"id\":\"4809\",\"type\":\"FactorRange\"},{\"attributes\":{\"fill_color\":{\"value\":\"#718dbf\"},\"line_color\":{\"value\":\"#718dbf\"},\"top\":{\"field\":\"Insurance_Y\"},\"width\":{\"value\":0.4},\"x\":{\"field\":\"Decile\",\"transform\":{\"id\":\"4827\",\"type\":\"Dodge\"}}},\"id\":\"4829\",\"type\":\"VBar\"}],\"root_ids\":[\"4806\"]},\"title\":\"Bokeh Application\",\"version\":\"1.3.4\"}};\n",
       "  var render_items = [{\"docid\":\"536954c3-b79c-41d2-86a5-e39f57d4de9d\",\"roots\":{\"4806\":\"f713ea59-2020-41bb-a664-8d65ac1ae906\"}}];\n",
       "  root.Bokeh.embed.embed_items_notebook(docs_json, render_items);\n",
       "\n",
       "  }\n",
       "  if (root.Bokeh !== undefined) {\n",
       "    embed_document(root);\n",
       "  } else {\n",
       "    var attempts = 0;\n",
       "    var timer = setInterval(function(root) {\n",
       "      if (root.Bokeh !== undefined) {\n",
       "        embed_document(root);\n",
       "        clearInterval(timer);\n",
       "      }\n",
       "      attempts++;\n",
       "      if (attempts > 100) {\n",
       "        console.log(\"Bokeh: ERROR: Unable to run BokehJS code because BokehJS library is missing\");\n",
       "        clearInterval(timer);\n",
       "      }\n",
       "    }, 10, root)\n",
       "  }\n",
       "})(window);"
      ],
      "application/vnd.bokehjs_exec.v0+json": ""
     },
     "metadata": {
      "application/vnd.bokehjs_exec.v0+json": {
       "id": "4806"
      }
     },
     "output_type": "display_data"
    }
   ],
   "source": [
    "source = ColumnDataSource(data=data)\n",
    "\n",
    "\n",
    "#get max possible value of plotted columns with some offset\n",
    "p = figure(x_range=dates, y_range=(0, g1[['Insurance_Y']].values.max() + 5), \n",
    "           plot_height=250, title=\"Decile Wise Insurance Purchase\",\n",
    "           toolbar_location=None, tools=\"\")\n",
    "\n",
    "p.vbar(x=dodge('Decile', 0, range=p.x_range), top='Insurance_Y', width=0.4, source=source,\n",
    "       color=\"#718dbf\")\n",
    "\n",
    "p.add_tools(HoverTool(tooltips=[('Insurance', \"$y{int}\")]))\n",
    "\n",
    "p.x_range.range_padding = 0.1\n",
    "p.xgrid.grid_line_color = None\n",
    "p.legend.location = \"top_left\"\n",
    "p.legend.orientation = \"horizontal\"\n",
    "\n",
    "show(p)"
   ]
  },
  {
   "cell_type": "code",
   "execution_count": null,
   "metadata": {},
   "outputs": [],
   "source": []
  },
  {
   "cell_type": "code",
   "execution_count": null,
   "metadata": {},
   "outputs": [],
   "source": []
  },
  {
   "cell_type": "code",
   "execution_count": 43,
   "metadata": {},
   "outputs": [
    {
     "data": {
      "text/html": [
       "\n",
       "    <div class=\"bk-root\">\n",
       "        <a href=\"https://bokeh.pydata.org\" target=\"_blank\" class=\"bk-logo bk-logo-small bk-logo-notebook\"></a>\n",
       "        <span id=\"4225\">Loading BokehJS ...</span>\n",
       "    </div>"
      ]
     },
     "metadata": {},
     "output_type": "display_data"
    },
    {
     "data": {
      "application/javascript": [
       "\n",
       "(function(root) {\n",
       "  function now() {\n",
       "    return new Date();\n",
       "  }\n",
       "\n",
       "  var force = true;\n",
       "\n",
       "  if (typeof root._bokeh_onload_callbacks === \"undefined\" || force === true) {\n",
       "    root._bokeh_onload_callbacks = [];\n",
       "    root._bokeh_is_loading = undefined;\n",
       "  }\n",
       "\n",
       "  var JS_MIME_TYPE = 'application/javascript';\n",
       "  var HTML_MIME_TYPE = 'text/html';\n",
       "  var EXEC_MIME_TYPE = 'application/vnd.bokehjs_exec.v0+json';\n",
       "  var CLASS_NAME = 'output_bokeh rendered_html';\n",
       "\n",
       "  /**\n",
       "   * Render data to the DOM node\n",
       "   */\n",
       "  function render(props, node) {\n",
       "    var script = document.createElement(\"script\");\n",
       "    node.appendChild(script);\n",
       "  }\n",
       "\n",
       "  /**\n",
       "   * Handle when an output is cleared or removed\n",
       "   */\n",
       "  function handleClearOutput(event, handle) {\n",
       "    var cell = handle.cell;\n",
       "\n",
       "    var id = cell.output_area._bokeh_element_id;\n",
       "    var server_id = cell.output_area._bokeh_server_id;\n",
       "    // Clean up Bokeh references\n",
       "    if (id != null && id in Bokeh.index) {\n",
       "      Bokeh.index[id].model.document.clear();\n",
       "      delete Bokeh.index[id];\n",
       "    }\n",
       "\n",
       "    if (server_id !== undefined) {\n",
       "      // Clean up Bokeh references\n",
       "      var cmd = \"from bokeh.io.state import curstate; print(curstate().uuid_to_server['\" + server_id + \"'].get_sessions()[0].document.roots[0]._id)\";\n",
       "      cell.notebook.kernel.execute(cmd, {\n",
       "        iopub: {\n",
       "          output: function(msg) {\n",
       "            var id = msg.content.text.trim();\n",
       "            if (id in Bokeh.index) {\n",
       "              Bokeh.index[id].model.document.clear();\n",
       "              delete Bokeh.index[id];\n",
       "            }\n",
       "          }\n",
       "        }\n",
       "      });\n",
       "      // Destroy server and session\n",
       "      var cmd = \"import bokeh.io.notebook as ion; ion.destroy_server('\" + server_id + \"')\";\n",
       "      cell.notebook.kernel.execute(cmd);\n",
       "    }\n",
       "  }\n",
       "\n",
       "  /**\n",
       "   * Handle when a new output is added\n",
       "   */\n",
       "  function handleAddOutput(event, handle) {\n",
       "    var output_area = handle.output_area;\n",
       "    var output = handle.output;\n",
       "\n",
       "    // limit handleAddOutput to display_data with EXEC_MIME_TYPE content only\n",
       "    if ((output.output_type != \"display_data\") || (!output.data.hasOwnProperty(EXEC_MIME_TYPE))) {\n",
       "      return\n",
       "    }\n",
       "\n",
       "    var toinsert = output_area.element.find(\".\" + CLASS_NAME.split(' ')[0]);\n",
       "\n",
       "    if (output.metadata[EXEC_MIME_TYPE][\"id\"] !== undefined) {\n",
       "      toinsert[toinsert.length - 1].firstChild.textContent = output.data[JS_MIME_TYPE];\n",
       "      // store reference to embed id on output_area\n",
       "      output_area._bokeh_element_id = output.metadata[EXEC_MIME_TYPE][\"id\"];\n",
       "    }\n",
       "    if (output.metadata[EXEC_MIME_TYPE][\"server_id\"] !== undefined) {\n",
       "      var bk_div = document.createElement(\"div\");\n",
       "      bk_div.innerHTML = output.data[HTML_MIME_TYPE];\n",
       "      var script_attrs = bk_div.children[0].attributes;\n",
       "      for (var i = 0; i < script_attrs.length; i++) {\n",
       "        toinsert[toinsert.length - 1].firstChild.setAttribute(script_attrs[i].name, script_attrs[i].value);\n",
       "      }\n",
       "      // store reference to server id on output_area\n",
       "      output_area._bokeh_server_id = output.metadata[EXEC_MIME_TYPE][\"server_id\"];\n",
       "    }\n",
       "  }\n",
       "\n",
       "  function register_renderer(events, OutputArea) {\n",
       "\n",
       "    function append_mime(data, metadata, element) {\n",
       "      // create a DOM node to render to\n",
       "      var toinsert = this.create_output_subarea(\n",
       "        metadata,\n",
       "        CLASS_NAME,\n",
       "        EXEC_MIME_TYPE\n",
       "      );\n",
       "      this.keyboard_manager.register_events(toinsert);\n",
       "      // Render to node\n",
       "      var props = {data: data, metadata: metadata[EXEC_MIME_TYPE]};\n",
       "      render(props, toinsert[toinsert.length - 1]);\n",
       "      element.append(toinsert);\n",
       "      return toinsert\n",
       "    }\n",
       "\n",
       "    /* Handle when an output is cleared or removed */\n",
       "    events.on('clear_output.CodeCell', handleClearOutput);\n",
       "    events.on('delete.Cell', handleClearOutput);\n",
       "\n",
       "    /* Handle when a new output is added */\n",
       "    events.on('output_added.OutputArea', handleAddOutput);\n",
       "\n",
       "    /**\n",
       "     * Register the mime type and append_mime function with output_area\n",
       "     */\n",
       "    OutputArea.prototype.register_mime_type(EXEC_MIME_TYPE, append_mime, {\n",
       "      /* Is output safe? */\n",
       "      safe: true,\n",
       "      /* Index of renderer in `output_area.display_order` */\n",
       "      index: 0\n",
       "    });\n",
       "  }\n",
       "\n",
       "  // register the mime type if in Jupyter Notebook environment and previously unregistered\n",
       "  if (root.Jupyter !== undefined) {\n",
       "    var events = require('base/js/events');\n",
       "    var OutputArea = require('notebook/js/outputarea').OutputArea;\n",
       "\n",
       "    if (OutputArea.prototype.mime_types().indexOf(EXEC_MIME_TYPE) == -1) {\n",
       "      register_renderer(events, OutputArea);\n",
       "    }\n",
       "  }\n",
       "\n",
       "  \n",
       "  if (typeof (root._bokeh_timeout) === \"undefined\" || force === true) {\n",
       "    root._bokeh_timeout = Date.now() + 5000;\n",
       "    root._bokeh_failed_load = false;\n",
       "  }\n",
       "\n",
       "  var NB_LOAD_WARNING = {'data': {'text/html':\n",
       "     \"<div style='background-color: #fdd'>\\n\"+\n",
       "     \"<p>\\n\"+\n",
       "     \"BokehJS does not appear to have successfully loaded. If loading BokehJS from CDN, this \\n\"+\n",
       "     \"may be due to a slow or bad network connection. Possible fixes:\\n\"+\n",
       "     \"</p>\\n\"+\n",
       "     \"<ul>\\n\"+\n",
       "     \"<li>re-rerun `output_notebook()` to attempt to load from CDN again, or</li>\\n\"+\n",
       "     \"<li>use INLINE resources instead, as so:</li>\\n\"+\n",
       "     \"</ul>\\n\"+\n",
       "     \"<code>\\n\"+\n",
       "     \"from bokeh.resources import INLINE\\n\"+\n",
       "     \"output_notebook(resources=INLINE)\\n\"+\n",
       "     \"</code>\\n\"+\n",
       "     \"</div>\"}};\n",
       "\n",
       "  function display_loaded() {\n",
       "    var el = document.getElementById(\"4225\");\n",
       "    if (el != null) {\n",
       "      el.textContent = \"BokehJS is loading...\";\n",
       "    }\n",
       "    if (root.Bokeh !== undefined) {\n",
       "      if (el != null) {\n",
       "        el.textContent = \"BokehJS \" + root.Bokeh.version + \" successfully loaded.\";\n",
       "      }\n",
       "    } else if (Date.now() < root._bokeh_timeout) {\n",
       "      setTimeout(display_loaded, 100)\n",
       "    }\n",
       "  }\n",
       "\n",
       "\n",
       "  function run_callbacks() {\n",
       "    try {\n",
       "      root._bokeh_onload_callbacks.forEach(function(callback) {\n",
       "        if (callback != null)\n",
       "          callback();\n",
       "      });\n",
       "    } finally {\n",
       "      delete root._bokeh_onload_callbacks\n",
       "    }\n",
       "    console.debug(\"Bokeh: all callbacks have finished\");\n",
       "  }\n",
       "\n",
       "  function load_libs(css_urls, js_urls, callback) {\n",
       "    if (css_urls == null) css_urls = [];\n",
       "    if (js_urls == null) js_urls = [];\n",
       "\n",
       "    root._bokeh_onload_callbacks.push(callback);\n",
       "    if (root._bokeh_is_loading > 0) {\n",
       "      console.debug(\"Bokeh: BokehJS is being loaded, scheduling callback at\", now());\n",
       "      return null;\n",
       "    }\n",
       "    if (js_urls == null || js_urls.length === 0) {\n",
       "      run_callbacks();\n",
       "      return null;\n",
       "    }\n",
       "    console.debug(\"Bokeh: BokehJS not loaded, scheduling load and callback at\", now());\n",
       "    root._bokeh_is_loading = css_urls.length + js_urls.length;\n",
       "\n",
       "    function on_load() {\n",
       "      root._bokeh_is_loading--;\n",
       "      if (root._bokeh_is_loading === 0) {\n",
       "        console.debug(\"Bokeh: all BokehJS libraries/stylesheets loaded\");\n",
       "        run_callbacks()\n",
       "      }\n",
       "    }\n",
       "\n",
       "    function on_error() {\n",
       "      console.error(\"failed to load \" + url);\n",
       "    }\n",
       "\n",
       "    for (var i = 0; i < css_urls.length; i++) {\n",
       "      var url = css_urls[i];\n",
       "      const element = document.createElement(\"link\");\n",
       "      element.onload = on_load;\n",
       "      element.onerror = on_error;\n",
       "      element.rel = \"stylesheet\";\n",
       "      element.type = \"text/css\";\n",
       "      element.href = url;\n",
       "      console.debug(\"Bokeh: injecting link tag for BokehJS stylesheet: \", url);\n",
       "      document.body.appendChild(element);\n",
       "    }\n",
       "\n",
       "    for (var i = 0; i < js_urls.length; i++) {\n",
       "      var url = js_urls[i];\n",
       "      var element = document.createElement('script');\n",
       "      element.onload = on_load;\n",
       "      element.onerror = on_error;\n",
       "      element.async = false;\n",
       "      element.src = url;\n",
       "      console.debug(\"Bokeh: injecting script tag for BokehJS library: \", url);\n",
       "      document.head.appendChild(element);\n",
       "    }\n",
       "  };var element = document.getElementById(\"4225\");\n",
       "  if (element == null) {\n",
       "    console.error(\"Bokeh: ERROR: autoload.js configured with elementid '4225' but no matching script tag was found. \")\n",
       "    return false;\n",
       "  }\n",
       "\n",
       "  function inject_raw_css(css) {\n",
       "    const element = document.createElement(\"style\");\n",
       "    element.appendChild(document.createTextNode(css));\n",
       "    document.body.appendChild(element);\n",
       "  }\n",
       "\n",
       "  var js_urls = [\"https://cdn.pydata.org/bokeh/release/bokeh-1.3.4.min.js\", \"https://cdn.pydata.org/bokeh/release/bokeh-widgets-1.3.4.min.js\", \"https://cdn.pydata.org/bokeh/release/bokeh-tables-1.3.4.min.js\", \"https://cdn.pydata.org/bokeh/release/bokeh-gl-1.3.4.min.js\"];\n",
       "  var css_urls = [];\n",
       "\n",
       "  var inline_js = [\n",
       "    function(Bokeh) {\n",
       "      Bokeh.set_log_level(\"info\");\n",
       "    },\n",
       "    \n",
       "    function(Bokeh) {\n",
       "      \n",
       "    },\n",
       "    function(Bokeh) {} // ensure no trailing comma for IE\n",
       "  ];\n",
       "\n",
       "  function run_inline_js() {\n",
       "    \n",
       "    if ((root.Bokeh !== undefined) || (force === true)) {\n",
       "      for (var i = 0; i < inline_js.length; i++) {\n",
       "        inline_js[i].call(root, root.Bokeh);\n",
       "      }if (force === true) {\n",
       "        display_loaded();\n",
       "      }} else if (Date.now() < root._bokeh_timeout) {\n",
       "      setTimeout(run_inline_js, 100);\n",
       "    } else if (!root._bokeh_failed_load) {\n",
       "      console.log(\"Bokeh: BokehJS failed to load within specified timeout.\");\n",
       "      root._bokeh_failed_load = true;\n",
       "    } else if (force !== true) {\n",
       "      var cell = $(document.getElementById(\"4225\")).parents('.cell').data().cell;\n",
       "      cell.output_area.append_execute_result(NB_LOAD_WARNING)\n",
       "    }\n",
       "\n",
       "  }\n",
       "\n",
       "  if (root._bokeh_is_loading === 0) {\n",
       "    console.debug(\"Bokeh: BokehJS loaded, going straight to plotting\");\n",
       "    run_inline_js();\n",
       "  } else {\n",
       "    load_libs(css_urls, js_urls, function() {\n",
       "      console.debug(\"Bokeh: BokehJS plotting callback run at\", now());\n",
       "      run_inline_js();\n",
       "    });\n",
       "  }\n",
       "}(window));"
      ],
      "application/vnd.bokehjs_load.v0+json": "\n(function(root) {\n  function now() {\n    return new Date();\n  }\n\n  var force = true;\n\n  if (typeof root._bokeh_onload_callbacks === \"undefined\" || force === true) {\n    root._bokeh_onload_callbacks = [];\n    root._bokeh_is_loading = undefined;\n  }\n\n  \n\n  \n  if (typeof (root._bokeh_timeout) === \"undefined\" || force === true) {\n    root._bokeh_timeout = Date.now() + 5000;\n    root._bokeh_failed_load = false;\n  }\n\n  var NB_LOAD_WARNING = {'data': {'text/html':\n     \"<div style='background-color: #fdd'>\\n\"+\n     \"<p>\\n\"+\n     \"BokehJS does not appear to have successfully loaded. If loading BokehJS from CDN, this \\n\"+\n     \"may be due to a slow or bad network connection. Possible fixes:\\n\"+\n     \"</p>\\n\"+\n     \"<ul>\\n\"+\n     \"<li>re-rerun `output_notebook()` to attempt to load from CDN again, or</li>\\n\"+\n     \"<li>use INLINE resources instead, as so:</li>\\n\"+\n     \"</ul>\\n\"+\n     \"<code>\\n\"+\n     \"from bokeh.resources import INLINE\\n\"+\n     \"output_notebook(resources=INLINE)\\n\"+\n     \"</code>\\n\"+\n     \"</div>\"}};\n\n  function display_loaded() {\n    var el = document.getElementById(\"4225\");\n    if (el != null) {\n      el.textContent = \"BokehJS is loading...\";\n    }\n    if (root.Bokeh !== undefined) {\n      if (el != null) {\n        el.textContent = \"BokehJS \" + root.Bokeh.version + \" successfully loaded.\";\n      }\n    } else if (Date.now() < root._bokeh_timeout) {\n      setTimeout(display_loaded, 100)\n    }\n  }\n\n\n  function run_callbacks() {\n    try {\n      root._bokeh_onload_callbacks.forEach(function(callback) {\n        if (callback != null)\n          callback();\n      });\n    } finally {\n      delete root._bokeh_onload_callbacks\n    }\n    console.debug(\"Bokeh: all callbacks have finished\");\n  }\n\n  function load_libs(css_urls, js_urls, callback) {\n    if (css_urls == null) css_urls = [];\n    if (js_urls == null) js_urls = [];\n\n    root._bokeh_onload_callbacks.push(callback);\n    if (root._bokeh_is_loading > 0) {\n      console.debug(\"Bokeh: BokehJS is being loaded, scheduling callback at\", now());\n      return null;\n    }\n    if (js_urls == null || js_urls.length === 0) {\n      run_callbacks();\n      return null;\n    }\n    console.debug(\"Bokeh: BokehJS not loaded, scheduling load and callback at\", now());\n    root._bokeh_is_loading = css_urls.length + js_urls.length;\n\n    function on_load() {\n      root._bokeh_is_loading--;\n      if (root._bokeh_is_loading === 0) {\n        console.debug(\"Bokeh: all BokehJS libraries/stylesheets loaded\");\n        run_callbacks()\n      }\n    }\n\n    function on_error() {\n      console.error(\"failed to load \" + url);\n    }\n\n    for (var i = 0; i < css_urls.length; i++) {\n      var url = css_urls[i];\n      const element = document.createElement(\"link\");\n      element.onload = on_load;\n      element.onerror = on_error;\n      element.rel = \"stylesheet\";\n      element.type = \"text/css\";\n      element.href = url;\n      console.debug(\"Bokeh: injecting link tag for BokehJS stylesheet: \", url);\n      document.body.appendChild(element);\n    }\n\n    for (var i = 0; i < js_urls.length; i++) {\n      var url = js_urls[i];\n      var element = document.createElement('script');\n      element.onload = on_load;\n      element.onerror = on_error;\n      element.async = false;\n      element.src = url;\n      console.debug(\"Bokeh: injecting script tag for BokehJS library: \", url);\n      document.head.appendChild(element);\n    }\n  };var element = document.getElementById(\"4225\");\n  if (element == null) {\n    console.error(\"Bokeh: ERROR: autoload.js configured with elementid '4225' but no matching script tag was found. \")\n    return false;\n  }\n\n  function inject_raw_css(css) {\n    const element = document.createElement(\"style\");\n    element.appendChild(document.createTextNode(css));\n    document.body.appendChild(element);\n  }\n\n  var js_urls = [\"https://cdn.pydata.org/bokeh/release/bokeh-1.3.4.min.js\", \"https://cdn.pydata.org/bokeh/release/bokeh-widgets-1.3.4.min.js\", \"https://cdn.pydata.org/bokeh/release/bokeh-tables-1.3.4.min.js\", \"https://cdn.pydata.org/bokeh/release/bokeh-gl-1.3.4.min.js\"];\n  var css_urls = [];\n\n  var inline_js = [\n    function(Bokeh) {\n      Bokeh.set_log_level(\"info\");\n    },\n    \n    function(Bokeh) {\n      \n    },\n    function(Bokeh) {} // ensure no trailing comma for IE\n  ];\n\n  function run_inline_js() {\n    \n    if ((root.Bokeh !== undefined) || (force === true)) {\n      for (var i = 0; i < inline_js.length; i++) {\n        inline_js[i].call(root, root.Bokeh);\n      }if (force === true) {\n        display_loaded();\n      }} else if (Date.now() < root._bokeh_timeout) {\n      setTimeout(run_inline_js, 100);\n    } else if (!root._bokeh_failed_load) {\n      console.log(\"Bokeh: BokehJS failed to load within specified timeout.\");\n      root._bokeh_failed_load = true;\n    } else if (force !== true) {\n      var cell = $(document.getElementById(\"4225\")).parents('.cell').data().cell;\n      cell.output_area.append_execute_result(NB_LOAD_WARNING)\n    }\n\n  }\n\n  if (root._bokeh_is_loading === 0) {\n    console.debug(\"Bokeh: BokehJS loaded, going straight to plotting\");\n    run_inline_js();\n  } else {\n    load_libs(css_urls, js_urls, function() {\n      console.debug(\"Bokeh: BokehJS plotting callback run at\", now());\n      run_inline_js();\n    });\n  }\n}(window));"
     },
     "metadata": {},
     "output_type": "display_data"
    }
   ],
   "source": [
    "bokeh.io.reset_output()\n",
    "bokeh.io.output_notebook()"
   ]
  },
  {
   "cell_type": "code",
   "execution_count": 44,
   "metadata": {},
   "outputs": [
    {
     "data": {
      "text/html": [
       "\n",
       "\n",
       "\n",
       "\n",
       "\n",
       "\n",
       "  <div class=\"bk-root\" id=\"c2c2f331-87b2-4607-91c7-37c075f82568\" data-root-id=\"4227\"></div>\n"
      ]
     },
     "metadata": {},
     "output_type": "display_data"
    },
    {
     "data": {
      "application/javascript": [
       "(function(root) {\n",
       "  function embed_document(root) {\n",
       "    \n",
       "  var docs_json = {\"ce27f391-4863-4609-ae3c-ab999e901908\":{\"roots\":{\"references\":[{\"attributes\":{\"below\":[{\"id\":\"4238\",\"type\":\"CategoricalAxis\"}],\"center\":[{\"id\":\"4241\",\"type\":\"Grid\"},{\"id\":\"4246\",\"type\":\"Grid\"}],\"left\":[{\"id\":\"4242\",\"type\":\"LinearAxis\"}],\"plot_height\":250,\"renderers\":[{\"id\":\"4252\",\"type\":\"GlyphRenderer\"}],\"title\":{\"id\":\"4228\",\"type\":\"Title\"},\"toolbar\":{\"id\":\"4247\",\"type\":\"Toolbar\"},\"toolbar_location\":null,\"x_range\":{\"id\":\"4230\",\"type\":\"FactorRange\"},\"x_scale\":{\"id\":\"4234\",\"type\":\"CategoricalScale\"},\"y_range\":{\"id\":\"4232\",\"type\":\"Range1d\"},\"y_scale\":{\"id\":\"4236\",\"type\":\"LinearScale\"}},\"id\":\"4227\",\"subtype\":\"Figure\",\"type\":\"Plot\"},{\"attributes\":{\"fill_alpha\":{\"value\":0.1},\"fill_color\":{\"value\":\"#1f77b4\"},\"line_alpha\":{\"value\":0.1},\"line_color\":{\"value\":\"#1f77b4\"},\"top\":{\"field\":\"Computer_Y\"},\"width\":{\"value\":0.4},\"x\":{\"field\":\"Decile\",\"transform\":{\"id\":\"4248\",\"type\":\"Dodge\"}}},\"id\":\"4251\",\"type\":\"VBar\"},{\"attributes\":{\"data_source\":{\"id\":\"4226\",\"type\":\"ColumnDataSource\"},\"glyph\":{\"id\":\"4250\",\"type\":\"VBar\"},\"hover_glyph\":null,\"muted_glyph\":null,\"nonselection_glyph\":{\"id\":\"4251\",\"type\":\"VBar\"},\"selection_glyph\":null,\"view\":{\"id\":\"4253\",\"type\":\"CDSView\"}},\"id\":\"4252\",\"type\":\"GlyphRenderer\"},{\"attributes\":{},\"id\":\"4261\",\"type\":\"UnionRenderers\"},{\"attributes\":{},\"id\":\"4239\",\"type\":\"CategoricalTicker\"},{\"attributes\":{},\"id\":\"4234\",\"type\":\"CategoricalScale\"},{\"attributes\":{\"dimension\":1,\"ticker\":{\"id\":\"4243\",\"type\":\"BasicTicker\"}},\"id\":\"4246\",\"type\":\"Grid\"},{\"attributes\":{},\"id\":\"4236\",\"type\":\"LinearScale\"},{\"attributes\":{},\"id\":\"4257\",\"type\":\"CategoricalTickFormatter\"},{\"attributes\":{},\"id\":\"4243\",\"type\":\"BasicTicker\"},{\"attributes\":{\"text\":\"Decile Wise Computer Purchase\"},\"id\":\"4228\",\"type\":\"Title\"},{\"attributes\":{\"active_drag\":\"auto\",\"active_inspect\":\"auto\",\"active_multi\":null,\"active_scroll\":\"auto\",\"active_tap\":\"auto\",\"tools\":[{\"id\":\"4254\",\"type\":\"HoverTool\"}]},\"id\":\"4247\",\"type\":\"Toolbar\"},{\"attributes\":{\"formatter\":{\"id\":\"4257\",\"type\":\"CategoricalTickFormatter\"},\"ticker\":{\"id\":\"4239\",\"type\":\"CategoricalTicker\"}},\"id\":\"4238\",\"type\":\"CategoricalAxis\"},{\"attributes\":{\"formatter\":{\"id\":\"4259\",\"type\":\"BasicTickFormatter\"},\"ticker\":{\"id\":\"4243\",\"type\":\"BasicTicker\"}},\"id\":\"4242\",\"type\":\"LinearAxis\"},{\"attributes\":{\"callback\":null,\"tooltips\":[[\"Computer\",\"$y{int}\"]]},\"id\":\"4254\",\"type\":\"HoverTool\"},{\"attributes\":{\"grid_line_color\":null,\"ticker\":{\"id\":\"4239\",\"type\":\"CategoricalTicker\"}},\"id\":\"4241\",\"type\":\"Grid\"},{\"attributes\":{\"callback\":null,\"factors\":[\"1\",\"2\",\"3\",\"4\",\"5\",\"6\",\"7\",\"8\",\"9\",\"10\"],\"range_padding\":0.1},\"id\":\"4230\",\"type\":\"FactorRange\"},{\"attributes\":{},\"id\":\"4262\",\"type\":\"Selection\"},{\"attributes\":{\"callback\":null,\"data\":{\"Computer_Y\":[85,4,6,2,0,2,0,0,1,2],\"Decile\":[\"1\",\"2\",\"3\",\"4\",\"5\",\"6\",\"7\",\"8\",\"9\",\"10\"],\"Desk_Y\":[84,37,32,51,33,38,58,46,46,34],\"Executive Chair_Y\":[150,56,50,58,39,57,54,24,35,50],\"Insurance_Y\":[172,77,95,108,74,96,77,82,71,98],\"Monitor_Y\":[112,6,5,4,5,1,0,0,0,0],\"Office Supplies_Y\":[336,700,630,574,635,455,454,652,737,739],\"Printer_Y\":[102,12,13,7,8,9,6,5,5,19],\"Standard Chair_Y\":[84,9,9,7,1,2,1,1,0,2],\"Toner_Y\":[121,44,56,51,46,37,37,35,39,70]},\"selected\":{\"id\":\"4262\",\"type\":\"Selection\"},\"selection_policy\":{\"id\":\"4261\",\"type\":\"UnionRenderers\"}},\"id\":\"4226\",\"type\":\"ColumnDataSource\"},{\"attributes\":{\"callback\":null,\"end\":90},\"id\":\"4232\",\"type\":\"Range1d\"},{\"attributes\":{\"range\":{\"id\":\"4230\",\"type\":\"FactorRange\"}},\"id\":\"4248\",\"type\":\"Dodge\"},{\"attributes\":{\"source\":{\"id\":\"4226\",\"type\":\"ColumnDataSource\"}},\"id\":\"4253\",\"type\":\"CDSView\"},{\"attributes\":{},\"id\":\"4259\",\"type\":\"BasicTickFormatter\"},{\"attributes\":{\"fill_color\":{\"value\":\"#718dbf\"},\"line_color\":{\"value\":\"#718dbf\"},\"top\":{\"field\":\"Computer_Y\"},\"width\":{\"value\":0.4},\"x\":{\"field\":\"Decile\",\"transform\":{\"id\":\"4248\",\"type\":\"Dodge\"}}},\"id\":\"4250\",\"type\":\"VBar\"}],\"root_ids\":[\"4227\"]},\"title\":\"Bokeh Application\",\"version\":\"1.3.4\"}};\n",
       "  var render_items = [{\"docid\":\"ce27f391-4863-4609-ae3c-ab999e901908\",\"roots\":{\"4227\":\"c2c2f331-87b2-4607-91c7-37c075f82568\"}}];\n",
       "  root.Bokeh.embed.embed_items_notebook(docs_json, render_items);\n",
       "\n",
       "  }\n",
       "  if (root.Bokeh !== undefined) {\n",
       "    embed_document(root);\n",
       "  } else {\n",
       "    var attempts = 0;\n",
       "    var timer = setInterval(function(root) {\n",
       "      if (root.Bokeh !== undefined) {\n",
       "        embed_document(root);\n",
       "        clearInterval(timer);\n",
       "      }\n",
       "      attempts++;\n",
       "      if (attempts > 100) {\n",
       "        console.log(\"Bokeh: ERROR: Unable to run BokehJS code because BokehJS library is missing\");\n",
       "        clearInterval(timer);\n",
       "      }\n",
       "    }, 10, root)\n",
       "  }\n",
       "})(window);"
      ],
      "application/vnd.bokehjs_exec.v0+json": ""
     },
     "metadata": {
      "application/vnd.bokehjs_exec.v0+json": {
       "id": "4227"
      }
     },
     "output_type": "display_data"
    }
   ],
   "source": [
    "source = ColumnDataSource(data=data)\n",
    "\n",
    "\n",
    "#get max possible value of plotted columns with some offset\n",
    "p = figure(x_range=dates, y_range=(0, g1[['Computer_Y']].values.max() + 5), \n",
    "           plot_height=250, title=\"Decile Wise Computer Purchase\",\n",
    "           toolbar_location=None, tools=\"\")\n",
    "\n",
    "p.vbar(x=dodge('Decile', 0, range=p.x_range), top='Computer_Y', width=0.4, source=source,\n",
    "       color=\"#718dbf\")\n",
    "\n",
    "p.add_tools(HoverTool(tooltips=[('Computer', \"$y{int}\")]))\n",
    "\n",
    "p.x_range.range_padding = 0.1\n",
    "p.xgrid.grid_line_color = None\n",
    "p.legend.location = \"top_left\"\n",
    "p.legend.orientation = \"horizontal\"\n",
    "\n",
    "show(p)\n"
   ]
  },
  {
   "cell_type": "code",
   "execution_count": 45,
   "metadata": {},
   "outputs": [
    {
     "data": {
      "text/html": [
       "\n",
       "\n",
       "\n",
       "\n",
       "\n",
       "\n",
       "  <div class=\"bk-root\" id=\"e25445df-da2e-4c6b-91dd-66a94b666261\" data-root-id=\"4306\"></div>\n"
      ]
     },
     "metadata": {},
     "output_type": "display_data"
    },
    {
     "data": {
      "application/javascript": [
       "(function(root) {\n",
       "  function embed_document(root) {\n",
       "    \n",
       "  var docs_json = {\"3334ee0f-6c52-48ca-be39-ad754bbe50af\":{\"roots\":{\"references\":[{\"attributes\":{\"below\":[{\"id\":\"4317\",\"type\":\"CategoricalAxis\"}],\"center\":[{\"id\":\"4320\",\"type\":\"Grid\"},{\"id\":\"4325\",\"type\":\"Grid\"}],\"left\":[{\"id\":\"4321\",\"type\":\"LinearAxis\"}],\"plot_height\":250,\"renderers\":[{\"id\":\"4331\",\"type\":\"GlyphRenderer\"}],\"title\":{\"id\":\"4307\",\"type\":\"Title\"},\"toolbar\":{\"id\":\"4326\",\"type\":\"Toolbar\"},\"toolbar_location\":null,\"x_range\":{\"id\":\"4309\",\"type\":\"FactorRange\"},\"x_scale\":{\"id\":\"4313\",\"type\":\"CategoricalScale\"},\"y_range\":{\"id\":\"4311\",\"type\":\"Range1d\"},\"y_scale\":{\"id\":\"4315\",\"type\":\"LinearScale\"}},\"id\":\"4306\",\"subtype\":\"Figure\",\"type\":\"Plot\"},{\"attributes\":{},\"id\":\"4343\",\"type\":\"CategoricalTickFormatter\"},{\"attributes\":{\"range\":{\"id\":\"4309\",\"type\":\"FactorRange\"}},\"id\":\"4327\",\"type\":\"Dodge\"},{\"attributes\":{\"callback\":null,\"data\":{\"Computer_Y\":[85,4,6,2,0,2,0,0,1,2],\"Decile\":[\"1\",\"2\",\"3\",\"4\",\"5\",\"6\",\"7\",\"8\",\"9\",\"10\"],\"Desk_Y\":[84,37,32,51,33,38,58,46,46,34],\"Executive Chair_Y\":[150,56,50,58,39,57,54,24,35,50],\"Insurance_Y\":[172,77,95,108,74,96,77,82,71,98],\"Monitor_Y\":[112,6,5,4,5,1,0,0,0,0],\"Office Supplies_Y\":[336,700,630,574,635,455,454,652,737,739],\"Printer_Y\":[102,12,13,7,8,9,6,5,5,19],\"Standard Chair_Y\":[84,9,9,7,1,2,1,1,0,2],\"Toner_Y\":[121,44,56,51,46,37,37,35,39,70]},\"selected\":{\"id\":\"4348\",\"type\":\"Selection\"},\"selection_policy\":{\"id\":\"4347\",\"type\":\"UnionRenderers\"}},\"id\":\"4305\",\"type\":\"ColumnDataSource\"},{\"attributes\":{\"text\":\"Decile Wise Monitor Purchase\"},\"id\":\"4307\",\"type\":\"Title\"},{\"attributes\":{\"fill_color\":{\"value\":\"#718dbf\"},\"line_color\":{\"value\":\"#718dbf\"},\"top\":{\"field\":\"Monitor_Y\"},\"width\":{\"value\":0.4},\"x\":{\"field\":\"Decile\",\"transform\":{\"id\":\"4327\",\"type\":\"Dodge\"}}},\"id\":\"4329\",\"type\":\"VBar\"},{\"attributes\":{\"formatter\":{\"id\":\"4345\",\"type\":\"BasicTickFormatter\"},\"ticker\":{\"id\":\"4322\",\"type\":\"BasicTicker\"}},\"id\":\"4321\",\"type\":\"LinearAxis\"},{\"attributes\":{},\"id\":\"4315\",\"type\":\"LinearScale\"},{\"attributes\":{\"source\":{\"id\":\"4305\",\"type\":\"ColumnDataSource\"}},\"id\":\"4332\",\"type\":\"CDSView\"},{\"attributes\":{\"data_source\":{\"id\":\"4305\",\"type\":\"ColumnDataSource\"},\"glyph\":{\"id\":\"4329\",\"type\":\"VBar\"},\"hover_glyph\":null,\"muted_glyph\":null,\"nonselection_glyph\":{\"id\":\"4330\",\"type\":\"VBar\"},\"selection_glyph\":null,\"view\":{\"id\":\"4332\",\"type\":\"CDSView\"}},\"id\":\"4331\",\"type\":\"GlyphRenderer\"},{\"attributes\":{\"callback\":null,\"end\":117},\"id\":\"4311\",\"type\":\"Range1d\"},{\"attributes\":{},\"id\":\"4322\",\"type\":\"BasicTicker\"},{\"attributes\":{},\"id\":\"4345\",\"type\":\"BasicTickFormatter\"},{\"attributes\":{},\"id\":\"4347\",\"type\":\"UnionRenderers\"},{\"attributes\":{},\"id\":\"4318\",\"type\":\"CategoricalTicker\"},{\"attributes\":{\"formatter\":{\"id\":\"4343\",\"type\":\"CategoricalTickFormatter\"},\"ticker\":{\"id\":\"4318\",\"type\":\"CategoricalTicker\"}},\"id\":\"4317\",\"type\":\"CategoricalAxis\"},{\"attributes\":{\"grid_line_color\":null,\"ticker\":{\"id\":\"4318\",\"type\":\"CategoricalTicker\"}},\"id\":\"4320\",\"type\":\"Grid\"},{\"attributes\":{\"fill_alpha\":{\"value\":0.1},\"fill_color\":{\"value\":\"#1f77b4\"},\"line_alpha\":{\"value\":0.1},\"line_color\":{\"value\":\"#1f77b4\"},\"top\":{\"field\":\"Monitor_Y\"},\"width\":{\"value\":0.4},\"x\":{\"field\":\"Decile\",\"transform\":{\"id\":\"4327\",\"type\":\"Dodge\"}}},\"id\":\"4330\",\"type\":\"VBar\"},{\"attributes\":{\"callback\":null,\"factors\":[\"1\",\"2\",\"3\",\"4\",\"5\",\"6\",\"7\",\"8\",\"9\",\"10\"],\"range_padding\":0.1},\"id\":\"4309\",\"type\":\"FactorRange\"},{\"attributes\":{},\"id\":\"4348\",\"type\":\"Selection\"},{\"attributes\":{},\"id\":\"4313\",\"type\":\"CategoricalScale\"},{\"attributes\":{\"callback\":null,\"tooltips\":[[\"Monitor\",\"$y{int}\"]]},\"id\":\"4333\",\"type\":\"HoverTool\"},{\"attributes\":{\"active_drag\":\"auto\",\"active_inspect\":\"auto\",\"active_multi\":null,\"active_scroll\":\"auto\",\"active_tap\":\"auto\",\"tools\":[{\"id\":\"4333\",\"type\":\"HoverTool\"}]},\"id\":\"4326\",\"type\":\"Toolbar\"},{\"attributes\":{\"dimension\":1,\"ticker\":{\"id\":\"4322\",\"type\":\"BasicTicker\"}},\"id\":\"4325\",\"type\":\"Grid\"}],\"root_ids\":[\"4306\"]},\"title\":\"Bokeh Application\",\"version\":\"1.3.4\"}};\n",
       "  var render_items = [{\"docid\":\"3334ee0f-6c52-48ca-be39-ad754bbe50af\",\"roots\":{\"4306\":\"e25445df-da2e-4c6b-91dd-66a94b666261\"}}];\n",
       "  root.Bokeh.embed.embed_items_notebook(docs_json, render_items);\n",
       "\n",
       "  }\n",
       "  if (root.Bokeh !== undefined) {\n",
       "    embed_document(root);\n",
       "  } else {\n",
       "    var attempts = 0;\n",
       "    var timer = setInterval(function(root) {\n",
       "      if (root.Bokeh !== undefined) {\n",
       "        embed_document(root);\n",
       "        clearInterval(timer);\n",
       "      }\n",
       "      attempts++;\n",
       "      if (attempts > 100) {\n",
       "        console.log(\"Bokeh: ERROR: Unable to run BokehJS code because BokehJS library is missing\");\n",
       "        clearInterval(timer);\n",
       "      }\n",
       "    }, 10, root)\n",
       "  }\n",
       "})(window);"
      ],
      "application/vnd.bokehjs_exec.v0+json": ""
     },
     "metadata": {
      "application/vnd.bokehjs_exec.v0+json": {
       "id": "4306"
      }
     },
     "output_type": "display_data"
    }
   ],
   "source": [
    "source = ColumnDataSource(data=data)\n",
    "\n",
    "\n",
    "#get max possible value of plotted columns with some offset\n",
    "p = figure(x_range=dates, y_range=(0, g1[['Monitor_Y']].values.max() + 5), \n",
    "           plot_height=250, title=\"Decile Wise Monitor Purchase\",\n",
    "           toolbar_location=None, tools=\"\")\n",
    "\n",
    "p.vbar(x=dodge('Decile', 0, range=p.x_range), top='Monitor_Y', width=0.4, source=source,\n",
    "       color=\"#718dbf\")\n",
    "\n",
    "p.add_tools(HoverTool(tooltips=[('Monitor', \"$y{int}\")]))\n",
    "\n",
    "p.x_range.range_padding = 0.1\n",
    "p.xgrid.grid_line_color = None\n",
    "p.legend.location = \"top_left\"\n",
    "p.legend.orientation = \"horizontal\"\n",
    "\n",
    "show(p)"
   ]
  },
  {
   "cell_type": "code",
   "execution_count": 46,
   "metadata": {},
   "outputs": [
    {
     "data": {
      "text/html": [
       "\n",
       "\n",
       "\n",
       "\n",
       "\n",
       "\n",
       "  <div class=\"bk-root\" id=\"6fa9dbcf-31ad-40e8-8817-6a1c96399f7d\" data-root-id=\"4392\"></div>\n"
      ]
     },
     "metadata": {},
     "output_type": "display_data"
    },
    {
     "data": {
      "application/javascript": [
       "(function(root) {\n",
       "  function embed_document(root) {\n",
       "    \n",
       "  var docs_json = {\"3f5c6e27-3614-4391-bb66-5afea17ae22c\":{\"roots\":{\"references\":[{\"attributes\":{\"below\":[{\"id\":\"4403\",\"type\":\"CategoricalAxis\"}],\"center\":[{\"id\":\"4406\",\"type\":\"Grid\"},{\"id\":\"4411\",\"type\":\"Grid\"}],\"left\":[{\"id\":\"4407\",\"type\":\"LinearAxis\"}],\"plot_height\":250,\"renderers\":[{\"id\":\"4417\",\"type\":\"GlyphRenderer\"}],\"title\":{\"id\":\"4393\",\"type\":\"Title\"},\"toolbar\":{\"id\":\"4412\",\"type\":\"Toolbar\"},\"toolbar_location\":null,\"x_range\":{\"id\":\"4395\",\"type\":\"FactorRange\"},\"x_scale\":{\"id\":\"4399\",\"type\":\"CategoricalScale\"},\"y_range\":{\"id\":\"4397\",\"type\":\"Range1d\"},\"y_scale\":{\"id\":\"4401\",\"type\":\"LinearScale\"}},\"id\":\"4392\",\"subtype\":\"Figure\",\"type\":\"Plot\"},{\"attributes\":{},\"id\":\"4401\",\"type\":\"LinearScale\"},{\"attributes\":{\"text\":\"Decile Wise Toner Purchase\"},\"id\":\"4393\",\"type\":\"Title\"},{\"attributes\":{},\"id\":\"4436\",\"type\":\"CategoricalTickFormatter\"},{\"attributes\":{},\"id\":\"4441\",\"type\":\"Selection\"},{\"attributes\":{\"callback\":null,\"data\":{\"Computer_Y\":[85,4,6,2,0,2,0,0,1,2],\"Decile\":[\"1\",\"2\",\"3\",\"4\",\"5\",\"6\",\"7\",\"8\",\"9\",\"10\"],\"Desk_Y\":[84,37,32,51,33,38,58,46,46,34],\"Executive Chair_Y\":[150,56,50,58,39,57,54,24,35,50],\"Insurance_Y\":[172,77,95,108,74,96,77,82,71,98],\"Monitor_Y\":[112,6,5,4,5,1,0,0,0,0],\"Office Supplies_Y\":[336,700,630,574,635,455,454,652,737,739],\"Printer_Y\":[102,12,13,7,8,9,6,5,5,19],\"Standard Chair_Y\":[84,9,9,7,1,2,1,1,0,2],\"Toner_Y\":[121,44,56,51,46,37,37,35,39,70]},\"selected\":{\"id\":\"4441\",\"type\":\"Selection\"},\"selection_policy\":{\"id\":\"4440\",\"type\":\"UnionRenderers\"}},\"id\":\"4391\",\"type\":\"ColumnDataSource\"},{\"attributes\":{},\"id\":\"4438\",\"type\":\"BasicTickFormatter\"},{\"attributes\":{\"callback\":null,\"end\":126},\"id\":\"4397\",\"type\":\"Range1d\"},{\"attributes\":{\"callback\":null,\"tooltips\":[[\"Toner\",\"$y{int}\"]]},\"id\":\"4419\",\"type\":\"HoverTool\"},{\"attributes\":{\"formatter\":{\"id\":\"4436\",\"type\":\"CategoricalTickFormatter\"},\"ticker\":{\"id\":\"4404\",\"type\":\"CategoricalTicker\"}},\"id\":\"4403\",\"type\":\"CategoricalAxis\"},{\"attributes\":{\"callback\":null,\"factors\":[\"1\",\"2\",\"3\",\"4\",\"5\",\"6\",\"7\",\"8\",\"9\",\"10\"],\"range_padding\":0.1},\"id\":\"4395\",\"type\":\"FactorRange\"},{\"attributes\":{},\"id\":\"4399\",\"type\":\"CategoricalScale\"},{\"attributes\":{\"grid_line_color\":null,\"ticker\":{\"id\":\"4404\",\"type\":\"CategoricalTicker\"}},\"id\":\"4406\",\"type\":\"Grid\"},{\"attributes\":{\"active_drag\":\"auto\",\"active_inspect\":\"auto\",\"active_multi\":null,\"active_scroll\":\"auto\",\"active_tap\":\"auto\",\"tools\":[{\"id\":\"4419\",\"type\":\"HoverTool\"}]},\"id\":\"4412\",\"type\":\"Toolbar\"},{\"attributes\":{\"fill_color\":{\"value\":\"#718dbf\"},\"line_color\":{\"value\":\"#718dbf\"},\"top\":{\"field\":\"Toner_Y\"},\"width\":{\"value\":0.4},\"x\":{\"field\":\"Decile\",\"transform\":{\"id\":\"4413\",\"type\":\"Dodge\"}}},\"id\":\"4415\",\"type\":\"VBar\"},{\"attributes\":{},\"id\":\"4408\",\"type\":\"BasicTicker\"},{\"attributes\":{\"source\":{\"id\":\"4391\",\"type\":\"ColumnDataSource\"}},\"id\":\"4418\",\"type\":\"CDSView\"},{\"attributes\":{\"dimension\":1,\"ticker\":{\"id\":\"4408\",\"type\":\"BasicTicker\"}},\"id\":\"4411\",\"type\":\"Grid\"},{\"attributes\":{\"fill_alpha\":{\"value\":0.1},\"fill_color\":{\"value\":\"#1f77b4\"},\"line_alpha\":{\"value\":0.1},\"line_color\":{\"value\":\"#1f77b4\"},\"top\":{\"field\":\"Toner_Y\"},\"width\":{\"value\":0.4},\"x\":{\"field\":\"Decile\",\"transform\":{\"id\":\"4413\",\"type\":\"Dodge\"}}},\"id\":\"4416\",\"type\":\"VBar\"},{\"attributes\":{\"data_source\":{\"id\":\"4391\",\"type\":\"ColumnDataSource\"},\"glyph\":{\"id\":\"4415\",\"type\":\"VBar\"},\"hover_glyph\":null,\"muted_glyph\":null,\"nonselection_glyph\":{\"id\":\"4416\",\"type\":\"VBar\"},\"selection_glyph\":null,\"view\":{\"id\":\"4418\",\"type\":\"CDSView\"}},\"id\":\"4417\",\"type\":\"GlyphRenderer\"},{\"attributes\":{\"range\":{\"id\":\"4395\",\"type\":\"FactorRange\"}},\"id\":\"4413\",\"type\":\"Dodge\"},{\"attributes\":{},\"id\":\"4404\",\"type\":\"CategoricalTicker\"},{\"attributes\":{},\"id\":\"4440\",\"type\":\"UnionRenderers\"},{\"attributes\":{\"formatter\":{\"id\":\"4438\",\"type\":\"BasicTickFormatter\"},\"ticker\":{\"id\":\"4408\",\"type\":\"BasicTicker\"}},\"id\":\"4407\",\"type\":\"LinearAxis\"}],\"root_ids\":[\"4392\"]},\"title\":\"Bokeh Application\",\"version\":\"1.3.4\"}};\n",
       "  var render_items = [{\"docid\":\"3f5c6e27-3614-4391-bb66-5afea17ae22c\",\"roots\":{\"4392\":\"6fa9dbcf-31ad-40e8-8817-6a1c96399f7d\"}}];\n",
       "  root.Bokeh.embed.embed_items_notebook(docs_json, render_items);\n",
       "\n",
       "  }\n",
       "  if (root.Bokeh !== undefined) {\n",
       "    embed_document(root);\n",
       "  } else {\n",
       "    var attempts = 0;\n",
       "    var timer = setInterval(function(root) {\n",
       "      if (root.Bokeh !== undefined) {\n",
       "        embed_document(root);\n",
       "        clearInterval(timer);\n",
       "      }\n",
       "      attempts++;\n",
       "      if (attempts > 100) {\n",
       "        console.log(\"Bokeh: ERROR: Unable to run BokehJS code because BokehJS library is missing\");\n",
       "        clearInterval(timer);\n",
       "      }\n",
       "    }, 10, root)\n",
       "  }\n",
       "})(window);"
      ],
      "application/vnd.bokehjs_exec.v0+json": ""
     },
     "metadata": {
      "application/vnd.bokehjs_exec.v0+json": {
       "id": "4392"
      }
     },
     "output_type": "display_data"
    }
   ],
   "source": [
    "source = ColumnDataSource(data=data)\n",
    "\n",
    "\n",
    "#get max possible value of plotted columns with some offset\n",
    "p = figure(x_range=dates, y_range=(0, g1[['Toner_Y']].values.max() + 5), \n",
    "           plot_height=250, title=\"Decile Wise Toner Purchase\",\n",
    "           toolbar_location=None, tools=\"\")\n",
    "\n",
    "p.vbar(x=dodge('Decile', 0, range=p.x_range), top='Toner_Y', width=0.4, source=source,\n",
    "       color=\"#718dbf\")\n",
    "\n",
    "p.add_tools(HoverTool(tooltips=[('Toner', \"$y{int}\")]))\n",
    "\n",
    "p.x_range.range_padding = 0.1\n",
    "p.xgrid.grid_line_color = None\n",
    "p.legend.location = \"top_left\"\n",
    "p.legend.orientation = \"horizontal\"\n",
    "\n",
    "show(p)"
   ]
  },
  {
   "cell_type": "code",
   "execution_count": 49,
   "metadata": {},
   "outputs": [
    {
     "data": {
      "text/html": [
       "\n",
       "\n",
       "\n",
       "\n",
       "\n",
       "\n",
       "  <div class=\"bk-root\" id=\"85fee3aa-a4ad-420a-9b5a-70b75a4ed44c\" data-root-id=\"4692\"></div>\n"
      ]
     },
     "metadata": {},
     "output_type": "display_data"
    },
    {
     "data": {
      "application/javascript": [
       "(function(root) {\n",
       "  function embed_document(root) {\n",
       "    \n",
       "  var docs_json = {\"fbc3121e-3b56-4cc6-80aa-8f4aaa78de38\":{\"roots\":{\"references\":[{\"attributes\":{\"below\":[{\"id\":\"4703\",\"type\":\"CategoricalAxis\"}],\"center\":[{\"id\":\"4706\",\"type\":\"Grid\"},{\"id\":\"4711\",\"type\":\"Grid\"}],\"left\":[{\"id\":\"4707\",\"type\":\"LinearAxis\"}],\"plot_height\":250,\"renderers\":[{\"id\":\"4717\",\"type\":\"GlyphRenderer\"}],\"title\":{\"id\":\"4693\",\"type\":\"Title\"},\"toolbar\":{\"id\":\"4712\",\"type\":\"Toolbar\"},\"toolbar_location\":null,\"x_range\":{\"id\":\"4695\",\"type\":\"FactorRange\"},\"x_scale\":{\"id\":\"4699\",\"type\":\"CategoricalScale\"},\"y_range\":{\"id\":\"4697\",\"type\":\"Range1d\"},\"y_scale\":{\"id\":\"4701\",\"type\":\"LinearScale\"}},\"id\":\"4692\",\"subtype\":\"Figure\",\"type\":\"Plot\"},{\"attributes\":{\"fill_color\":{\"value\":\"#718dbf\"},\"line_color\":{\"value\":\"#718dbf\"},\"top\":{\"field\":\"Printer_Y\"},\"width\":{\"value\":0.4},\"x\":{\"field\":\"Decile\",\"transform\":{\"id\":\"4713\",\"type\":\"Dodge\"}}},\"id\":\"4715\",\"type\":\"VBar\"},{\"attributes\":{\"callback\":null,\"end\":112},\"id\":\"4697\",\"type\":\"Range1d\"},{\"attributes\":{\"callback\":null,\"factors\":[\"1\",\"2\",\"3\",\"4\",\"5\",\"6\",\"7\",\"8\",\"9\",\"10\"],\"range_padding\":0.1},\"id\":\"4695\",\"type\":\"FactorRange\"},{\"attributes\":{\"formatter\":{\"id\":\"4757\",\"type\":\"CategoricalTickFormatter\"},\"ticker\":{\"id\":\"4704\",\"type\":\"CategoricalTicker\"}},\"id\":\"4703\",\"type\":\"CategoricalAxis\"},{\"attributes\":{\"fill_alpha\":{\"value\":0.1},\"fill_color\":{\"value\":\"#1f77b4\"},\"line_alpha\":{\"value\":0.1},\"line_color\":{\"value\":\"#1f77b4\"},\"top\":{\"field\":\"Printer_Y\"},\"width\":{\"value\":0.4},\"x\":{\"field\":\"Decile\",\"transform\":{\"id\":\"4713\",\"type\":\"Dodge\"}}},\"id\":\"4716\",\"type\":\"VBar\"},{\"attributes\":{\"data_source\":{\"id\":\"4691\",\"type\":\"ColumnDataSource\"},\"glyph\":{\"id\":\"4715\",\"type\":\"VBar\"},\"hover_glyph\":null,\"muted_glyph\":null,\"nonselection_glyph\":{\"id\":\"4716\",\"type\":\"VBar\"},\"selection_glyph\":null,\"view\":{\"id\":\"4718\",\"type\":\"CDSView\"}},\"id\":\"4717\",\"type\":\"GlyphRenderer\"},{\"attributes\":{\"grid_line_color\":null,\"ticker\":{\"id\":\"4704\",\"type\":\"CategoricalTicker\"}},\"id\":\"4706\",\"type\":\"Grid\"},{\"attributes\":{},\"id\":\"4759\",\"type\":\"BasicTickFormatter\"},{\"attributes\":{},\"id\":\"4699\",\"type\":\"CategoricalScale\"},{\"attributes\":{\"source\":{\"id\":\"4691\",\"type\":\"ColumnDataSource\"}},\"id\":\"4718\",\"type\":\"CDSView\"},{\"attributes\":{},\"id\":\"4701\",\"type\":\"LinearScale\"},{\"attributes\":{\"formatter\":{\"id\":\"4759\",\"type\":\"BasicTickFormatter\"},\"ticker\":{\"id\":\"4708\",\"type\":\"BasicTicker\"}},\"id\":\"4707\",\"type\":\"LinearAxis\"},{\"attributes\":{},\"id\":\"4761\",\"type\":\"UnionRenderers\"},{\"attributes\":{},\"id\":\"4704\",\"type\":\"CategoricalTicker\"},{\"attributes\":{\"callback\":null,\"data\":{\"Computer_Y\":[85,4,6,2,0,2,0,0,1,2],\"Decile\":[\"1\",\"2\",\"3\",\"4\",\"5\",\"6\",\"7\",\"8\",\"9\",\"10\"],\"Desk_Y\":[84,37,32,51,33,38,58,46,46,34],\"Executive Chair_Y\":[150,56,50,58,39,57,54,24,35,50],\"Insurance_Y\":[172,77,95,108,74,96,77,82,71,98],\"Monitor_Y\":[112,6,5,4,5,1,0,0,0,0],\"Office Supplies_Y\":[336,700,630,574,635,455,454,652,737,739],\"Printer_Y\":[102,12,13,7,8,9,6,5,5,19],\"Standard Chair_Y\":[84,9,9,7,1,2,1,1,0,2],\"Toner_Y\":[121,44,56,51,46,37,37,35,39,70]},\"selected\":{\"id\":\"4762\",\"type\":\"Selection\"},\"selection_policy\":{\"id\":\"4761\",\"type\":\"UnionRenderers\"}},\"id\":\"4691\",\"type\":\"ColumnDataSource\"},{\"attributes\":{},\"id\":\"4762\",\"type\":\"Selection\"},{\"attributes\":{\"dimension\":1,\"ticker\":{\"id\":\"4708\",\"type\":\"BasicTicker\"}},\"id\":\"4711\",\"type\":\"Grid\"},{\"attributes\":{\"text\":\"Decile Wise Printer Purchase\"},\"id\":\"4693\",\"type\":\"Title\"},{\"attributes\":{},\"id\":\"4757\",\"type\":\"CategoricalTickFormatter\"},{\"attributes\":{},\"id\":\"4708\",\"type\":\"BasicTicker\"},{\"attributes\":{\"range\":{\"id\":\"4695\",\"type\":\"FactorRange\"}},\"id\":\"4713\",\"type\":\"Dodge\"},{\"attributes\":{\"active_drag\":\"auto\",\"active_inspect\":\"auto\",\"active_multi\":null,\"active_scroll\":\"auto\",\"active_tap\":\"auto\",\"tools\":[{\"id\":\"4719\",\"type\":\"HoverTool\"}]},\"id\":\"4712\",\"type\":\"Toolbar\"},{\"attributes\":{\"callback\":null,\"tooltips\":[[\"Printer\",\"$y{int}\"]]},\"id\":\"4719\",\"type\":\"HoverTool\"}],\"root_ids\":[\"4692\"]},\"title\":\"Bokeh Application\",\"version\":\"1.3.4\"}};\n",
       "  var render_items = [{\"docid\":\"fbc3121e-3b56-4cc6-80aa-8f4aaa78de38\",\"roots\":{\"4692\":\"85fee3aa-a4ad-420a-9b5a-70b75a4ed44c\"}}];\n",
       "  root.Bokeh.embed.embed_items_notebook(docs_json, render_items);\n",
       "\n",
       "  }\n",
       "  if (root.Bokeh !== undefined) {\n",
       "    embed_document(root);\n",
       "  } else {\n",
       "    var attempts = 0;\n",
       "    var timer = setInterval(function(root) {\n",
       "      if (root.Bokeh !== undefined) {\n",
       "        embed_document(root);\n",
       "        clearInterval(timer);\n",
       "      }\n",
       "      attempts++;\n",
       "      if (attempts > 100) {\n",
       "        console.log(\"Bokeh: ERROR: Unable to run BokehJS code because BokehJS library is missing\");\n",
       "        clearInterval(timer);\n",
       "      }\n",
       "    }, 10, root)\n",
       "  }\n",
       "})(window);"
      ],
      "application/vnd.bokehjs_exec.v0+json": ""
     },
     "metadata": {
      "application/vnd.bokehjs_exec.v0+json": {
       "id": "4692"
      }
     },
     "output_type": "display_data"
    }
   ],
   "source": [
    "source = ColumnDataSource(data=data)\n",
    "\n",
    "\n",
    "#get max possible value of plotted columns with some offset\n",
    "p = figure(x_range=dates, y_range=(0, g1[['Printer_Y']].values.max() + 10), \n",
    "           plot_height=250, title=\"Decile Wise Printer Purchase\",\n",
    "           toolbar_location=None, tools=\"\")\n",
    "\n",
    "\n",
    "p.vbar(x=dodge('Decile',  0,  range=p.x_range), top='Printer_Y', width=0.4, source=source, color=\"#718dbf\")\n",
    "\n",
    "p.add_tools(HoverTool(tooltips=[(\"Printer\", \"$y{int}\")]))\n",
    "\n",
    "p.x_range.range_padding = 0.1\n",
    "p.xgrid.grid_line_color = None\n",
    "p.legend.location = \"top_left\"\n",
    "p.legend.orientation = \"horizontal\"\n",
    "\n",
    "show(p)"
   ]
  },
  {
   "cell_type": "code",
   "execution_count": 52,
   "metadata": {},
   "outputs": [
    {
     "data": {
      "text/html": [
       "\n",
       "\n",
       "\n",
       "\n",
       "\n",
       "\n",
       "  <div class=\"bk-root\" id=\"b5268cd6-ef46-4f92-8462-18df09f611a9\" data-root-id=\"5055\"></div>\n"
      ]
     },
     "metadata": {},
     "output_type": "display_data"
    },
    {
     "data": {
      "application/javascript": [
       "(function(root) {\n",
       "  function embed_document(root) {\n",
       "    \n",
       "  var docs_json = {\"7511e172-c4b4-4134-9e4c-34dfad470399\":{\"roots\":{\"references\":[{\"attributes\":{\"below\":[{\"id\":\"5066\",\"type\":\"CategoricalAxis\"}],\"center\":[{\"id\":\"5069\",\"type\":\"Grid\"},{\"id\":\"5074\",\"type\":\"Grid\"}],\"left\":[{\"id\":\"5070\",\"type\":\"LinearAxis\"}],\"plot_height\":250,\"renderers\":[{\"id\":\"5080\",\"type\":\"GlyphRenderer\"}],\"title\":{\"id\":\"5056\",\"type\":\"Title\"},\"toolbar\":{\"id\":\"5075\",\"type\":\"Toolbar\"},\"toolbar_location\":null,\"x_range\":{\"id\":\"5058\",\"type\":\"FactorRange\"},\"x_scale\":{\"id\":\"5062\",\"type\":\"CategoricalScale\"},\"y_range\":{\"id\":\"5060\",\"type\":\"Range1d\"},\"y_scale\":{\"id\":\"5064\",\"type\":\"LinearScale\"}},\"id\":\"5055\",\"subtype\":\"Figure\",\"type\":\"Plot\"},{\"attributes\":{\"grid_line_color\":null,\"ticker\":{\"id\":\"5067\",\"type\":\"CategoricalTicker\"}},\"id\":\"5069\",\"type\":\"Grid\"},{\"attributes\":{\"formatter\":{\"id\":\"5143\",\"type\":\"BasicTickFormatter\"},\"ticker\":{\"id\":\"5071\",\"type\":\"BasicTicker\"}},\"id\":\"5070\",\"type\":\"LinearAxis\"},{\"attributes\":{},\"id\":\"5143\",\"type\":\"BasicTickFormatter\"},{\"attributes\":{},\"id\":\"5145\",\"type\":\"UnionRenderers\"},{\"attributes\":{\"callback\":null,\"end\":89},\"id\":\"5060\",\"type\":\"Range1d\"},{\"attributes\":{\"dimension\":1,\"ticker\":{\"id\":\"5071\",\"type\":\"BasicTicker\"}},\"id\":\"5074\",\"type\":\"Grid\"},{\"attributes\":{},\"id\":\"5071\",\"type\":\"BasicTicker\"},{\"attributes\":{\"active_drag\":\"auto\",\"active_inspect\":\"auto\",\"active_multi\":null,\"active_scroll\":\"auto\",\"active_tap\":\"auto\",\"tools\":[{\"id\":\"5082\",\"type\":\"HoverTool\"}]},\"id\":\"5075\",\"type\":\"Toolbar\"},{\"attributes\":{\"callback\":null,\"data\":{\"Computer_Y\":[85,4,6,2,0,2,0,0,1,2],\"Decile\":[\"1\",\"2\",\"3\",\"4\",\"5\",\"6\",\"7\",\"8\",\"9\",\"10\"],\"Desk_Y\":[84,37,32,51,33,38,58,46,46,34],\"Executive Chair_Y\":[150,56,50,58,39,57,54,24,35,50],\"Insurance_Y\":[172,77,95,108,74,96,77,82,71,98],\"Monitor_Y\":[112,6,5,4,5,1,0,0,0,0],\"Office Supplies_Y\":[336,700,630,574,635,455,454,652,737,739],\"Printer_Y\":[102,12,13,7,8,9,6,5,5,19],\"Standard Chair_Y\":[84,9,9,7,1,2,1,1,0,2],\"Toner_Y\":[121,44,56,51,46,37,37,35,39,70]},\"selected\":{\"id\":\"5146\",\"type\":\"Selection\"},\"selection_policy\":{\"id\":\"5145\",\"type\":\"UnionRenderers\"}},\"id\":\"5054\",\"type\":\"ColumnDataSource\"},{\"attributes\":{\"range\":{\"id\":\"5058\",\"type\":\"FactorRange\"}},\"id\":\"5076\",\"type\":\"Dodge\"},{\"attributes\":{},\"id\":\"5141\",\"type\":\"CategoricalTickFormatter\"},{\"attributes\":{},\"id\":\"5067\",\"type\":\"CategoricalTicker\"},{\"attributes\":{\"fill_color\":{\"value\":\"#718dbf\"},\"line_color\":{\"value\":\"#718dbf\"},\"top\":{\"field\":\"Desk_Y\"},\"width\":{\"value\":0.4},\"x\":{\"field\":\"Decile\",\"transform\":{\"id\":\"5076\",\"type\":\"Dodge\"}}},\"id\":\"5078\",\"type\":\"VBar\"},{\"attributes\":{\"formatter\":{\"id\":\"5141\",\"type\":\"CategoricalTickFormatter\"},\"ticker\":{\"id\":\"5067\",\"type\":\"CategoricalTicker\"}},\"id\":\"5066\",\"type\":\"CategoricalAxis\"},{\"attributes\":{\"callback\":null,\"factors\":[\"1\",\"2\",\"3\",\"4\",\"5\",\"6\",\"7\",\"8\",\"9\",\"10\"],\"range_padding\":0.1},\"id\":\"5058\",\"type\":\"FactorRange\"},{\"attributes\":{\"text\":\"Decile Wise Desk Purchase\"},\"id\":\"5056\",\"type\":\"Title\"},{\"attributes\":{\"fill_alpha\":{\"value\":0.1},\"fill_color\":{\"value\":\"#1f77b4\"},\"line_alpha\":{\"value\":0.1},\"line_color\":{\"value\":\"#1f77b4\"},\"top\":{\"field\":\"Desk_Y\"},\"width\":{\"value\":0.4},\"x\":{\"field\":\"Decile\",\"transform\":{\"id\":\"5076\",\"type\":\"Dodge\"}}},\"id\":\"5079\",\"type\":\"VBar\"},{\"attributes\":{},\"id\":\"5062\",\"type\":\"CategoricalScale\"},{\"attributes\":{\"data_source\":{\"id\":\"5054\",\"type\":\"ColumnDataSource\"},\"glyph\":{\"id\":\"5078\",\"type\":\"VBar\"},\"hover_glyph\":null,\"muted_glyph\":null,\"nonselection_glyph\":{\"id\":\"5079\",\"type\":\"VBar\"},\"selection_glyph\":null,\"view\":{\"id\":\"5081\",\"type\":\"CDSView\"}},\"id\":\"5080\",\"type\":\"GlyphRenderer\"},{\"attributes\":{\"callback\":null,\"tooltips\":[[\"Desk\",\"$y{int}\"]]},\"id\":\"5082\",\"type\":\"HoverTool\"},{\"attributes\":{},\"id\":\"5064\",\"type\":\"LinearScale\"},{\"attributes\":{},\"id\":\"5146\",\"type\":\"Selection\"},{\"attributes\":{\"source\":{\"id\":\"5054\",\"type\":\"ColumnDataSource\"}},\"id\":\"5081\",\"type\":\"CDSView\"}],\"root_ids\":[\"5055\"]},\"title\":\"Bokeh Application\",\"version\":\"1.3.4\"}};\n",
       "  var render_items = [{\"docid\":\"7511e172-c4b4-4134-9e4c-34dfad470399\",\"roots\":{\"5055\":\"b5268cd6-ef46-4f92-8462-18df09f611a9\"}}];\n",
       "  root.Bokeh.embed.embed_items_notebook(docs_json, render_items);\n",
       "\n",
       "  }\n",
       "  if (root.Bokeh !== undefined) {\n",
       "    embed_document(root);\n",
       "  } else {\n",
       "    var attempts = 0;\n",
       "    var timer = setInterval(function(root) {\n",
       "      if (root.Bokeh !== undefined) {\n",
       "        embed_document(root);\n",
       "        clearInterval(timer);\n",
       "      }\n",
       "      attempts++;\n",
       "      if (attempts > 100) {\n",
       "        console.log(\"Bokeh: ERROR: Unable to run BokehJS code because BokehJS library is missing\");\n",
       "        clearInterval(timer);\n",
       "      }\n",
       "    }, 10, root)\n",
       "  }\n",
       "})(window);"
      ],
      "application/vnd.bokehjs_exec.v0+json": ""
     },
     "metadata": {
      "application/vnd.bokehjs_exec.v0+json": {
       "id": "5055"
      }
     },
     "output_type": "display_data"
    }
   ],
   "source": [
    "source = ColumnDataSource(data=data)\n",
    "\n",
    "\n",
    "#get max possible value of plotted columns with some offset\n",
    "p = figure(x_range=dates, y_range=(0, g1[['Desk_Y']].values.max() + 5), \n",
    "           plot_height=250, title=\"Decile Wise Desk Purchase\",\n",
    "           toolbar_location=None, tools=\"\")\n",
    "\n",
    "\n",
    "p.vbar(x=dodge('Decile',  0,  range=p.x_range), top='Desk_Y', width=0.4, source=source, color=\"#718dbf\")\n",
    "\n",
    "p.add_tools(HoverTool(tooltips=[(\"Desk\", \"$y{int}\")]))\n",
    "\n",
    "p.x_range.range_padding = 0.1\n",
    "p.xgrid.grid_line_color = None\n",
    "p.legend.location = \"top_left\"\n",
    "p.legend.orientation = \"horizontal\"\n",
    "\n",
    "show(p)"
   ]
  },
  {
   "cell_type": "code",
   "execution_count": 54,
   "metadata": {},
   "outputs": [
    {
     "data": {
      "text/html": [
       "\n",
       "\n",
       "\n",
       "\n",
       "\n",
       "\n",
       "  <div class=\"bk-root\" id=\"7eb6f134-c597-473c-9115-7a4925bd85dd\" data-root-id=\"5332\"></div>\n"
      ]
     },
     "metadata": {},
     "output_type": "display_data"
    },
    {
     "data": {
      "application/javascript": [
       "(function(root) {\n",
       "  function embed_document(root) {\n",
       "    \n",
       "  var docs_json = {\"f1fc5d4c-abf3-4a75-a6aa-7353c9f79436\":{\"roots\":{\"references\":[{\"attributes\":{\"below\":[{\"id\":\"5343\",\"type\":\"CategoricalAxis\"}],\"center\":[{\"id\":\"5346\",\"type\":\"Grid\"},{\"id\":\"5351\",\"type\":\"Grid\"}],\"left\":[{\"id\":\"5347\",\"type\":\"LinearAxis\"}],\"plot_height\":250,\"renderers\":[{\"id\":\"5357\",\"type\":\"GlyphRenderer\"}],\"title\":{\"id\":\"5333\",\"type\":\"Title\"},\"toolbar\":{\"id\":\"5352\",\"type\":\"Toolbar\"},\"toolbar_location\":null,\"x_range\":{\"id\":\"5335\",\"type\":\"FactorRange\"},\"x_scale\":{\"id\":\"5339\",\"type\":\"CategoricalScale\"},\"y_range\":{\"id\":\"5337\",\"type\":\"Range1d\"},\"y_scale\":{\"id\":\"5341\",\"type\":\"LinearScale\"}},\"id\":\"5332\",\"subtype\":\"Figure\",\"type\":\"Plot\"},{\"attributes\":{\"active_drag\":\"auto\",\"active_inspect\":\"auto\",\"active_multi\":null,\"active_scroll\":\"auto\",\"active_tap\":\"auto\",\"tools\":[{\"id\":\"5359\",\"type\":\"HoverTool\"}]},\"id\":\"5352\",\"type\":\"Toolbar\"},{\"attributes\":{\"callback\":null,\"data\":{\"Computer_Y\":[85,4,6,2,0,2,0,0,1,2],\"Decile\":[\"1\",\"2\",\"3\",\"4\",\"5\",\"6\",\"7\",\"8\",\"9\",\"10\"],\"Desk_Y\":[84,37,32,51,33,38,58,46,46,34],\"Executive Chair_Y\":[150,56,50,58,39,57,54,24,35,50],\"Insurance_Y\":[172,77,95,108,74,96,77,82,71,98],\"Monitor_Y\":[112,6,5,4,5,1,0,0,0,0],\"Office Supplies_Y\":[336,700,630,574,635,455,454,652,737,739],\"Printer_Y\":[102,12,13,7,8,9,6,5,5,19],\"Standard Chair_Y\":[84,9,9,7,1,2,1,1,0,2],\"Toner_Y\":[121,44,56,51,46,37,37,35,39,70]},\"selected\":{\"id\":\"5437\",\"type\":\"Selection\"},\"selection_policy\":{\"id\":\"5436\",\"type\":\"UnionRenderers\"}},\"id\":\"5331\",\"type\":\"ColumnDataSource\"},{\"attributes\":{\"formatter\":{\"id\":\"5434\",\"type\":\"BasicTickFormatter\"},\"ticker\":{\"id\":\"5348\",\"type\":\"BasicTicker\"}},\"id\":\"5347\",\"type\":\"LinearAxis\"},{\"attributes\":{},\"id\":\"5344\",\"type\":\"CategoricalTicker\"},{\"attributes\":{\"range\":{\"id\":\"5335\",\"type\":\"FactorRange\"}},\"id\":\"5353\",\"type\":\"Dodge\"},{\"attributes\":{\"fill_color\":{\"value\":\"#718dbf\"},\"line_color\":{\"value\":\"#718dbf\"},\"top\":{\"field\":\"Executive Chair_Y\"},\"width\":{\"value\":0.4},\"x\":{\"field\":\"Decile\",\"transform\":{\"id\":\"5353\",\"type\":\"Dodge\"}}},\"id\":\"5355\",\"type\":\"VBar\"},{\"attributes\":{\"callback\":null,\"end\":155},\"id\":\"5337\",\"type\":\"Range1d\"},{\"attributes\":{\"text\":\"Decile Wise Executive Chair Purchase\"},\"id\":\"5333\",\"type\":\"Title\"},{\"attributes\":{\"fill_alpha\":{\"value\":0.1},\"fill_color\":{\"value\":\"#1f77b4\"},\"line_alpha\":{\"value\":0.1},\"line_color\":{\"value\":\"#1f77b4\"},\"top\":{\"field\":\"Executive Chair_Y\"},\"width\":{\"value\":0.4},\"x\":{\"field\":\"Decile\",\"transform\":{\"id\":\"5353\",\"type\":\"Dodge\"}}},\"id\":\"5356\",\"type\":\"VBar\"},{\"attributes\":{\"data_source\":{\"id\":\"5331\",\"type\":\"ColumnDataSource\"},\"glyph\":{\"id\":\"5355\",\"type\":\"VBar\"},\"hover_glyph\":null,\"muted_glyph\":null,\"nonselection_glyph\":{\"id\":\"5356\",\"type\":\"VBar\"},\"selection_glyph\":null,\"view\":{\"id\":\"5358\",\"type\":\"CDSView\"}},\"id\":\"5357\",\"type\":\"GlyphRenderer\"},{\"attributes\":{},\"id\":\"5434\",\"type\":\"BasicTickFormatter\"},{\"attributes\":{},\"id\":\"5348\",\"type\":\"BasicTicker\"},{\"attributes\":{\"source\":{\"id\":\"5331\",\"type\":\"ColumnDataSource\"}},\"id\":\"5358\",\"type\":\"CDSView\"},{\"attributes\":{\"callback\":null,\"tooltips\":[[\"Executive Chair\",\"$y{int}\"]]},\"id\":\"5359\",\"type\":\"HoverTool\"},{\"attributes\":{},\"id\":\"5432\",\"type\":\"CategoricalTickFormatter\"},{\"attributes\":{},\"id\":\"5437\",\"type\":\"Selection\"},{\"attributes\":{\"callback\":null,\"factors\":[\"1\",\"2\",\"3\",\"4\",\"5\",\"6\",\"7\",\"8\",\"9\",\"10\"],\"range_padding\":0.1},\"id\":\"5335\",\"type\":\"FactorRange\"},{\"attributes\":{\"dimension\":1,\"ticker\":{\"id\":\"5348\",\"type\":\"BasicTicker\"}},\"id\":\"5351\",\"type\":\"Grid\"},{\"attributes\":{},\"id\":\"5436\",\"type\":\"UnionRenderers\"},{\"attributes\":{\"formatter\":{\"id\":\"5432\",\"type\":\"CategoricalTickFormatter\"},\"ticker\":{\"id\":\"5344\",\"type\":\"CategoricalTicker\"}},\"id\":\"5343\",\"type\":\"CategoricalAxis\"},{\"attributes\":{\"grid_line_color\":null,\"ticker\":{\"id\":\"5344\",\"type\":\"CategoricalTicker\"}},\"id\":\"5346\",\"type\":\"Grid\"},{\"attributes\":{},\"id\":\"5339\",\"type\":\"CategoricalScale\"},{\"attributes\":{},\"id\":\"5341\",\"type\":\"LinearScale\"}],\"root_ids\":[\"5332\"]},\"title\":\"Bokeh Application\",\"version\":\"1.3.4\"}};\n",
       "  var render_items = [{\"docid\":\"f1fc5d4c-abf3-4a75-a6aa-7353c9f79436\",\"roots\":{\"5332\":\"7eb6f134-c597-473c-9115-7a4925bd85dd\"}}];\n",
       "  root.Bokeh.embed.embed_items_notebook(docs_json, render_items);\n",
       "\n",
       "  }\n",
       "  if (root.Bokeh !== undefined) {\n",
       "    embed_document(root);\n",
       "  } else {\n",
       "    var attempts = 0;\n",
       "    var timer = setInterval(function(root) {\n",
       "      if (root.Bokeh !== undefined) {\n",
       "        embed_document(root);\n",
       "        clearInterval(timer);\n",
       "      }\n",
       "      attempts++;\n",
       "      if (attempts > 100) {\n",
       "        console.log(\"Bokeh: ERROR: Unable to run BokehJS code because BokehJS library is missing\");\n",
       "        clearInterval(timer);\n",
       "      }\n",
       "    }, 10, root)\n",
       "  }\n",
       "})(window);"
      ],
      "application/vnd.bokehjs_exec.v0+json": ""
     },
     "metadata": {
      "application/vnd.bokehjs_exec.v0+json": {
       "id": "5332"
      }
     },
     "output_type": "display_data"
    }
   ],
   "source": [
    "source = ColumnDataSource(data=data)\n",
    "\n",
    "\n",
    "#get max possible value of plotted columns with some offset\n",
    "p = figure(x_range=dates, y_range=(0, g1[['Executive Chair_Y']].values.max() + 5), \n",
    "           plot_height=250, title=\"Decile Wise Executive Chair Purchase\",\n",
    "           toolbar_location=None, tools=\"\")\n",
    "\n",
    "\n",
    "p.vbar(x=dodge('Decile',  0,  range=p.x_range), top='Executive Chair_Y', width=0.4, source=source, color=\"#718dbf\")\n",
    "\n",
    "p.add_tools(HoverTool(tooltips=[(\"Executive Chair\", \"$y{int}\")]))\n",
    "\n",
    "p.x_range.range_padding = 0.1\n",
    "p.xgrid.grid_line_color = None\n",
    "p.legend.location = \"top_left\"\n",
    "p.legend.orientation = \"horizontal\"\n",
    "\n",
    "show(p)"
   ]
  },
  {
   "cell_type": "code",
   "execution_count": 56,
   "metadata": {},
   "outputs": [
    {
     "data": {
      "text/html": [
       "\n",
       "\n",
       "\n",
       "\n",
       "\n",
       "\n",
       "  <div class=\"bk-root\" id=\"459b7a74-e2ab-4541-9a34-41820421a25f\" data-root-id=\"5637\"></div>\n"
      ]
     },
     "metadata": {},
     "output_type": "display_data"
    },
    {
     "data": {
      "application/javascript": [
       "(function(root) {\n",
       "  function embed_document(root) {\n",
       "    \n",
       "  var docs_json = {\"c4799e13-ae1d-403f-a632-ebc520a8932a\":{\"roots\":{\"references\":[{\"attributes\":{\"below\":[{\"id\":\"5648\",\"type\":\"CategoricalAxis\"}],\"center\":[{\"id\":\"5651\",\"type\":\"Grid\"},{\"id\":\"5656\",\"type\":\"Grid\"}],\"left\":[{\"id\":\"5652\",\"type\":\"LinearAxis\"}],\"plot_height\":250,\"renderers\":[{\"id\":\"5662\",\"type\":\"GlyphRenderer\"}],\"title\":{\"id\":\"5638\",\"type\":\"Title\"},\"toolbar\":{\"id\":\"5657\",\"type\":\"Toolbar\"},\"toolbar_location\":null,\"x_range\":{\"id\":\"5640\",\"type\":\"FactorRange\"},\"x_scale\":{\"id\":\"5644\",\"type\":\"CategoricalScale\"},\"y_range\":{\"id\":\"5642\",\"type\":\"Range1d\"},\"y_scale\":{\"id\":\"5646\",\"type\":\"LinearScale\"}},\"id\":\"5637\",\"subtype\":\"Figure\",\"type\":\"Plot\"},{\"attributes\":{\"formatter\":{\"id\":\"5751\",\"type\":\"CategoricalTickFormatter\"},\"ticker\":{\"id\":\"5649\",\"type\":\"CategoricalTicker\"}},\"id\":\"5648\",\"type\":\"CategoricalAxis\"},{\"attributes\":{\"callback\":null,\"factors\":[\"1\",\"2\",\"3\",\"4\",\"5\",\"6\",\"7\",\"8\",\"9\",\"10\"],\"range_padding\":0.1},\"id\":\"5640\",\"type\":\"FactorRange\"},{\"attributes\":{},\"id\":\"5649\",\"type\":\"CategoricalTicker\"},{\"attributes\":{\"data_source\":{\"id\":\"5636\",\"type\":\"ColumnDataSource\"},\"glyph\":{\"id\":\"5660\",\"type\":\"VBar\"},\"hover_glyph\":null,\"muted_glyph\":null,\"nonselection_glyph\":{\"id\":\"5661\",\"type\":\"VBar\"},\"selection_glyph\":null,\"view\":{\"id\":\"5663\",\"type\":\"CDSView\"}},\"id\":\"5662\",\"type\":\"GlyphRenderer\"},{\"attributes\":{},\"id\":\"5653\",\"type\":\"BasicTicker\"},{\"attributes\":{\"dimension\":1,\"ticker\":{\"id\":\"5653\",\"type\":\"BasicTicker\"}},\"id\":\"5656\",\"type\":\"Grid\"},{\"attributes\":{\"callback\":null,\"data\":{\"Computer_Y\":[85,4,6,2,0,2,0,0,1,2],\"Decile\":[\"1\",\"2\",\"3\",\"4\",\"5\",\"6\",\"7\",\"8\",\"9\",\"10\"],\"Desk_Y\":[84,37,32,51,33,38,58,46,46,34],\"Executive Chair_Y\":[150,56,50,58,39,57,54,24,35,50],\"Insurance_Y\":[172,77,95,108,74,96,77,82,71,98],\"Monitor_Y\":[112,6,5,4,5,1,0,0,0,0],\"Office Supplies_Y\":[336,700,630,574,635,455,454,652,737,739],\"Printer_Y\":[102,12,13,7,8,9,6,5,5,19],\"Standard Chair_Y\":[84,9,9,7,1,2,1,1,0,2],\"Toner_Y\":[121,44,56,51,46,37,37,35,39,70]},\"selected\":{\"id\":\"5756\",\"type\":\"Selection\"},\"selection_policy\":{\"id\":\"5755\",\"type\":\"UnionRenderers\"}},\"id\":\"5636\",\"type\":\"ColumnDataSource\"},{\"attributes\":{\"source\":{\"id\":\"5636\",\"type\":\"ColumnDataSource\"}},\"id\":\"5663\",\"type\":\"CDSView\"},{\"attributes\":{\"callback\":null,\"end\":89},\"id\":\"5642\",\"type\":\"Range1d\"},{\"attributes\":{\"range\":{\"id\":\"5640\",\"type\":\"FactorRange\"}},\"id\":\"5658\",\"type\":\"Dodge\"},{\"attributes\":{},\"id\":\"5753\",\"type\":\"BasicTickFormatter\"},{\"attributes\":{\"active_drag\":\"auto\",\"active_inspect\":\"auto\",\"active_multi\":null,\"active_scroll\":\"auto\",\"active_tap\":\"auto\",\"tools\":[{\"id\":\"5664\",\"type\":\"HoverTool\"}]},\"id\":\"5657\",\"type\":\"Toolbar\"},{\"attributes\":{},\"id\":\"5756\",\"type\":\"Selection\"},{\"attributes\":{\"text\":\"Decile Wise Standard Chair Purchase\"},\"id\":\"5638\",\"type\":\"Title\"},{\"attributes\":{\"fill_color\":{\"value\":\"#718dbf\"},\"line_color\":{\"value\":\"#718dbf\"},\"top\":{\"field\":\"Standard Chair_Y\"},\"width\":{\"value\":0.4},\"x\":{\"field\":\"Decile\",\"transform\":{\"id\":\"5658\",\"type\":\"Dodge\"}}},\"id\":\"5660\",\"type\":\"VBar\"},{\"attributes\":{\"callback\":null,\"tooltips\":[[\"Standard Chair\",\"$y{int}\"]]},\"id\":\"5664\",\"type\":\"HoverTool\"},{\"attributes\":{\"formatter\":{\"id\":\"5753\",\"type\":\"BasicTickFormatter\"},\"ticker\":{\"id\":\"5653\",\"type\":\"BasicTicker\"}},\"id\":\"5652\",\"type\":\"LinearAxis\"},{\"attributes\":{},\"id\":\"5755\",\"type\":\"UnionRenderers\"},{\"attributes\":{},\"id\":\"5646\",\"type\":\"LinearScale\"},{\"attributes\":{},\"id\":\"5751\",\"type\":\"CategoricalTickFormatter\"},{\"attributes\":{},\"id\":\"5644\",\"type\":\"CategoricalScale\"},{\"attributes\":{\"fill_alpha\":{\"value\":0.1},\"fill_color\":{\"value\":\"#1f77b4\"},\"line_alpha\":{\"value\":0.1},\"line_color\":{\"value\":\"#1f77b4\"},\"top\":{\"field\":\"Standard Chair_Y\"},\"width\":{\"value\":0.4},\"x\":{\"field\":\"Decile\",\"transform\":{\"id\":\"5658\",\"type\":\"Dodge\"}}},\"id\":\"5661\",\"type\":\"VBar\"},{\"attributes\":{\"grid_line_color\":null,\"ticker\":{\"id\":\"5649\",\"type\":\"CategoricalTicker\"}},\"id\":\"5651\",\"type\":\"Grid\"}],\"root_ids\":[\"5637\"]},\"title\":\"Bokeh Application\",\"version\":\"1.3.4\"}};\n",
       "  var render_items = [{\"docid\":\"c4799e13-ae1d-403f-a632-ebc520a8932a\",\"roots\":{\"5637\":\"459b7a74-e2ab-4541-9a34-41820421a25f\"}}];\n",
       "  root.Bokeh.embed.embed_items_notebook(docs_json, render_items);\n",
       "\n",
       "  }\n",
       "  if (root.Bokeh !== undefined) {\n",
       "    embed_document(root);\n",
       "  } else {\n",
       "    var attempts = 0;\n",
       "    var timer = setInterval(function(root) {\n",
       "      if (root.Bokeh !== undefined) {\n",
       "        embed_document(root);\n",
       "        clearInterval(timer);\n",
       "      }\n",
       "      attempts++;\n",
       "      if (attempts > 100) {\n",
       "        console.log(\"Bokeh: ERROR: Unable to run BokehJS code because BokehJS library is missing\");\n",
       "        clearInterval(timer);\n",
       "      }\n",
       "    }, 10, root)\n",
       "  }\n",
       "})(window);"
      ],
      "application/vnd.bokehjs_exec.v0+json": ""
     },
     "metadata": {
      "application/vnd.bokehjs_exec.v0+json": {
       "id": "5637"
      }
     },
     "output_type": "display_data"
    }
   ],
   "source": [
    "source = ColumnDataSource(data=data)\n",
    "\n",
    "\n",
    "#get max possible value of plotted columns with some offset\n",
    "p = figure(x_range=dates, y_range=(0, g1[['Standard Chair_Y']].values.max() + 5), \n",
    "           plot_height=250, title=\"Decile Wise Standard Chair Purchase\",\n",
    "           toolbar_location=None, tools=\"\")\n",
    "\n",
    "\n",
    "p.vbar(x=dodge('Decile',  0,  range=p.x_range), top='Standard Chair_Y', width=0.4, source=source, color=\"#718dbf\")\n",
    "\n",
    "p.add_tools(HoverTool(tooltips=[(\"Standard Chair\", \"$y{int}\")]))\n",
    "\n",
    "p.x_range.range_padding = 0.1\n",
    "p.xgrid.grid_line_color = None\n",
    "p.legend.location = \"top_left\"\n",
    "p.legend.orientation = \"horizontal\"\n",
    "\n",
    "show(p)"
   ]
  },
  {
   "cell_type": "code",
   "execution_count": 79,
   "metadata": {},
   "outputs": [
    {
     "name": "stdout",
     "output_type": "stream",
     "text": [
      "<class 'pandas.core.frame.DataFrame'>\n",
      "RangeIndex: 8084 entries, 0 to 8083\n",
      "Data columns (total 52 columns):\n",
      "Customer Number                            8084 non-null float64\n",
      "Campaign Period Sales                      8084 non-null float64\n",
      "Historical Sales Volume                    8084 non-null float64\n",
      "Number of Prior Year Transactions          8084 non-null float64\n",
      "Do Not Direct Mail Solicit                 8084 non-null float64\n",
      "Do Not Email                               8084 non-null float64\n",
      "Do Not Telemarket                          8084 non-null float64\n",
      "Repurchase Method_AUTO RENEW               8084 non-null int64\n",
      "Repurchase Method_NOTICE                   8084 non-null int64\n",
      "Repurchase Method_PAYMENT PLAN             8084 non-null int64\n",
      "Last Transaction Channel_AUTO RENEW        8084 non-null int64\n",
      "Last Transaction Channel_BILLING           8084 non-null int64\n",
      "Last Transaction Channel_BRANCH (PHONE)    8084 non-null int64\n",
      "Last Transaction Channel_BRANCH (POS)      8084 non-null int64\n",
      "Last Transaction Channel_IT                8084 non-null int64\n",
      "Last Transaction Channel_MAIL              8084 non-null int64\n",
      "Last Transaction Channel_PHONE             8084 non-null int64\n",
      "Last Transaction Channel_UNKNOWN           8084 non-null int64\n",
      "Last Transaction Channel_WEB               8084 non-null int64\n",
      "Desk_N                                     8084 non-null int64\n",
      "Desk_Y                                     8084 non-null int64\n",
      "Executive Chair_N                          8084 non-null int64\n",
      "Executive Chair_Y                          8084 non-null int64\n",
      "Standard Chair_N                           8084 non-null int64\n",
      "Standard Chair_Y                           8084 non-null int64\n",
      "Monitor_N                                  8084 non-null int64\n",
      "Monitor_Y                                  8084 non-null int64\n",
      "Printer_N                                  8084 non-null int64\n",
      "Printer_Y                                  8084 non-null int64\n",
      "Computer_N                                 8084 non-null int64\n",
      "Computer_Y                                 8084 non-null int64\n",
      "Insurance_N                                8084 non-null int64\n",
      "Insurance_Y                                8084 non-null int64\n",
      "Toner_N                                    8084 non-null int64\n",
      "Toner_Y                                    8084 non-null int64\n",
      "Office Supplies_N                          8084 non-null int64\n",
      "Office Supplies_Y                          8084 non-null int64\n",
      "Number of Employees_Big                    8084 non-null int64\n",
      "Number of Employees_Huge                   8084 non-null int64\n",
      "Number of Employees_Large                  8084 non-null int64\n",
      "Number of Employees_medium                 8084 non-null int64\n",
      "Number of Employees_small                  8084 non-null int64\n",
      "Number of Employees_unknown                8084 non-null int64\n",
      "Language_English                           8084 non-null int64\n",
      "Language_Non English                       8084 non-null int64\n",
      "Language_Unknown                           8084 non-null int64\n",
      "Years_since_customer                       8084 non-null int64\n",
      "Purchase                                   8084 non-null int64\n",
      "Profit                                     8084 non-null float64\n",
      "Sales_transaction_Size                     8084 non-null float64\n",
      "predicted_prob_sale                        8084 non-null float64\n",
      "Decile                                     8084 non-null int64\n",
      "dtypes: float64(10), int64(42)\n",
      "memory usage: 3.2 MB\n"
     ]
    }
   ],
   "source": [
    "df.info()"
   ]
  },
  {
   "cell_type": "code",
   "execution_count": 81,
   "metadata": {},
   "outputs": [],
   "source": [
    "df2 = df[['Decile','Number of Employees_Big','Number of Employees_Huge','Number of Employees_Large', 'Number of Employees_medium','Number of Employees_small','Number of Employees_unknown']]\n",
    "\n",
    "          "
   ]
  },
  {
   "cell_type": "code",
   "execution_count": 82,
   "metadata": {},
   "outputs": [],
   "source": [
    "g2 = df2.groupby('Decile', as_index=False).sum()"
   ]
  },
  {
   "cell_type": "code",
   "execution_count": 84,
   "metadata": {},
   "outputs": [
    {
     "name": "stdout",
     "output_type": "stream",
     "text": [
      "  Decile  Number of Employees_Big  Number of Employees_Huge  \\\n",
      "0      1                       59                        23   \n",
      "1      2                       22                         5   \n",
      "2      3                       22                        21   \n",
      "3      4                       74                        16   \n",
      "4      5                       19                         9   \n",
      "5      6                       35                        13   \n",
      "6      7                       56                         4   \n",
      "7      8                        6                         3   \n",
      "8      9                       10                         5   \n",
      "9     10                       25                         7   \n",
      "\n",
      "   Number of Employees_Large  Number of Employees_medium  \\\n",
      "0                         90                          81   \n",
      "1                         76                         166   \n",
      "2                         34                          33   \n",
      "3                        156                         191   \n",
      "4                         30                          85   \n",
      "5                         87                          71   \n",
      "6                        105                         131   \n",
      "7                         97                         167   \n",
      "8                         16                         129   \n",
      "9                         16                          71   \n",
      "\n",
      "   Number of Employees_small  Number of Employees_unknown  \n",
      "0                         37                          519  \n",
      "1                        482                           57  \n",
      "2                        554                          144  \n",
      "3                        205                          167  \n",
      "4                        541                          124  \n",
      "5                        293                          309  \n",
      "6                        218                          295  \n",
      "7                        440                           95  \n",
      "8                        599                           49  \n",
      "9                        639                           51  \n"
     ]
    }
   ],
   "source": [
    "print(g2)"
   ]
  },
  {
   "cell_type": "code",
   "execution_count": 95,
   "metadata": {},
   "outputs": [],
   "source": [
    "#convert datetimes to strings\n",
    "g2['Decile'] = g2['Decile'].apply(str)\n",
    "#convert dataframe to dict\n",
    "data2 = g2.to_dict(orient='list')\n",
    "dates2 = g2['Decile'].tolist()"
   ]
  },
  {
   "cell_type": "code",
   "execution_count": 98,
   "metadata": {},
   "outputs": [
    {
     "data": {
      "text/html": [
       "\n",
       "\n",
       "\n",
       "\n",
       "\n",
       "\n",
       "  <div class=\"bk-root\" id=\"1e0c8a4e-8f54-4394-b874-7c48dfe547bc\" data-root-id=\"10260\"></div>\n"
      ]
     },
     "metadata": {},
     "output_type": "display_data"
    },
    {
     "data": {
      "application/javascript": [
       "(function(root) {\n",
       "  function embed_document(root) {\n",
       "    \n",
       "  var docs_json = {\"61651eef-0c52-401c-a296-3dde437b8fe5\":{\"roots\":{\"references\":[{\"attributes\":{\"below\":[{\"id\":\"10271\",\"type\":\"CategoricalAxis\"}],\"center\":[{\"id\":\"10274\",\"type\":\"Grid\"},{\"id\":\"10279\",\"type\":\"Grid\"},{\"id\":\"10292\",\"type\":\"Legend\"}],\"left\":[{\"id\":\"10275\",\"type\":\"LinearAxis\"}],\"plot_height\":250,\"plot_width\":1200,\"renderers\":[{\"id\":\"10285\",\"type\":\"GlyphRenderer\"},{\"id\":\"10298\",\"type\":\"GlyphRenderer\"},{\"id\":\"10312\",\"type\":\"GlyphRenderer\"},{\"id\":\"10326\",\"type\":\"GlyphRenderer\"},{\"id\":\"10340\",\"type\":\"GlyphRenderer\"},{\"id\":\"10354\",\"type\":\"GlyphRenderer\"}],\"title\":{\"id\":\"10261\",\"type\":\"Title\"},\"toolbar\":{\"id\":\"10280\",\"type\":\"Toolbar\"},\"toolbar_location\":null,\"x_range\":{\"id\":\"10263\",\"type\":\"FactorRange\"},\"x_scale\":{\"id\":\"10267\",\"type\":\"CategoricalScale\"},\"y_range\":{\"id\":\"10265\",\"type\":\"Range1d\"},\"y_scale\":{\"id\":\"10269\",\"type\":\"LinearScale\"}},\"id\":\"10260\",\"subtype\":\"Figure\",\"type\":\"Plot\"},{\"attributes\":{\"data_source\":{\"id\":\"10259\",\"type\":\"ColumnDataSource\"},\"glyph\":{\"id\":\"10296\",\"type\":\"VBar\"},\"hover_glyph\":null,\"muted_glyph\":null,\"nonselection_glyph\":{\"id\":\"10297\",\"type\":\"VBar\"},\"selection_glyph\":null,\"view\":{\"id\":\"10299\",\"type\":\"CDSView\"}},\"id\":\"10298\",\"type\":\"GlyphRenderer\"},{\"attributes\":{\"fill_color\":{\"value\":\"DarkTurquoise\"},\"line_color\":{\"value\":\"DarkTurquoise\"},\"top\":{\"field\":\"Number of Employees_unknown\"},\"width\":{\"value\":0.15},\"x\":{\"field\":\"Decile\",\"transform\":{\"id\":\"10350\",\"type\":\"Dodge\"}}},\"id\":\"10352\",\"type\":\"VBar\"},{\"attributes\":{\"range\":{\"id\":\"10263\",\"type\":\"FactorRange\"}},\"id\":\"10322\",\"type\":\"Dodge\"},{\"attributes\":{\"callback\":null,\"end\":889},\"id\":\"10265\",\"type\":\"Range1d\"},{\"attributes\":{},\"id\":\"10276\",\"type\":\"BasicTicker\"},{\"attributes\":{\"source\":{\"id\":\"10259\",\"type\":\"ColumnDataSource\"}},\"id\":\"10327\",\"type\":\"CDSView\"},{\"attributes\":{},\"id\":\"10305\",\"type\":\"UnionRenderers\"},{\"attributes\":{\"data_source\":{\"id\":\"10259\",\"type\":\"ColumnDataSource\"},\"glyph\":{\"id\":\"10324\",\"type\":\"VBar\"},\"hover_glyph\":null,\"muted_glyph\":null,\"nonselection_glyph\":{\"id\":\"10325\",\"type\":\"VBar\"},\"selection_glyph\":null,\"view\":{\"id\":\"10327\",\"type\":\"CDSView\"}},\"id\":\"10326\",\"type\":\"GlyphRenderer\"},{\"attributes\":{\"label\":{\"value\":\"Large\"},\"renderers\":[{\"id\":\"10312\",\"type\":\"GlyphRenderer\"}]},\"id\":\"10321\",\"type\":\"LegendItem\"},{\"attributes\":{\"fill_color\":{\"value\":\"DarkGray\"},\"line_color\":{\"value\":\"DarkGray\"},\"top\":{\"field\":\"Number of Employees_Large\"},\"width\":{\"value\":0.15},\"x\":{\"field\":\"Decile\",\"transform\":{\"id\":\"10308\",\"type\":\"Dodge\"}}},\"id\":\"10310\",\"type\":\"VBar\"},{\"attributes\":{\"fill_alpha\":{\"value\":0.1},\"fill_color\":{\"value\":\"#1f77b4\"},\"line_alpha\":{\"value\":0.1},\"line_color\":{\"value\":\"#1f77b4\"},\"top\":{\"field\":\"Number of Employees_unknown\"},\"width\":{\"value\":0.15},\"x\":{\"field\":\"Decile\",\"transform\":{\"id\":\"10350\",\"type\":\"Dodge\"}}},\"id\":\"10353\",\"type\":\"VBar\"},{\"attributes\":{\"dimension\":1,\"ticker\":{\"id\":\"10276\",\"type\":\"BasicTicker\"}},\"id\":\"10279\",\"type\":\"Grid\"},{\"attributes\":{\"label\":{\"value\":\"small\"},\"renderers\":[{\"id\":\"10340\",\"type\":\"GlyphRenderer\"}]},\"id\":\"10349\",\"type\":\"LegendItem\"},{\"attributes\":{\"fill_alpha\":{\"value\":0.1},\"fill_color\":{\"value\":\"#1f77b4\"},\"line_alpha\":{\"value\":0.1},\"line_color\":{\"value\":\"#1f77b4\"},\"top\":{\"field\":\"Number of Employees_medium\"},\"width\":{\"value\":0.15},\"x\":{\"field\":\"Decile\",\"transform\":{\"id\":\"10322\",\"type\":\"Dodge\"}}},\"id\":\"10325\",\"type\":\"VBar\"},{\"attributes\":{\"data_source\":{\"id\":\"10259\",\"type\":\"ColumnDataSource\"},\"glyph\":{\"id\":\"10352\",\"type\":\"VBar\"},\"hover_glyph\":null,\"muted_glyph\":null,\"nonselection_glyph\":{\"id\":\"10353\",\"type\":\"VBar\"},\"selection_glyph\":null,\"view\":{\"id\":\"10355\",\"type\":\"CDSView\"}},\"id\":\"10354\",\"type\":\"GlyphRenderer\"},{\"attributes\":{\"range\":{\"id\":\"10263\",\"type\":\"FactorRange\"},\"value\":-0.45},\"id\":\"10281\",\"type\":\"Dodge\"},{\"attributes\":{},\"id\":\"10267\",\"type\":\"CategoricalScale\"},{\"attributes\":{\"items\":[{\"id\":\"10293\",\"type\":\"LegendItem\"},{\"id\":\"10307\",\"type\":\"LegendItem\"},{\"id\":\"10321\",\"type\":\"LegendItem\"},{\"id\":\"10335\",\"type\":\"LegendItem\"},{\"id\":\"10349\",\"type\":\"LegendItem\"},{\"id\":\"10363\",\"type\":\"LegendItem\"}],\"orientation\":\"horizontal\"},\"id\":\"10292\",\"type\":\"Legend\"},{\"attributes\":{},\"id\":\"10269\",\"type\":\"LinearScale\"},{\"attributes\":{\"label\":{\"value\":\"medium\"},\"renderers\":[{\"id\":\"10326\",\"type\":\"GlyphRenderer\"}]},\"id\":\"10335\",\"type\":\"LegendItem\"},{\"attributes\":{\"source\":{\"id\":\"10259\",\"type\":\"ColumnDataSource\"}},\"id\":\"10355\",\"type\":\"CDSView\"},{\"attributes\":{\"active_drag\":\"auto\",\"active_inspect\":\"auto\",\"active_multi\":null,\"active_scroll\":\"auto\",\"active_tap\":\"auto\"},\"id\":\"10280\",\"type\":\"Toolbar\"},{\"attributes\":{\"label\":{\"value\":\"Big\"},\"renderers\":[{\"id\":\"10285\",\"type\":\"GlyphRenderer\"}]},\"id\":\"10293\",\"type\":\"LegendItem\"},{\"attributes\":{\"label\":{\"value\":\"unknown\"},\"renderers\":[{\"id\":\"10354\",\"type\":\"GlyphRenderer\"}]},\"id\":\"10363\",\"type\":\"LegendItem\"},{\"attributes\":{\"fill_alpha\":{\"value\":0.1},\"fill_color\":{\"value\":\"#1f77b4\"},\"line_alpha\":{\"value\":0.1},\"line_color\":{\"value\":\"#1f77b4\"},\"top\":{\"field\":\"Number of Employees_Large\"},\"width\":{\"value\":0.15},\"x\":{\"field\":\"Decile\",\"transform\":{\"id\":\"10308\",\"type\":\"Dodge\"}}},\"id\":\"10311\",\"type\":\"VBar\"},{\"attributes\":{\"range\":{\"id\":\"10263\",\"type\":\"FactorRange\"},\"value\":-0.15},\"id\":\"10308\",\"type\":\"Dodge\"},{\"attributes\":{\"range\":{\"id\":\"10263\",\"type\":\"FactorRange\"},\"value\":0.15},\"id\":\"10336\",\"type\":\"Dodge\"},{\"attributes\":{\"range\":{\"id\":\"10263\",\"type\":\"FactorRange\"},\"value\":0.3},\"id\":\"10350\",\"type\":\"Dodge\"},{\"attributes\":{\"label\":{\"value\":\"Huge\"},\"renderers\":[{\"id\":\"10298\",\"type\":\"GlyphRenderer\"}]},\"id\":\"10307\",\"type\":\"LegendItem\"},{\"attributes\":{\"data_source\":{\"id\":\"10259\",\"type\":\"ColumnDataSource\"},\"glyph\":{\"id\":\"10310\",\"type\":\"VBar\"},\"hover_glyph\":null,\"muted_glyph\":null,\"nonselection_glyph\":{\"id\":\"10311\",\"type\":\"VBar\"},\"selection_glyph\":null,\"view\":{\"id\":\"10313\",\"type\":\"CDSView\"}},\"id\":\"10312\",\"type\":\"GlyphRenderer\"},{\"attributes\":{\"fill_color\":{\"value\":\"DarkKhaki\"},\"line_color\":{\"value\":\"DarkKhaki\"},\"top\":{\"field\":\"Number of Employees_Big\"},\"width\":{\"value\":0.15},\"x\":{\"field\":\"Decile\",\"transform\":{\"id\":\"10281\",\"type\":\"Dodge\"}}},\"id\":\"10283\",\"type\":\"VBar\"},{\"attributes\":{\"grid_line_color\":null,\"ticker\":{\"id\":\"10272\",\"type\":\"CategoricalTicker\"}},\"id\":\"10274\",\"type\":\"Grid\"},{\"attributes\":{},\"id\":\"10290\",\"type\":\"BasicTickFormatter\"},{\"attributes\":{\"fill_alpha\":{\"value\":0.1},\"fill_color\":{\"value\":\"#1f77b4\"},\"line_alpha\":{\"value\":0.1},\"line_color\":{\"value\":\"#1f77b4\"},\"top\":{\"field\":\"Number of Employees_Huge\"},\"width\":{\"value\":0.15},\"x\":{\"field\":\"Decile\",\"transform\":{\"id\":\"10294\",\"type\":\"Dodge\"}}},\"id\":\"10297\",\"type\":\"VBar\"},{\"attributes\":{\"fill_color\":{\"value\":\"Navy\"},\"line_color\":{\"value\":\"Navy\"},\"top\":{\"field\":\"Number of Employees_small\"},\"width\":{\"value\":0.15},\"x\":{\"field\":\"Decile\",\"transform\":{\"id\":\"10336\",\"type\":\"Dodge\"}}},\"id\":\"10338\",\"type\":\"VBar\"},{\"attributes\":{\"range\":{\"id\":\"10263\",\"type\":\"FactorRange\"},\"value\":-0.3},\"id\":\"10294\",\"type\":\"Dodge\"},{\"attributes\":{\"formatter\":{\"id\":\"10290\",\"type\":\"BasicTickFormatter\"},\"ticker\":{\"id\":\"10276\",\"type\":\"BasicTicker\"}},\"id\":\"10275\",\"type\":\"LinearAxis\"},{\"attributes\":{\"data_source\":{\"id\":\"10259\",\"type\":\"ColumnDataSource\"},\"glyph\":{\"id\":\"10283\",\"type\":\"VBar\"},\"hover_glyph\":null,\"muted_glyph\":null,\"nonselection_glyph\":{\"id\":\"10284\",\"type\":\"VBar\"},\"selection_glyph\":null,\"view\":{\"id\":\"10286\",\"type\":\"CDSView\"}},\"id\":\"10285\",\"type\":\"GlyphRenderer\"},{\"attributes\":{\"fill_alpha\":{\"value\":0.1},\"fill_color\":{\"value\":\"#1f77b4\"},\"line_alpha\":{\"value\":0.1},\"line_color\":{\"value\":\"#1f77b4\"},\"top\":{\"field\":\"Number of Employees_small\"},\"width\":{\"value\":0.15},\"x\":{\"field\":\"Decile\",\"transform\":{\"id\":\"10336\",\"type\":\"Dodge\"}}},\"id\":\"10339\",\"type\":\"VBar\"},{\"attributes\":{},\"id\":\"10288\",\"type\":\"CategoricalTickFormatter\"},{\"attributes\":{\"data_source\":{\"id\":\"10259\",\"type\":\"ColumnDataSource\"},\"glyph\":{\"id\":\"10338\",\"type\":\"VBar\"},\"hover_glyph\":null,\"muted_glyph\":null,\"nonselection_glyph\":{\"id\":\"10339\",\"type\":\"VBar\"},\"selection_glyph\":null,\"view\":{\"id\":\"10341\",\"type\":\"CDSView\"}},\"id\":\"10340\",\"type\":\"GlyphRenderer\"},{\"attributes\":{\"text\":\"Decile Wise Standard Chair Purchase\"},\"id\":\"10261\",\"type\":\"Title\"},{\"attributes\":{\"fill_alpha\":{\"value\":0.1},\"fill_color\":{\"value\":\"#1f77b4\"},\"line_alpha\":{\"value\":0.1},\"line_color\":{\"value\":\"#1f77b4\"},\"top\":{\"field\":\"Number of Employees_Big\"},\"width\":{\"value\":0.15},\"x\":{\"field\":\"Decile\",\"transform\":{\"id\":\"10281\",\"type\":\"Dodge\"}}},\"id\":\"10284\",\"type\":\"VBar\"},{\"attributes\":{\"fill_color\":{\"value\":\"SteelBlue\"},\"line_color\":{\"value\":\"SteelBlue\"},\"top\":{\"field\":\"Number of Employees_Huge\"},\"width\":{\"value\":0.15},\"x\":{\"field\":\"Decile\",\"transform\":{\"id\":\"10294\",\"type\":\"Dodge\"}}},\"id\":\"10296\",\"type\":\"VBar\"},{\"attributes\":{\"source\":{\"id\":\"10259\",\"type\":\"ColumnDataSource\"}},\"id\":\"10341\",\"type\":\"CDSView\"},{\"attributes\":{\"callback\":null,\"data\":{\"Decile\":[\"1\",\"2\",\"3\",\"4\",\"5\",\"6\",\"7\",\"8\",\"9\",\"10\"],\"Number of Employees_Big\":[59,22,22,74,19,35,56,6,10,25],\"Number of Employees_Huge\":[23,5,21,16,9,13,4,3,5,7],\"Number of Employees_Large\":[90,76,34,156,30,87,105,97,16,16],\"Number of Employees_medium\":[81,166,33,191,85,71,131,167,129,71],\"Number of Employees_small\":[37,482,554,205,541,293,218,440,599,639],\"Number of Employees_unknown\":[519,57,144,167,124,309,295,95,49,51]},\"selected\":{\"id\":\"10306\",\"type\":\"Selection\"},\"selection_policy\":{\"id\":\"10305\",\"type\":\"UnionRenderers\"}},\"id\":\"10259\",\"type\":\"ColumnDataSource\"},{\"attributes\":{\"source\":{\"id\":\"10259\",\"type\":\"ColumnDataSource\"}},\"id\":\"10286\",\"type\":\"CDSView\"},{\"attributes\":{\"fill_color\":{\"value\":\"#718dbf\"},\"line_color\":{\"value\":\"#718dbf\"},\"top\":{\"field\":\"Number of Employees_medium\"},\"width\":{\"value\":0.15},\"x\":{\"field\":\"Decile\",\"transform\":{\"id\":\"10322\",\"type\":\"Dodge\"}}},\"id\":\"10324\",\"type\":\"VBar\"},{\"attributes\":{\"callback\":null,\"factors\":[\"1\",\"2\",\"3\",\"4\",\"5\",\"6\",\"7\",\"8\",\"9\",\"10\"],\"range_padding\":0.1},\"id\":\"10263\",\"type\":\"FactorRange\"},{\"attributes\":{},\"id\":\"10306\",\"type\":\"Selection\"},{\"attributes\":{},\"id\":\"10272\",\"type\":\"CategoricalTicker\"},{\"attributes\":{\"source\":{\"id\":\"10259\",\"type\":\"ColumnDataSource\"}},\"id\":\"10313\",\"type\":\"CDSView\"},{\"attributes\":{\"formatter\":{\"id\":\"10288\",\"type\":\"CategoricalTickFormatter\"},\"ticker\":{\"id\":\"10272\",\"type\":\"CategoricalTicker\"}},\"id\":\"10271\",\"type\":\"CategoricalAxis\"},{\"attributes\":{\"source\":{\"id\":\"10259\",\"type\":\"ColumnDataSource\"}},\"id\":\"10299\",\"type\":\"CDSView\"}],\"root_ids\":[\"10260\"]},\"title\":\"Bokeh Application\",\"version\":\"1.3.4\"}};\n",
       "  var render_items = [{\"docid\":\"61651eef-0c52-401c-a296-3dde437b8fe5\",\"roots\":{\"10260\":\"1e0c8a4e-8f54-4394-b874-7c48dfe547bc\"}}];\n",
       "  root.Bokeh.embed.embed_items_notebook(docs_json, render_items);\n",
       "\n",
       "  }\n",
       "  if (root.Bokeh !== undefined) {\n",
       "    embed_document(root);\n",
       "  } else {\n",
       "    var attempts = 0;\n",
       "    var timer = setInterval(function(root) {\n",
       "      if (root.Bokeh !== undefined) {\n",
       "        embed_document(root);\n",
       "        clearInterval(timer);\n",
       "      }\n",
       "      attempts++;\n",
       "      if (attempts > 100) {\n",
       "        console.log(\"Bokeh: ERROR: Unable to run BokehJS code because BokehJS library is missing\");\n",
       "        clearInterval(timer);\n",
       "      }\n",
       "    }, 10, root)\n",
       "  }\n",
       "})(window);"
      ],
      "application/vnd.bokehjs_exec.v0+json": ""
     },
     "metadata": {
      "application/vnd.bokehjs_exec.v0+json": {
       "id": "10260"
      }
     },
     "output_type": "display_data"
    }
   ],
   "source": [
    "source = ColumnDataSource(data=data2)\n",
    "\n",
    "#get max possible value of plotted columns with some offset\n",
    "p = figure(x_range=dates2, y_range=(0, g2[['Number of Employees_Big','Number of Employees_Huge','Number of Employees_Large', 'Number of Employees_medium','Number of Employees_small','Number of Employees_unknown']].values.max() + 250), \n",
    "           plot_height=250, title=\"Decile Wise Standard Chair Purchase\",\n",
    "           toolbar_location=None, tools=\"\", plot_width= 1200)\n",
    "\n",
    "\n",
    "p.vbar(x=dodge('Decile',  -.45,  range=p.x_range), top='Number of Employees_Big', width=0.15, source=source, color=\"DarkKhaki\", legend=value(\"Big\"))\n",
    "p.vbar(x=dodge('Decile',  -0.30,  range=p.x_range), top='Number of Employees_Huge', width=0.15, source=source, color=\"SteelBlue\", legend=value(\"Huge\"))\n",
    "p.vbar(x=dodge('Decile',  -0.15,  range=p.x_range), top='Number of Employees_Large', width=0.15, source=source, color=\"DarkGray\", legend=value(\"Large\"))\n",
    "p.vbar(x=dodge('Decile',  0,  range=p.x_range), top='Number of Employees_medium', width=0.15, source=source, color=\"#718dbf\", legend=value(\"medium\"))\n",
    "p.vbar(x=dodge('Decile',  0.15,  range=p.x_range), top='Number of Employees_small', width=0.15, source=source, color=\"Navy\", legend=value(\"small\"))\n",
    "p.vbar(x=dodge('Decile',  0.30,  range=p.x_range), top='Number of Employees_unknown', width=0.15, source=source, color=\"DarkTurquoise\", legend=value(\"unknown\"))\n",
    "\n",
    "#p.add_tools(HoverTool(tooltips=[(\"Standard Chair\", \"$y{int}\")]))\n",
    "\n",
    "p.x_range.range_padding = 0.1\n",
    "p.xgrid.grid_line_color = None\n",
    "p.legend.location = \"top_right\"\n",
    "p.legend.orientation = \"horizontal\"\n",
    "\n",
    "show(p)"
   ]
  },
  {
   "cell_type": "code",
   "execution_count": 99,
   "metadata": {},
   "outputs": [],
   "source": [
    "df3 = df[['Decile','Last Transaction Channel_AUTO RENEW','Last Transaction Channel_BILLING','Last Transaction Channel_BRANCH (PHONE)','Last Transaction Channel_BRANCH (POS)', 'Last Transaction Channel_MAIL','Last Transaction Channel_IT','Last Transaction Channel_PHONE','Last Transaction Channel_UNKNOWN','Last Transaction Channel_WEB']]"
   ]
  },
  {
   "cell_type": "code",
   "execution_count": 100,
   "metadata": {},
   "outputs": [],
   "source": [
    "g3 = df3.groupby('Decile', as_index=False).sum()"
   ]
  },
  {
   "cell_type": "code",
   "execution_count": 101,
   "metadata": {},
   "outputs": [],
   "source": [
    "#convert datetimes to strings\n",
    "g3['Decile'] = g3['Decile'].apply(str)\n",
    "#convert dataframe to dict\n",
    "data3 = g3.to_dict(orient='list')\n",
    "dates3 = g3['Decile'].tolist()"
   ]
  },
  {
   "cell_type": "code",
   "execution_count": 106,
   "metadata": {},
   "outputs": [
    {
     "data": {
      "text/html": [
       "\n",
       "\n",
       "\n",
       "\n",
       "\n",
       "\n",
       "  <div class=\"bk-root\" id=\"98b213f4-15f4-4e9e-a712-35f3dbf3a018\" data-root-id=\"12093\"></div>\n"
      ]
     },
     "metadata": {},
     "output_type": "display_data"
    },
    {
     "data": {
      "application/javascript": [
       "(function(root) {\n",
       "  function embed_document(root) {\n",
       "    \n",
       "  var docs_json = {\"cf8a8e7b-7bf5-4a84-a0e8-850058d8b2be\":{\"roots\":{\"references\":[{\"attributes\":{\"below\":[{\"id\":\"12104\",\"type\":\"CategoricalAxis\"}],\"center\":[{\"id\":\"12107\",\"type\":\"Grid\"},{\"id\":\"12112\",\"type\":\"Grid\"},{\"id\":\"12125\",\"type\":\"Legend\"}],\"left\":[{\"id\":\"12108\",\"type\":\"LinearAxis\"}],\"plot_height\":250,\"plot_width\":1200,\"renderers\":[{\"id\":\"12118\",\"type\":\"GlyphRenderer\"},{\"id\":\"12131\",\"type\":\"GlyphRenderer\"},{\"id\":\"12145\",\"type\":\"GlyphRenderer\"},{\"id\":\"12159\",\"type\":\"GlyphRenderer\"},{\"id\":\"12173\",\"type\":\"GlyphRenderer\"},{\"id\":\"12187\",\"type\":\"GlyphRenderer\"},{\"id\":\"12201\",\"type\":\"GlyphRenderer\"},{\"id\":\"12215\",\"type\":\"GlyphRenderer\"},{\"id\":\"12229\",\"type\":\"GlyphRenderer\"}],\"title\":{\"id\":\"12094\",\"type\":\"Title\"},\"toolbar\":{\"id\":\"12113\",\"type\":\"Toolbar\"},\"toolbar_location\":null,\"x_range\":{\"id\":\"12096\",\"type\":\"FactorRange\"},\"x_scale\":{\"id\":\"12100\",\"type\":\"CategoricalScale\"},\"y_range\":{\"id\":\"12098\",\"type\":\"Range1d\"},\"y_scale\":{\"id\":\"12102\",\"type\":\"LinearScale\"}},\"id\":\"12093\",\"subtype\":\"Figure\",\"type\":\"Plot\"},{\"attributes\":{\"label\":{\"value\":\"Billing\"},\"renderers\":[{\"id\":\"12131\",\"type\":\"GlyphRenderer\"}]},\"id\":\"12140\",\"type\":\"LegendItem\"},{\"attributes\":{\"formatter\":{\"id\":\"12121\",\"type\":\"CategoricalTickFormatter\"},\"ticker\":{\"id\":\"12105\",\"type\":\"CategoricalTicker\"}},\"id\":\"12104\",\"type\":\"CategoricalAxis\"},{\"attributes\":{\"source\":{\"id\":\"12092\",\"type\":\"ColumnDataSource\"}},\"id\":\"12132\",\"type\":\"CDSView\"},{\"attributes\":{\"callback\":null,\"data\":{\"Decile\":[\"1\",\"2\",\"3\",\"4\",\"5\",\"6\",\"7\",\"8\",\"9\",\"10\"],\"Last Transaction Channel_AUTO RENEW\":[250,160,136,194,159,166,187,127,135,67],\"Last Transaction Channel_BILLING\":[3,0,0,3,0,4,0,0,0,0],\"Last Transaction Channel_BRANCH (PHONE)\":[24,16,21,27,30,23,15,15,10,16],\"Last Transaction Channel_BRANCH (POS)\":[26,30,29,42,31,34,15,17,37,66],\"Last Transaction Channel_IT\":[1,1,2,0,1,0,0,0,0,0],\"Last Transaction Channel_MAIL\":[282,429,430,287,346,363,363,452,472,465],\"Last Transaction Channel_PHONE\":[65,30,36,81,85,75,60,35,41,41],\"Last Transaction Channel_UNKNOWN\":[20,23,26,22,20,21,26,26,15,16],\"Last Transaction Channel_WEB\":[138,119,128,153,136,122,143,136,98,138]},\"selected\":{\"id\":\"12139\",\"type\":\"Selection\"},\"selection_policy\":{\"id\":\"12138\",\"type\":\"UnionRenderers\"}},\"id\":\"12092\",\"type\":\"ColumnDataSource\"},{\"attributes\":{\"grid_line_color\":null,\"ticker\":{\"id\":\"12105\",\"type\":\"CategoricalTicker\"}},\"id\":\"12107\",\"type\":\"Grid\"},{\"attributes\":{\"data_source\":{\"id\":\"12092\",\"type\":\"ColumnDataSource\"},\"glyph\":{\"id\":\"12116\",\"type\":\"VBar\"},\"hover_glyph\":null,\"muted_glyph\":null,\"nonselection_glyph\":{\"id\":\"12117\",\"type\":\"VBar\"},\"selection_glyph\":null,\"view\":{\"id\":\"12119\",\"type\":\"CDSView\"}},\"id\":\"12118\",\"type\":\"GlyphRenderer\"},{\"attributes\":{},\"id\":\"12139\",\"type\":\"Selection\"},{\"attributes\":{\"data_source\":{\"id\":\"12092\",\"type\":\"ColumnDataSource\"},\"glyph\":{\"id\":\"12157\",\"type\":\"VBar\"},\"hover_glyph\":null,\"muted_glyph\":null,\"nonselection_glyph\":{\"id\":\"12158\",\"type\":\"VBar\"},\"selection_glyph\":null,\"view\":{\"id\":\"12160\",\"type\":\"CDSView\"}},\"id\":\"12159\",\"type\":\"GlyphRenderer\"},{\"attributes\":{},\"id\":\"12138\",\"type\":\"UnionRenderers\"},{\"attributes\":{},\"id\":\"12100\",\"type\":\"CategoricalScale\"},{\"attributes\":{\"label\":{\"value\":\"Branch\"},\"renderers\":[{\"id\":\"12159\",\"type\":\"GlyphRenderer\"}]},\"id\":\"12168\",\"type\":\"LegendItem\"},{\"attributes\":{\"source\":{\"id\":\"12092\",\"type\":\"ColumnDataSource\"}},\"id\":\"12119\",\"type\":\"CDSView\"},{\"attributes\":{\"fill_color\":{\"value\":\"PaleVioletRed\"},\"line_color\":{\"value\":\"PaleVioletRed\"},\"top\":{\"field\":\"Last Transaction Channel_PHONE\"},\"width\":{\"value\":0.1},\"x\":{\"field\":\"Decile\",\"transform\":{\"id\":\"12197\",\"type\":\"Dodge\"}}},\"id\":\"12199\",\"type\":\"VBar\"},{\"attributes\":{\"range\":{\"id\":\"12096\",\"type\":\"FactorRange\"},\"value\":-0.1},\"id\":\"12155\",\"type\":\"Dodge\"},{\"attributes\":{},\"id\":\"12102\",\"type\":\"LinearScale\"},{\"attributes\":{\"source\":{\"id\":\"12092\",\"type\":\"ColumnDataSource\"}},\"id\":\"12160\",\"type\":\"CDSView\"},{\"attributes\":{},\"id\":\"12121\",\"type\":\"CategoricalTickFormatter\"},{\"attributes\":{\"source\":{\"id\":\"12092\",\"type\":\"ColumnDataSource\"}},\"id\":\"12188\",\"type\":\"CDSView\"},{\"attributes\":{\"formatter\":{\"id\":\"12123\",\"type\":\"BasicTickFormatter\"},\"ticker\":{\"id\":\"12109\",\"type\":\"BasicTicker\"}},\"id\":\"12108\",\"type\":\"LinearAxis\"},{\"attributes\":{\"fill_color\":{\"value\":\"Purple\"},\"line_color\":{\"value\":\"Purple\"},\"top\":{\"field\":\"Last Transaction Channel_WEB\"},\"width\":{\"value\":0.1},\"x\":{\"field\":\"Decile\",\"transform\":{\"id\":\"12225\",\"type\":\"Dodge\"}}},\"id\":\"12227\",\"type\":\"VBar\"},{\"attributes\":{\"range\":{\"id\":\"12096\",\"type\":\"FactorRange\"},\"value\":0.1},\"id\":\"12183\",\"type\":\"Dodge\"},{\"attributes\":{\"data_source\":{\"id\":\"12092\",\"type\":\"ColumnDataSource\"},\"glyph\":{\"id\":\"12185\",\"type\":\"VBar\"},\"hover_glyph\":null,\"muted_glyph\":null,\"nonselection_glyph\":{\"id\":\"12186\",\"type\":\"VBar\"},\"selection_glyph\":null,\"view\":{\"id\":\"12188\",\"type\":\"CDSView\"}},\"id\":\"12187\",\"type\":\"GlyphRenderer\"},{\"attributes\":{},\"id\":\"12123\",\"type\":\"BasicTickFormatter\"},{\"attributes\":{\"fill_alpha\":{\"value\":0.1},\"fill_color\":{\"value\":\"#1f77b4\"},\"line_alpha\":{\"value\":0.1},\"line_color\":{\"value\":\"#1f77b4\"},\"top\":{\"field\":\"Last Transaction Channel_PHONE\"},\"width\":{\"value\":0.1},\"x\":{\"field\":\"Decile\",\"transform\":{\"id\":\"12197\",\"type\":\"Dodge\"}}},\"id\":\"12200\",\"type\":\"VBar\"},{\"attributes\":{},\"id\":\"12105\",\"type\":\"CategoricalTicker\"},{\"attributes\":{\"label\":{\"value\":\"Auto Renew\"},\"renderers\":[{\"id\":\"12118\",\"type\":\"GlyphRenderer\"}]},\"id\":\"12126\",\"type\":\"LegendItem\"},{\"attributes\":{\"range\":{\"id\":\"12096\",\"type\":\"FactorRange\"},\"value\":-0.4},\"id\":\"12114\",\"type\":\"Dodge\"},{\"attributes\":{\"data_source\":{\"id\":\"12092\",\"type\":\"ColumnDataSource\"},\"glyph\":{\"id\":\"12199\",\"type\":\"VBar\"},\"hover_glyph\":null,\"muted_glyph\":null,\"nonselection_glyph\":{\"id\":\"12200\",\"type\":\"VBar\"},\"selection_glyph\":null,\"view\":{\"id\":\"12202\",\"type\":\"CDSView\"}},\"id\":\"12201\",\"type\":\"GlyphRenderer\"},{\"attributes\":{\"fill_color\":{\"value\":\"DarkGray\"},\"line_color\":{\"value\":\"DarkGray\"},\"top\":{\"field\":\"Last Transaction Channel_BRANCH (PHONE)\"},\"width\":{\"value\":0.1},\"x\":{\"field\":\"Decile\",\"transform\":{\"id\":\"12141\",\"type\":\"Dodge\"}}},\"id\":\"12143\",\"type\":\"VBar\"},{\"attributes\":{\"fill_color\":{\"value\":\"Navy\"},\"line_color\":{\"value\":\"Navy\"},\"top\":{\"field\":\"Last Transaction Channel_MAIL\"},\"width\":{\"value\":0.1},\"x\":{\"field\":\"Decile\",\"transform\":{\"id\":\"12169\",\"type\":\"Dodge\"}}},\"id\":\"12171\",\"type\":\"VBar\"},{\"attributes\":{\"items\":[{\"id\":\"12126\",\"type\":\"LegendItem\"},{\"id\":\"12140\",\"type\":\"LegendItem\"},{\"id\":\"12154\",\"type\":\"LegendItem\"},{\"id\":\"12168\",\"type\":\"LegendItem\"},{\"id\":\"12182\",\"type\":\"LegendItem\"},{\"id\":\"12196\",\"type\":\"LegendItem\"},{\"id\":\"12210\",\"type\":\"LegendItem\"},{\"id\":\"12224\",\"type\":\"LegendItem\"},{\"id\":\"12238\",\"type\":\"LegendItem\"}],\"orientation\":\"horizontal\"},\"id\":\"12125\",\"type\":\"Legend\"},{\"attributes\":{\"fill_alpha\":{\"value\":0.1},\"fill_color\":{\"value\":\"#1f77b4\"},\"line_alpha\":{\"value\":0.1},\"line_color\":{\"value\":\"#1f77b4\"},\"top\":{\"field\":\"Last Transaction Channel_WEB\"},\"width\":{\"value\":0.1},\"x\":{\"field\":\"Decile\",\"transform\":{\"id\":\"12225\",\"type\":\"Dodge\"}}},\"id\":\"12228\",\"type\":\"VBar\"},{\"attributes\":{\"range\":{\"id\":\"12096\",\"type\":\"FactorRange\"},\"value\":-0.2},\"id\":\"12141\",\"type\":\"Dodge\"},{\"attributes\":{\"dimension\":1,\"ticker\":{\"id\":\"12109\",\"type\":\"BasicTicker\"}},\"id\":\"12112\",\"type\":\"Grid\"},{\"attributes\":{\"data_source\":{\"id\":\"12092\",\"type\":\"ColumnDataSource\"},\"glyph\":{\"id\":\"12227\",\"type\":\"VBar\"},\"hover_glyph\":null,\"muted_glyph\":null,\"nonselection_glyph\":{\"id\":\"12228\",\"type\":\"VBar\"},\"selection_glyph\":null,\"view\":{\"id\":\"12230\",\"type\":\"CDSView\"}},\"id\":\"12229\",\"type\":\"GlyphRenderer\"},{\"attributes\":{\"source\":{\"id\":\"12092\",\"type\":\"ColumnDataSource\"}},\"id\":\"12202\",\"type\":\"CDSView\"},{\"attributes\":{\"fill_alpha\":{\"value\":0.1},\"fill_color\":{\"value\":\"#1f77b4\"},\"line_alpha\":{\"value\":0.1},\"line_color\":{\"value\":\"#1f77b4\"},\"top\":{\"field\":\"Last Transaction Channel_BRANCH (PHONE)\"},\"width\":{\"value\":0.1},\"x\":{\"field\":\"Decile\",\"transform\":{\"id\":\"12141\",\"type\":\"Dodge\"}}},\"id\":\"12144\",\"type\":\"VBar\"},{\"attributes\":{\"fill_alpha\":{\"value\":0.1},\"fill_color\":{\"value\":\"#1f77b4\"},\"line_alpha\":{\"value\":0.1},\"line_color\":{\"value\":\"#1f77b4\"},\"top\":{\"field\":\"Last Transaction Channel_MAIL\"},\"width\":{\"value\":0.1},\"x\":{\"field\":\"Decile\",\"transform\":{\"id\":\"12169\",\"type\":\"Dodge\"}}},\"id\":\"12172\",\"type\":\"VBar\"},{\"attributes\":{\"source\":{\"id\":\"12092\",\"type\":\"ColumnDataSource\"}},\"id\":\"12174\",\"type\":\"CDSView\"},{\"attributes\":{\"callback\":null,\"end\":622},\"id\":\"12098\",\"type\":\"Range1d\"},{\"attributes\":{},\"id\":\"12109\",\"type\":\"BasicTicker\"},{\"attributes\":{\"data_source\":{\"id\":\"12092\",\"type\":\"ColumnDataSource\"},\"glyph\":{\"id\":\"12143\",\"type\":\"VBar\"},\"hover_glyph\":null,\"muted_glyph\":null,\"nonselection_glyph\":{\"id\":\"12144\",\"type\":\"VBar\"},\"selection_glyph\":null,\"view\":{\"id\":\"12146\",\"type\":\"CDSView\"}},\"id\":\"12145\",\"type\":\"GlyphRenderer\"},{\"attributes\":{\"data_source\":{\"id\":\"12092\",\"type\":\"ColumnDataSource\"},\"glyph\":{\"id\":\"12171\",\"type\":\"VBar\"},\"hover_glyph\":null,\"muted_glyph\":null,\"nonselection_glyph\":{\"id\":\"12172\",\"type\":\"VBar\"},\"selection_glyph\":null,\"view\":{\"id\":\"12174\",\"type\":\"CDSView\"}},\"id\":\"12173\",\"type\":\"GlyphRenderer\"},{\"attributes\":{\"label\":{\"value\":\"Phone\"},\"renderers\":[{\"id\":\"12201\",\"type\":\"GlyphRenderer\"}]},\"id\":\"12210\",\"type\":\"LegendItem\"},{\"attributes\":{\"source\":{\"id\":\"12092\",\"type\":\"ColumnDataSource\"}},\"id\":\"12230\",\"type\":\"CDSView\"},{\"attributes\":{\"text\":\"Decile Wise Standard Chair Purchase\"},\"id\":\"12094\",\"type\":\"Title\"},{\"attributes\":{\"data_source\":{\"id\":\"12092\",\"type\":\"ColumnDataSource\"},\"glyph\":{\"id\":\"12213\",\"type\":\"VBar\"},\"hover_glyph\":null,\"muted_glyph\":null,\"nonselection_glyph\":{\"id\":\"12214\",\"type\":\"VBar\"},\"selection_glyph\":null,\"view\":{\"id\":\"12216\",\"type\":\"CDSView\"}},\"id\":\"12215\",\"type\":\"GlyphRenderer\"},{\"attributes\":{\"fill_alpha\":{\"value\":0.1},\"fill_color\":{\"value\":\"#1f77b4\"},\"line_alpha\":{\"value\":0.1},\"line_color\":{\"value\":\"#1f77b4\"},\"top\":{\"field\":\"Last Transaction Channel_IT\"},\"width\":{\"value\":0.1},\"x\":{\"field\":\"Decile\",\"transform\":{\"id\":\"12183\",\"type\":\"Dodge\"}}},\"id\":\"12186\",\"type\":\"VBar\"},{\"attributes\":{\"range\":{\"id\":\"12096\",\"type\":\"FactorRange\"},\"value\":0.4},\"id\":\"12225\",\"type\":\"Dodge\"},{\"attributes\":{\"active_drag\":\"auto\",\"active_inspect\":\"auto\",\"active_multi\":null,\"active_scroll\":\"auto\",\"active_tap\":\"auto\"},\"id\":\"12113\",\"type\":\"Toolbar\"},{\"attributes\":{\"label\":{\"value\":\"WEB\"},\"renderers\":[{\"id\":\"12229\",\"type\":\"GlyphRenderer\"}]},\"id\":\"12238\",\"type\":\"LegendItem\"},{\"attributes\":{\"source\":{\"id\":\"12092\",\"type\":\"ColumnDataSource\"}},\"id\":\"12146\",\"type\":\"CDSView\"},{\"attributes\":{\"range\":{\"id\":\"12096\",\"type\":\"FactorRange\"},\"value\":0.2},\"id\":\"12197\",\"type\":\"Dodge\"},{\"attributes\":{\"label\":{\"value\":\"IT\"},\"renderers\":[{\"id\":\"12187\",\"type\":\"GlyphRenderer\"}]},\"id\":\"12196\",\"type\":\"LegendItem\"},{\"attributes\":{\"fill_color\":{\"value\":\"SteelBlue\"},\"line_color\":{\"value\":\"SteelBlue\"},\"top\":{\"field\":\"Last Transaction Channel_BILLING\"},\"width\":{\"value\":0.1},\"x\":{\"field\":\"Decile\",\"transform\":{\"id\":\"12127\",\"type\":\"Dodge\"}}},\"id\":\"12129\",\"type\":\"VBar\"},{\"attributes\":{\"fill_alpha\":{\"value\":0.1},\"fill_color\":{\"value\":\"#1f77b4\"},\"line_alpha\":{\"value\":0.1},\"line_color\":{\"value\":\"#1f77b4\"},\"top\":{\"field\":\"Last Transaction Channel_BRANCH (POS)\"},\"width\":{\"value\":0.1},\"x\":{\"field\":\"Decile\",\"transform\":{\"id\":\"12155\",\"type\":\"Dodge\"}}},\"id\":\"12158\",\"type\":\"VBar\"},{\"attributes\":{\"fill_color\":{\"value\":\"OliveDrab\"},\"line_color\":{\"value\":\"OliveDrab\"},\"top\":{\"field\":\"Last Transaction Channel_UNKNOWN\"},\"width\":{\"value\":0.1},\"x\":{\"field\":\"Decile\",\"transform\":{\"id\":\"12211\",\"type\":\"Dodge\"}}},\"id\":\"12213\",\"type\":\"VBar\"},{\"attributes\":{\"label\":{\"value\":\"Branch Phone\"},\"renderers\":[{\"id\":\"12145\",\"type\":\"GlyphRenderer\"}]},\"id\":\"12154\",\"type\":\"LegendItem\"},{\"attributes\":{\"label\":{\"value\":\"Mail\"},\"renderers\":[{\"id\":\"12173\",\"type\":\"GlyphRenderer\"}]},\"id\":\"12182\",\"type\":\"LegendItem\"},{\"attributes\":{\"source\":{\"id\":\"12092\",\"type\":\"ColumnDataSource\"}},\"id\":\"12216\",\"type\":\"CDSView\"},{\"attributes\":{\"fill_color\":{\"value\":\"#718dbf\"},\"line_color\":{\"value\":\"#718dbf\"},\"top\":{\"field\":\"Last Transaction Channel_BRANCH (POS)\"},\"width\":{\"value\":0.1},\"x\":{\"field\":\"Decile\",\"transform\":{\"id\":\"12155\",\"type\":\"Dodge\"}}},\"id\":\"12157\",\"type\":\"VBar\"},{\"attributes\":{\"range\":{\"id\":\"12096\",\"type\":\"FactorRange\"}},\"id\":\"12169\",\"type\":\"Dodge\"},{\"attributes\":{\"range\":{\"id\":\"12096\",\"type\":\"FactorRange\"},\"value\":0.3},\"id\":\"12211\",\"type\":\"Dodge\"},{\"attributes\":{\"fill_alpha\":{\"value\":0.1},\"fill_color\":{\"value\":\"#1f77b4\"},\"line_alpha\":{\"value\":0.1},\"line_color\":{\"value\":\"#1f77b4\"},\"top\":{\"field\":\"Last Transaction Channel_AUTO RENEW\"},\"width\":{\"value\":0.1},\"x\":{\"field\":\"Decile\",\"transform\":{\"id\":\"12114\",\"type\":\"Dodge\"}}},\"id\":\"12117\",\"type\":\"VBar\"},{\"attributes\":{\"fill_alpha\":{\"value\":0.1},\"fill_color\":{\"value\":\"#1f77b4\"},\"line_alpha\":{\"value\":0.1},\"line_color\":{\"value\":\"#1f77b4\"},\"top\":{\"field\":\"Last Transaction Channel_BILLING\"},\"width\":{\"value\":0.1},\"x\":{\"field\":\"Decile\",\"transform\":{\"id\":\"12127\",\"type\":\"Dodge\"}}},\"id\":\"12130\",\"type\":\"VBar\"},{\"attributes\":{\"fill_color\":{\"value\":\"DarkTurquoise\"},\"line_color\":{\"value\":\"DarkTurquoise\"},\"top\":{\"field\":\"Last Transaction Channel_IT\"},\"width\":{\"value\":0.1},\"x\":{\"field\":\"Decile\",\"transform\":{\"id\":\"12183\",\"type\":\"Dodge\"}}},\"id\":\"12185\",\"type\":\"VBar\"},{\"attributes\":{\"fill_alpha\":{\"value\":0.1},\"fill_color\":{\"value\":\"#1f77b4\"},\"line_alpha\":{\"value\":0.1},\"line_color\":{\"value\":\"#1f77b4\"},\"top\":{\"field\":\"Last Transaction Channel_UNKNOWN\"},\"width\":{\"value\":0.1},\"x\":{\"field\":\"Decile\",\"transform\":{\"id\":\"12211\",\"type\":\"Dodge\"}}},\"id\":\"12214\",\"type\":\"VBar\"},{\"attributes\":{\"label\":{\"value\":\"Unknown\"},\"renderers\":[{\"id\":\"12215\",\"type\":\"GlyphRenderer\"}]},\"id\":\"12224\",\"type\":\"LegendItem\"},{\"attributes\":{\"fill_color\":{\"value\":\"DarkKhaki\"},\"line_color\":{\"value\":\"DarkKhaki\"},\"top\":{\"field\":\"Last Transaction Channel_AUTO RENEW\"},\"width\":{\"value\":0.1},\"x\":{\"field\":\"Decile\",\"transform\":{\"id\":\"12114\",\"type\":\"Dodge\"}}},\"id\":\"12116\",\"type\":\"VBar\"},{\"attributes\":{\"range\":{\"id\":\"12096\",\"type\":\"FactorRange\"},\"value\":-0.3},\"id\":\"12127\",\"type\":\"Dodge\"},{\"attributes\":{\"data_source\":{\"id\":\"12092\",\"type\":\"ColumnDataSource\"},\"glyph\":{\"id\":\"12129\",\"type\":\"VBar\"},\"hover_glyph\":null,\"muted_glyph\":null,\"nonselection_glyph\":{\"id\":\"12130\",\"type\":\"VBar\"},\"selection_glyph\":null,\"view\":{\"id\":\"12132\",\"type\":\"CDSView\"}},\"id\":\"12131\",\"type\":\"GlyphRenderer\"},{\"attributes\":{\"callback\":null,\"factors\":[\"1\",\"2\",\"3\",\"4\",\"5\",\"6\",\"7\",\"8\",\"9\",\"10\"]},\"id\":\"12096\",\"type\":\"FactorRange\"}],\"root_ids\":[\"12093\"]},\"title\":\"Bokeh Application\",\"version\":\"1.3.4\"}};\n",
       "  var render_items = [{\"docid\":\"cf8a8e7b-7bf5-4a84-a0e8-850058d8b2be\",\"roots\":{\"12093\":\"98b213f4-15f4-4e9e-a712-35f3dbf3a018\"}}];\n",
       "  root.Bokeh.embed.embed_items_notebook(docs_json, render_items);\n",
       "\n",
       "  }\n",
       "  if (root.Bokeh !== undefined) {\n",
       "    embed_document(root);\n",
       "  } else {\n",
       "    var attempts = 0;\n",
       "    var timer = setInterval(function(root) {\n",
       "      if (root.Bokeh !== undefined) {\n",
       "        embed_document(root);\n",
       "        clearInterval(timer);\n",
       "      }\n",
       "      attempts++;\n",
       "      if (attempts > 100) {\n",
       "        console.log(\"Bokeh: ERROR: Unable to run BokehJS code because BokehJS library is missing\");\n",
       "        clearInterval(timer);\n",
       "      }\n",
       "    }, 10, root)\n",
       "  }\n",
       "})(window);"
      ],
      "application/vnd.bokehjs_exec.v0+json": ""
     },
     "metadata": {
      "application/vnd.bokehjs_exec.v0+json": {
       "id": "12093"
      }
     },
     "output_type": "display_data"
    }
   ],
   "source": [
    "source = ColumnDataSource(data=data3)\n",
    "\n",
    "#get max possible value of plotted columns with some offset\n",
    "p = figure(x_range=dates3, y_range=(0, g3[['Last Transaction Channel_AUTO RENEW','Last Transaction Channel_BILLING','Last Transaction Channel_BRANCH (PHONE)','Last Transaction Channel_BRANCH (POS)', 'Last Transaction Channel_MAIL','Last Transaction Channel_IT','Last Transaction Channel_PHONE','Last Transaction Channel_UNKNOWN','Last Transaction Channel_WEB']].values.max() + 150), \n",
    "           plot_height=250, title=\"Decile Wise Standard Chair Purchase\",\n",
    "           toolbar_location=None, tools=\"\", plot_width= 1200)\n",
    "\n",
    "\n",
    "p.vbar(x=dodge('Decile',  -.40,  range=p.x_range), top='Last Transaction Channel_AUTO RENEW', width=0.1, source=source, color=\"DarkKhaki\", legend=value(\"Auto Renew\"))\n",
    "p.vbar(x=dodge('Decile',  -0.30,  range=p.x_range), top='Last Transaction Channel_BILLING', width=0.1, source=source, color=\"SteelBlue\", legend=value(\"Billing\"))\n",
    "p.vbar(x=dodge('Decile',  -0.20,  range=p.x_range), top='Last Transaction Channel_BRANCH (PHONE)', width=0.1, source=source, color=\"DarkGray\", legend=value(\"Branch Phone\"))\n",
    "p.vbar(x=dodge('Decile',  -0.10,  range=p.x_range), top='Last Transaction Channel_BRANCH (POS)', width=0.1, source=source, color=\"#718dbf\", legend=value(\"Branch\"))\n",
    "p.vbar(x=dodge('Decile',  0,  range=p.x_range), top='Last Transaction Channel_MAIL', width=0.1, source=source, color=\"Navy\", legend=value(\"Mail\"))\n",
    "p.vbar(x=dodge('Decile',  0.10,  range=p.x_range), top='Last Transaction Channel_IT', width=0.1, source=source, color=\"DarkTurquoise\", legend=value(\"IT\"))\n",
    "p.vbar(x=dodge('Decile',  0.20,  range=p.x_range), top='Last Transaction Channel_PHONE', width=0.1, source=source, color=\"PaleVioletRed\", legend=value(\"Phone\"))\n",
    "p.vbar(x=dodge('Decile',  0.30,  range=p.x_range), top='Last Transaction Channel_UNKNOWN', width=0.1, source=source, color=\"OliveDrab\", legend=value(\"Unknown\"))\n",
    "p.vbar(x=dodge('Decile',  0.40,  range=p.x_range), top='Last Transaction Channel_WEB', width=0.1, source=source, color=\"Purple\", legend=value(\"WEB\"))\n",
    "\n",
    "\n",
    "#p.add_tools(HoverTool(tooltips=[(\"Standard Chair\", \"$y{int}\")]))\n",
    "\n",
    "p.x_range.range_padding = 0\n",
    "p.xgrid.grid_line_color = None\n",
    "p.legend.location = \"top_right\"\n",
    "p.legend.orientation = \"horizontal\"\n",
    "\n",
    "show(p)"
   ]
  },
  {
   "cell_type": "code",
   "execution_count": 107,
   "metadata": {},
   "outputs": [],
   "source": [
    "df4 = df[['Decile','Repurchase Method_AUTO RENEW','Repurchase Method_NOTICE', 'Repurchase Method_PAYMENT PLAN']]"
   ]
  },
  {
   "cell_type": "code",
   "execution_count": 108,
   "metadata": {},
   "outputs": [],
   "source": [
    "g4 = df4.groupby('Decile', as_index=False).sum()"
   ]
  },
  {
   "cell_type": "code",
   "execution_count": 109,
   "metadata": {},
   "outputs": [],
   "source": [
    "#convert datetimes to strings\n",
    "g4['Decile'] = g4['Decile'].apply(str)\n",
    "#convert dataframe to dict\n",
    "data4 = g4.to_dict(orient='list')\n",
    "dates4 = g4['Decile'].tolist()"
   ]
  },
  {
   "cell_type": "code",
   "execution_count": 110,
   "metadata": {},
   "outputs": [
    {
     "data": {
      "text/html": [
       "\n",
       "\n",
       "\n",
       "\n",
       "\n",
       "\n",
       "  <div class=\"bk-root\" id=\"5243da90-8889-4696-b2cf-19f859f6f5f1\" data-root-id=\"12489\"></div>\n"
      ]
     },
     "metadata": {},
     "output_type": "display_data"
    },
    {
     "data": {
      "application/javascript": [
       "(function(root) {\n",
       "  function embed_document(root) {\n",
       "    \n",
       "  var docs_json = {\"97af696c-361f-4dac-937c-bda646daf300\":{\"roots\":{\"references\":[{\"attributes\":{\"below\":[{\"id\":\"12500\",\"type\":\"CategoricalAxis\"}],\"center\":[{\"id\":\"12503\",\"type\":\"Grid\"},{\"id\":\"12508\",\"type\":\"Grid\"},{\"id\":\"12521\",\"type\":\"Legend\"}],\"left\":[{\"id\":\"12504\",\"type\":\"LinearAxis\"}],\"plot_height\":250,\"plot_width\":800,\"renderers\":[{\"id\":\"12514\",\"type\":\"GlyphRenderer\"},{\"id\":\"12527\",\"type\":\"GlyphRenderer\"},{\"id\":\"12541\",\"type\":\"GlyphRenderer\"}],\"title\":{\"id\":\"12490\",\"type\":\"Title\"},\"toolbar\":{\"id\":\"12509\",\"type\":\"Toolbar\"},\"toolbar_location\":null,\"x_range\":{\"id\":\"12492\",\"type\":\"FactorRange\"},\"x_scale\":{\"id\":\"12496\",\"type\":\"CategoricalScale\"},\"y_range\":{\"id\":\"12494\",\"type\":\"Range1d\"},\"y_scale\":{\"id\":\"12498\",\"type\":\"LinearScale\"}},\"id\":\"12489\",\"subtype\":\"Figure\",\"type\":\"Plot\"},{\"attributes\":{\"fill_alpha\":{\"value\":0.1},\"fill_color\":{\"value\":\"#1f77b4\"},\"line_alpha\":{\"value\":0.1},\"line_color\":{\"value\":\"#1f77b4\"},\"top\":{\"field\":\"Repurchase Method_AUTO RENEW\"},\"width\":{\"value\":0.25},\"x\":{\"field\":\"Decile\",\"transform\":{\"id\":\"12510\",\"type\":\"Dodge\"}}},\"id\":\"12513\",\"type\":\"VBar\"},{\"attributes\":{\"formatter\":{\"id\":\"12517\",\"type\":\"CategoricalTickFormatter\"},\"ticker\":{\"id\":\"12501\",\"type\":\"CategoricalTicker\"}},\"id\":\"12500\",\"type\":\"CategoricalAxis\"},{\"attributes\":{\"source\":{\"id\":\"12488\",\"type\":\"ColumnDataSource\"}},\"id\":\"12528\",\"type\":\"CDSView\"},{\"attributes\":{\"fill_color\":{\"value\":\"DarkGray\"},\"line_color\":{\"value\":\"DarkGray\"},\"top\":{\"field\":\"Repurchase Method_PAYMENT PLAN\"},\"width\":{\"value\":0.25},\"x\":{\"field\":\"Decile\",\"transform\":{\"id\":\"12537\",\"type\":\"Dodge\"}}},\"id\":\"12539\",\"type\":\"VBar\"},{\"attributes\":{\"active_drag\":\"auto\",\"active_inspect\":\"auto\",\"active_multi\":null,\"active_scroll\":\"auto\",\"active_tap\":\"auto\"},\"id\":\"12509\",\"type\":\"Toolbar\"},{\"attributes\":{},\"id\":\"12535\",\"type\":\"Selection\"},{\"attributes\":{},\"id\":\"12519\",\"type\":\"BasicTickFormatter\"},{\"attributes\":{\"source\":{\"id\":\"12488\",\"type\":\"ColumnDataSource\"}},\"id\":\"12515\",\"type\":\"CDSView\"},{\"attributes\":{\"range\":{\"id\":\"12492\",\"type\":\"FactorRange\"}},\"id\":\"12523\",\"type\":\"Dodge\"},{\"attributes\":{},\"id\":\"12505\",\"type\":\"BasicTicker\"},{\"attributes\":{\"fill_color\":{\"value\":\"SteelBlue\"},\"line_color\":{\"value\":\"SteelBlue\"},\"top\":{\"field\":\"Repurchase Method_NOTICE\"},\"width\":{\"value\":0.25},\"x\":{\"field\":\"Decile\",\"transform\":{\"id\":\"12523\",\"type\":\"Dodge\"}}},\"id\":\"12525\",\"type\":\"VBar\"},{\"attributes\":{\"dimension\":1,\"ticker\":{\"id\":\"12505\",\"type\":\"BasicTicker\"}},\"id\":\"12508\",\"type\":\"Grid\"},{\"attributes\":{\"data_source\":{\"id\":\"12488\",\"type\":\"ColumnDataSource\"},\"glyph\":{\"id\":\"12525\",\"type\":\"VBar\"},\"hover_glyph\":null,\"muted_glyph\":null,\"nonselection_glyph\":{\"id\":\"12526\",\"type\":\"VBar\"},\"selection_glyph\":null,\"view\":{\"id\":\"12528\",\"type\":\"CDSView\"}},\"id\":\"12527\",\"type\":\"GlyphRenderer\"},{\"attributes\":{\"fill_alpha\":{\"value\":0.1},\"fill_color\":{\"value\":\"#1f77b4\"},\"line_alpha\":{\"value\":0.1},\"line_color\":{\"value\":\"#1f77b4\"},\"top\":{\"field\":\"Repurchase Method_PAYMENT PLAN\"},\"width\":{\"value\":0.25},\"x\":{\"field\":\"Decile\",\"transform\":{\"id\":\"12537\",\"type\":\"Dodge\"}}},\"id\":\"12540\",\"type\":\"VBar\"},{\"attributes\":{\"data_source\":{\"id\":\"12488\",\"type\":\"ColumnDataSource\"},\"glyph\":{\"id\":\"12512\",\"type\":\"VBar\"},\"hover_glyph\":null,\"muted_glyph\":null,\"nonselection_glyph\":{\"id\":\"12513\",\"type\":\"VBar\"},\"selection_glyph\":null,\"view\":{\"id\":\"12515\",\"type\":\"CDSView\"}},\"id\":\"12514\",\"type\":\"GlyphRenderer\"},{\"attributes\":{\"label\":{\"value\":\"Payment Plan\"},\"renderers\":[{\"id\":\"12541\",\"type\":\"GlyphRenderer\"}]},\"id\":\"12550\",\"type\":\"LegendItem\"},{\"attributes\":{\"range\":{\"id\":\"12492\",\"type\":\"FactorRange\"},\"value\":0.25},\"id\":\"12537\",\"type\":\"Dodge\"},{\"attributes\":{\"formatter\":{\"id\":\"12519\",\"type\":\"BasicTickFormatter\"},\"ticker\":{\"id\":\"12505\",\"type\":\"BasicTicker\"}},\"id\":\"12504\",\"type\":\"LinearAxis\"},{\"attributes\":{\"callback\":null,\"factors\":[\"1\",\"2\",\"3\",\"4\",\"5\",\"6\",\"7\",\"8\",\"9\",\"10\"],\"range_padding\":0.1},\"id\":\"12492\",\"type\":\"FactorRange\"},{\"attributes\":{\"fill_color\":{\"value\":\"DarkKhaki\"},\"line_color\":{\"value\":\"DarkKhaki\"},\"top\":{\"field\":\"Repurchase Method_AUTO RENEW\"},\"width\":{\"value\":0.25},\"x\":{\"field\":\"Decile\",\"transform\":{\"id\":\"12510\",\"type\":\"Dodge\"}}},\"id\":\"12512\",\"type\":\"VBar\"},{\"attributes\":{\"source\":{\"id\":\"12488\",\"type\":\"ColumnDataSource\"}},\"id\":\"12542\",\"type\":\"CDSView\"},{\"attributes\":{\"grid_line_color\":null,\"ticker\":{\"id\":\"12501\",\"type\":\"CategoricalTicker\"}},\"id\":\"12503\",\"type\":\"Grid\"},{\"attributes\":{\"items\":[{\"id\":\"12522\",\"type\":\"LegendItem\"},{\"id\":\"12536\",\"type\":\"LegendItem\"},{\"id\":\"12550\",\"type\":\"LegendItem\"}],\"orientation\":\"horizontal\"},\"id\":\"12521\",\"type\":\"Legend\"},{\"attributes\":{\"text\":\"Decile Wise Standard Chair Purchase\"},\"id\":\"12490\",\"type\":\"Title\"},{\"attributes\":{},\"id\":\"12517\",\"type\":\"CategoricalTickFormatter\"},{\"attributes\":{\"callback\":null,\"data\":{\"Decile\":[\"1\",\"2\",\"3\",\"4\",\"5\",\"6\",\"7\",\"8\",\"9\",\"10\"],\"Repurchase Method_AUTO RENEW\":[353,189,198,295,220,224,251,167,162,75],\"Repurchase Method_NOTICE\":[455,619,610,514,588,584,558,641,646,734],\"Repurchase Method_PAYMENT PLAN\":[1,0,0,0,0,0,0,0,0,0]},\"selected\":{\"id\":\"12535\",\"type\":\"Selection\"},\"selection_policy\":{\"id\":\"12534\",\"type\":\"UnionRenderers\"}},\"id\":\"12488\",\"type\":\"ColumnDataSource\"},{\"attributes\":{},\"id\":\"12498\",\"type\":\"LinearScale\"},{\"attributes\":{\"callback\":null,\"end\":884},\"id\":\"12494\",\"type\":\"Range1d\"},{\"attributes\":{\"range\":{\"id\":\"12492\",\"type\":\"FactorRange\"},\"value\":-0.25},\"id\":\"12510\",\"type\":\"Dodge\"},{\"attributes\":{\"label\":{\"value\":\"Auto Renew\"},\"renderers\":[{\"id\":\"12514\",\"type\":\"GlyphRenderer\"}]},\"id\":\"12522\",\"type\":\"LegendItem\"},{\"attributes\":{\"label\":{\"value\":\"Notice\"},\"renderers\":[{\"id\":\"12527\",\"type\":\"GlyphRenderer\"}]},\"id\":\"12536\",\"type\":\"LegendItem\"},{\"attributes\":{\"fill_alpha\":{\"value\":0.1},\"fill_color\":{\"value\":\"#1f77b4\"},\"line_alpha\":{\"value\":0.1},\"line_color\":{\"value\":\"#1f77b4\"},\"top\":{\"field\":\"Repurchase Method_NOTICE\"},\"width\":{\"value\":0.25},\"x\":{\"field\":\"Decile\",\"transform\":{\"id\":\"12523\",\"type\":\"Dodge\"}}},\"id\":\"12526\",\"type\":\"VBar\"},{\"attributes\":{},\"id\":\"12501\",\"type\":\"CategoricalTicker\"},{\"attributes\":{},\"id\":\"12534\",\"type\":\"UnionRenderers\"},{\"attributes\":{},\"id\":\"12496\",\"type\":\"CategoricalScale\"},{\"attributes\":{\"data_source\":{\"id\":\"12488\",\"type\":\"ColumnDataSource\"},\"glyph\":{\"id\":\"12539\",\"type\":\"VBar\"},\"hover_glyph\":null,\"muted_glyph\":null,\"nonselection_glyph\":{\"id\":\"12540\",\"type\":\"VBar\"},\"selection_glyph\":null,\"view\":{\"id\":\"12542\",\"type\":\"CDSView\"}},\"id\":\"12541\",\"type\":\"GlyphRenderer\"}],\"root_ids\":[\"12489\"]},\"title\":\"Bokeh Application\",\"version\":\"1.3.4\"}};\n",
       "  var render_items = [{\"docid\":\"97af696c-361f-4dac-937c-bda646daf300\",\"roots\":{\"12489\":\"5243da90-8889-4696-b2cf-19f859f6f5f1\"}}];\n",
       "  root.Bokeh.embed.embed_items_notebook(docs_json, render_items);\n",
       "\n",
       "  }\n",
       "  if (root.Bokeh !== undefined) {\n",
       "    embed_document(root);\n",
       "  } else {\n",
       "    var attempts = 0;\n",
       "    var timer = setInterval(function(root) {\n",
       "      if (root.Bokeh !== undefined) {\n",
       "        embed_document(root);\n",
       "        clearInterval(timer);\n",
       "      }\n",
       "      attempts++;\n",
       "      if (attempts > 100) {\n",
       "        console.log(\"Bokeh: ERROR: Unable to run BokehJS code because BokehJS library is missing\");\n",
       "        clearInterval(timer);\n",
       "      }\n",
       "    }, 10, root)\n",
       "  }\n",
       "})(window);"
      ],
      "application/vnd.bokehjs_exec.v0+json": ""
     },
     "metadata": {
      "application/vnd.bokehjs_exec.v0+json": {
       "id": "12489"
      }
     },
     "output_type": "display_data"
    }
   ],
   "source": [
    "source = ColumnDataSource(data=data4)\n",
    "\n",
    "#get max possible value of plotted columns with some offset\n",
    "p = figure(x_range=dates4, y_range=(0, g4[['Repurchase Method_AUTO RENEW','Repurchase Method_NOTICE', 'Repurchase Method_PAYMENT PLAN']].values.max() + 150), \n",
    "           plot_height=250, title=\"Decile Wise Standard Chair Purchase\",\n",
    "           toolbar_location=None, tools=\"\", plot_width= 800)\n",
    "\n",
    "\n",
    "p.vbar(x=dodge('Decile',  -.25,  range=p.x_range), top='Repurchase Method_AUTO RENEW', width=0.25, source=source, color=\"DarkKhaki\", legend=value(\"Auto Renew\"))\n",
    "p.vbar(x=dodge('Decile', 0,  range=p.x_range), top='Repurchase Method_NOTICE', width=0.25, source=source, color=\"SteelBlue\", legend=value(\"Notice\"))\n",
    "p.vbar(x=dodge('Decile',  0.25,  range=p.x_range), top='Repurchase Method_PAYMENT PLAN', width=0.25, source=source, color=\"DarkGray\", legend=value(\"Payment Plan\"))\n",
    "\n",
    "p.x_range.range_padding = 0.1\n",
    "p.xgrid.grid_line_color = None\n",
    "p.legend.location = \"top_right\"\n",
    "p.legend.orientation = \"horizontal\"\n",
    "\n",
    "show(p)"
   ]
  },
  {
   "cell_type": "code",
   "execution_count": null,
   "metadata": {},
   "outputs": [],
   "source": []
  }
 ],
 "metadata": {
  "kernelspec": {
   "display_name": "Python 3",
   "language": "python",
   "name": "python3"
  },
  "language_info": {
   "codemirror_mode": {
    "name": "ipython",
    "version": 3
   },
   "file_extension": ".py",
   "mimetype": "text/x-python",
   "name": "python",
   "nbconvert_exporter": "python",
   "pygments_lexer": "ipython3",
   "version": "3.7.4"
  }
 },
 "nbformat": 4,
 "nbformat_minor": 2
}
